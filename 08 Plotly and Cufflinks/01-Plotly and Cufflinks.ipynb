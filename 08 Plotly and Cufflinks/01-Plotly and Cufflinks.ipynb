{
 "cells": [
  {
   "cell_type": "markdown",
   "metadata": {},
   "source": [
    "___\n",
    "\n",
    "<a href='http://www.pieriandata.com'> <img src='../Pierian_Data_Logo.png' /></a>\n",
    "___\n",
    "# Plotly and Cufflinks"
   ]
  },
  {
   "cell_type": "markdown",
   "metadata": {},
   "source": [
    "Plotly is a library that allows you to create interactive plots that you can use in dashboards or websites (you can save them as html files or static images).\n",
    "\n",
    "## Installation\n",
    "\n",
    "In order for this all to work, you'll need to install plotly and cufflinks to call plots directly off of a pandas dataframe. These libraries are not currently available through **conda** but are available through **pip**. Install the libraries at your command line/terminal using:\n",
    "\n",
    "    pip install plotly\n",
    "    pip install cufflinks\n",
    "\n",
    "** NOTE: Make sure you only have one installation of Python on your computer when you do this, otherwise the installation may not work. **\n",
    "\n",
    "## Imports and Set-up"
   ]
  },
  {
   "cell_type": "code",
   "execution_count": 1,
   "metadata": {},
   "outputs": [
    {
     "name": "stdout",
     "output_type": "stream",
     "text": [
      "Requirement already satisfied: plotly in c:\\users\\ps4z\\anaconda3\\lib\\site-packages (5.9.0)\n",
      "Requirement already satisfied: tenacity>=6.2.0 in c:\\users\\ps4z\\anaconda3\\lib\\site-packages (from plotly) (8.0.1)\n",
      "Collecting cufflinks\n",
      "  Downloading cufflinks-0.17.3.tar.gz (81 kB)\n",
      "     ---------------------------------------- 81.7/81.7 kB 2.2 MB/s eta 0:00:00\n",
      "  Preparing metadata (setup.py): started\n",
      "  Preparing metadata (setup.py): finished with status 'done'\n",
      "Requirement already satisfied: numpy>=1.9.2 in c:\\users\\ps4z\\anaconda3\\lib\\site-packages (from cufflinks) (1.21.5)\n",
      "Requirement already satisfied: pandas>=0.19.2 in c:\\users\\ps4z\\anaconda3\\lib\\site-packages (from cufflinks) (1.4.4)\n",
      "Requirement already satisfied: plotly>=4.1.1 in c:\\users\\ps4z\\anaconda3\\lib\\site-packages (from cufflinks) (5.9.0)\n",
      "Requirement already satisfied: six>=1.9.0 in c:\\users\\ps4z\\anaconda3\\lib\\site-packages (from cufflinks) (1.16.0)\n",
      "Collecting colorlover>=0.2.1\n",
      "  Downloading colorlover-0.3.0-py3-none-any.whl (8.9 kB)\n",
      "Requirement already satisfied: setuptools>=34.4.1 in c:\\users\\ps4z\\anaconda3\\lib\\site-packages (from cufflinks) (63.4.1)\n",
      "Requirement already satisfied: ipython>=5.3.0 in c:\\users\\ps4z\\anaconda3\\lib\\site-packages (from cufflinks) (7.31.1)\n",
      "Requirement already satisfied: ipywidgets>=7.0.0 in c:\\users\\ps4z\\anaconda3\\lib\\site-packages (from cufflinks) (7.6.5)\n",
      "Requirement already satisfied: pygments in c:\\users\\ps4z\\anaconda3\\lib\\site-packages (from ipython>=5.3.0->cufflinks) (2.11.2)\n",
      "Requirement already satisfied: traitlets>=4.2 in c:\\users\\ps4z\\anaconda3\\lib\\site-packages (from ipython>=5.3.0->cufflinks) (5.1.1)\n",
      "Requirement already satisfied: prompt-toolkit!=3.0.0,!=3.0.1,<3.1.0,>=2.0.0 in c:\\users\\ps4z\\anaconda3\\lib\\site-packages (from ipython>=5.3.0->cufflinks) (3.0.20)\n",
      "Requirement already satisfied: backcall in c:\\users\\ps4z\\anaconda3\\lib\\site-packages (from ipython>=5.3.0->cufflinks) (0.2.0)\n",
      "Requirement already satisfied: colorama in c:\\users\\ps4z\\anaconda3\\lib\\site-packages (from ipython>=5.3.0->cufflinks) (0.4.5)\n",
      "Requirement already satisfied: jedi>=0.16 in c:\\users\\ps4z\\anaconda3\\lib\\site-packages (from ipython>=5.3.0->cufflinks) (0.18.1)\n",
      "Requirement already satisfied: matplotlib-inline in c:\\users\\ps4z\\anaconda3\\lib\\site-packages (from ipython>=5.3.0->cufflinks) (0.1.6)\n",
      "Requirement already satisfied: pickleshare in c:\\users\\ps4z\\anaconda3\\lib\\site-packages (from ipython>=5.3.0->cufflinks) (0.7.5)\n",
      "Requirement already satisfied: decorator in c:\\users\\ps4z\\anaconda3\\lib\\site-packages (from ipython>=5.3.0->cufflinks) (5.1.1)\n",
      "Requirement already satisfied: ipython-genutils~=0.2.0 in c:\\users\\ps4z\\anaconda3\\lib\\site-packages (from ipywidgets>=7.0.0->cufflinks) (0.2.0)\n",
      "Requirement already satisfied: nbformat>=4.2.0 in c:\\users\\ps4z\\anaconda3\\lib\\site-packages (from ipywidgets>=7.0.0->cufflinks) (5.5.0)\n",
      "Requirement already satisfied: widgetsnbextension~=3.5.0 in c:\\users\\ps4z\\anaconda3\\lib\\site-packages (from ipywidgets>=7.0.0->cufflinks) (3.5.2)\n",
      "Requirement already satisfied: jupyterlab-widgets>=1.0.0 in c:\\users\\ps4z\\anaconda3\\lib\\site-packages (from ipywidgets>=7.0.0->cufflinks) (1.0.0)\n",
      "Requirement already satisfied: ipykernel>=4.5.1 in c:\\users\\ps4z\\anaconda3\\lib\\site-packages (from ipywidgets>=7.0.0->cufflinks) (6.15.2)\n",
      "Requirement already satisfied: pytz>=2020.1 in c:\\users\\ps4z\\anaconda3\\lib\\site-packages (from pandas>=0.19.2->cufflinks) (2022.1)\n",
      "Requirement already satisfied: python-dateutil>=2.8.1 in c:\\users\\ps4z\\anaconda3\\lib\\site-packages (from pandas>=0.19.2->cufflinks) (2.8.2)\n",
      "Requirement already satisfied: tenacity>=6.2.0 in c:\\users\\ps4z\\anaconda3\\lib\\site-packages (from plotly>=4.1.1->cufflinks) (8.0.1)\n",
      "Requirement already satisfied: packaging in c:\\users\\ps4z\\anaconda3\\lib\\site-packages (from ipykernel>=4.5.1->ipywidgets>=7.0.0->cufflinks) (21.3)\n",
      "Requirement already satisfied: jupyter-client>=6.1.12 in c:\\users\\ps4z\\anaconda3\\lib\\site-packages (from ipykernel>=4.5.1->ipywidgets>=7.0.0->cufflinks) (7.3.4)\n",
      "Requirement already satisfied: pyzmq>=17 in c:\\users\\ps4z\\anaconda3\\lib\\site-packages (from ipykernel>=4.5.1->ipywidgets>=7.0.0->cufflinks) (23.2.0)\n",
      "Requirement already satisfied: nest-asyncio in c:\\users\\ps4z\\anaconda3\\lib\\site-packages (from ipykernel>=4.5.1->ipywidgets>=7.0.0->cufflinks) (1.5.5)\n",
      "Requirement already satisfied: debugpy>=1.0 in c:\\users\\ps4z\\anaconda3\\lib\\site-packages (from ipykernel>=4.5.1->ipywidgets>=7.0.0->cufflinks) (1.5.1)\n",
      "Requirement already satisfied: tornado>=6.1 in c:\\users\\ps4z\\anaconda3\\lib\\site-packages (from ipykernel>=4.5.1->ipywidgets>=7.0.0->cufflinks) (6.1)\n",
      "Requirement already satisfied: psutil in c:\\users\\ps4z\\anaconda3\\lib\\site-packages (from ipykernel>=4.5.1->ipywidgets>=7.0.0->cufflinks) (5.9.0)\n",
      "Requirement already satisfied: parso<0.9.0,>=0.8.0 in c:\\users\\ps4z\\anaconda3\\lib\\site-packages (from jedi>=0.16->ipython>=5.3.0->cufflinks) (0.8.3)\n",
      "Requirement already satisfied: jupyter_core in c:\\users\\ps4z\\anaconda3\\lib\\site-packages (from nbformat>=4.2.0->ipywidgets>=7.0.0->cufflinks) (4.11.1)\n",
      "Requirement already satisfied: jsonschema>=2.6 in c:\\users\\ps4z\\anaconda3\\lib\\site-packages (from nbformat>=4.2.0->ipywidgets>=7.0.0->cufflinks) (4.16.0)\n",
      "Requirement already satisfied: fastjsonschema in c:\\users\\ps4z\\anaconda3\\lib\\site-packages (from nbformat>=4.2.0->ipywidgets>=7.0.0->cufflinks) (2.16.2)\n",
      "Requirement already satisfied: wcwidth in c:\\users\\ps4z\\anaconda3\\lib\\site-packages (from prompt-toolkit!=3.0.0,!=3.0.1,<3.1.0,>=2.0.0->ipython>=5.3.0->cufflinks) (0.2.5)\n",
      "Requirement already satisfied: notebook>=4.4.1 in c:\\users\\ps4z\\anaconda3\\lib\\site-packages (from widgetsnbextension~=3.5.0->ipywidgets>=7.0.0->cufflinks) (6.4.12)\n",
      "Requirement already satisfied: pyrsistent!=0.17.0,!=0.17.1,!=0.17.2,>=0.14.0 in c:\\users\\ps4z\\anaconda3\\lib\\site-packages (from jsonschema>=2.6->nbformat>=4.2.0->ipywidgets>=7.0.0->cufflinks) (0.18.0)\n",
      "Requirement already satisfied: attrs>=17.4.0 in c:\\users\\ps4z\\anaconda3\\lib\\site-packages (from jsonschema>=2.6->nbformat>=4.2.0->ipywidgets>=7.0.0->cufflinks) (21.4.0)\n",
      "Requirement already satisfied: entrypoints in c:\\users\\ps4z\\anaconda3\\lib\\site-packages (from jupyter-client>=6.1.12->ipykernel>=4.5.1->ipywidgets>=7.0.0->cufflinks) (0.4)\n",
      "Requirement already satisfied: pywin32>=1.0 in c:\\users\\ps4z\\anaconda3\\lib\\site-packages (from jupyter_core->nbformat>=4.2.0->ipywidgets>=7.0.0->cufflinks) (302)\n",
      "Requirement already satisfied: Send2Trash>=1.8.0 in c:\\users\\ps4z\\anaconda3\\lib\\site-packages (from notebook>=4.4.1->widgetsnbextension~=3.5.0->ipywidgets>=7.0.0->cufflinks) (1.8.0)\n",
      "Requirement already satisfied: prometheus-client in c:\\users\\ps4z\\anaconda3\\lib\\site-packages (from notebook>=4.4.1->widgetsnbextension~=3.5.0->ipywidgets>=7.0.0->cufflinks) (0.14.1)\n",
      "Requirement already satisfied: jinja2 in c:\\users\\ps4z\\anaconda3\\lib\\site-packages (from notebook>=4.4.1->widgetsnbextension~=3.5.0->ipywidgets>=7.0.0->cufflinks) (2.11.3)\n",
      "Requirement already satisfied: argon2-cffi in c:\\users\\ps4z\\anaconda3\\lib\\site-packages (from notebook>=4.4.1->widgetsnbextension~=3.5.0->ipywidgets>=7.0.0->cufflinks) (21.3.0)\n",
      "Requirement already satisfied: nbconvert>=5 in c:\\users\\ps4z\\anaconda3\\lib\\site-packages (from notebook>=4.4.1->widgetsnbextension~=3.5.0->ipywidgets>=7.0.0->cufflinks) (6.4.4)\n",
      "Requirement already satisfied: terminado>=0.8.3 in c:\\users\\ps4z\\anaconda3\\lib\\site-packages (from notebook>=4.4.1->widgetsnbextension~=3.5.0->ipywidgets>=7.0.0->cufflinks) (0.13.1)\n",
      "Requirement already satisfied: pyparsing!=3.0.5,>=2.0.2 in c:\\users\\ps4z\\anaconda3\\lib\\site-packages (from packaging->ipykernel>=4.5.1->ipywidgets>=7.0.0->cufflinks) (3.0.9)\n",
      "Requirement already satisfied: bleach in c:\\users\\ps4z\\anaconda3\\lib\\site-packages (from nbconvert>=5->notebook>=4.4.1->widgetsnbextension~=3.5.0->ipywidgets>=7.0.0->cufflinks) (4.1.0)\n",
      "Requirement already satisfied: jupyterlab-pygments in c:\\users\\ps4z\\anaconda3\\lib\\site-packages (from nbconvert>=5->notebook>=4.4.1->widgetsnbextension~=3.5.0->ipywidgets>=7.0.0->cufflinks) (0.1.2)\n",
      "Requirement already satisfied: defusedxml in c:\\users\\ps4z\\anaconda3\\lib\\site-packages (from nbconvert>=5->notebook>=4.4.1->widgetsnbextension~=3.5.0->ipywidgets>=7.0.0->cufflinks) (0.7.1)\n",
      "Requirement already satisfied: mistune<2,>=0.8.1 in c:\\users\\ps4z\\anaconda3\\lib\\site-packages (from nbconvert>=5->notebook>=4.4.1->widgetsnbextension~=3.5.0->ipywidgets>=7.0.0->cufflinks) (0.8.4)\n",
      "Requirement already satisfied: testpath in c:\\users\\ps4z\\anaconda3\\lib\\site-packages (from nbconvert>=5->notebook>=4.4.1->widgetsnbextension~=3.5.0->ipywidgets>=7.0.0->cufflinks) (0.6.0)\n",
      "Requirement already satisfied: beautifulsoup4 in c:\\users\\ps4z\\anaconda3\\lib\\site-packages (from nbconvert>=5->notebook>=4.4.1->widgetsnbextension~=3.5.0->ipywidgets>=7.0.0->cufflinks) (4.11.1)\n",
      "Requirement already satisfied: pandocfilters>=1.4.1 in c:\\users\\ps4z\\anaconda3\\lib\\site-packages (from nbconvert>=5->notebook>=4.4.1->widgetsnbextension~=3.5.0->ipywidgets>=7.0.0->cufflinks) (1.5.0)\n",
      "Requirement already satisfied: nbclient<0.6.0,>=0.5.0 in c:\\users\\ps4z\\anaconda3\\lib\\site-packages (from nbconvert>=5->notebook>=4.4.1->widgetsnbextension~=3.5.0->ipywidgets>=7.0.0->cufflinks) (0.5.13)\n",
      "Requirement already satisfied: MarkupSafe>=0.23 in c:\\users\\ps4z\\anaconda3\\lib\\site-packages (from jinja2->notebook>=4.4.1->widgetsnbextension~=3.5.0->ipywidgets>=7.0.0->cufflinks) (2.0.1)\n",
      "Requirement already satisfied: pywinpty>=1.1.0 in c:\\users\\ps4z\\anaconda3\\lib\\site-packages (from terminado>=0.8.3->notebook>=4.4.1->widgetsnbextension~=3.5.0->ipywidgets>=7.0.0->cufflinks) (2.0.2)\n",
      "Requirement already satisfied: argon2-cffi-bindings in c:\\users\\ps4z\\anaconda3\\lib\\site-packages (from argon2-cffi->notebook>=4.4.1->widgetsnbextension~=3.5.0->ipywidgets>=7.0.0->cufflinks) (21.2.0)\n",
      "Requirement already satisfied: cffi>=1.0.1 in c:\\users\\ps4z\\anaconda3\\lib\\site-packages (from argon2-cffi-bindings->argon2-cffi->notebook>=4.4.1->widgetsnbextension~=3.5.0->ipywidgets>=7.0.0->cufflinks) (1.15.1)\n",
      "Requirement already satisfied: soupsieve>1.2 in c:\\users\\ps4z\\anaconda3\\lib\\site-packages (from beautifulsoup4->nbconvert>=5->notebook>=4.4.1->widgetsnbextension~=3.5.0->ipywidgets>=7.0.0->cufflinks) (2.3.1)\n",
      "Requirement already satisfied: webencodings in c:\\users\\ps4z\\anaconda3\\lib\\site-packages (from bleach->nbconvert>=5->notebook>=4.4.1->widgetsnbextension~=3.5.0->ipywidgets>=7.0.0->cufflinks) (0.5.1)\n",
      "Requirement already satisfied: pycparser in c:\\users\\ps4z\\anaconda3\\lib\\site-packages (from cffi>=1.0.1->argon2-cffi-bindings->argon2-cffi->notebook>=4.4.1->widgetsnbextension~=3.5.0->ipywidgets>=7.0.0->cufflinks) (2.21)\n",
      "Building wheels for collected packages: cufflinks\n",
      "  Building wheel for cufflinks (setup.py): started\n",
      "  Building wheel for cufflinks (setup.py): finished with status 'done'\n",
      "  Created wheel for cufflinks: filename=cufflinks-0.17.3-py3-none-any.whl size=68718 sha256=dcffd3dc23f1452a6a721ecc7b44da45a1ddf21eb04b5cc8610eb05699e75583\n",
      "  Stored in directory: c:\\users\\ps4z\\appdata\\local\\pip\\cache\\wheels\\29\\b4\\f8\\2fd2206eeeba6ccad8167e4e8894b8c4ec27bf1342037fd136\n",
      "Successfully built cufflinks\n",
      "Installing collected packages: colorlover, cufflinks\n",
      "Successfully installed colorlover-0.3.0 cufflinks-0.17.3\n"
     ]
    }
   ],
   "source": [
    "!pip install plotly\n",
    "!pip install cufflinks\n",
    "import pandas as pd\n",
    "import numpy as np\n",
    "%matplotlib inline"
   ]
  },
  {
   "cell_type": "code",
   "execution_count": 2,
   "metadata": {},
   "outputs": [
    {
     "name": "stdout",
     "output_type": "stream",
     "text": [
      "5.9.0\n"
     ]
    }
   ],
   "source": [
    "from plotly import __version__\n",
    "from plotly.offline import download_plotlyjs, init_notebook_mode, plot, iplot\n",
    "\n",
    "print(__version__) # requires version >= 1.9.0"
   ]
  },
  {
   "cell_type": "code",
   "execution_count": 3,
   "metadata": {},
   "outputs": [],
   "source": [
    "import cufflinks as cf"
   ]
  },
  {
   "cell_type": "code",
   "execution_count": 4,
   "metadata": {},
   "outputs": [
    {
     "data": {
      "text/html": [
       "        <script type=\"text/javascript\">\n",
       "        window.PlotlyConfig = {MathJaxConfig: 'local'};\n",
       "        if (window.MathJax && window.MathJax.Hub && window.MathJax.Hub.Config) {window.MathJax.Hub.Config({SVG: {font: \"STIX-Web\"}});}\n",
       "        if (typeof require !== 'undefined') {\n",
       "        require.undef(\"plotly\");\n",
       "        requirejs.config({\n",
       "            paths: {\n",
       "                'plotly': ['https://cdn.plot.ly/plotly-2.12.1.min']\n",
       "            }\n",
       "        });\n",
       "        require(['plotly'], function(Plotly) {\n",
       "            window._Plotly = Plotly;\n",
       "        });\n",
       "        }\n",
       "        </script>\n",
       "        "
      ]
     },
     "metadata": {},
     "output_type": "display_data"
    }
   ],
   "source": [
    "# For Notebooks\n",
    "init_notebook_mode(connected=True)"
   ]
  },
  {
   "cell_type": "code",
   "execution_count": 5,
   "metadata": {},
   "outputs": [
    {
     "data": {
      "text/html": [
       "        <script type=\"text/javascript\">\n",
       "        window.PlotlyConfig = {MathJaxConfig: 'local'};\n",
       "        if (window.MathJax && window.MathJax.Hub && window.MathJax.Hub.Config) {window.MathJax.Hub.Config({SVG: {font: \"STIX-Web\"}});}\n",
       "        if (typeof require !== 'undefined') {\n",
       "        require.undef(\"plotly\");\n",
       "        requirejs.config({\n",
       "            paths: {\n",
       "                'plotly': ['https://cdn.plot.ly/plotly-2.12.1.min']\n",
       "            }\n",
       "        });\n",
       "        require(['plotly'], function(Plotly) {\n",
       "            window._Plotly = Plotly;\n",
       "        });\n",
       "        }\n",
       "        </script>\n",
       "        "
      ]
     },
     "metadata": {},
     "output_type": "display_data"
    }
   ],
   "source": [
    "# For offline use\n",
    "cf.go_offline()"
   ]
  },
  {
   "cell_type": "markdown",
   "metadata": {},
   "source": [
    "### Fake Data"
   ]
  },
  {
   "cell_type": "code",
   "execution_count": 6,
   "metadata": {},
   "outputs": [],
   "source": [
    "df = pd.DataFrame(np.random.randn(100,4),columns='A B C D'.split())"
   ]
  },
  {
   "cell_type": "code",
   "execution_count": 7,
   "metadata": {},
   "outputs": [
    {
     "data": {
      "text/html": [
       "<div>\n",
       "<style scoped>\n",
       "    .dataframe tbody tr th:only-of-type {\n",
       "        vertical-align: middle;\n",
       "    }\n",
       "\n",
       "    .dataframe tbody tr th {\n",
       "        vertical-align: top;\n",
       "    }\n",
       "\n",
       "    .dataframe thead th {\n",
       "        text-align: right;\n",
       "    }\n",
       "</style>\n",
       "<table border=\"1\" class=\"dataframe\">\n",
       "  <thead>\n",
       "    <tr style=\"text-align: right;\">\n",
       "      <th></th>\n",
       "      <th>A</th>\n",
       "      <th>B</th>\n",
       "      <th>C</th>\n",
       "      <th>D</th>\n",
       "    </tr>\n",
       "  </thead>\n",
       "  <tbody>\n",
       "    <tr>\n",
       "      <th>0</th>\n",
       "      <td>-1.574407</td>\n",
       "      <td>-0.163019</td>\n",
       "      <td>1.367243</td>\n",
       "      <td>0.447480</td>\n",
       "    </tr>\n",
       "    <tr>\n",
       "      <th>1</th>\n",
       "      <td>0.291997</td>\n",
       "      <td>-0.487115</td>\n",
       "      <td>-3.121953</td>\n",
       "      <td>0.283406</td>\n",
       "    </tr>\n",
       "    <tr>\n",
       "      <th>2</th>\n",
       "      <td>-0.209879</td>\n",
       "      <td>-2.151496</td>\n",
       "      <td>0.456647</td>\n",
       "      <td>-0.777049</td>\n",
       "    </tr>\n",
       "    <tr>\n",
       "      <th>3</th>\n",
       "      <td>1.407224</td>\n",
       "      <td>-0.654842</td>\n",
       "      <td>-0.575640</td>\n",
       "      <td>-0.044930</td>\n",
       "    </tr>\n",
       "    <tr>\n",
       "      <th>4</th>\n",
       "      <td>0.598472</td>\n",
       "      <td>0.629596</td>\n",
       "      <td>0.263211</td>\n",
       "      <td>0.270093</td>\n",
       "    </tr>\n",
       "  </tbody>\n",
       "</table>\n",
       "</div>"
      ],
      "text/plain": [
       "          A         B         C         D\n",
       "0 -1.574407 -0.163019  1.367243  0.447480\n",
       "1  0.291997 -0.487115 -3.121953  0.283406\n",
       "2 -0.209879 -2.151496  0.456647 -0.777049\n",
       "3  1.407224 -0.654842 -0.575640 -0.044930\n",
       "4  0.598472  0.629596  0.263211  0.270093"
      ]
     },
     "execution_count": 7,
     "metadata": {},
     "output_type": "execute_result"
    }
   ],
   "source": [
    "df.head()"
   ]
  },
  {
   "cell_type": "code",
   "execution_count": 9,
   "metadata": {},
   "outputs": [],
   "source": [
    "df2 = pd.DataFrame({'Category':['A','B','C'],'Values':[32,43,50]})"
   ]
  },
  {
   "cell_type": "code",
   "execution_count": 10,
   "metadata": {},
   "outputs": [
    {
     "data": {
      "text/html": [
       "<div>\n",
       "<style scoped>\n",
       "    .dataframe tbody tr th:only-of-type {\n",
       "        vertical-align: middle;\n",
       "    }\n",
       "\n",
       "    .dataframe tbody tr th {\n",
       "        vertical-align: top;\n",
       "    }\n",
       "\n",
       "    .dataframe thead th {\n",
       "        text-align: right;\n",
       "    }\n",
       "</style>\n",
       "<table border=\"1\" class=\"dataframe\">\n",
       "  <thead>\n",
       "    <tr style=\"text-align: right;\">\n",
       "      <th></th>\n",
       "      <th>Category</th>\n",
       "      <th>Values</th>\n",
       "    </tr>\n",
       "  </thead>\n",
       "  <tbody>\n",
       "    <tr>\n",
       "      <th>0</th>\n",
       "      <td>A</td>\n",
       "      <td>32</td>\n",
       "    </tr>\n",
       "    <tr>\n",
       "      <th>1</th>\n",
       "      <td>B</td>\n",
       "      <td>43</td>\n",
       "    </tr>\n",
       "    <tr>\n",
       "      <th>2</th>\n",
       "      <td>C</td>\n",
       "      <td>50</td>\n",
       "    </tr>\n",
       "  </tbody>\n",
       "</table>\n",
       "</div>"
      ],
      "text/plain": [
       "  Category  Values\n",
       "0        A      32\n",
       "1        B      43\n",
       "2        C      50"
      ]
     },
     "execution_count": 10,
     "metadata": {},
     "output_type": "execute_result"
    }
   ],
   "source": [
    "df2.head()"
   ]
  },
  {
   "cell_type": "markdown",
   "metadata": {},
   "source": [
    "## Using Cufflinks and iplot()\n",
    "\n",
    "* scatter\n",
    "* bar\n",
    "* box\n",
    "* spread\n",
    "* ratio\n",
    "* heatmap\n",
    "* surface\n",
    "* histogram\n",
    "* bubble"
   ]
  },
  {
   "cell_type": "markdown",
   "metadata": {},
   "source": [
    "## Scatter"
   ]
  },
  {
   "cell_type": "code",
   "execution_count": 11,
   "metadata": {},
   "outputs": [
    {
     "data": {
      "application/vnd.plotly.v1+json": {
       "config": {
        "linkText": "Export to plot.ly",
        "plotlyServerURL": "https://plot.ly",
        "showLink": true
       },
       "data": [
        {
         "line": {
          "color": "rgba(255, 153, 51, 1.0)",
          "dash": "solid",
          "shape": "linear",
          "width": 1.3
         },
         "marker": {
          "size": 10,
          "symbol": "circle"
         },
         "mode": "markers",
         "name": "B",
         "text": "",
         "type": "scatter",
         "x": [
          -1.5744069188809882,
          0.2919965937061701,
          -0.20987911018127825,
          1.4072243870576893,
          0.5984723796355707,
          -0.2744220558333609,
          0.017729177103530606,
          -1.4785228691304597,
          0.45485788895139434,
          0.7817522785186537,
          0.6158030135086989,
          0.20802408355881027,
          -0.9111899216311535,
          -0.5382498735341864,
          2.2762676193980482,
          -1.3159624487677273,
          -0.06275163823087321,
          -0.4815939833334281,
          0.24651562164010077,
          0.5128628101495492,
          -0.2088905846667024,
          -0.37961744382809437,
          -1.3750740367784493,
          -0.1440449218155529,
          -0.6913576335249373,
          -0.8765044012890313,
          1.5299431347988888,
          0.3492702609917798,
          0.8632771989810265,
          0.2599651123227867,
          -0.7226945310100287,
          -0.5214214959940227,
          -0.6701981378685836,
          -1.6376029981808569,
          -1.1005326319176798,
          -2.0990592385751654,
          0.9648940123270464,
          -0.7199413985460938,
          0.09503131401757643,
          -0.5629431738077807,
          1.0803145448231073,
          0.8972983341827394,
          1.8248328731964814,
          -1.0171487169752407,
          -0.10207657386959489,
          -0.9962484521182952,
          -0.2958514481504522,
          -0.8607863376679893,
          0.2860450974872978,
          -0.9935693485120408,
          -0.39627560768952946,
          0.8951387380632714,
          -1.5007119405734002,
          0.07588767461740342,
          -0.22972784324619358,
          1.1166806807792315,
          -0.6412361428214182,
          1.4433582217204095,
          0.8313925941737207,
          -1.2607458874475315,
          -0.5179577520575765,
          0.2942700620890089,
          1.4727361516699482,
          0.17341433018348343,
          -1.0770753575548573,
          0.10533370002320529,
          0.0793294308116233,
          -1.2209897048108995,
          -0.8474131221067496,
          0.4140503688588217,
          1.7235576738547156,
          0.2866510056446499,
          -1.3814385683659007,
          -0.43750975085760285,
          0.18836090635740865,
          0.665859181474303,
          -0.9483973704483861,
          -0.8046482102273977,
          1.0051984408320216,
          -0.6749142511199132,
          -1.9239795201339824,
          -1.1442081980896393,
          0.48266997736509804,
          0.0975543014512976,
          -0.1984691597006762,
          -0.03426534605026892,
          -0.297829988581982,
          -0.908952261148527,
          -0.640552122171676,
          2.36128954662639,
          -1.0401492611610879,
          -0.666139394408712,
          -1.4197630539022021,
          -0.22321839664823442,
          -0.6253401945309588,
          0.4621300236937175,
          0.4284540858073102,
          -1.411894453558689,
          -0.5203770031024622,
          -0.3419949085418646
         ],
         "y": [
          -0.16301927573326747,
          -0.48711484848482545,
          -2.151495874975196,
          -0.654841755684685,
          0.6295959841572122,
          -0.8622360025956758,
          -0.7769629600854723,
          1.141384587800869,
          2.3864706479233844,
          0.9299078566189861,
          0.4555732303265823,
          0.32647238553721564,
          -0.6803360397686434,
          -0.8102760959813967,
          1.4848181818102724,
          0.5291945647751306,
          1.4353440017023873,
          -0.5026056619198886,
          -0.5800213198181711,
          -0.09606149483386926,
          -0.5768704701146251,
          -0.9372294832680503,
          -0.08510356635600864,
          0.37212959201504026,
          -1.362462924687948,
          0.8806989154386949,
          -0.8358694207263032,
          -0.28953059607877285,
          -0.5011078163710999,
          -0.43790828913824986,
          -0.6514598584332857,
          0.6002289489726451,
          0.22186817296233421,
          0.27994648352865514,
          -0.9689803349519742,
          1.1825509508611973,
          0.04780373093205452,
          -2.716968073246881,
          0.6349138266490004,
          0.41478390998119186,
          0.8246493600925106,
          0.4930703351281199,
          0.6487322832414203,
          -0.08336067163389263,
          -1.3049247995275077,
          1.0619952081092054,
          -0.7227073628981311,
          0.5809890622275982,
          1.2272849369420071,
          -1.510539737682553,
          -0.7456146006935016,
          -1.2750149926211962,
          0.20466552604659938,
          0.48741572091628266,
          1.0797839304892964,
          0.2896592763134485,
          -0.6204080623813175,
          0.9488442025282456,
          -0.8011395533914448,
          1.1723009064207326,
          0.6054895171876152,
          0.04816408029720471,
          -0.13535894381818353,
          -0.8965841075311023,
          -1.954615214342892,
          -0.15472804753915848,
          -0.9524201139436,
          -1.5291955641115345,
          1.037853825639349,
          0.1875096616869887,
          -0.5588917015575369,
          0.8044315841413262,
          -0.47554678747052664,
          -0.6213643969232366,
          -0.8184197648045224,
          -0.11121577771197998,
          0.4824724082217693,
          -2.032159511239236,
          0.6878192901007198,
          -0.8075923737337249,
          1.0440508302797218,
          0.1303876927045207,
          -1.980567271026737,
          0.7269021112597615,
          -0.9504440925098565,
          -0.7352991807724102,
          -0.22826571887397049,
          0.4175573994031141,
          0.6884329397963111,
          0.5481622573258714,
          0.6080475289579149,
          1.7843699428922326,
          1.0645184313051146,
          -1.2657980679905936,
          1.2728775711928362,
          -0.6676306193331588,
          -0.9306861770987371,
          1.6149963278104023,
          -1.2152379938641267,
          -0.9470164897283213
         ]
        }
       ],
       "layout": {
        "legend": {
         "bgcolor": "#F5F6F9",
         "font": {
          "color": "#4D5663"
         }
        },
        "paper_bgcolor": "#F5F6F9",
        "plot_bgcolor": "#F5F6F9",
        "template": {
         "data": {
          "bar": [
           {
            "error_x": {
             "color": "#2a3f5f"
            },
            "error_y": {
             "color": "#2a3f5f"
            },
            "marker": {
             "line": {
              "color": "#E5ECF6",
              "width": 0.5
             },
             "pattern": {
              "fillmode": "overlay",
              "size": 10,
              "solidity": 0.2
             }
            },
            "type": "bar"
           }
          ],
          "barpolar": [
           {
            "marker": {
             "line": {
              "color": "#E5ECF6",
              "width": 0.5
             },
             "pattern": {
              "fillmode": "overlay",
              "size": 10,
              "solidity": 0.2
             }
            },
            "type": "barpolar"
           }
          ],
          "carpet": [
           {
            "aaxis": {
             "endlinecolor": "#2a3f5f",
             "gridcolor": "white",
             "linecolor": "white",
             "minorgridcolor": "white",
             "startlinecolor": "#2a3f5f"
            },
            "baxis": {
             "endlinecolor": "#2a3f5f",
             "gridcolor": "white",
             "linecolor": "white",
             "minorgridcolor": "white",
             "startlinecolor": "#2a3f5f"
            },
            "type": "carpet"
           }
          ],
          "choropleth": [
           {
            "colorbar": {
             "outlinewidth": 0,
             "ticks": ""
            },
            "type": "choropleth"
           }
          ],
          "contour": [
           {
            "colorbar": {
             "outlinewidth": 0,
             "ticks": ""
            },
            "colorscale": [
             [
              0,
              "#0d0887"
             ],
             [
              0.1111111111111111,
              "#46039f"
             ],
             [
              0.2222222222222222,
              "#7201a8"
             ],
             [
              0.3333333333333333,
              "#9c179e"
             ],
             [
              0.4444444444444444,
              "#bd3786"
             ],
             [
              0.5555555555555556,
              "#d8576b"
             ],
             [
              0.6666666666666666,
              "#ed7953"
             ],
             [
              0.7777777777777778,
              "#fb9f3a"
             ],
             [
              0.8888888888888888,
              "#fdca26"
             ],
             [
              1,
              "#f0f921"
             ]
            ],
            "type": "contour"
           }
          ],
          "contourcarpet": [
           {
            "colorbar": {
             "outlinewidth": 0,
             "ticks": ""
            },
            "type": "contourcarpet"
           }
          ],
          "heatmap": [
           {
            "colorbar": {
             "outlinewidth": 0,
             "ticks": ""
            },
            "colorscale": [
             [
              0,
              "#0d0887"
             ],
             [
              0.1111111111111111,
              "#46039f"
             ],
             [
              0.2222222222222222,
              "#7201a8"
             ],
             [
              0.3333333333333333,
              "#9c179e"
             ],
             [
              0.4444444444444444,
              "#bd3786"
             ],
             [
              0.5555555555555556,
              "#d8576b"
             ],
             [
              0.6666666666666666,
              "#ed7953"
             ],
             [
              0.7777777777777778,
              "#fb9f3a"
             ],
             [
              0.8888888888888888,
              "#fdca26"
             ],
             [
              1,
              "#f0f921"
             ]
            ],
            "type": "heatmap"
           }
          ],
          "heatmapgl": [
           {
            "colorbar": {
             "outlinewidth": 0,
             "ticks": ""
            },
            "colorscale": [
             [
              0,
              "#0d0887"
             ],
             [
              0.1111111111111111,
              "#46039f"
             ],
             [
              0.2222222222222222,
              "#7201a8"
             ],
             [
              0.3333333333333333,
              "#9c179e"
             ],
             [
              0.4444444444444444,
              "#bd3786"
             ],
             [
              0.5555555555555556,
              "#d8576b"
             ],
             [
              0.6666666666666666,
              "#ed7953"
             ],
             [
              0.7777777777777778,
              "#fb9f3a"
             ],
             [
              0.8888888888888888,
              "#fdca26"
             ],
             [
              1,
              "#f0f921"
             ]
            ],
            "type": "heatmapgl"
           }
          ],
          "histogram": [
           {
            "marker": {
             "pattern": {
              "fillmode": "overlay",
              "size": 10,
              "solidity": 0.2
             }
            },
            "type": "histogram"
           }
          ],
          "histogram2d": [
           {
            "colorbar": {
             "outlinewidth": 0,
             "ticks": ""
            },
            "colorscale": [
             [
              0,
              "#0d0887"
             ],
             [
              0.1111111111111111,
              "#46039f"
             ],
             [
              0.2222222222222222,
              "#7201a8"
             ],
             [
              0.3333333333333333,
              "#9c179e"
             ],
             [
              0.4444444444444444,
              "#bd3786"
             ],
             [
              0.5555555555555556,
              "#d8576b"
             ],
             [
              0.6666666666666666,
              "#ed7953"
             ],
             [
              0.7777777777777778,
              "#fb9f3a"
             ],
             [
              0.8888888888888888,
              "#fdca26"
             ],
             [
              1,
              "#f0f921"
             ]
            ],
            "type": "histogram2d"
           }
          ],
          "histogram2dcontour": [
           {
            "colorbar": {
             "outlinewidth": 0,
             "ticks": ""
            },
            "colorscale": [
             [
              0,
              "#0d0887"
             ],
             [
              0.1111111111111111,
              "#46039f"
             ],
             [
              0.2222222222222222,
              "#7201a8"
             ],
             [
              0.3333333333333333,
              "#9c179e"
             ],
             [
              0.4444444444444444,
              "#bd3786"
             ],
             [
              0.5555555555555556,
              "#d8576b"
             ],
             [
              0.6666666666666666,
              "#ed7953"
             ],
             [
              0.7777777777777778,
              "#fb9f3a"
             ],
             [
              0.8888888888888888,
              "#fdca26"
             ],
             [
              1,
              "#f0f921"
             ]
            ],
            "type": "histogram2dcontour"
           }
          ],
          "mesh3d": [
           {
            "colorbar": {
             "outlinewidth": 0,
             "ticks": ""
            },
            "type": "mesh3d"
           }
          ],
          "parcoords": [
           {
            "line": {
             "colorbar": {
              "outlinewidth": 0,
              "ticks": ""
             }
            },
            "type": "parcoords"
           }
          ],
          "pie": [
           {
            "automargin": true,
            "type": "pie"
           }
          ],
          "scatter": [
           {
            "fillpattern": {
             "fillmode": "overlay",
             "size": 10,
             "solidity": 0.2
            },
            "type": "scatter"
           }
          ],
          "scatter3d": [
           {
            "line": {
             "colorbar": {
              "outlinewidth": 0,
              "ticks": ""
             }
            },
            "marker": {
             "colorbar": {
              "outlinewidth": 0,
              "ticks": ""
             }
            },
            "type": "scatter3d"
           }
          ],
          "scattercarpet": [
           {
            "marker": {
             "colorbar": {
              "outlinewidth": 0,
              "ticks": ""
             }
            },
            "type": "scattercarpet"
           }
          ],
          "scattergeo": [
           {
            "marker": {
             "colorbar": {
              "outlinewidth": 0,
              "ticks": ""
             }
            },
            "type": "scattergeo"
           }
          ],
          "scattergl": [
           {
            "marker": {
             "colorbar": {
              "outlinewidth": 0,
              "ticks": ""
             }
            },
            "type": "scattergl"
           }
          ],
          "scattermapbox": [
           {
            "marker": {
             "colorbar": {
              "outlinewidth": 0,
              "ticks": ""
             }
            },
            "type": "scattermapbox"
           }
          ],
          "scatterpolar": [
           {
            "marker": {
             "colorbar": {
              "outlinewidth": 0,
              "ticks": ""
             }
            },
            "type": "scatterpolar"
           }
          ],
          "scatterpolargl": [
           {
            "marker": {
             "colorbar": {
              "outlinewidth": 0,
              "ticks": ""
             }
            },
            "type": "scatterpolargl"
           }
          ],
          "scatterternary": [
           {
            "marker": {
             "colorbar": {
              "outlinewidth": 0,
              "ticks": ""
             }
            },
            "type": "scatterternary"
           }
          ],
          "surface": [
           {
            "colorbar": {
             "outlinewidth": 0,
             "ticks": ""
            },
            "colorscale": [
             [
              0,
              "#0d0887"
             ],
             [
              0.1111111111111111,
              "#46039f"
             ],
             [
              0.2222222222222222,
              "#7201a8"
             ],
             [
              0.3333333333333333,
              "#9c179e"
             ],
             [
              0.4444444444444444,
              "#bd3786"
             ],
             [
              0.5555555555555556,
              "#d8576b"
             ],
             [
              0.6666666666666666,
              "#ed7953"
             ],
             [
              0.7777777777777778,
              "#fb9f3a"
             ],
             [
              0.8888888888888888,
              "#fdca26"
             ],
             [
              1,
              "#f0f921"
             ]
            ],
            "type": "surface"
           }
          ],
          "table": [
           {
            "cells": {
             "fill": {
              "color": "#EBF0F8"
             },
             "line": {
              "color": "white"
             }
            },
            "header": {
             "fill": {
              "color": "#C8D4E3"
             },
             "line": {
              "color": "white"
             }
            },
            "type": "table"
           }
          ]
         },
         "layout": {
          "annotationdefaults": {
           "arrowcolor": "#2a3f5f",
           "arrowhead": 0,
           "arrowwidth": 1
          },
          "autotypenumbers": "strict",
          "coloraxis": {
           "colorbar": {
            "outlinewidth": 0,
            "ticks": ""
           }
          },
          "colorscale": {
           "diverging": [
            [
             0,
             "#8e0152"
            ],
            [
             0.1,
             "#c51b7d"
            ],
            [
             0.2,
             "#de77ae"
            ],
            [
             0.3,
             "#f1b6da"
            ],
            [
             0.4,
             "#fde0ef"
            ],
            [
             0.5,
             "#f7f7f7"
            ],
            [
             0.6,
             "#e6f5d0"
            ],
            [
             0.7,
             "#b8e186"
            ],
            [
             0.8,
             "#7fbc41"
            ],
            [
             0.9,
             "#4d9221"
            ],
            [
             1,
             "#276419"
            ]
           ],
           "sequential": [
            [
             0,
             "#0d0887"
            ],
            [
             0.1111111111111111,
             "#46039f"
            ],
            [
             0.2222222222222222,
             "#7201a8"
            ],
            [
             0.3333333333333333,
             "#9c179e"
            ],
            [
             0.4444444444444444,
             "#bd3786"
            ],
            [
             0.5555555555555556,
             "#d8576b"
            ],
            [
             0.6666666666666666,
             "#ed7953"
            ],
            [
             0.7777777777777778,
             "#fb9f3a"
            ],
            [
             0.8888888888888888,
             "#fdca26"
            ],
            [
             1,
             "#f0f921"
            ]
           ],
           "sequentialminus": [
            [
             0,
             "#0d0887"
            ],
            [
             0.1111111111111111,
             "#46039f"
            ],
            [
             0.2222222222222222,
             "#7201a8"
            ],
            [
             0.3333333333333333,
             "#9c179e"
            ],
            [
             0.4444444444444444,
             "#bd3786"
            ],
            [
             0.5555555555555556,
             "#d8576b"
            ],
            [
             0.6666666666666666,
             "#ed7953"
            ],
            [
             0.7777777777777778,
             "#fb9f3a"
            ],
            [
             0.8888888888888888,
             "#fdca26"
            ],
            [
             1,
             "#f0f921"
            ]
           ]
          },
          "colorway": [
           "#636efa",
           "#EF553B",
           "#00cc96",
           "#ab63fa",
           "#FFA15A",
           "#19d3f3",
           "#FF6692",
           "#B6E880",
           "#FF97FF",
           "#FECB52"
          ],
          "font": {
           "color": "#2a3f5f"
          },
          "geo": {
           "bgcolor": "white",
           "lakecolor": "white",
           "landcolor": "#E5ECF6",
           "showlakes": true,
           "showland": true,
           "subunitcolor": "white"
          },
          "hoverlabel": {
           "align": "left"
          },
          "hovermode": "closest",
          "mapbox": {
           "style": "light"
          },
          "paper_bgcolor": "white",
          "plot_bgcolor": "#E5ECF6",
          "polar": {
           "angularaxis": {
            "gridcolor": "white",
            "linecolor": "white",
            "ticks": ""
           },
           "bgcolor": "#E5ECF6",
           "radialaxis": {
            "gridcolor": "white",
            "linecolor": "white",
            "ticks": ""
           }
          },
          "scene": {
           "xaxis": {
            "backgroundcolor": "#E5ECF6",
            "gridcolor": "white",
            "gridwidth": 2,
            "linecolor": "white",
            "showbackground": true,
            "ticks": "",
            "zerolinecolor": "white"
           },
           "yaxis": {
            "backgroundcolor": "#E5ECF6",
            "gridcolor": "white",
            "gridwidth": 2,
            "linecolor": "white",
            "showbackground": true,
            "ticks": "",
            "zerolinecolor": "white"
           },
           "zaxis": {
            "backgroundcolor": "#E5ECF6",
            "gridcolor": "white",
            "gridwidth": 2,
            "linecolor": "white",
            "showbackground": true,
            "ticks": "",
            "zerolinecolor": "white"
           }
          },
          "shapedefaults": {
           "line": {
            "color": "#2a3f5f"
           }
          },
          "ternary": {
           "aaxis": {
            "gridcolor": "white",
            "linecolor": "white",
            "ticks": ""
           },
           "baxis": {
            "gridcolor": "white",
            "linecolor": "white",
            "ticks": ""
           },
           "bgcolor": "#E5ECF6",
           "caxis": {
            "gridcolor": "white",
            "linecolor": "white",
            "ticks": ""
           }
          },
          "title": {
           "x": 0.05
          },
          "xaxis": {
           "automargin": true,
           "gridcolor": "white",
           "linecolor": "white",
           "ticks": "",
           "title": {
            "standoff": 15
           },
           "zerolinecolor": "white",
           "zerolinewidth": 2
          },
          "yaxis": {
           "automargin": true,
           "gridcolor": "white",
           "linecolor": "white",
           "ticks": "",
           "title": {
            "standoff": 15
           },
           "zerolinecolor": "white",
           "zerolinewidth": 2
          }
         }
        },
        "title": {
         "font": {
          "color": "#4D5663"
         }
        },
        "xaxis": {
         "gridcolor": "#E1E5ED",
         "showgrid": true,
         "tickfont": {
          "color": "#4D5663"
         },
         "title": {
          "font": {
           "color": "#4D5663"
          },
          "text": ""
         },
         "zerolinecolor": "#E1E5ED"
        },
        "yaxis": {
         "gridcolor": "#E1E5ED",
         "showgrid": true,
         "tickfont": {
          "color": "#4D5663"
         },
         "title": {
          "font": {
           "color": "#4D5663"
          },
          "text": ""
         },
         "zerolinecolor": "#E1E5ED"
        }
       }
      },
      "text/html": [
       "<div>                            <div id=\"c376eb3a-1459-47b6-90d9-5b04e5a82405\" class=\"plotly-graph-div\" style=\"height:525px; width:100%;\"></div>            <script type=\"text/javascript\">                require([\"plotly\"], function(Plotly) {                    window.PLOTLYENV=window.PLOTLYENV || {};\n",
       "                    window.PLOTLYENV.BASE_URL='https://plot.ly';                                    if (document.getElementById(\"c376eb3a-1459-47b6-90d9-5b04e5a82405\")) {                    Plotly.newPlot(                        \"c376eb3a-1459-47b6-90d9-5b04e5a82405\",                        [{\"line\":{\"color\":\"rgba(255, 153, 51, 1.0)\",\"dash\":\"solid\",\"shape\":\"linear\",\"width\":1.3},\"marker\":{\"size\":10,\"symbol\":\"circle\"},\"mode\":\"markers\",\"name\":\"B\",\"text\":\"\",\"x\":[-1.5744069188809882,0.2919965937061701,-0.20987911018127825,1.4072243870576893,0.5984723796355707,-0.2744220558333609,0.017729177103530606,-1.4785228691304597,0.45485788895139434,0.7817522785186537,0.6158030135086989,0.20802408355881027,-0.9111899216311535,-0.5382498735341864,2.2762676193980482,-1.3159624487677273,-0.06275163823087321,-0.4815939833334281,0.24651562164010077,0.5128628101495492,-0.2088905846667024,-0.37961744382809437,-1.3750740367784493,-0.1440449218155529,-0.6913576335249373,-0.8765044012890313,1.5299431347988888,0.3492702609917798,0.8632771989810265,0.2599651123227867,-0.7226945310100287,-0.5214214959940227,-0.6701981378685836,-1.6376029981808569,-1.1005326319176798,-2.0990592385751654,0.9648940123270464,-0.7199413985460938,0.09503131401757643,-0.5629431738077807,1.0803145448231073,0.8972983341827394,1.8248328731964814,-1.0171487169752407,-0.10207657386959489,-0.9962484521182952,-0.2958514481504522,-0.8607863376679893,0.2860450974872978,-0.9935693485120408,-0.39627560768952946,0.8951387380632714,-1.5007119405734002,0.07588767461740342,-0.22972784324619358,1.1166806807792315,-0.6412361428214182,1.4433582217204095,0.8313925941737207,-1.2607458874475315,-0.5179577520575765,0.2942700620890089,1.4727361516699482,0.17341433018348343,-1.0770753575548573,0.10533370002320529,0.0793294308116233,-1.2209897048108995,-0.8474131221067496,0.4140503688588217,1.7235576738547156,0.2866510056446499,-1.3814385683659007,-0.43750975085760285,0.18836090635740865,0.665859181474303,-0.9483973704483861,-0.8046482102273977,1.0051984408320216,-0.6749142511199132,-1.9239795201339824,-1.1442081980896393,0.48266997736509804,0.0975543014512976,-0.1984691597006762,-0.03426534605026892,-0.297829988581982,-0.908952261148527,-0.640552122171676,2.36128954662639,-1.0401492611610879,-0.666139394408712,-1.4197630539022021,-0.22321839664823442,-0.6253401945309588,0.4621300236937175,0.4284540858073102,-1.411894453558689,-0.5203770031024622,-0.3419949085418646],\"y\":[-0.16301927573326747,-0.48711484848482545,-2.151495874975196,-0.654841755684685,0.6295959841572122,-0.8622360025956758,-0.7769629600854723,1.141384587800869,2.3864706479233844,0.9299078566189861,0.4555732303265823,0.32647238553721564,-0.6803360397686434,-0.8102760959813967,1.4848181818102724,0.5291945647751306,1.4353440017023873,-0.5026056619198886,-0.5800213198181711,-0.09606149483386926,-0.5768704701146251,-0.9372294832680503,-0.08510356635600864,0.37212959201504026,-1.362462924687948,0.8806989154386949,-0.8358694207263032,-0.28953059607877285,-0.5011078163710999,-0.43790828913824986,-0.6514598584332857,0.6002289489726451,0.22186817296233421,0.27994648352865514,-0.9689803349519742,1.1825509508611973,0.04780373093205452,-2.716968073246881,0.6349138266490004,0.41478390998119186,0.8246493600925106,0.4930703351281199,0.6487322832414203,-0.08336067163389263,-1.3049247995275077,1.0619952081092054,-0.7227073628981311,0.5809890622275982,1.2272849369420071,-1.510539737682553,-0.7456146006935016,-1.2750149926211962,0.20466552604659938,0.48741572091628266,1.0797839304892964,0.2896592763134485,-0.6204080623813175,0.9488442025282456,-0.8011395533914448,1.1723009064207326,0.6054895171876152,0.04816408029720471,-0.13535894381818353,-0.8965841075311023,-1.954615214342892,-0.15472804753915848,-0.9524201139436,-1.5291955641115345,1.037853825639349,0.1875096616869887,-0.5588917015575369,0.8044315841413262,-0.47554678747052664,-0.6213643969232366,-0.8184197648045224,-0.11121577771197998,0.4824724082217693,-2.032159511239236,0.6878192901007198,-0.8075923737337249,1.0440508302797218,0.1303876927045207,-1.980567271026737,0.7269021112597615,-0.9504440925098565,-0.7352991807724102,-0.22826571887397049,0.4175573994031141,0.6884329397963111,0.5481622573258714,0.6080475289579149,1.7843699428922326,1.0645184313051146,-1.2657980679905936,1.2728775711928362,-0.6676306193331588,-0.9306861770987371,1.6149963278104023,-1.2152379938641267,-0.9470164897283213],\"type\":\"scatter\"}],                        {\"legend\":{\"bgcolor\":\"#F5F6F9\",\"font\":{\"color\":\"#4D5663\"}},\"paper_bgcolor\":\"#F5F6F9\",\"plot_bgcolor\":\"#F5F6F9\",\"template\":{\"data\":{\"barpolar\":[{\"marker\":{\"line\":{\"color\":\"#E5ECF6\",\"width\":0.5},\"pattern\":{\"fillmode\":\"overlay\",\"size\":10,\"solidity\":0.2}},\"type\":\"barpolar\"}],\"bar\":[{\"error_x\":{\"color\":\"#2a3f5f\"},\"error_y\":{\"color\":\"#2a3f5f\"},\"marker\":{\"line\":{\"color\":\"#E5ECF6\",\"width\":0.5},\"pattern\":{\"fillmode\":\"overlay\",\"size\":10,\"solidity\":0.2}},\"type\":\"bar\"}],\"carpet\":[{\"aaxis\":{\"endlinecolor\":\"#2a3f5f\",\"gridcolor\":\"white\",\"linecolor\":\"white\",\"minorgridcolor\":\"white\",\"startlinecolor\":\"#2a3f5f\"},\"baxis\":{\"endlinecolor\":\"#2a3f5f\",\"gridcolor\":\"white\",\"linecolor\":\"white\",\"minorgridcolor\":\"white\",\"startlinecolor\":\"#2a3f5f\"},\"type\":\"carpet\"}],\"choropleth\":[{\"colorbar\":{\"outlinewidth\":0,\"ticks\":\"\"},\"type\":\"choropleth\"}],\"contourcarpet\":[{\"colorbar\":{\"outlinewidth\":0,\"ticks\":\"\"},\"type\":\"contourcarpet\"}],\"contour\":[{\"colorbar\":{\"outlinewidth\":0,\"ticks\":\"\"},\"colorscale\":[[0.0,\"#0d0887\"],[0.1111111111111111,\"#46039f\"],[0.2222222222222222,\"#7201a8\"],[0.3333333333333333,\"#9c179e\"],[0.4444444444444444,\"#bd3786\"],[0.5555555555555556,\"#d8576b\"],[0.6666666666666666,\"#ed7953\"],[0.7777777777777778,\"#fb9f3a\"],[0.8888888888888888,\"#fdca26\"],[1.0,\"#f0f921\"]],\"type\":\"contour\"}],\"heatmapgl\":[{\"colorbar\":{\"outlinewidth\":0,\"ticks\":\"\"},\"colorscale\":[[0.0,\"#0d0887\"],[0.1111111111111111,\"#46039f\"],[0.2222222222222222,\"#7201a8\"],[0.3333333333333333,\"#9c179e\"],[0.4444444444444444,\"#bd3786\"],[0.5555555555555556,\"#d8576b\"],[0.6666666666666666,\"#ed7953\"],[0.7777777777777778,\"#fb9f3a\"],[0.8888888888888888,\"#fdca26\"],[1.0,\"#f0f921\"]],\"type\":\"heatmapgl\"}],\"heatmap\":[{\"colorbar\":{\"outlinewidth\":0,\"ticks\":\"\"},\"colorscale\":[[0.0,\"#0d0887\"],[0.1111111111111111,\"#46039f\"],[0.2222222222222222,\"#7201a8\"],[0.3333333333333333,\"#9c179e\"],[0.4444444444444444,\"#bd3786\"],[0.5555555555555556,\"#d8576b\"],[0.6666666666666666,\"#ed7953\"],[0.7777777777777778,\"#fb9f3a\"],[0.8888888888888888,\"#fdca26\"],[1.0,\"#f0f921\"]],\"type\":\"heatmap\"}],\"histogram2dcontour\":[{\"colorbar\":{\"outlinewidth\":0,\"ticks\":\"\"},\"colorscale\":[[0.0,\"#0d0887\"],[0.1111111111111111,\"#46039f\"],[0.2222222222222222,\"#7201a8\"],[0.3333333333333333,\"#9c179e\"],[0.4444444444444444,\"#bd3786\"],[0.5555555555555556,\"#d8576b\"],[0.6666666666666666,\"#ed7953\"],[0.7777777777777778,\"#fb9f3a\"],[0.8888888888888888,\"#fdca26\"],[1.0,\"#f0f921\"]],\"type\":\"histogram2dcontour\"}],\"histogram2d\":[{\"colorbar\":{\"outlinewidth\":0,\"ticks\":\"\"},\"colorscale\":[[0.0,\"#0d0887\"],[0.1111111111111111,\"#46039f\"],[0.2222222222222222,\"#7201a8\"],[0.3333333333333333,\"#9c179e\"],[0.4444444444444444,\"#bd3786\"],[0.5555555555555556,\"#d8576b\"],[0.6666666666666666,\"#ed7953\"],[0.7777777777777778,\"#fb9f3a\"],[0.8888888888888888,\"#fdca26\"],[1.0,\"#f0f921\"]],\"type\":\"histogram2d\"}],\"histogram\":[{\"marker\":{\"pattern\":{\"fillmode\":\"overlay\",\"size\":10,\"solidity\":0.2}},\"type\":\"histogram\"}],\"mesh3d\":[{\"colorbar\":{\"outlinewidth\":0,\"ticks\":\"\"},\"type\":\"mesh3d\"}],\"parcoords\":[{\"line\":{\"colorbar\":{\"outlinewidth\":0,\"ticks\":\"\"}},\"type\":\"parcoords\"}],\"pie\":[{\"automargin\":true,\"type\":\"pie\"}],\"scatter3d\":[{\"line\":{\"colorbar\":{\"outlinewidth\":0,\"ticks\":\"\"}},\"marker\":{\"colorbar\":{\"outlinewidth\":0,\"ticks\":\"\"}},\"type\":\"scatter3d\"}],\"scattercarpet\":[{\"marker\":{\"colorbar\":{\"outlinewidth\":0,\"ticks\":\"\"}},\"type\":\"scattercarpet\"}],\"scattergeo\":[{\"marker\":{\"colorbar\":{\"outlinewidth\":0,\"ticks\":\"\"}},\"type\":\"scattergeo\"}],\"scattergl\":[{\"marker\":{\"colorbar\":{\"outlinewidth\":0,\"ticks\":\"\"}},\"type\":\"scattergl\"}],\"scattermapbox\":[{\"marker\":{\"colorbar\":{\"outlinewidth\":0,\"ticks\":\"\"}},\"type\":\"scattermapbox\"}],\"scatterpolargl\":[{\"marker\":{\"colorbar\":{\"outlinewidth\":0,\"ticks\":\"\"}},\"type\":\"scatterpolargl\"}],\"scatterpolar\":[{\"marker\":{\"colorbar\":{\"outlinewidth\":0,\"ticks\":\"\"}},\"type\":\"scatterpolar\"}],\"scatter\":[{\"fillpattern\":{\"fillmode\":\"overlay\",\"size\":10,\"solidity\":0.2},\"type\":\"scatter\"}],\"scatterternary\":[{\"marker\":{\"colorbar\":{\"outlinewidth\":0,\"ticks\":\"\"}},\"type\":\"scatterternary\"}],\"surface\":[{\"colorbar\":{\"outlinewidth\":0,\"ticks\":\"\"},\"colorscale\":[[0.0,\"#0d0887\"],[0.1111111111111111,\"#46039f\"],[0.2222222222222222,\"#7201a8\"],[0.3333333333333333,\"#9c179e\"],[0.4444444444444444,\"#bd3786\"],[0.5555555555555556,\"#d8576b\"],[0.6666666666666666,\"#ed7953\"],[0.7777777777777778,\"#fb9f3a\"],[0.8888888888888888,\"#fdca26\"],[1.0,\"#f0f921\"]],\"type\":\"surface\"}],\"table\":[{\"cells\":{\"fill\":{\"color\":\"#EBF0F8\"},\"line\":{\"color\":\"white\"}},\"header\":{\"fill\":{\"color\":\"#C8D4E3\"},\"line\":{\"color\":\"white\"}},\"type\":\"table\"}]},\"layout\":{\"annotationdefaults\":{\"arrowcolor\":\"#2a3f5f\",\"arrowhead\":0,\"arrowwidth\":1},\"autotypenumbers\":\"strict\",\"coloraxis\":{\"colorbar\":{\"outlinewidth\":0,\"ticks\":\"\"}},\"colorscale\":{\"diverging\":[[0,\"#8e0152\"],[0.1,\"#c51b7d\"],[0.2,\"#de77ae\"],[0.3,\"#f1b6da\"],[0.4,\"#fde0ef\"],[0.5,\"#f7f7f7\"],[0.6,\"#e6f5d0\"],[0.7,\"#b8e186\"],[0.8,\"#7fbc41\"],[0.9,\"#4d9221\"],[1,\"#276419\"]],\"sequential\":[[0.0,\"#0d0887\"],[0.1111111111111111,\"#46039f\"],[0.2222222222222222,\"#7201a8\"],[0.3333333333333333,\"#9c179e\"],[0.4444444444444444,\"#bd3786\"],[0.5555555555555556,\"#d8576b\"],[0.6666666666666666,\"#ed7953\"],[0.7777777777777778,\"#fb9f3a\"],[0.8888888888888888,\"#fdca26\"],[1.0,\"#f0f921\"]],\"sequentialminus\":[[0.0,\"#0d0887\"],[0.1111111111111111,\"#46039f\"],[0.2222222222222222,\"#7201a8\"],[0.3333333333333333,\"#9c179e\"],[0.4444444444444444,\"#bd3786\"],[0.5555555555555556,\"#d8576b\"],[0.6666666666666666,\"#ed7953\"],[0.7777777777777778,\"#fb9f3a\"],[0.8888888888888888,\"#fdca26\"],[1.0,\"#f0f921\"]]},\"colorway\":[\"#636efa\",\"#EF553B\",\"#00cc96\",\"#ab63fa\",\"#FFA15A\",\"#19d3f3\",\"#FF6692\",\"#B6E880\",\"#FF97FF\",\"#FECB52\"],\"font\":{\"color\":\"#2a3f5f\"},\"geo\":{\"bgcolor\":\"white\",\"lakecolor\":\"white\",\"landcolor\":\"#E5ECF6\",\"showlakes\":true,\"showland\":true,\"subunitcolor\":\"white\"},\"hoverlabel\":{\"align\":\"left\"},\"hovermode\":\"closest\",\"mapbox\":{\"style\":\"light\"},\"paper_bgcolor\":\"white\",\"plot_bgcolor\":\"#E5ECF6\",\"polar\":{\"angularaxis\":{\"gridcolor\":\"white\",\"linecolor\":\"white\",\"ticks\":\"\"},\"bgcolor\":\"#E5ECF6\",\"radialaxis\":{\"gridcolor\":\"white\",\"linecolor\":\"white\",\"ticks\":\"\"}},\"scene\":{\"xaxis\":{\"backgroundcolor\":\"#E5ECF6\",\"gridcolor\":\"white\",\"gridwidth\":2,\"linecolor\":\"white\",\"showbackground\":true,\"ticks\":\"\",\"zerolinecolor\":\"white\"},\"yaxis\":{\"backgroundcolor\":\"#E5ECF6\",\"gridcolor\":\"white\",\"gridwidth\":2,\"linecolor\":\"white\",\"showbackground\":true,\"ticks\":\"\",\"zerolinecolor\":\"white\"},\"zaxis\":{\"backgroundcolor\":\"#E5ECF6\",\"gridcolor\":\"white\",\"gridwidth\":2,\"linecolor\":\"white\",\"showbackground\":true,\"ticks\":\"\",\"zerolinecolor\":\"white\"}},\"shapedefaults\":{\"line\":{\"color\":\"#2a3f5f\"}},\"ternary\":{\"aaxis\":{\"gridcolor\":\"white\",\"linecolor\":\"white\",\"ticks\":\"\"},\"baxis\":{\"gridcolor\":\"white\",\"linecolor\":\"white\",\"ticks\":\"\"},\"bgcolor\":\"#E5ECF6\",\"caxis\":{\"gridcolor\":\"white\",\"linecolor\":\"white\",\"ticks\":\"\"}},\"title\":{\"x\":0.05},\"xaxis\":{\"automargin\":true,\"gridcolor\":\"white\",\"linecolor\":\"white\",\"ticks\":\"\",\"title\":{\"standoff\":15},\"zerolinecolor\":\"white\",\"zerolinewidth\":2},\"yaxis\":{\"automargin\":true,\"gridcolor\":\"white\",\"linecolor\":\"white\",\"ticks\":\"\",\"title\":{\"standoff\":15},\"zerolinecolor\":\"white\",\"zerolinewidth\":2}}},\"title\":{\"font\":{\"color\":\"#4D5663\"}},\"xaxis\":{\"gridcolor\":\"#E1E5ED\",\"showgrid\":true,\"tickfont\":{\"color\":\"#4D5663\"},\"title\":{\"font\":{\"color\":\"#4D5663\"},\"text\":\"\"},\"zerolinecolor\":\"#E1E5ED\"},\"yaxis\":{\"gridcolor\":\"#E1E5ED\",\"showgrid\":true,\"tickfont\":{\"color\":\"#4D5663\"},\"title\":{\"font\":{\"color\":\"#4D5663\"},\"text\":\"\"},\"zerolinecolor\":\"#E1E5ED\"}},                        {\"showLink\": true, \"linkText\": \"Export to plot.ly\", \"plotlyServerURL\": \"https://plot.ly\", \"responsive\": true}                    ).then(function(){\n",
       "                            \n",
       "var gd = document.getElementById('c376eb3a-1459-47b6-90d9-5b04e5a82405');\n",
       "var x = new MutationObserver(function (mutations, observer) {{\n",
       "        var display = window.getComputedStyle(gd).display;\n",
       "        if (!display || display === 'none') {{\n",
       "            console.log([gd, 'removed!']);\n",
       "            Plotly.purge(gd);\n",
       "            observer.disconnect();\n",
       "        }}\n",
       "}});\n",
       "\n",
       "// Listen for the removal of the full notebook cells\n",
       "var notebookContainer = gd.closest('#notebook-container');\n",
       "if (notebookContainer) {{\n",
       "    x.observe(notebookContainer, {childList: true});\n",
       "}}\n",
       "\n",
       "// Listen for the clearing of the current output cell\n",
       "var outputEl = gd.closest('.output');\n",
       "if (outputEl) {{\n",
       "    x.observe(outputEl, {childList: true});\n",
       "}}\n",
       "\n",
       "                        })                };                });            </script>        </div>"
      ]
     },
     "metadata": {},
     "output_type": "display_data"
    }
   ],
   "source": [
    "df.iplot(kind='scatter',x='A',y='B',mode='markers',size=10)"
   ]
  },
  {
   "cell_type": "markdown",
   "metadata": {},
   "source": [
    "## Bar Plots"
   ]
  },
  {
   "cell_type": "code",
   "execution_count": 12,
   "metadata": {},
   "outputs": [
    {
     "data": {
      "application/vnd.plotly.v1+json": {
       "config": {
        "linkText": "Export to plot.ly",
        "plotlyServerURL": "https://plot.ly",
        "showLink": true
       },
       "data": [
        {
         "marker": {
          "color": "rgba(255, 153, 51, 0.6)",
          "line": {
           "color": "rgba(255, 153, 51, 1.0)",
           "width": 1
          }
         },
         "name": "Values",
         "orientation": "v",
         "text": "",
         "type": "bar",
         "x": [
          "A",
          "B",
          "C"
         ],
         "y": [
          32,
          43,
          50
         ]
        }
       ],
       "layout": {
        "legend": {
         "bgcolor": "#F5F6F9",
         "font": {
          "color": "#4D5663"
         }
        },
        "paper_bgcolor": "#F5F6F9",
        "plot_bgcolor": "#F5F6F9",
        "template": {
         "data": {
          "bar": [
           {
            "error_x": {
             "color": "#2a3f5f"
            },
            "error_y": {
             "color": "#2a3f5f"
            },
            "marker": {
             "line": {
              "color": "#E5ECF6",
              "width": 0.5
             },
             "pattern": {
              "fillmode": "overlay",
              "size": 10,
              "solidity": 0.2
             }
            },
            "type": "bar"
           }
          ],
          "barpolar": [
           {
            "marker": {
             "line": {
              "color": "#E5ECF6",
              "width": 0.5
             },
             "pattern": {
              "fillmode": "overlay",
              "size": 10,
              "solidity": 0.2
             }
            },
            "type": "barpolar"
           }
          ],
          "carpet": [
           {
            "aaxis": {
             "endlinecolor": "#2a3f5f",
             "gridcolor": "white",
             "linecolor": "white",
             "minorgridcolor": "white",
             "startlinecolor": "#2a3f5f"
            },
            "baxis": {
             "endlinecolor": "#2a3f5f",
             "gridcolor": "white",
             "linecolor": "white",
             "minorgridcolor": "white",
             "startlinecolor": "#2a3f5f"
            },
            "type": "carpet"
           }
          ],
          "choropleth": [
           {
            "colorbar": {
             "outlinewidth": 0,
             "ticks": ""
            },
            "type": "choropleth"
           }
          ],
          "contour": [
           {
            "colorbar": {
             "outlinewidth": 0,
             "ticks": ""
            },
            "colorscale": [
             [
              0,
              "#0d0887"
             ],
             [
              0.1111111111111111,
              "#46039f"
             ],
             [
              0.2222222222222222,
              "#7201a8"
             ],
             [
              0.3333333333333333,
              "#9c179e"
             ],
             [
              0.4444444444444444,
              "#bd3786"
             ],
             [
              0.5555555555555556,
              "#d8576b"
             ],
             [
              0.6666666666666666,
              "#ed7953"
             ],
             [
              0.7777777777777778,
              "#fb9f3a"
             ],
             [
              0.8888888888888888,
              "#fdca26"
             ],
             [
              1,
              "#f0f921"
             ]
            ],
            "type": "contour"
           }
          ],
          "contourcarpet": [
           {
            "colorbar": {
             "outlinewidth": 0,
             "ticks": ""
            },
            "type": "contourcarpet"
           }
          ],
          "heatmap": [
           {
            "colorbar": {
             "outlinewidth": 0,
             "ticks": ""
            },
            "colorscale": [
             [
              0,
              "#0d0887"
             ],
             [
              0.1111111111111111,
              "#46039f"
             ],
             [
              0.2222222222222222,
              "#7201a8"
             ],
             [
              0.3333333333333333,
              "#9c179e"
             ],
             [
              0.4444444444444444,
              "#bd3786"
             ],
             [
              0.5555555555555556,
              "#d8576b"
             ],
             [
              0.6666666666666666,
              "#ed7953"
             ],
             [
              0.7777777777777778,
              "#fb9f3a"
             ],
             [
              0.8888888888888888,
              "#fdca26"
             ],
             [
              1,
              "#f0f921"
             ]
            ],
            "type": "heatmap"
           }
          ],
          "heatmapgl": [
           {
            "colorbar": {
             "outlinewidth": 0,
             "ticks": ""
            },
            "colorscale": [
             [
              0,
              "#0d0887"
             ],
             [
              0.1111111111111111,
              "#46039f"
             ],
             [
              0.2222222222222222,
              "#7201a8"
             ],
             [
              0.3333333333333333,
              "#9c179e"
             ],
             [
              0.4444444444444444,
              "#bd3786"
             ],
             [
              0.5555555555555556,
              "#d8576b"
             ],
             [
              0.6666666666666666,
              "#ed7953"
             ],
             [
              0.7777777777777778,
              "#fb9f3a"
             ],
             [
              0.8888888888888888,
              "#fdca26"
             ],
             [
              1,
              "#f0f921"
             ]
            ],
            "type": "heatmapgl"
           }
          ],
          "histogram": [
           {
            "marker": {
             "pattern": {
              "fillmode": "overlay",
              "size": 10,
              "solidity": 0.2
             }
            },
            "type": "histogram"
           }
          ],
          "histogram2d": [
           {
            "colorbar": {
             "outlinewidth": 0,
             "ticks": ""
            },
            "colorscale": [
             [
              0,
              "#0d0887"
             ],
             [
              0.1111111111111111,
              "#46039f"
             ],
             [
              0.2222222222222222,
              "#7201a8"
             ],
             [
              0.3333333333333333,
              "#9c179e"
             ],
             [
              0.4444444444444444,
              "#bd3786"
             ],
             [
              0.5555555555555556,
              "#d8576b"
             ],
             [
              0.6666666666666666,
              "#ed7953"
             ],
             [
              0.7777777777777778,
              "#fb9f3a"
             ],
             [
              0.8888888888888888,
              "#fdca26"
             ],
             [
              1,
              "#f0f921"
             ]
            ],
            "type": "histogram2d"
           }
          ],
          "histogram2dcontour": [
           {
            "colorbar": {
             "outlinewidth": 0,
             "ticks": ""
            },
            "colorscale": [
             [
              0,
              "#0d0887"
             ],
             [
              0.1111111111111111,
              "#46039f"
             ],
             [
              0.2222222222222222,
              "#7201a8"
             ],
             [
              0.3333333333333333,
              "#9c179e"
             ],
             [
              0.4444444444444444,
              "#bd3786"
             ],
             [
              0.5555555555555556,
              "#d8576b"
             ],
             [
              0.6666666666666666,
              "#ed7953"
             ],
             [
              0.7777777777777778,
              "#fb9f3a"
             ],
             [
              0.8888888888888888,
              "#fdca26"
             ],
             [
              1,
              "#f0f921"
             ]
            ],
            "type": "histogram2dcontour"
           }
          ],
          "mesh3d": [
           {
            "colorbar": {
             "outlinewidth": 0,
             "ticks": ""
            },
            "type": "mesh3d"
           }
          ],
          "parcoords": [
           {
            "line": {
             "colorbar": {
              "outlinewidth": 0,
              "ticks": ""
             }
            },
            "type": "parcoords"
           }
          ],
          "pie": [
           {
            "automargin": true,
            "type": "pie"
           }
          ],
          "scatter": [
           {
            "fillpattern": {
             "fillmode": "overlay",
             "size": 10,
             "solidity": 0.2
            },
            "type": "scatter"
           }
          ],
          "scatter3d": [
           {
            "line": {
             "colorbar": {
              "outlinewidth": 0,
              "ticks": ""
             }
            },
            "marker": {
             "colorbar": {
              "outlinewidth": 0,
              "ticks": ""
             }
            },
            "type": "scatter3d"
           }
          ],
          "scattercarpet": [
           {
            "marker": {
             "colorbar": {
              "outlinewidth": 0,
              "ticks": ""
             }
            },
            "type": "scattercarpet"
           }
          ],
          "scattergeo": [
           {
            "marker": {
             "colorbar": {
              "outlinewidth": 0,
              "ticks": ""
             }
            },
            "type": "scattergeo"
           }
          ],
          "scattergl": [
           {
            "marker": {
             "colorbar": {
              "outlinewidth": 0,
              "ticks": ""
             }
            },
            "type": "scattergl"
           }
          ],
          "scattermapbox": [
           {
            "marker": {
             "colorbar": {
              "outlinewidth": 0,
              "ticks": ""
             }
            },
            "type": "scattermapbox"
           }
          ],
          "scatterpolar": [
           {
            "marker": {
             "colorbar": {
              "outlinewidth": 0,
              "ticks": ""
             }
            },
            "type": "scatterpolar"
           }
          ],
          "scatterpolargl": [
           {
            "marker": {
             "colorbar": {
              "outlinewidth": 0,
              "ticks": ""
             }
            },
            "type": "scatterpolargl"
           }
          ],
          "scatterternary": [
           {
            "marker": {
             "colorbar": {
              "outlinewidth": 0,
              "ticks": ""
             }
            },
            "type": "scatterternary"
           }
          ],
          "surface": [
           {
            "colorbar": {
             "outlinewidth": 0,
             "ticks": ""
            },
            "colorscale": [
             [
              0,
              "#0d0887"
             ],
             [
              0.1111111111111111,
              "#46039f"
             ],
             [
              0.2222222222222222,
              "#7201a8"
             ],
             [
              0.3333333333333333,
              "#9c179e"
             ],
             [
              0.4444444444444444,
              "#bd3786"
             ],
             [
              0.5555555555555556,
              "#d8576b"
             ],
             [
              0.6666666666666666,
              "#ed7953"
             ],
             [
              0.7777777777777778,
              "#fb9f3a"
             ],
             [
              0.8888888888888888,
              "#fdca26"
             ],
             [
              1,
              "#f0f921"
             ]
            ],
            "type": "surface"
           }
          ],
          "table": [
           {
            "cells": {
             "fill": {
              "color": "#EBF0F8"
             },
             "line": {
              "color": "white"
             }
            },
            "header": {
             "fill": {
              "color": "#C8D4E3"
             },
             "line": {
              "color": "white"
             }
            },
            "type": "table"
           }
          ]
         },
         "layout": {
          "annotationdefaults": {
           "arrowcolor": "#2a3f5f",
           "arrowhead": 0,
           "arrowwidth": 1
          },
          "autotypenumbers": "strict",
          "coloraxis": {
           "colorbar": {
            "outlinewidth": 0,
            "ticks": ""
           }
          },
          "colorscale": {
           "diverging": [
            [
             0,
             "#8e0152"
            ],
            [
             0.1,
             "#c51b7d"
            ],
            [
             0.2,
             "#de77ae"
            ],
            [
             0.3,
             "#f1b6da"
            ],
            [
             0.4,
             "#fde0ef"
            ],
            [
             0.5,
             "#f7f7f7"
            ],
            [
             0.6,
             "#e6f5d0"
            ],
            [
             0.7,
             "#b8e186"
            ],
            [
             0.8,
             "#7fbc41"
            ],
            [
             0.9,
             "#4d9221"
            ],
            [
             1,
             "#276419"
            ]
           ],
           "sequential": [
            [
             0,
             "#0d0887"
            ],
            [
             0.1111111111111111,
             "#46039f"
            ],
            [
             0.2222222222222222,
             "#7201a8"
            ],
            [
             0.3333333333333333,
             "#9c179e"
            ],
            [
             0.4444444444444444,
             "#bd3786"
            ],
            [
             0.5555555555555556,
             "#d8576b"
            ],
            [
             0.6666666666666666,
             "#ed7953"
            ],
            [
             0.7777777777777778,
             "#fb9f3a"
            ],
            [
             0.8888888888888888,
             "#fdca26"
            ],
            [
             1,
             "#f0f921"
            ]
           ],
           "sequentialminus": [
            [
             0,
             "#0d0887"
            ],
            [
             0.1111111111111111,
             "#46039f"
            ],
            [
             0.2222222222222222,
             "#7201a8"
            ],
            [
             0.3333333333333333,
             "#9c179e"
            ],
            [
             0.4444444444444444,
             "#bd3786"
            ],
            [
             0.5555555555555556,
             "#d8576b"
            ],
            [
             0.6666666666666666,
             "#ed7953"
            ],
            [
             0.7777777777777778,
             "#fb9f3a"
            ],
            [
             0.8888888888888888,
             "#fdca26"
            ],
            [
             1,
             "#f0f921"
            ]
           ]
          },
          "colorway": [
           "#636efa",
           "#EF553B",
           "#00cc96",
           "#ab63fa",
           "#FFA15A",
           "#19d3f3",
           "#FF6692",
           "#B6E880",
           "#FF97FF",
           "#FECB52"
          ],
          "font": {
           "color": "#2a3f5f"
          },
          "geo": {
           "bgcolor": "white",
           "lakecolor": "white",
           "landcolor": "#E5ECF6",
           "showlakes": true,
           "showland": true,
           "subunitcolor": "white"
          },
          "hoverlabel": {
           "align": "left"
          },
          "hovermode": "closest",
          "mapbox": {
           "style": "light"
          },
          "paper_bgcolor": "white",
          "plot_bgcolor": "#E5ECF6",
          "polar": {
           "angularaxis": {
            "gridcolor": "white",
            "linecolor": "white",
            "ticks": ""
           },
           "bgcolor": "#E5ECF6",
           "radialaxis": {
            "gridcolor": "white",
            "linecolor": "white",
            "ticks": ""
           }
          },
          "scene": {
           "xaxis": {
            "backgroundcolor": "#E5ECF6",
            "gridcolor": "white",
            "gridwidth": 2,
            "linecolor": "white",
            "showbackground": true,
            "ticks": "",
            "zerolinecolor": "white"
           },
           "yaxis": {
            "backgroundcolor": "#E5ECF6",
            "gridcolor": "white",
            "gridwidth": 2,
            "linecolor": "white",
            "showbackground": true,
            "ticks": "",
            "zerolinecolor": "white"
           },
           "zaxis": {
            "backgroundcolor": "#E5ECF6",
            "gridcolor": "white",
            "gridwidth": 2,
            "linecolor": "white",
            "showbackground": true,
            "ticks": "",
            "zerolinecolor": "white"
           }
          },
          "shapedefaults": {
           "line": {
            "color": "#2a3f5f"
           }
          },
          "ternary": {
           "aaxis": {
            "gridcolor": "white",
            "linecolor": "white",
            "ticks": ""
           },
           "baxis": {
            "gridcolor": "white",
            "linecolor": "white",
            "ticks": ""
           },
           "bgcolor": "#E5ECF6",
           "caxis": {
            "gridcolor": "white",
            "linecolor": "white",
            "ticks": ""
           }
          },
          "title": {
           "x": 0.05
          },
          "xaxis": {
           "automargin": true,
           "gridcolor": "white",
           "linecolor": "white",
           "ticks": "",
           "title": {
            "standoff": 15
           },
           "zerolinecolor": "white",
           "zerolinewidth": 2
          },
          "yaxis": {
           "automargin": true,
           "gridcolor": "white",
           "linecolor": "white",
           "ticks": "",
           "title": {
            "standoff": 15
           },
           "zerolinecolor": "white",
           "zerolinewidth": 2
          }
         }
        },
        "title": {
         "font": {
          "color": "#4D5663"
         }
        },
        "xaxis": {
         "gridcolor": "#E1E5ED",
         "showgrid": true,
         "tickfont": {
          "color": "#4D5663"
         },
         "title": {
          "font": {
           "color": "#4D5663"
          },
          "text": ""
         },
         "zerolinecolor": "#E1E5ED"
        },
        "yaxis": {
         "gridcolor": "#E1E5ED",
         "showgrid": true,
         "tickfont": {
          "color": "#4D5663"
         },
         "title": {
          "font": {
           "color": "#4D5663"
          },
          "text": ""
         },
         "zerolinecolor": "#E1E5ED"
        }
       }
      },
      "text/html": [
       "<div>                            <div id=\"4ecb357e-ed5c-4eda-b22a-c37b7ee3d739\" class=\"plotly-graph-div\" style=\"height:525px; width:100%;\"></div>            <script type=\"text/javascript\">                require([\"plotly\"], function(Plotly) {                    window.PLOTLYENV=window.PLOTLYENV || {};\n",
       "                    window.PLOTLYENV.BASE_URL='https://plot.ly';                                    if (document.getElementById(\"4ecb357e-ed5c-4eda-b22a-c37b7ee3d739\")) {                    Plotly.newPlot(                        \"4ecb357e-ed5c-4eda-b22a-c37b7ee3d739\",                        [{\"marker\":{\"color\":\"rgba(255, 153, 51, 0.6)\",\"line\":{\"color\":\"rgba(255, 153, 51, 1.0)\",\"width\":1}},\"name\":\"Values\",\"orientation\":\"v\",\"text\":\"\",\"x\":[\"A\",\"B\",\"C\"],\"y\":[32,43,50],\"type\":\"bar\"}],                        {\"legend\":{\"bgcolor\":\"#F5F6F9\",\"font\":{\"color\":\"#4D5663\"}},\"paper_bgcolor\":\"#F5F6F9\",\"plot_bgcolor\":\"#F5F6F9\",\"template\":{\"data\":{\"barpolar\":[{\"marker\":{\"line\":{\"color\":\"#E5ECF6\",\"width\":0.5},\"pattern\":{\"fillmode\":\"overlay\",\"size\":10,\"solidity\":0.2}},\"type\":\"barpolar\"}],\"bar\":[{\"error_x\":{\"color\":\"#2a3f5f\"},\"error_y\":{\"color\":\"#2a3f5f\"},\"marker\":{\"line\":{\"color\":\"#E5ECF6\",\"width\":0.5},\"pattern\":{\"fillmode\":\"overlay\",\"size\":10,\"solidity\":0.2}},\"type\":\"bar\"}],\"carpet\":[{\"aaxis\":{\"endlinecolor\":\"#2a3f5f\",\"gridcolor\":\"white\",\"linecolor\":\"white\",\"minorgridcolor\":\"white\",\"startlinecolor\":\"#2a3f5f\"},\"baxis\":{\"endlinecolor\":\"#2a3f5f\",\"gridcolor\":\"white\",\"linecolor\":\"white\",\"minorgridcolor\":\"white\",\"startlinecolor\":\"#2a3f5f\"},\"type\":\"carpet\"}],\"choropleth\":[{\"colorbar\":{\"outlinewidth\":0,\"ticks\":\"\"},\"type\":\"choropleth\"}],\"contourcarpet\":[{\"colorbar\":{\"outlinewidth\":0,\"ticks\":\"\"},\"type\":\"contourcarpet\"}],\"contour\":[{\"colorbar\":{\"outlinewidth\":0,\"ticks\":\"\"},\"colorscale\":[[0.0,\"#0d0887\"],[0.1111111111111111,\"#46039f\"],[0.2222222222222222,\"#7201a8\"],[0.3333333333333333,\"#9c179e\"],[0.4444444444444444,\"#bd3786\"],[0.5555555555555556,\"#d8576b\"],[0.6666666666666666,\"#ed7953\"],[0.7777777777777778,\"#fb9f3a\"],[0.8888888888888888,\"#fdca26\"],[1.0,\"#f0f921\"]],\"type\":\"contour\"}],\"heatmapgl\":[{\"colorbar\":{\"outlinewidth\":0,\"ticks\":\"\"},\"colorscale\":[[0.0,\"#0d0887\"],[0.1111111111111111,\"#46039f\"],[0.2222222222222222,\"#7201a8\"],[0.3333333333333333,\"#9c179e\"],[0.4444444444444444,\"#bd3786\"],[0.5555555555555556,\"#d8576b\"],[0.6666666666666666,\"#ed7953\"],[0.7777777777777778,\"#fb9f3a\"],[0.8888888888888888,\"#fdca26\"],[1.0,\"#f0f921\"]],\"type\":\"heatmapgl\"}],\"heatmap\":[{\"colorbar\":{\"outlinewidth\":0,\"ticks\":\"\"},\"colorscale\":[[0.0,\"#0d0887\"],[0.1111111111111111,\"#46039f\"],[0.2222222222222222,\"#7201a8\"],[0.3333333333333333,\"#9c179e\"],[0.4444444444444444,\"#bd3786\"],[0.5555555555555556,\"#d8576b\"],[0.6666666666666666,\"#ed7953\"],[0.7777777777777778,\"#fb9f3a\"],[0.8888888888888888,\"#fdca26\"],[1.0,\"#f0f921\"]],\"type\":\"heatmap\"}],\"histogram2dcontour\":[{\"colorbar\":{\"outlinewidth\":0,\"ticks\":\"\"},\"colorscale\":[[0.0,\"#0d0887\"],[0.1111111111111111,\"#46039f\"],[0.2222222222222222,\"#7201a8\"],[0.3333333333333333,\"#9c179e\"],[0.4444444444444444,\"#bd3786\"],[0.5555555555555556,\"#d8576b\"],[0.6666666666666666,\"#ed7953\"],[0.7777777777777778,\"#fb9f3a\"],[0.8888888888888888,\"#fdca26\"],[1.0,\"#f0f921\"]],\"type\":\"histogram2dcontour\"}],\"histogram2d\":[{\"colorbar\":{\"outlinewidth\":0,\"ticks\":\"\"},\"colorscale\":[[0.0,\"#0d0887\"],[0.1111111111111111,\"#46039f\"],[0.2222222222222222,\"#7201a8\"],[0.3333333333333333,\"#9c179e\"],[0.4444444444444444,\"#bd3786\"],[0.5555555555555556,\"#d8576b\"],[0.6666666666666666,\"#ed7953\"],[0.7777777777777778,\"#fb9f3a\"],[0.8888888888888888,\"#fdca26\"],[1.0,\"#f0f921\"]],\"type\":\"histogram2d\"}],\"histogram\":[{\"marker\":{\"pattern\":{\"fillmode\":\"overlay\",\"size\":10,\"solidity\":0.2}},\"type\":\"histogram\"}],\"mesh3d\":[{\"colorbar\":{\"outlinewidth\":0,\"ticks\":\"\"},\"type\":\"mesh3d\"}],\"parcoords\":[{\"line\":{\"colorbar\":{\"outlinewidth\":0,\"ticks\":\"\"}},\"type\":\"parcoords\"}],\"pie\":[{\"automargin\":true,\"type\":\"pie\"}],\"scatter3d\":[{\"line\":{\"colorbar\":{\"outlinewidth\":0,\"ticks\":\"\"}},\"marker\":{\"colorbar\":{\"outlinewidth\":0,\"ticks\":\"\"}},\"type\":\"scatter3d\"}],\"scattercarpet\":[{\"marker\":{\"colorbar\":{\"outlinewidth\":0,\"ticks\":\"\"}},\"type\":\"scattercarpet\"}],\"scattergeo\":[{\"marker\":{\"colorbar\":{\"outlinewidth\":0,\"ticks\":\"\"}},\"type\":\"scattergeo\"}],\"scattergl\":[{\"marker\":{\"colorbar\":{\"outlinewidth\":0,\"ticks\":\"\"}},\"type\":\"scattergl\"}],\"scattermapbox\":[{\"marker\":{\"colorbar\":{\"outlinewidth\":0,\"ticks\":\"\"}},\"type\":\"scattermapbox\"}],\"scatterpolargl\":[{\"marker\":{\"colorbar\":{\"outlinewidth\":0,\"ticks\":\"\"}},\"type\":\"scatterpolargl\"}],\"scatterpolar\":[{\"marker\":{\"colorbar\":{\"outlinewidth\":0,\"ticks\":\"\"}},\"type\":\"scatterpolar\"}],\"scatter\":[{\"fillpattern\":{\"fillmode\":\"overlay\",\"size\":10,\"solidity\":0.2},\"type\":\"scatter\"}],\"scatterternary\":[{\"marker\":{\"colorbar\":{\"outlinewidth\":0,\"ticks\":\"\"}},\"type\":\"scatterternary\"}],\"surface\":[{\"colorbar\":{\"outlinewidth\":0,\"ticks\":\"\"},\"colorscale\":[[0.0,\"#0d0887\"],[0.1111111111111111,\"#46039f\"],[0.2222222222222222,\"#7201a8\"],[0.3333333333333333,\"#9c179e\"],[0.4444444444444444,\"#bd3786\"],[0.5555555555555556,\"#d8576b\"],[0.6666666666666666,\"#ed7953\"],[0.7777777777777778,\"#fb9f3a\"],[0.8888888888888888,\"#fdca26\"],[1.0,\"#f0f921\"]],\"type\":\"surface\"}],\"table\":[{\"cells\":{\"fill\":{\"color\":\"#EBF0F8\"},\"line\":{\"color\":\"white\"}},\"header\":{\"fill\":{\"color\":\"#C8D4E3\"},\"line\":{\"color\":\"white\"}},\"type\":\"table\"}]},\"layout\":{\"annotationdefaults\":{\"arrowcolor\":\"#2a3f5f\",\"arrowhead\":0,\"arrowwidth\":1},\"autotypenumbers\":\"strict\",\"coloraxis\":{\"colorbar\":{\"outlinewidth\":0,\"ticks\":\"\"}},\"colorscale\":{\"diverging\":[[0,\"#8e0152\"],[0.1,\"#c51b7d\"],[0.2,\"#de77ae\"],[0.3,\"#f1b6da\"],[0.4,\"#fde0ef\"],[0.5,\"#f7f7f7\"],[0.6,\"#e6f5d0\"],[0.7,\"#b8e186\"],[0.8,\"#7fbc41\"],[0.9,\"#4d9221\"],[1,\"#276419\"]],\"sequential\":[[0.0,\"#0d0887\"],[0.1111111111111111,\"#46039f\"],[0.2222222222222222,\"#7201a8\"],[0.3333333333333333,\"#9c179e\"],[0.4444444444444444,\"#bd3786\"],[0.5555555555555556,\"#d8576b\"],[0.6666666666666666,\"#ed7953\"],[0.7777777777777778,\"#fb9f3a\"],[0.8888888888888888,\"#fdca26\"],[1.0,\"#f0f921\"]],\"sequentialminus\":[[0.0,\"#0d0887\"],[0.1111111111111111,\"#46039f\"],[0.2222222222222222,\"#7201a8\"],[0.3333333333333333,\"#9c179e\"],[0.4444444444444444,\"#bd3786\"],[0.5555555555555556,\"#d8576b\"],[0.6666666666666666,\"#ed7953\"],[0.7777777777777778,\"#fb9f3a\"],[0.8888888888888888,\"#fdca26\"],[1.0,\"#f0f921\"]]},\"colorway\":[\"#636efa\",\"#EF553B\",\"#00cc96\",\"#ab63fa\",\"#FFA15A\",\"#19d3f3\",\"#FF6692\",\"#B6E880\",\"#FF97FF\",\"#FECB52\"],\"font\":{\"color\":\"#2a3f5f\"},\"geo\":{\"bgcolor\":\"white\",\"lakecolor\":\"white\",\"landcolor\":\"#E5ECF6\",\"showlakes\":true,\"showland\":true,\"subunitcolor\":\"white\"},\"hoverlabel\":{\"align\":\"left\"},\"hovermode\":\"closest\",\"mapbox\":{\"style\":\"light\"},\"paper_bgcolor\":\"white\",\"plot_bgcolor\":\"#E5ECF6\",\"polar\":{\"angularaxis\":{\"gridcolor\":\"white\",\"linecolor\":\"white\",\"ticks\":\"\"},\"bgcolor\":\"#E5ECF6\",\"radialaxis\":{\"gridcolor\":\"white\",\"linecolor\":\"white\",\"ticks\":\"\"}},\"scene\":{\"xaxis\":{\"backgroundcolor\":\"#E5ECF6\",\"gridcolor\":\"white\",\"gridwidth\":2,\"linecolor\":\"white\",\"showbackground\":true,\"ticks\":\"\",\"zerolinecolor\":\"white\"},\"yaxis\":{\"backgroundcolor\":\"#E5ECF6\",\"gridcolor\":\"white\",\"gridwidth\":2,\"linecolor\":\"white\",\"showbackground\":true,\"ticks\":\"\",\"zerolinecolor\":\"white\"},\"zaxis\":{\"backgroundcolor\":\"#E5ECF6\",\"gridcolor\":\"white\",\"gridwidth\":2,\"linecolor\":\"white\",\"showbackground\":true,\"ticks\":\"\",\"zerolinecolor\":\"white\"}},\"shapedefaults\":{\"line\":{\"color\":\"#2a3f5f\"}},\"ternary\":{\"aaxis\":{\"gridcolor\":\"white\",\"linecolor\":\"white\",\"ticks\":\"\"},\"baxis\":{\"gridcolor\":\"white\",\"linecolor\":\"white\",\"ticks\":\"\"},\"bgcolor\":\"#E5ECF6\",\"caxis\":{\"gridcolor\":\"white\",\"linecolor\":\"white\",\"ticks\":\"\"}},\"title\":{\"x\":0.05},\"xaxis\":{\"automargin\":true,\"gridcolor\":\"white\",\"linecolor\":\"white\",\"ticks\":\"\",\"title\":{\"standoff\":15},\"zerolinecolor\":\"white\",\"zerolinewidth\":2},\"yaxis\":{\"automargin\":true,\"gridcolor\":\"white\",\"linecolor\":\"white\",\"ticks\":\"\",\"title\":{\"standoff\":15},\"zerolinecolor\":\"white\",\"zerolinewidth\":2}}},\"title\":{\"font\":{\"color\":\"#4D5663\"}},\"xaxis\":{\"gridcolor\":\"#E1E5ED\",\"showgrid\":true,\"tickfont\":{\"color\":\"#4D5663\"},\"title\":{\"font\":{\"color\":\"#4D5663\"},\"text\":\"\"},\"zerolinecolor\":\"#E1E5ED\"},\"yaxis\":{\"gridcolor\":\"#E1E5ED\",\"showgrid\":true,\"tickfont\":{\"color\":\"#4D5663\"},\"title\":{\"font\":{\"color\":\"#4D5663\"},\"text\":\"\"},\"zerolinecolor\":\"#E1E5ED\"}},                        {\"showLink\": true, \"linkText\": \"Export to plot.ly\", \"plotlyServerURL\": \"https://plot.ly\", \"responsive\": true}                    ).then(function(){\n",
       "                            \n",
       "var gd = document.getElementById('4ecb357e-ed5c-4eda-b22a-c37b7ee3d739');\n",
       "var x = new MutationObserver(function (mutations, observer) {{\n",
       "        var display = window.getComputedStyle(gd).display;\n",
       "        if (!display || display === 'none') {{\n",
       "            console.log([gd, 'removed!']);\n",
       "            Plotly.purge(gd);\n",
       "            observer.disconnect();\n",
       "        }}\n",
       "}});\n",
       "\n",
       "// Listen for the removal of the full notebook cells\n",
       "var notebookContainer = gd.closest('#notebook-container');\n",
       "if (notebookContainer) {{\n",
       "    x.observe(notebookContainer, {childList: true});\n",
       "}}\n",
       "\n",
       "// Listen for the clearing of the current output cell\n",
       "var outputEl = gd.closest('.output');\n",
       "if (outputEl) {{\n",
       "    x.observe(outputEl, {childList: true});\n",
       "}}\n",
       "\n",
       "                        })                };                });            </script>        </div>"
      ]
     },
     "metadata": {},
     "output_type": "display_data"
    }
   ],
   "source": [
    "df2.iplot(kind='bar',x='Category',y='Values')"
   ]
  },
  {
   "cell_type": "code",
   "execution_count": 13,
   "metadata": {},
   "outputs": [
    {
     "data": {
      "application/vnd.plotly.v1+json": {
       "config": {
        "linkText": "Export to plot.ly",
        "plotlyServerURL": "https://plot.ly",
        "showLink": true
       },
       "data": [
        {
         "marker": {
          "color": "rgba(255, 153, 51, 0.6)",
          "line": {
           "color": "rgba(255, 153, 51, 1.0)",
           "width": 1
          }
         },
         "name": "None",
         "orientation": "v",
         "text": "",
         "type": "bar",
         "x": [
          "A",
          "B",
          "C",
          "D"
         ],
         "y": [
          100,
          100,
          100,
          100
         ]
        }
       ],
       "layout": {
        "legend": {
         "bgcolor": "#F5F6F9",
         "font": {
          "color": "#4D5663"
         }
        },
        "paper_bgcolor": "#F5F6F9",
        "plot_bgcolor": "#F5F6F9",
        "template": {
         "data": {
          "bar": [
           {
            "error_x": {
             "color": "#2a3f5f"
            },
            "error_y": {
             "color": "#2a3f5f"
            },
            "marker": {
             "line": {
              "color": "#E5ECF6",
              "width": 0.5
             },
             "pattern": {
              "fillmode": "overlay",
              "size": 10,
              "solidity": 0.2
             }
            },
            "type": "bar"
           }
          ],
          "barpolar": [
           {
            "marker": {
             "line": {
              "color": "#E5ECF6",
              "width": 0.5
             },
             "pattern": {
              "fillmode": "overlay",
              "size": 10,
              "solidity": 0.2
             }
            },
            "type": "barpolar"
           }
          ],
          "carpet": [
           {
            "aaxis": {
             "endlinecolor": "#2a3f5f",
             "gridcolor": "white",
             "linecolor": "white",
             "minorgridcolor": "white",
             "startlinecolor": "#2a3f5f"
            },
            "baxis": {
             "endlinecolor": "#2a3f5f",
             "gridcolor": "white",
             "linecolor": "white",
             "minorgridcolor": "white",
             "startlinecolor": "#2a3f5f"
            },
            "type": "carpet"
           }
          ],
          "choropleth": [
           {
            "colorbar": {
             "outlinewidth": 0,
             "ticks": ""
            },
            "type": "choropleth"
           }
          ],
          "contour": [
           {
            "colorbar": {
             "outlinewidth": 0,
             "ticks": ""
            },
            "colorscale": [
             [
              0,
              "#0d0887"
             ],
             [
              0.1111111111111111,
              "#46039f"
             ],
             [
              0.2222222222222222,
              "#7201a8"
             ],
             [
              0.3333333333333333,
              "#9c179e"
             ],
             [
              0.4444444444444444,
              "#bd3786"
             ],
             [
              0.5555555555555556,
              "#d8576b"
             ],
             [
              0.6666666666666666,
              "#ed7953"
             ],
             [
              0.7777777777777778,
              "#fb9f3a"
             ],
             [
              0.8888888888888888,
              "#fdca26"
             ],
             [
              1,
              "#f0f921"
             ]
            ],
            "type": "contour"
           }
          ],
          "contourcarpet": [
           {
            "colorbar": {
             "outlinewidth": 0,
             "ticks": ""
            },
            "type": "contourcarpet"
           }
          ],
          "heatmap": [
           {
            "colorbar": {
             "outlinewidth": 0,
             "ticks": ""
            },
            "colorscale": [
             [
              0,
              "#0d0887"
             ],
             [
              0.1111111111111111,
              "#46039f"
             ],
             [
              0.2222222222222222,
              "#7201a8"
             ],
             [
              0.3333333333333333,
              "#9c179e"
             ],
             [
              0.4444444444444444,
              "#bd3786"
             ],
             [
              0.5555555555555556,
              "#d8576b"
             ],
             [
              0.6666666666666666,
              "#ed7953"
             ],
             [
              0.7777777777777778,
              "#fb9f3a"
             ],
             [
              0.8888888888888888,
              "#fdca26"
             ],
             [
              1,
              "#f0f921"
             ]
            ],
            "type": "heatmap"
           }
          ],
          "heatmapgl": [
           {
            "colorbar": {
             "outlinewidth": 0,
             "ticks": ""
            },
            "colorscale": [
             [
              0,
              "#0d0887"
             ],
             [
              0.1111111111111111,
              "#46039f"
             ],
             [
              0.2222222222222222,
              "#7201a8"
             ],
             [
              0.3333333333333333,
              "#9c179e"
             ],
             [
              0.4444444444444444,
              "#bd3786"
             ],
             [
              0.5555555555555556,
              "#d8576b"
             ],
             [
              0.6666666666666666,
              "#ed7953"
             ],
             [
              0.7777777777777778,
              "#fb9f3a"
             ],
             [
              0.8888888888888888,
              "#fdca26"
             ],
             [
              1,
              "#f0f921"
             ]
            ],
            "type": "heatmapgl"
           }
          ],
          "histogram": [
           {
            "marker": {
             "pattern": {
              "fillmode": "overlay",
              "size": 10,
              "solidity": 0.2
             }
            },
            "type": "histogram"
           }
          ],
          "histogram2d": [
           {
            "colorbar": {
             "outlinewidth": 0,
             "ticks": ""
            },
            "colorscale": [
             [
              0,
              "#0d0887"
             ],
             [
              0.1111111111111111,
              "#46039f"
             ],
             [
              0.2222222222222222,
              "#7201a8"
             ],
             [
              0.3333333333333333,
              "#9c179e"
             ],
             [
              0.4444444444444444,
              "#bd3786"
             ],
             [
              0.5555555555555556,
              "#d8576b"
             ],
             [
              0.6666666666666666,
              "#ed7953"
             ],
             [
              0.7777777777777778,
              "#fb9f3a"
             ],
             [
              0.8888888888888888,
              "#fdca26"
             ],
             [
              1,
              "#f0f921"
             ]
            ],
            "type": "histogram2d"
           }
          ],
          "histogram2dcontour": [
           {
            "colorbar": {
             "outlinewidth": 0,
             "ticks": ""
            },
            "colorscale": [
             [
              0,
              "#0d0887"
             ],
             [
              0.1111111111111111,
              "#46039f"
             ],
             [
              0.2222222222222222,
              "#7201a8"
             ],
             [
              0.3333333333333333,
              "#9c179e"
             ],
             [
              0.4444444444444444,
              "#bd3786"
             ],
             [
              0.5555555555555556,
              "#d8576b"
             ],
             [
              0.6666666666666666,
              "#ed7953"
             ],
             [
              0.7777777777777778,
              "#fb9f3a"
             ],
             [
              0.8888888888888888,
              "#fdca26"
             ],
             [
              1,
              "#f0f921"
             ]
            ],
            "type": "histogram2dcontour"
           }
          ],
          "mesh3d": [
           {
            "colorbar": {
             "outlinewidth": 0,
             "ticks": ""
            },
            "type": "mesh3d"
           }
          ],
          "parcoords": [
           {
            "line": {
             "colorbar": {
              "outlinewidth": 0,
              "ticks": ""
             }
            },
            "type": "parcoords"
           }
          ],
          "pie": [
           {
            "automargin": true,
            "type": "pie"
           }
          ],
          "scatter": [
           {
            "fillpattern": {
             "fillmode": "overlay",
             "size": 10,
             "solidity": 0.2
            },
            "type": "scatter"
           }
          ],
          "scatter3d": [
           {
            "line": {
             "colorbar": {
              "outlinewidth": 0,
              "ticks": ""
             }
            },
            "marker": {
             "colorbar": {
              "outlinewidth": 0,
              "ticks": ""
             }
            },
            "type": "scatter3d"
           }
          ],
          "scattercarpet": [
           {
            "marker": {
             "colorbar": {
              "outlinewidth": 0,
              "ticks": ""
             }
            },
            "type": "scattercarpet"
           }
          ],
          "scattergeo": [
           {
            "marker": {
             "colorbar": {
              "outlinewidth": 0,
              "ticks": ""
             }
            },
            "type": "scattergeo"
           }
          ],
          "scattergl": [
           {
            "marker": {
             "colorbar": {
              "outlinewidth": 0,
              "ticks": ""
             }
            },
            "type": "scattergl"
           }
          ],
          "scattermapbox": [
           {
            "marker": {
             "colorbar": {
              "outlinewidth": 0,
              "ticks": ""
             }
            },
            "type": "scattermapbox"
           }
          ],
          "scatterpolar": [
           {
            "marker": {
             "colorbar": {
              "outlinewidth": 0,
              "ticks": ""
             }
            },
            "type": "scatterpolar"
           }
          ],
          "scatterpolargl": [
           {
            "marker": {
             "colorbar": {
              "outlinewidth": 0,
              "ticks": ""
             }
            },
            "type": "scatterpolargl"
           }
          ],
          "scatterternary": [
           {
            "marker": {
             "colorbar": {
              "outlinewidth": 0,
              "ticks": ""
             }
            },
            "type": "scatterternary"
           }
          ],
          "surface": [
           {
            "colorbar": {
             "outlinewidth": 0,
             "ticks": ""
            },
            "colorscale": [
             [
              0,
              "#0d0887"
             ],
             [
              0.1111111111111111,
              "#46039f"
             ],
             [
              0.2222222222222222,
              "#7201a8"
             ],
             [
              0.3333333333333333,
              "#9c179e"
             ],
             [
              0.4444444444444444,
              "#bd3786"
             ],
             [
              0.5555555555555556,
              "#d8576b"
             ],
             [
              0.6666666666666666,
              "#ed7953"
             ],
             [
              0.7777777777777778,
              "#fb9f3a"
             ],
             [
              0.8888888888888888,
              "#fdca26"
             ],
             [
              1,
              "#f0f921"
             ]
            ],
            "type": "surface"
           }
          ],
          "table": [
           {
            "cells": {
             "fill": {
              "color": "#EBF0F8"
             },
             "line": {
              "color": "white"
             }
            },
            "header": {
             "fill": {
              "color": "#C8D4E3"
             },
             "line": {
              "color": "white"
             }
            },
            "type": "table"
           }
          ]
         },
         "layout": {
          "annotationdefaults": {
           "arrowcolor": "#2a3f5f",
           "arrowhead": 0,
           "arrowwidth": 1
          },
          "autotypenumbers": "strict",
          "coloraxis": {
           "colorbar": {
            "outlinewidth": 0,
            "ticks": ""
           }
          },
          "colorscale": {
           "diverging": [
            [
             0,
             "#8e0152"
            ],
            [
             0.1,
             "#c51b7d"
            ],
            [
             0.2,
             "#de77ae"
            ],
            [
             0.3,
             "#f1b6da"
            ],
            [
             0.4,
             "#fde0ef"
            ],
            [
             0.5,
             "#f7f7f7"
            ],
            [
             0.6,
             "#e6f5d0"
            ],
            [
             0.7,
             "#b8e186"
            ],
            [
             0.8,
             "#7fbc41"
            ],
            [
             0.9,
             "#4d9221"
            ],
            [
             1,
             "#276419"
            ]
           ],
           "sequential": [
            [
             0,
             "#0d0887"
            ],
            [
             0.1111111111111111,
             "#46039f"
            ],
            [
             0.2222222222222222,
             "#7201a8"
            ],
            [
             0.3333333333333333,
             "#9c179e"
            ],
            [
             0.4444444444444444,
             "#bd3786"
            ],
            [
             0.5555555555555556,
             "#d8576b"
            ],
            [
             0.6666666666666666,
             "#ed7953"
            ],
            [
             0.7777777777777778,
             "#fb9f3a"
            ],
            [
             0.8888888888888888,
             "#fdca26"
            ],
            [
             1,
             "#f0f921"
            ]
           ],
           "sequentialminus": [
            [
             0,
             "#0d0887"
            ],
            [
             0.1111111111111111,
             "#46039f"
            ],
            [
             0.2222222222222222,
             "#7201a8"
            ],
            [
             0.3333333333333333,
             "#9c179e"
            ],
            [
             0.4444444444444444,
             "#bd3786"
            ],
            [
             0.5555555555555556,
             "#d8576b"
            ],
            [
             0.6666666666666666,
             "#ed7953"
            ],
            [
             0.7777777777777778,
             "#fb9f3a"
            ],
            [
             0.8888888888888888,
             "#fdca26"
            ],
            [
             1,
             "#f0f921"
            ]
           ]
          },
          "colorway": [
           "#636efa",
           "#EF553B",
           "#00cc96",
           "#ab63fa",
           "#FFA15A",
           "#19d3f3",
           "#FF6692",
           "#B6E880",
           "#FF97FF",
           "#FECB52"
          ],
          "font": {
           "color": "#2a3f5f"
          },
          "geo": {
           "bgcolor": "white",
           "lakecolor": "white",
           "landcolor": "#E5ECF6",
           "showlakes": true,
           "showland": true,
           "subunitcolor": "white"
          },
          "hoverlabel": {
           "align": "left"
          },
          "hovermode": "closest",
          "mapbox": {
           "style": "light"
          },
          "paper_bgcolor": "white",
          "plot_bgcolor": "#E5ECF6",
          "polar": {
           "angularaxis": {
            "gridcolor": "white",
            "linecolor": "white",
            "ticks": ""
           },
           "bgcolor": "#E5ECF6",
           "radialaxis": {
            "gridcolor": "white",
            "linecolor": "white",
            "ticks": ""
           }
          },
          "scene": {
           "xaxis": {
            "backgroundcolor": "#E5ECF6",
            "gridcolor": "white",
            "gridwidth": 2,
            "linecolor": "white",
            "showbackground": true,
            "ticks": "",
            "zerolinecolor": "white"
           },
           "yaxis": {
            "backgroundcolor": "#E5ECF6",
            "gridcolor": "white",
            "gridwidth": 2,
            "linecolor": "white",
            "showbackground": true,
            "ticks": "",
            "zerolinecolor": "white"
           },
           "zaxis": {
            "backgroundcolor": "#E5ECF6",
            "gridcolor": "white",
            "gridwidth": 2,
            "linecolor": "white",
            "showbackground": true,
            "ticks": "",
            "zerolinecolor": "white"
           }
          },
          "shapedefaults": {
           "line": {
            "color": "#2a3f5f"
           }
          },
          "ternary": {
           "aaxis": {
            "gridcolor": "white",
            "linecolor": "white",
            "ticks": ""
           },
           "baxis": {
            "gridcolor": "white",
            "linecolor": "white",
            "ticks": ""
           },
           "bgcolor": "#E5ECF6",
           "caxis": {
            "gridcolor": "white",
            "linecolor": "white",
            "ticks": ""
           }
          },
          "title": {
           "x": 0.05
          },
          "xaxis": {
           "automargin": true,
           "gridcolor": "white",
           "linecolor": "white",
           "ticks": "",
           "title": {
            "standoff": 15
           },
           "zerolinecolor": "white",
           "zerolinewidth": 2
          },
          "yaxis": {
           "automargin": true,
           "gridcolor": "white",
           "linecolor": "white",
           "ticks": "",
           "title": {
            "standoff": 15
           },
           "zerolinecolor": "white",
           "zerolinewidth": 2
          }
         }
        },
        "title": {
         "font": {
          "color": "#4D5663"
         }
        },
        "xaxis": {
         "gridcolor": "#E1E5ED",
         "showgrid": true,
         "tickfont": {
          "color": "#4D5663"
         },
         "title": {
          "font": {
           "color": "#4D5663"
          },
          "text": ""
         },
         "zerolinecolor": "#E1E5ED"
        },
        "yaxis": {
         "gridcolor": "#E1E5ED",
         "showgrid": true,
         "tickfont": {
          "color": "#4D5663"
         },
         "title": {
          "font": {
           "color": "#4D5663"
          },
          "text": ""
         },
         "zerolinecolor": "#E1E5ED"
        }
       }
      },
      "text/html": [
       "<div>                            <div id=\"52b3fcf9-11c3-49ff-ad40-13009532d88f\" class=\"plotly-graph-div\" style=\"height:525px; width:100%;\"></div>            <script type=\"text/javascript\">                require([\"plotly\"], function(Plotly) {                    window.PLOTLYENV=window.PLOTLYENV || {};\n",
       "                    window.PLOTLYENV.BASE_URL='https://plot.ly';                                    if (document.getElementById(\"52b3fcf9-11c3-49ff-ad40-13009532d88f\")) {                    Plotly.newPlot(                        \"52b3fcf9-11c3-49ff-ad40-13009532d88f\",                        [{\"marker\":{\"color\":\"rgba(255, 153, 51, 0.6)\",\"line\":{\"color\":\"rgba(255, 153, 51, 1.0)\",\"width\":1}},\"name\":\"None\",\"orientation\":\"v\",\"text\":\"\",\"x\":[\"A\",\"B\",\"C\",\"D\"],\"y\":[100,100,100,100],\"type\":\"bar\"}],                        {\"legend\":{\"bgcolor\":\"#F5F6F9\",\"font\":{\"color\":\"#4D5663\"}},\"paper_bgcolor\":\"#F5F6F9\",\"plot_bgcolor\":\"#F5F6F9\",\"template\":{\"data\":{\"barpolar\":[{\"marker\":{\"line\":{\"color\":\"#E5ECF6\",\"width\":0.5},\"pattern\":{\"fillmode\":\"overlay\",\"size\":10,\"solidity\":0.2}},\"type\":\"barpolar\"}],\"bar\":[{\"error_x\":{\"color\":\"#2a3f5f\"},\"error_y\":{\"color\":\"#2a3f5f\"},\"marker\":{\"line\":{\"color\":\"#E5ECF6\",\"width\":0.5},\"pattern\":{\"fillmode\":\"overlay\",\"size\":10,\"solidity\":0.2}},\"type\":\"bar\"}],\"carpet\":[{\"aaxis\":{\"endlinecolor\":\"#2a3f5f\",\"gridcolor\":\"white\",\"linecolor\":\"white\",\"minorgridcolor\":\"white\",\"startlinecolor\":\"#2a3f5f\"},\"baxis\":{\"endlinecolor\":\"#2a3f5f\",\"gridcolor\":\"white\",\"linecolor\":\"white\",\"minorgridcolor\":\"white\",\"startlinecolor\":\"#2a3f5f\"},\"type\":\"carpet\"}],\"choropleth\":[{\"colorbar\":{\"outlinewidth\":0,\"ticks\":\"\"},\"type\":\"choropleth\"}],\"contourcarpet\":[{\"colorbar\":{\"outlinewidth\":0,\"ticks\":\"\"},\"type\":\"contourcarpet\"}],\"contour\":[{\"colorbar\":{\"outlinewidth\":0,\"ticks\":\"\"},\"colorscale\":[[0.0,\"#0d0887\"],[0.1111111111111111,\"#46039f\"],[0.2222222222222222,\"#7201a8\"],[0.3333333333333333,\"#9c179e\"],[0.4444444444444444,\"#bd3786\"],[0.5555555555555556,\"#d8576b\"],[0.6666666666666666,\"#ed7953\"],[0.7777777777777778,\"#fb9f3a\"],[0.8888888888888888,\"#fdca26\"],[1.0,\"#f0f921\"]],\"type\":\"contour\"}],\"heatmapgl\":[{\"colorbar\":{\"outlinewidth\":0,\"ticks\":\"\"},\"colorscale\":[[0.0,\"#0d0887\"],[0.1111111111111111,\"#46039f\"],[0.2222222222222222,\"#7201a8\"],[0.3333333333333333,\"#9c179e\"],[0.4444444444444444,\"#bd3786\"],[0.5555555555555556,\"#d8576b\"],[0.6666666666666666,\"#ed7953\"],[0.7777777777777778,\"#fb9f3a\"],[0.8888888888888888,\"#fdca26\"],[1.0,\"#f0f921\"]],\"type\":\"heatmapgl\"}],\"heatmap\":[{\"colorbar\":{\"outlinewidth\":0,\"ticks\":\"\"},\"colorscale\":[[0.0,\"#0d0887\"],[0.1111111111111111,\"#46039f\"],[0.2222222222222222,\"#7201a8\"],[0.3333333333333333,\"#9c179e\"],[0.4444444444444444,\"#bd3786\"],[0.5555555555555556,\"#d8576b\"],[0.6666666666666666,\"#ed7953\"],[0.7777777777777778,\"#fb9f3a\"],[0.8888888888888888,\"#fdca26\"],[1.0,\"#f0f921\"]],\"type\":\"heatmap\"}],\"histogram2dcontour\":[{\"colorbar\":{\"outlinewidth\":0,\"ticks\":\"\"},\"colorscale\":[[0.0,\"#0d0887\"],[0.1111111111111111,\"#46039f\"],[0.2222222222222222,\"#7201a8\"],[0.3333333333333333,\"#9c179e\"],[0.4444444444444444,\"#bd3786\"],[0.5555555555555556,\"#d8576b\"],[0.6666666666666666,\"#ed7953\"],[0.7777777777777778,\"#fb9f3a\"],[0.8888888888888888,\"#fdca26\"],[1.0,\"#f0f921\"]],\"type\":\"histogram2dcontour\"}],\"histogram2d\":[{\"colorbar\":{\"outlinewidth\":0,\"ticks\":\"\"},\"colorscale\":[[0.0,\"#0d0887\"],[0.1111111111111111,\"#46039f\"],[0.2222222222222222,\"#7201a8\"],[0.3333333333333333,\"#9c179e\"],[0.4444444444444444,\"#bd3786\"],[0.5555555555555556,\"#d8576b\"],[0.6666666666666666,\"#ed7953\"],[0.7777777777777778,\"#fb9f3a\"],[0.8888888888888888,\"#fdca26\"],[1.0,\"#f0f921\"]],\"type\":\"histogram2d\"}],\"histogram\":[{\"marker\":{\"pattern\":{\"fillmode\":\"overlay\",\"size\":10,\"solidity\":0.2}},\"type\":\"histogram\"}],\"mesh3d\":[{\"colorbar\":{\"outlinewidth\":0,\"ticks\":\"\"},\"type\":\"mesh3d\"}],\"parcoords\":[{\"line\":{\"colorbar\":{\"outlinewidth\":0,\"ticks\":\"\"}},\"type\":\"parcoords\"}],\"pie\":[{\"automargin\":true,\"type\":\"pie\"}],\"scatter3d\":[{\"line\":{\"colorbar\":{\"outlinewidth\":0,\"ticks\":\"\"}},\"marker\":{\"colorbar\":{\"outlinewidth\":0,\"ticks\":\"\"}},\"type\":\"scatter3d\"}],\"scattercarpet\":[{\"marker\":{\"colorbar\":{\"outlinewidth\":0,\"ticks\":\"\"}},\"type\":\"scattercarpet\"}],\"scattergeo\":[{\"marker\":{\"colorbar\":{\"outlinewidth\":0,\"ticks\":\"\"}},\"type\":\"scattergeo\"}],\"scattergl\":[{\"marker\":{\"colorbar\":{\"outlinewidth\":0,\"ticks\":\"\"}},\"type\":\"scattergl\"}],\"scattermapbox\":[{\"marker\":{\"colorbar\":{\"outlinewidth\":0,\"ticks\":\"\"}},\"type\":\"scattermapbox\"}],\"scatterpolargl\":[{\"marker\":{\"colorbar\":{\"outlinewidth\":0,\"ticks\":\"\"}},\"type\":\"scatterpolargl\"}],\"scatterpolar\":[{\"marker\":{\"colorbar\":{\"outlinewidth\":0,\"ticks\":\"\"}},\"type\":\"scatterpolar\"}],\"scatter\":[{\"fillpattern\":{\"fillmode\":\"overlay\",\"size\":10,\"solidity\":0.2},\"type\":\"scatter\"}],\"scatterternary\":[{\"marker\":{\"colorbar\":{\"outlinewidth\":0,\"ticks\":\"\"}},\"type\":\"scatterternary\"}],\"surface\":[{\"colorbar\":{\"outlinewidth\":0,\"ticks\":\"\"},\"colorscale\":[[0.0,\"#0d0887\"],[0.1111111111111111,\"#46039f\"],[0.2222222222222222,\"#7201a8\"],[0.3333333333333333,\"#9c179e\"],[0.4444444444444444,\"#bd3786\"],[0.5555555555555556,\"#d8576b\"],[0.6666666666666666,\"#ed7953\"],[0.7777777777777778,\"#fb9f3a\"],[0.8888888888888888,\"#fdca26\"],[1.0,\"#f0f921\"]],\"type\":\"surface\"}],\"table\":[{\"cells\":{\"fill\":{\"color\":\"#EBF0F8\"},\"line\":{\"color\":\"white\"}},\"header\":{\"fill\":{\"color\":\"#C8D4E3\"},\"line\":{\"color\":\"white\"}},\"type\":\"table\"}]},\"layout\":{\"annotationdefaults\":{\"arrowcolor\":\"#2a3f5f\",\"arrowhead\":0,\"arrowwidth\":1},\"autotypenumbers\":\"strict\",\"coloraxis\":{\"colorbar\":{\"outlinewidth\":0,\"ticks\":\"\"}},\"colorscale\":{\"diverging\":[[0,\"#8e0152\"],[0.1,\"#c51b7d\"],[0.2,\"#de77ae\"],[0.3,\"#f1b6da\"],[0.4,\"#fde0ef\"],[0.5,\"#f7f7f7\"],[0.6,\"#e6f5d0\"],[0.7,\"#b8e186\"],[0.8,\"#7fbc41\"],[0.9,\"#4d9221\"],[1,\"#276419\"]],\"sequential\":[[0.0,\"#0d0887\"],[0.1111111111111111,\"#46039f\"],[0.2222222222222222,\"#7201a8\"],[0.3333333333333333,\"#9c179e\"],[0.4444444444444444,\"#bd3786\"],[0.5555555555555556,\"#d8576b\"],[0.6666666666666666,\"#ed7953\"],[0.7777777777777778,\"#fb9f3a\"],[0.8888888888888888,\"#fdca26\"],[1.0,\"#f0f921\"]],\"sequentialminus\":[[0.0,\"#0d0887\"],[0.1111111111111111,\"#46039f\"],[0.2222222222222222,\"#7201a8\"],[0.3333333333333333,\"#9c179e\"],[0.4444444444444444,\"#bd3786\"],[0.5555555555555556,\"#d8576b\"],[0.6666666666666666,\"#ed7953\"],[0.7777777777777778,\"#fb9f3a\"],[0.8888888888888888,\"#fdca26\"],[1.0,\"#f0f921\"]]},\"colorway\":[\"#636efa\",\"#EF553B\",\"#00cc96\",\"#ab63fa\",\"#FFA15A\",\"#19d3f3\",\"#FF6692\",\"#B6E880\",\"#FF97FF\",\"#FECB52\"],\"font\":{\"color\":\"#2a3f5f\"},\"geo\":{\"bgcolor\":\"white\",\"lakecolor\":\"white\",\"landcolor\":\"#E5ECF6\",\"showlakes\":true,\"showland\":true,\"subunitcolor\":\"white\"},\"hoverlabel\":{\"align\":\"left\"},\"hovermode\":\"closest\",\"mapbox\":{\"style\":\"light\"},\"paper_bgcolor\":\"white\",\"plot_bgcolor\":\"#E5ECF6\",\"polar\":{\"angularaxis\":{\"gridcolor\":\"white\",\"linecolor\":\"white\",\"ticks\":\"\"},\"bgcolor\":\"#E5ECF6\",\"radialaxis\":{\"gridcolor\":\"white\",\"linecolor\":\"white\",\"ticks\":\"\"}},\"scene\":{\"xaxis\":{\"backgroundcolor\":\"#E5ECF6\",\"gridcolor\":\"white\",\"gridwidth\":2,\"linecolor\":\"white\",\"showbackground\":true,\"ticks\":\"\",\"zerolinecolor\":\"white\"},\"yaxis\":{\"backgroundcolor\":\"#E5ECF6\",\"gridcolor\":\"white\",\"gridwidth\":2,\"linecolor\":\"white\",\"showbackground\":true,\"ticks\":\"\",\"zerolinecolor\":\"white\"},\"zaxis\":{\"backgroundcolor\":\"#E5ECF6\",\"gridcolor\":\"white\",\"gridwidth\":2,\"linecolor\":\"white\",\"showbackground\":true,\"ticks\":\"\",\"zerolinecolor\":\"white\"}},\"shapedefaults\":{\"line\":{\"color\":\"#2a3f5f\"}},\"ternary\":{\"aaxis\":{\"gridcolor\":\"white\",\"linecolor\":\"white\",\"ticks\":\"\"},\"baxis\":{\"gridcolor\":\"white\",\"linecolor\":\"white\",\"ticks\":\"\"},\"bgcolor\":\"#E5ECF6\",\"caxis\":{\"gridcolor\":\"white\",\"linecolor\":\"white\",\"ticks\":\"\"}},\"title\":{\"x\":0.05},\"xaxis\":{\"automargin\":true,\"gridcolor\":\"white\",\"linecolor\":\"white\",\"ticks\":\"\",\"title\":{\"standoff\":15},\"zerolinecolor\":\"white\",\"zerolinewidth\":2},\"yaxis\":{\"automargin\":true,\"gridcolor\":\"white\",\"linecolor\":\"white\",\"ticks\":\"\",\"title\":{\"standoff\":15},\"zerolinecolor\":\"white\",\"zerolinewidth\":2}}},\"title\":{\"font\":{\"color\":\"#4D5663\"}},\"xaxis\":{\"gridcolor\":\"#E1E5ED\",\"showgrid\":true,\"tickfont\":{\"color\":\"#4D5663\"},\"title\":{\"font\":{\"color\":\"#4D5663\"},\"text\":\"\"},\"zerolinecolor\":\"#E1E5ED\"},\"yaxis\":{\"gridcolor\":\"#E1E5ED\",\"showgrid\":true,\"tickfont\":{\"color\":\"#4D5663\"},\"title\":{\"font\":{\"color\":\"#4D5663\"},\"text\":\"\"},\"zerolinecolor\":\"#E1E5ED\"}},                        {\"showLink\": true, \"linkText\": \"Export to plot.ly\", \"plotlyServerURL\": \"https://plot.ly\", \"responsive\": true}                    ).then(function(){\n",
       "                            \n",
       "var gd = document.getElementById('52b3fcf9-11c3-49ff-ad40-13009532d88f');\n",
       "var x = new MutationObserver(function (mutations, observer) {{\n",
       "        var display = window.getComputedStyle(gd).display;\n",
       "        if (!display || display === 'none') {{\n",
       "            console.log([gd, 'removed!']);\n",
       "            Plotly.purge(gd);\n",
       "            observer.disconnect();\n",
       "        }}\n",
       "}});\n",
       "\n",
       "// Listen for the removal of the full notebook cells\n",
       "var notebookContainer = gd.closest('#notebook-container');\n",
       "if (notebookContainer) {{\n",
       "    x.observe(notebookContainer, {childList: true});\n",
       "}}\n",
       "\n",
       "// Listen for the clearing of the current output cell\n",
       "var outputEl = gd.closest('.output');\n",
       "if (outputEl) {{\n",
       "    x.observe(outputEl, {childList: true});\n",
       "}}\n",
       "\n",
       "                        })                };                });            </script>        </div>"
      ]
     },
     "metadata": {},
     "output_type": "display_data"
    }
   ],
   "source": [
    "df.count().iplot(kind='bar')"
   ]
  },
  {
   "cell_type": "markdown",
   "metadata": {},
   "source": [
    "## Boxplots"
   ]
  },
  {
   "cell_type": "code",
   "execution_count": 14,
   "metadata": {},
   "outputs": [
    {
     "data": {
      "application/vnd.plotly.v1+json": {
       "config": {
        "linkText": "Export to plot.ly",
        "plotlyServerURL": "https://plot.ly",
        "showLink": true
       },
       "data": [
        {
         "boxpoints": false,
         "line": {
          "width": 1.3
         },
         "marker": {
          "color": "rgba(255, 153, 51, 1.0)"
         },
         "name": "A",
         "orientation": "v",
         "type": "box",
         "y": [
          -1.5744069188809882,
          0.2919965937061701,
          -0.20987911018127825,
          1.4072243870576893,
          0.5984723796355707,
          -0.2744220558333609,
          0.017729177103530606,
          -1.4785228691304597,
          0.45485788895139434,
          0.7817522785186537,
          0.6158030135086989,
          0.20802408355881027,
          -0.9111899216311535,
          -0.5382498735341864,
          2.2762676193980482,
          -1.3159624487677273,
          -0.06275163823087321,
          -0.4815939833334281,
          0.24651562164010077,
          0.5128628101495492,
          -0.2088905846667024,
          -0.37961744382809437,
          -1.3750740367784493,
          -0.1440449218155529,
          -0.6913576335249373,
          -0.8765044012890313,
          1.5299431347988888,
          0.3492702609917798,
          0.8632771989810265,
          0.2599651123227867,
          -0.7226945310100287,
          -0.5214214959940227,
          -0.6701981378685836,
          -1.6376029981808569,
          -1.1005326319176798,
          -2.0990592385751654,
          0.9648940123270464,
          -0.7199413985460938,
          0.09503131401757643,
          -0.5629431738077807,
          1.0803145448231073,
          0.8972983341827394,
          1.8248328731964814,
          -1.0171487169752407,
          -0.10207657386959489,
          -0.9962484521182952,
          -0.2958514481504522,
          -0.8607863376679893,
          0.2860450974872978,
          -0.9935693485120408,
          -0.39627560768952946,
          0.8951387380632714,
          -1.5007119405734002,
          0.07588767461740342,
          -0.22972784324619358,
          1.1166806807792315,
          -0.6412361428214182,
          1.4433582217204095,
          0.8313925941737207,
          -1.2607458874475315,
          -0.5179577520575765,
          0.2942700620890089,
          1.4727361516699482,
          0.17341433018348343,
          -1.0770753575548573,
          0.10533370002320529,
          0.0793294308116233,
          -1.2209897048108995,
          -0.8474131221067496,
          0.4140503688588217,
          1.7235576738547156,
          0.2866510056446499,
          -1.3814385683659007,
          -0.43750975085760285,
          0.18836090635740865,
          0.665859181474303,
          -0.9483973704483861,
          -0.8046482102273977,
          1.0051984408320216,
          -0.6749142511199132,
          -1.9239795201339824,
          -1.1442081980896393,
          0.48266997736509804,
          0.0975543014512976,
          -0.1984691597006762,
          -0.03426534605026892,
          -0.297829988581982,
          -0.908952261148527,
          -0.640552122171676,
          2.36128954662639,
          -1.0401492611610879,
          -0.666139394408712,
          -1.4197630539022021,
          -0.22321839664823442,
          -0.6253401945309588,
          0.4621300236937175,
          0.4284540858073102,
          -1.411894453558689,
          -0.5203770031024622,
          -0.3419949085418646
         ]
        },
        {
         "boxpoints": false,
         "line": {
          "width": 1.3
         },
         "marker": {
          "color": "rgba(55, 128, 191, 1.0)"
         },
         "name": "B",
         "orientation": "v",
         "type": "box",
         "y": [
          -0.16301927573326747,
          -0.48711484848482545,
          -2.151495874975196,
          -0.654841755684685,
          0.6295959841572122,
          -0.8622360025956758,
          -0.7769629600854723,
          1.141384587800869,
          2.3864706479233844,
          0.9299078566189861,
          0.4555732303265823,
          0.32647238553721564,
          -0.6803360397686434,
          -0.8102760959813967,
          1.4848181818102724,
          0.5291945647751306,
          1.4353440017023873,
          -0.5026056619198886,
          -0.5800213198181711,
          -0.09606149483386926,
          -0.5768704701146251,
          -0.9372294832680503,
          -0.08510356635600864,
          0.37212959201504026,
          -1.362462924687948,
          0.8806989154386949,
          -0.8358694207263032,
          -0.28953059607877285,
          -0.5011078163710999,
          -0.43790828913824986,
          -0.6514598584332857,
          0.6002289489726451,
          0.22186817296233421,
          0.27994648352865514,
          -0.9689803349519742,
          1.1825509508611973,
          0.04780373093205452,
          -2.716968073246881,
          0.6349138266490004,
          0.41478390998119186,
          0.8246493600925106,
          0.4930703351281199,
          0.6487322832414203,
          -0.08336067163389263,
          -1.3049247995275077,
          1.0619952081092054,
          -0.7227073628981311,
          0.5809890622275982,
          1.2272849369420071,
          -1.510539737682553,
          -0.7456146006935016,
          -1.2750149926211962,
          0.20466552604659938,
          0.48741572091628266,
          1.0797839304892964,
          0.2896592763134485,
          -0.6204080623813175,
          0.9488442025282456,
          -0.8011395533914448,
          1.1723009064207326,
          0.6054895171876152,
          0.04816408029720471,
          -0.13535894381818353,
          -0.8965841075311023,
          -1.954615214342892,
          -0.15472804753915848,
          -0.9524201139436,
          -1.5291955641115345,
          1.037853825639349,
          0.1875096616869887,
          -0.5588917015575369,
          0.8044315841413262,
          -0.47554678747052664,
          -0.6213643969232366,
          -0.8184197648045224,
          -0.11121577771197998,
          0.4824724082217693,
          -2.032159511239236,
          0.6878192901007198,
          -0.8075923737337249,
          1.0440508302797218,
          0.1303876927045207,
          -1.980567271026737,
          0.7269021112597615,
          -0.9504440925098565,
          -0.7352991807724102,
          -0.22826571887397049,
          0.4175573994031141,
          0.6884329397963111,
          0.5481622573258714,
          0.6080475289579149,
          1.7843699428922326,
          1.0645184313051146,
          -1.2657980679905936,
          1.2728775711928362,
          -0.6676306193331588,
          -0.9306861770987371,
          1.6149963278104023,
          -1.2152379938641267,
          -0.9470164897283213
         ]
        },
        {
         "boxpoints": false,
         "line": {
          "width": 1.3
         },
         "marker": {
          "color": "rgba(50, 171, 96, 1.0)"
         },
         "name": "C",
         "orientation": "v",
         "type": "box",
         "y": [
          1.3672431823573838,
          -3.1219528916298342,
          0.45664659886304176,
          -0.5756400849623312,
          0.26321086301622215,
          0.20368403916398278,
          -0.5338688747549704,
          -0.46671180155625697,
          -1.2088396445684164,
          0.29701209884441515,
          -0.05975273591374197,
          -0.08357578612941527,
          0.7323963232173264,
          0.30982320403787583,
          1.0189121573601516,
          -0.27744429169188334,
          0.7581448689930282,
          -0.86968309028437,
          -0.009004749293217387,
          -2.407560001627149,
          -0.12923674911093525,
          -1.8144553816112123,
          -1.1058062044135333,
          -0.9974421712966076,
          0.015229785196408977,
          0.8722685262126041,
          -1.2220225498160038,
          0.1993548951630531,
          1.304020957984012,
          0.8051092616191471,
          -0.6153777156233635,
          0.07914329712761964,
          1.5858973639162262,
          0.1303574550605811,
          -0.4274500326254631,
          -0.47367273259103937,
          1.6102229598586186,
          -1.549622233256524,
          0.21952602572435878,
          0.2706451447328084,
          -0.3434956139479138,
          -0.05622980819386601,
          -0.785672874053645,
          0.12189558214337343,
          -0.10726557680804973,
          0.5202707302013411,
          0.032937249257193775,
          0.5847736058133264,
          -0.020196157505648734,
          -0.6959929471544657,
          -0.8454487192961543,
          0.22586008278265896,
          0.26476528256834014,
          -1.8457808002869223,
          -1.5993017556140035,
          2.3908157138700847,
          0.17606542267964284,
          -0.9669494170417328,
          -0.4626543475624007,
          -0.18717695305071694,
          -0.25153927872982507,
          1.4015345879049936,
          -0.8785901734444322,
          -0.821724250777076,
          -0.36723925965907717,
          -0.681513350437804,
          -0.6276390985925588,
          0.32890041723736524,
          1.0904951899261752,
          1.210654241030231,
          0.4228896166290119,
          -0.8681726055082388,
          0.460386151293955,
          -1.1571199502626404,
          -0.41143049432801143,
          -0.5203654273835205,
          -0.11140547686233722,
          -0.30111239018262514,
          -1.6836089418767073,
          -0.7018835879974834,
          -1.4016371462343824,
          -1.198464106013325,
          -0.22338365737031157,
          -1.9045289244951296,
          0.922413835388977,
          2.5831533079837996,
          0.16392777724218283,
          -0.23919034327453656,
          2.6537316019626167,
          -0.12064682438994766,
          -1.6175818360130871,
          -0.7035738672273057,
          1.2977901200905202,
          1.2099729745449455,
          0.07611594090509306,
          -0.56332201438011,
          0.1671144686726566,
          -1.2679573089558116,
          -1.4631730551116238,
          -0.3691341538034559
         ]
        },
        {
         "boxpoints": false,
         "line": {
          "width": 1.3
         },
         "marker": {
          "color": "rgba(128, 0, 128, 1.0)"
         },
         "name": "D",
         "orientation": "v",
         "type": "box",
         "y": [
          0.4474802242592564,
          0.2834063837263141,
          -0.7770490185487827,
          -0.04492980839881632,
          0.27009299960693095,
          0.008903149562862311,
          -0.45717750105423627,
          -0.48932514881148886,
          0.34273376144461437,
          3.359298674005126,
          0.12525255257388343,
          1.0492527634432405,
          0.9767536714034938,
          -1.3965234483793163,
          0.36922158663529275,
          -0.3033619382038873,
          -0.47655211773527106,
          2.1221536872359295,
          -0.02968677212688579,
          0.3053917192209469,
          0.3457286371599666,
          0.6394661871439085,
          -0.5732134800332948,
          -0.7025481174908671,
          0.944131945631374,
          -1.5215016925305056,
          1.0424982635673354,
          0.32282980989502397,
          0.4966648360880945,
          0.5927553751485347,
          0.1813351552883239,
          -1.9342706893633625,
          -0.11305803545009196,
          0.19131406053997785,
          -1.4443689467173215,
          -0.4571057016358224,
          -0.028694104126904582,
          0.3846028448279193,
          0.8712626714186823,
          0.333044013563274,
          2.7399527788519173,
          -0.46429433135988035,
          0.7171306015411412,
          0.8426235128225036,
          1.1218848874580638,
          -0.648317919096552,
          0.07765897327261925,
          -0.31015839239369747,
          0.9165595578034476,
          0.17930582022134683,
          0.34917932729373347,
          0.06691149447692568,
          1.2098580139457729,
          -0.7353834794681324,
          0.6575980669827997,
          0.8972514079789817,
          1.9983423698429235,
          -0.3451083950820109,
          -1.5527107787406171,
          -2.2135600944549703,
          1.0086141184033188,
          -2.075900904803881,
          -0.4915393075552051,
          -1.1580997209625832,
          1.9243321885146973,
          0.21997464598801975,
          0.5426016426740771,
          1.1815619340451056,
          -1.0965126676340762,
          -0.6138866145984655,
          1.7888401389186588,
          0.9929130957912348,
          -1.4109822106421528,
          -0.21785991911797598,
          -1.2452717391309158,
          -0.05910151075239766,
          0.052366378735798844,
          -0.5760428334325783,
          0.5090679208803346,
          1.6900529825852426,
          0.6168962904866758,
          0.5001867013531961,
          -1.0904012912269452,
          0.8394267452655713,
          0.6035190382826191,
          -1.3845892642933673,
          1.6172660479222531,
          1.130759407780482,
          0.9838128421116707,
          -1.2862092960650897,
          0.2623239284610542,
          -0.016782468255838946,
          -0.7146424100039155,
          0.20514193573097697,
          0.6001189095625172,
          -1.158164454539793,
          1.1390141806277636,
          -0.16838268893115318,
          0.10991657897069484,
          0.280505421663259
         ]
        }
       ],
       "layout": {
        "legend": {
         "bgcolor": "#F5F6F9",
         "font": {
          "color": "#4D5663"
         }
        },
        "paper_bgcolor": "#F5F6F9",
        "plot_bgcolor": "#F5F6F9",
        "template": {
         "data": {
          "bar": [
           {
            "error_x": {
             "color": "#2a3f5f"
            },
            "error_y": {
             "color": "#2a3f5f"
            },
            "marker": {
             "line": {
              "color": "#E5ECF6",
              "width": 0.5
             },
             "pattern": {
              "fillmode": "overlay",
              "size": 10,
              "solidity": 0.2
             }
            },
            "type": "bar"
           }
          ],
          "barpolar": [
           {
            "marker": {
             "line": {
              "color": "#E5ECF6",
              "width": 0.5
             },
             "pattern": {
              "fillmode": "overlay",
              "size": 10,
              "solidity": 0.2
             }
            },
            "type": "barpolar"
           }
          ],
          "carpet": [
           {
            "aaxis": {
             "endlinecolor": "#2a3f5f",
             "gridcolor": "white",
             "linecolor": "white",
             "minorgridcolor": "white",
             "startlinecolor": "#2a3f5f"
            },
            "baxis": {
             "endlinecolor": "#2a3f5f",
             "gridcolor": "white",
             "linecolor": "white",
             "minorgridcolor": "white",
             "startlinecolor": "#2a3f5f"
            },
            "type": "carpet"
           }
          ],
          "choropleth": [
           {
            "colorbar": {
             "outlinewidth": 0,
             "ticks": ""
            },
            "type": "choropleth"
           }
          ],
          "contour": [
           {
            "colorbar": {
             "outlinewidth": 0,
             "ticks": ""
            },
            "colorscale": [
             [
              0,
              "#0d0887"
             ],
             [
              0.1111111111111111,
              "#46039f"
             ],
             [
              0.2222222222222222,
              "#7201a8"
             ],
             [
              0.3333333333333333,
              "#9c179e"
             ],
             [
              0.4444444444444444,
              "#bd3786"
             ],
             [
              0.5555555555555556,
              "#d8576b"
             ],
             [
              0.6666666666666666,
              "#ed7953"
             ],
             [
              0.7777777777777778,
              "#fb9f3a"
             ],
             [
              0.8888888888888888,
              "#fdca26"
             ],
             [
              1,
              "#f0f921"
             ]
            ],
            "type": "contour"
           }
          ],
          "contourcarpet": [
           {
            "colorbar": {
             "outlinewidth": 0,
             "ticks": ""
            },
            "type": "contourcarpet"
           }
          ],
          "heatmap": [
           {
            "colorbar": {
             "outlinewidth": 0,
             "ticks": ""
            },
            "colorscale": [
             [
              0,
              "#0d0887"
             ],
             [
              0.1111111111111111,
              "#46039f"
             ],
             [
              0.2222222222222222,
              "#7201a8"
             ],
             [
              0.3333333333333333,
              "#9c179e"
             ],
             [
              0.4444444444444444,
              "#bd3786"
             ],
             [
              0.5555555555555556,
              "#d8576b"
             ],
             [
              0.6666666666666666,
              "#ed7953"
             ],
             [
              0.7777777777777778,
              "#fb9f3a"
             ],
             [
              0.8888888888888888,
              "#fdca26"
             ],
             [
              1,
              "#f0f921"
             ]
            ],
            "type": "heatmap"
           }
          ],
          "heatmapgl": [
           {
            "colorbar": {
             "outlinewidth": 0,
             "ticks": ""
            },
            "colorscale": [
             [
              0,
              "#0d0887"
             ],
             [
              0.1111111111111111,
              "#46039f"
             ],
             [
              0.2222222222222222,
              "#7201a8"
             ],
             [
              0.3333333333333333,
              "#9c179e"
             ],
             [
              0.4444444444444444,
              "#bd3786"
             ],
             [
              0.5555555555555556,
              "#d8576b"
             ],
             [
              0.6666666666666666,
              "#ed7953"
             ],
             [
              0.7777777777777778,
              "#fb9f3a"
             ],
             [
              0.8888888888888888,
              "#fdca26"
             ],
             [
              1,
              "#f0f921"
             ]
            ],
            "type": "heatmapgl"
           }
          ],
          "histogram": [
           {
            "marker": {
             "pattern": {
              "fillmode": "overlay",
              "size": 10,
              "solidity": 0.2
             }
            },
            "type": "histogram"
           }
          ],
          "histogram2d": [
           {
            "colorbar": {
             "outlinewidth": 0,
             "ticks": ""
            },
            "colorscale": [
             [
              0,
              "#0d0887"
             ],
             [
              0.1111111111111111,
              "#46039f"
             ],
             [
              0.2222222222222222,
              "#7201a8"
             ],
             [
              0.3333333333333333,
              "#9c179e"
             ],
             [
              0.4444444444444444,
              "#bd3786"
             ],
             [
              0.5555555555555556,
              "#d8576b"
             ],
             [
              0.6666666666666666,
              "#ed7953"
             ],
             [
              0.7777777777777778,
              "#fb9f3a"
             ],
             [
              0.8888888888888888,
              "#fdca26"
             ],
             [
              1,
              "#f0f921"
             ]
            ],
            "type": "histogram2d"
           }
          ],
          "histogram2dcontour": [
           {
            "colorbar": {
             "outlinewidth": 0,
             "ticks": ""
            },
            "colorscale": [
             [
              0,
              "#0d0887"
             ],
             [
              0.1111111111111111,
              "#46039f"
             ],
             [
              0.2222222222222222,
              "#7201a8"
             ],
             [
              0.3333333333333333,
              "#9c179e"
             ],
             [
              0.4444444444444444,
              "#bd3786"
             ],
             [
              0.5555555555555556,
              "#d8576b"
             ],
             [
              0.6666666666666666,
              "#ed7953"
             ],
             [
              0.7777777777777778,
              "#fb9f3a"
             ],
             [
              0.8888888888888888,
              "#fdca26"
             ],
             [
              1,
              "#f0f921"
             ]
            ],
            "type": "histogram2dcontour"
           }
          ],
          "mesh3d": [
           {
            "colorbar": {
             "outlinewidth": 0,
             "ticks": ""
            },
            "type": "mesh3d"
           }
          ],
          "parcoords": [
           {
            "line": {
             "colorbar": {
              "outlinewidth": 0,
              "ticks": ""
             }
            },
            "type": "parcoords"
           }
          ],
          "pie": [
           {
            "automargin": true,
            "type": "pie"
           }
          ],
          "scatter": [
           {
            "fillpattern": {
             "fillmode": "overlay",
             "size": 10,
             "solidity": 0.2
            },
            "type": "scatter"
           }
          ],
          "scatter3d": [
           {
            "line": {
             "colorbar": {
              "outlinewidth": 0,
              "ticks": ""
             }
            },
            "marker": {
             "colorbar": {
              "outlinewidth": 0,
              "ticks": ""
             }
            },
            "type": "scatter3d"
           }
          ],
          "scattercarpet": [
           {
            "marker": {
             "colorbar": {
              "outlinewidth": 0,
              "ticks": ""
             }
            },
            "type": "scattercarpet"
           }
          ],
          "scattergeo": [
           {
            "marker": {
             "colorbar": {
              "outlinewidth": 0,
              "ticks": ""
             }
            },
            "type": "scattergeo"
           }
          ],
          "scattergl": [
           {
            "marker": {
             "colorbar": {
              "outlinewidth": 0,
              "ticks": ""
             }
            },
            "type": "scattergl"
           }
          ],
          "scattermapbox": [
           {
            "marker": {
             "colorbar": {
              "outlinewidth": 0,
              "ticks": ""
             }
            },
            "type": "scattermapbox"
           }
          ],
          "scatterpolar": [
           {
            "marker": {
             "colorbar": {
              "outlinewidth": 0,
              "ticks": ""
             }
            },
            "type": "scatterpolar"
           }
          ],
          "scatterpolargl": [
           {
            "marker": {
             "colorbar": {
              "outlinewidth": 0,
              "ticks": ""
             }
            },
            "type": "scatterpolargl"
           }
          ],
          "scatterternary": [
           {
            "marker": {
             "colorbar": {
              "outlinewidth": 0,
              "ticks": ""
             }
            },
            "type": "scatterternary"
           }
          ],
          "surface": [
           {
            "colorbar": {
             "outlinewidth": 0,
             "ticks": ""
            },
            "colorscale": [
             [
              0,
              "#0d0887"
             ],
             [
              0.1111111111111111,
              "#46039f"
             ],
             [
              0.2222222222222222,
              "#7201a8"
             ],
             [
              0.3333333333333333,
              "#9c179e"
             ],
             [
              0.4444444444444444,
              "#bd3786"
             ],
             [
              0.5555555555555556,
              "#d8576b"
             ],
             [
              0.6666666666666666,
              "#ed7953"
             ],
             [
              0.7777777777777778,
              "#fb9f3a"
             ],
             [
              0.8888888888888888,
              "#fdca26"
             ],
             [
              1,
              "#f0f921"
             ]
            ],
            "type": "surface"
           }
          ],
          "table": [
           {
            "cells": {
             "fill": {
              "color": "#EBF0F8"
             },
             "line": {
              "color": "white"
             }
            },
            "header": {
             "fill": {
              "color": "#C8D4E3"
             },
             "line": {
              "color": "white"
             }
            },
            "type": "table"
           }
          ]
         },
         "layout": {
          "annotationdefaults": {
           "arrowcolor": "#2a3f5f",
           "arrowhead": 0,
           "arrowwidth": 1
          },
          "autotypenumbers": "strict",
          "coloraxis": {
           "colorbar": {
            "outlinewidth": 0,
            "ticks": ""
           }
          },
          "colorscale": {
           "diverging": [
            [
             0,
             "#8e0152"
            ],
            [
             0.1,
             "#c51b7d"
            ],
            [
             0.2,
             "#de77ae"
            ],
            [
             0.3,
             "#f1b6da"
            ],
            [
             0.4,
             "#fde0ef"
            ],
            [
             0.5,
             "#f7f7f7"
            ],
            [
             0.6,
             "#e6f5d0"
            ],
            [
             0.7,
             "#b8e186"
            ],
            [
             0.8,
             "#7fbc41"
            ],
            [
             0.9,
             "#4d9221"
            ],
            [
             1,
             "#276419"
            ]
           ],
           "sequential": [
            [
             0,
             "#0d0887"
            ],
            [
             0.1111111111111111,
             "#46039f"
            ],
            [
             0.2222222222222222,
             "#7201a8"
            ],
            [
             0.3333333333333333,
             "#9c179e"
            ],
            [
             0.4444444444444444,
             "#bd3786"
            ],
            [
             0.5555555555555556,
             "#d8576b"
            ],
            [
             0.6666666666666666,
             "#ed7953"
            ],
            [
             0.7777777777777778,
             "#fb9f3a"
            ],
            [
             0.8888888888888888,
             "#fdca26"
            ],
            [
             1,
             "#f0f921"
            ]
           ],
           "sequentialminus": [
            [
             0,
             "#0d0887"
            ],
            [
             0.1111111111111111,
             "#46039f"
            ],
            [
             0.2222222222222222,
             "#7201a8"
            ],
            [
             0.3333333333333333,
             "#9c179e"
            ],
            [
             0.4444444444444444,
             "#bd3786"
            ],
            [
             0.5555555555555556,
             "#d8576b"
            ],
            [
             0.6666666666666666,
             "#ed7953"
            ],
            [
             0.7777777777777778,
             "#fb9f3a"
            ],
            [
             0.8888888888888888,
             "#fdca26"
            ],
            [
             1,
             "#f0f921"
            ]
           ]
          },
          "colorway": [
           "#636efa",
           "#EF553B",
           "#00cc96",
           "#ab63fa",
           "#FFA15A",
           "#19d3f3",
           "#FF6692",
           "#B6E880",
           "#FF97FF",
           "#FECB52"
          ],
          "font": {
           "color": "#2a3f5f"
          },
          "geo": {
           "bgcolor": "white",
           "lakecolor": "white",
           "landcolor": "#E5ECF6",
           "showlakes": true,
           "showland": true,
           "subunitcolor": "white"
          },
          "hoverlabel": {
           "align": "left"
          },
          "hovermode": "closest",
          "mapbox": {
           "style": "light"
          },
          "paper_bgcolor": "white",
          "plot_bgcolor": "#E5ECF6",
          "polar": {
           "angularaxis": {
            "gridcolor": "white",
            "linecolor": "white",
            "ticks": ""
           },
           "bgcolor": "#E5ECF6",
           "radialaxis": {
            "gridcolor": "white",
            "linecolor": "white",
            "ticks": ""
           }
          },
          "scene": {
           "xaxis": {
            "backgroundcolor": "#E5ECF6",
            "gridcolor": "white",
            "gridwidth": 2,
            "linecolor": "white",
            "showbackground": true,
            "ticks": "",
            "zerolinecolor": "white"
           },
           "yaxis": {
            "backgroundcolor": "#E5ECF6",
            "gridcolor": "white",
            "gridwidth": 2,
            "linecolor": "white",
            "showbackground": true,
            "ticks": "",
            "zerolinecolor": "white"
           },
           "zaxis": {
            "backgroundcolor": "#E5ECF6",
            "gridcolor": "white",
            "gridwidth": 2,
            "linecolor": "white",
            "showbackground": true,
            "ticks": "",
            "zerolinecolor": "white"
           }
          },
          "shapedefaults": {
           "line": {
            "color": "#2a3f5f"
           }
          },
          "ternary": {
           "aaxis": {
            "gridcolor": "white",
            "linecolor": "white",
            "ticks": ""
           },
           "baxis": {
            "gridcolor": "white",
            "linecolor": "white",
            "ticks": ""
           },
           "bgcolor": "#E5ECF6",
           "caxis": {
            "gridcolor": "white",
            "linecolor": "white",
            "ticks": ""
           }
          },
          "title": {
           "x": 0.05
          },
          "xaxis": {
           "automargin": true,
           "gridcolor": "white",
           "linecolor": "white",
           "ticks": "",
           "title": {
            "standoff": 15
           },
           "zerolinecolor": "white",
           "zerolinewidth": 2
          },
          "yaxis": {
           "automargin": true,
           "gridcolor": "white",
           "linecolor": "white",
           "ticks": "",
           "title": {
            "standoff": 15
           },
           "zerolinecolor": "white",
           "zerolinewidth": 2
          }
         }
        },
        "title": {
         "font": {
          "color": "#4D5663"
         }
        },
        "xaxis": {
         "gridcolor": "#E1E5ED",
         "showgrid": true,
         "tickfont": {
          "color": "#4D5663"
         },
         "title": {
          "font": {
           "color": "#4D5663"
          },
          "text": ""
         },
         "zerolinecolor": "#E1E5ED"
        },
        "yaxis": {
         "gridcolor": "#E1E5ED",
         "showgrid": true,
         "tickfont": {
          "color": "#4D5663"
         },
         "title": {
          "font": {
           "color": "#4D5663"
          },
          "text": ""
         },
         "zerolinecolor": "#E1E5ED"
        }
       }
      },
      "text/html": [
       "<div>                            <div id=\"7099b453-b39e-4f3e-9886-a7c872bc1d77\" class=\"plotly-graph-div\" style=\"height:525px; width:100%;\"></div>            <script type=\"text/javascript\">                require([\"plotly\"], function(Plotly) {                    window.PLOTLYENV=window.PLOTLYENV || {};\n",
       "                    window.PLOTLYENV.BASE_URL='https://plot.ly';                                    if (document.getElementById(\"7099b453-b39e-4f3e-9886-a7c872bc1d77\")) {                    Plotly.newPlot(                        \"7099b453-b39e-4f3e-9886-a7c872bc1d77\",                        [{\"boxpoints\":false,\"line\":{\"width\":1.3},\"marker\":{\"color\":\"rgba(255, 153, 51, 1.0)\"},\"name\":\"A\",\"orientation\":\"v\",\"y\":[-1.5744069188809882,0.2919965937061701,-0.20987911018127825,1.4072243870576893,0.5984723796355707,-0.2744220558333609,0.017729177103530606,-1.4785228691304597,0.45485788895139434,0.7817522785186537,0.6158030135086989,0.20802408355881027,-0.9111899216311535,-0.5382498735341864,2.2762676193980482,-1.3159624487677273,-0.06275163823087321,-0.4815939833334281,0.24651562164010077,0.5128628101495492,-0.2088905846667024,-0.37961744382809437,-1.3750740367784493,-0.1440449218155529,-0.6913576335249373,-0.8765044012890313,1.5299431347988888,0.3492702609917798,0.8632771989810265,0.2599651123227867,-0.7226945310100287,-0.5214214959940227,-0.6701981378685836,-1.6376029981808569,-1.1005326319176798,-2.0990592385751654,0.9648940123270464,-0.7199413985460938,0.09503131401757643,-0.5629431738077807,1.0803145448231073,0.8972983341827394,1.8248328731964814,-1.0171487169752407,-0.10207657386959489,-0.9962484521182952,-0.2958514481504522,-0.8607863376679893,0.2860450974872978,-0.9935693485120408,-0.39627560768952946,0.8951387380632714,-1.5007119405734002,0.07588767461740342,-0.22972784324619358,1.1166806807792315,-0.6412361428214182,1.4433582217204095,0.8313925941737207,-1.2607458874475315,-0.5179577520575765,0.2942700620890089,1.4727361516699482,0.17341433018348343,-1.0770753575548573,0.10533370002320529,0.0793294308116233,-1.2209897048108995,-0.8474131221067496,0.4140503688588217,1.7235576738547156,0.2866510056446499,-1.3814385683659007,-0.43750975085760285,0.18836090635740865,0.665859181474303,-0.9483973704483861,-0.8046482102273977,1.0051984408320216,-0.6749142511199132,-1.9239795201339824,-1.1442081980896393,0.48266997736509804,0.0975543014512976,-0.1984691597006762,-0.03426534605026892,-0.297829988581982,-0.908952261148527,-0.640552122171676,2.36128954662639,-1.0401492611610879,-0.666139394408712,-1.4197630539022021,-0.22321839664823442,-0.6253401945309588,0.4621300236937175,0.4284540858073102,-1.411894453558689,-0.5203770031024622,-0.3419949085418646],\"type\":\"box\"},{\"boxpoints\":false,\"line\":{\"width\":1.3},\"marker\":{\"color\":\"rgba(55, 128, 191, 1.0)\"},\"name\":\"B\",\"orientation\":\"v\",\"y\":[-0.16301927573326747,-0.48711484848482545,-2.151495874975196,-0.654841755684685,0.6295959841572122,-0.8622360025956758,-0.7769629600854723,1.141384587800869,2.3864706479233844,0.9299078566189861,0.4555732303265823,0.32647238553721564,-0.6803360397686434,-0.8102760959813967,1.4848181818102724,0.5291945647751306,1.4353440017023873,-0.5026056619198886,-0.5800213198181711,-0.09606149483386926,-0.5768704701146251,-0.9372294832680503,-0.08510356635600864,0.37212959201504026,-1.362462924687948,0.8806989154386949,-0.8358694207263032,-0.28953059607877285,-0.5011078163710999,-0.43790828913824986,-0.6514598584332857,0.6002289489726451,0.22186817296233421,0.27994648352865514,-0.9689803349519742,1.1825509508611973,0.04780373093205452,-2.716968073246881,0.6349138266490004,0.41478390998119186,0.8246493600925106,0.4930703351281199,0.6487322832414203,-0.08336067163389263,-1.3049247995275077,1.0619952081092054,-0.7227073628981311,0.5809890622275982,1.2272849369420071,-1.510539737682553,-0.7456146006935016,-1.2750149926211962,0.20466552604659938,0.48741572091628266,1.0797839304892964,0.2896592763134485,-0.6204080623813175,0.9488442025282456,-0.8011395533914448,1.1723009064207326,0.6054895171876152,0.04816408029720471,-0.13535894381818353,-0.8965841075311023,-1.954615214342892,-0.15472804753915848,-0.9524201139436,-1.5291955641115345,1.037853825639349,0.1875096616869887,-0.5588917015575369,0.8044315841413262,-0.47554678747052664,-0.6213643969232366,-0.8184197648045224,-0.11121577771197998,0.4824724082217693,-2.032159511239236,0.6878192901007198,-0.8075923737337249,1.0440508302797218,0.1303876927045207,-1.980567271026737,0.7269021112597615,-0.9504440925098565,-0.7352991807724102,-0.22826571887397049,0.4175573994031141,0.6884329397963111,0.5481622573258714,0.6080475289579149,1.7843699428922326,1.0645184313051146,-1.2657980679905936,1.2728775711928362,-0.6676306193331588,-0.9306861770987371,1.6149963278104023,-1.2152379938641267,-0.9470164897283213],\"type\":\"box\"},{\"boxpoints\":false,\"line\":{\"width\":1.3},\"marker\":{\"color\":\"rgba(50, 171, 96, 1.0)\"},\"name\":\"C\",\"orientation\":\"v\",\"y\":[1.3672431823573838,-3.1219528916298342,0.45664659886304176,-0.5756400849623312,0.26321086301622215,0.20368403916398278,-0.5338688747549704,-0.46671180155625697,-1.2088396445684164,0.29701209884441515,-0.05975273591374197,-0.08357578612941527,0.7323963232173264,0.30982320403787583,1.0189121573601516,-0.27744429169188334,0.7581448689930282,-0.86968309028437,-0.009004749293217387,-2.407560001627149,-0.12923674911093525,-1.8144553816112123,-1.1058062044135333,-0.9974421712966076,0.015229785196408977,0.8722685262126041,-1.2220225498160038,0.1993548951630531,1.304020957984012,0.8051092616191471,-0.6153777156233635,0.07914329712761964,1.5858973639162262,0.1303574550605811,-0.4274500326254631,-0.47367273259103937,1.6102229598586186,-1.549622233256524,0.21952602572435878,0.2706451447328084,-0.3434956139479138,-0.05622980819386601,-0.785672874053645,0.12189558214337343,-0.10726557680804973,0.5202707302013411,0.032937249257193775,0.5847736058133264,-0.020196157505648734,-0.6959929471544657,-0.8454487192961543,0.22586008278265896,0.26476528256834014,-1.8457808002869223,-1.5993017556140035,2.3908157138700847,0.17606542267964284,-0.9669494170417328,-0.4626543475624007,-0.18717695305071694,-0.25153927872982507,1.4015345879049936,-0.8785901734444322,-0.821724250777076,-0.36723925965907717,-0.681513350437804,-0.6276390985925588,0.32890041723736524,1.0904951899261752,1.210654241030231,0.4228896166290119,-0.8681726055082388,0.460386151293955,-1.1571199502626404,-0.41143049432801143,-0.5203654273835205,-0.11140547686233722,-0.30111239018262514,-1.6836089418767073,-0.7018835879974834,-1.4016371462343824,-1.198464106013325,-0.22338365737031157,-1.9045289244951296,0.922413835388977,2.5831533079837996,0.16392777724218283,-0.23919034327453656,2.6537316019626167,-0.12064682438994766,-1.6175818360130871,-0.7035738672273057,1.2977901200905202,1.2099729745449455,0.07611594090509306,-0.56332201438011,0.1671144686726566,-1.2679573089558116,-1.4631730551116238,-0.3691341538034559],\"type\":\"box\"},{\"boxpoints\":false,\"line\":{\"width\":1.3},\"marker\":{\"color\":\"rgba(128, 0, 128, 1.0)\"},\"name\":\"D\",\"orientation\":\"v\",\"y\":[0.4474802242592564,0.2834063837263141,-0.7770490185487827,-0.04492980839881632,0.27009299960693095,0.008903149562862311,-0.45717750105423627,-0.48932514881148886,0.34273376144461437,3.359298674005126,0.12525255257388343,1.0492527634432405,0.9767536714034938,-1.3965234483793163,0.36922158663529275,-0.3033619382038873,-0.47655211773527106,2.1221536872359295,-0.02968677212688579,0.3053917192209469,0.3457286371599666,0.6394661871439085,-0.5732134800332948,-0.7025481174908671,0.944131945631374,-1.5215016925305056,1.0424982635673354,0.32282980989502397,0.4966648360880945,0.5927553751485347,0.1813351552883239,-1.9342706893633625,-0.11305803545009196,0.19131406053997785,-1.4443689467173215,-0.4571057016358224,-0.028694104126904582,0.3846028448279193,0.8712626714186823,0.333044013563274,2.7399527788519173,-0.46429433135988035,0.7171306015411412,0.8426235128225036,1.1218848874580638,-0.648317919096552,0.07765897327261925,-0.31015839239369747,0.9165595578034476,0.17930582022134683,0.34917932729373347,0.06691149447692568,1.2098580139457729,-0.7353834794681324,0.6575980669827997,0.8972514079789817,1.9983423698429235,-0.3451083950820109,-1.5527107787406171,-2.2135600944549703,1.0086141184033188,-2.075900904803881,-0.4915393075552051,-1.1580997209625832,1.9243321885146973,0.21997464598801975,0.5426016426740771,1.1815619340451056,-1.0965126676340762,-0.6138866145984655,1.7888401389186588,0.9929130957912348,-1.4109822106421528,-0.21785991911797598,-1.2452717391309158,-0.05910151075239766,0.052366378735798844,-0.5760428334325783,0.5090679208803346,1.6900529825852426,0.6168962904866758,0.5001867013531961,-1.0904012912269452,0.8394267452655713,0.6035190382826191,-1.3845892642933673,1.6172660479222531,1.130759407780482,0.9838128421116707,-1.2862092960650897,0.2623239284610542,-0.016782468255838946,-0.7146424100039155,0.20514193573097697,0.6001189095625172,-1.158164454539793,1.1390141806277636,-0.16838268893115318,0.10991657897069484,0.280505421663259],\"type\":\"box\"}],                        {\"legend\":{\"bgcolor\":\"#F5F6F9\",\"font\":{\"color\":\"#4D5663\"}},\"paper_bgcolor\":\"#F5F6F9\",\"plot_bgcolor\":\"#F5F6F9\",\"template\":{\"data\":{\"barpolar\":[{\"marker\":{\"line\":{\"color\":\"#E5ECF6\",\"width\":0.5},\"pattern\":{\"fillmode\":\"overlay\",\"size\":10,\"solidity\":0.2}},\"type\":\"barpolar\"}],\"bar\":[{\"error_x\":{\"color\":\"#2a3f5f\"},\"error_y\":{\"color\":\"#2a3f5f\"},\"marker\":{\"line\":{\"color\":\"#E5ECF6\",\"width\":0.5},\"pattern\":{\"fillmode\":\"overlay\",\"size\":10,\"solidity\":0.2}},\"type\":\"bar\"}],\"carpet\":[{\"aaxis\":{\"endlinecolor\":\"#2a3f5f\",\"gridcolor\":\"white\",\"linecolor\":\"white\",\"minorgridcolor\":\"white\",\"startlinecolor\":\"#2a3f5f\"},\"baxis\":{\"endlinecolor\":\"#2a3f5f\",\"gridcolor\":\"white\",\"linecolor\":\"white\",\"minorgridcolor\":\"white\",\"startlinecolor\":\"#2a3f5f\"},\"type\":\"carpet\"}],\"choropleth\":[{\"colorbar\":{\"outlinewidth\":0,\"ticks\":\"\"},\"type\":\"choropleth\"}],\"contourcarpet\":[{\"colorbar\":{\"outlinewidth\":0,\"ticks\":\"\"},\"type\":\"contourcarpet\"}],\"contour\":[{\"colorbar\":{\"outlinewidth\":0,\"ticks\":\"\"},\"colorscale\":[[0.0,\"#0d0887\"],[0.1111111111111111,\"#46039f\"],[0.2222222222222222,\"#7201a8\"],[0.3333333333333333,\"#9c179e\"],[0.4444444444444444,\"#bd3786\"],[0.5555555555555556,\"#d8576b\"],[0.6666666666666666,\"#ed7953\"],[0.7777777777777778,\"#fb9f3a\"],[0.8888888888888888,\"#fdca26\"],[1.0,\"#f0f921\"]],\"type\":\"contour\"}],\"heatmapgl\":[{\"colorbar\":{\"outlinewidth\":0,\"ticks\":\"\"},\"colorscale\":[[0.0,\"#0d0887\"],[0.1111111111111111,\"#46039f\"],[0.2222222222222222,\"#7201a8\"],[0.3333333333333333,\"#9c179e\"],[0.4444444444444444,\"#bd3786\"],[0.5555555555555556,\"#d8576b\"],[0.6666666666666666,\"#ed7953\"],[0.7777777777777778,\"#fb9f3a\"],[0.8888888888888888,\"#fdca26\"],[1.0,\"#f0f921\"]],\"type\":\"heatmapgl\"}],\"heatmap\":[{\"colorbar\":{\"outlinewidth\":0,\"ticks\":\"\"},\"colorscale\":[[0.0,\"#0d0887\"],[0.1111111111111111,\"#46039f\"],[0.2222222222222222,\"#7201a8\"],[0.3333333333333333,\"#9c179e\"],[0.4444444444444444,\"#bd3786\"],[0.5555555555555556,\"#d8576b\"],[0.6666666666666666,\"#ed7953\"],[0.7777777777777778,\"#fb9f3a\"],[0.8888888888888888,\"#fdca26\"],[1.0,\"#f0f921\"]],\"type\":\"heatmap\"}],\"histogram2dcontour\":[{\"colorbar\":{\"outlinewidth\":0,\"ticks\":\"\"},\"colorscale\":[[0.0,\"#0d0887\"],[0.1111111111111111,\"#46039f\"],[0.2222222222222222,\"#7201a8\"],[0.3333333333333333,\"#9c179e\"],[0.4444444444444444,\"#bd3786\"],[0.5555555555555556,\"#d8576b\"],[0.6666666666666666,\"#ed7953\"],[0.7777777777777778,\"#fb9f3a\"],[0.8888888888888888,\"#fdca26\"],[1.0,\"#f0f921\"]],\"type\":\"histogram2dcontour\"}],\"histogram2d\":[{\"colorbar\":{\"outlinewidth\":0,\"ticks\":\"\"},\"colorscale\":[[0.0,\"#0d0887\"],[0.1111111111111111,\"#46039f\"],[0.2222222222222222,\"#7201a8\"],[0.3333333333333333,\"#9c179e\"],[0.4444444444444444,\"#bd3786\"],[0.5555555555555556,\"#d8576b\"],[0.6666666666666666,\"#ed7953\"],[0.7777777777777778,\"#fb9f3a\"],[0.8888888888888888,\"#fdca26\"],[1.0,\"#f0f921\"]],\"type\":\"histogram2d\"}],\"histogram\":[{\"marker\":{\"pattern\":{\"fillmode\":\"overlay\",\"size\":10,\"solidity\":0.2}},\"type\":\"histogram\"}],\"mesh3d\":[{\"colorbar\":{\"outlinewidth\":0,\"ticks\":\"\"},\"type\":\"mesh3d\"}],\"parcoords\":[{\"line\":{\"colorbar\":{\"outlinewidth\":0,\"ticks\":\"\"}},\"type\":\"parcoords\"}],\"pie\":[{\"automargin\":true,\"type\":\"pie\"}],\"scatter3d\":[{\"line\":{\"colorbar\":{\"outlinewidth\":0,\"ticks\":\"\"}},\"marker\":{\"colorbar\":{\"outlinewidth\":0,\"ticks\":\"\"}},\"type\":\"scatter3d\"}],\"scattercarpet\":[{\"marker\":{\"colorbar\":{\"outlinewidth\":0,\"ticks\":\"\"}},\"type\":\"scattercarpet\"}],\"scattergeo\":[{\"marker\":{\"colorbar\":{\"outlinewidth\":0,\"ticks\":\"\"}},\"type\":\"scattergeo\"}],\"scattergl\":[{\"marker\":{\"colorbar\":{\"outlinewidth\":0,\"ticks\":\"\"}},\"type\":\"scattergl\"}],\"scattermapbox\":[{\"marker\":{\"colorbar\":{\"outlinewidth\":0,\"ticks\":\"\"}},\"type\":\"scattermapbox\"}],\"scatterpolargl\":[{\"marker\":{\"colorbar\":{\"outlinewidth\":0,\"ticks\":\"\"}},\"type\":\"scatterpolargl\"}],\"scatterpolar\":[{\"marker\":{\"colorbar\":{\"outlinewidth\":0,\"ticks\":\"\"}},\"type\":\"scatterpolar\"}],\"scatter\":[{\"fillpattern\":{\"fillmode\":\"overlay\",\"size\":10,\"solidity\":0.2},\"type\":\"scatter\"}],\"scatterternary\":[{\"marker\":{\"colorbar\":{\"outlinewidth\":0,\"ticks\":\"\"}},\"type\":\"scatterternary\"}],\"surface\":[{\"colorbar\":{\"outlinewidth\":0,\"ticks\":\"\"},\"colorscale\":[[0.0,\"#0d0887\"],[0.1111111111111111,\"#46039f\"],[0.2222222222222222,\"#7201a8\"],[0.3333333333333333,\"#9c179e\"],[0.4444444444444444,\"#bd3786\"],[0.5555555555555556,\"#d8576b\"],[0.6666666666666666,\"#ed7953\"],[0.7777777777777778,\"#fb9f3a\"],[0.8888888888888888,\"#fdca26\"],[1.0,\"#f0f921\"]],\"type\":\"surface\"}],\"table\":[{\"cells\":{\"fill\":{\"color\":\"#EBF0F8\"},\"line\":{\"color\":\"white\"}},\"header\":{\"fill\":{\"color\":\"#C8D4E3\"},\"line\":{\"color\":\"white\"}},\"type\":\"table\"}]},\"layout\":{\"annotationdefaults\":{\"arrowcolor\":\"#2a3f5f\",\"arrowhead\":0,\"arrowwidth\":1},\"autotypenumbers\":\"strict\",\"coloraxis\":{\"colorbar\":{\"outlinewidth\":0,\"ticks\":\"\"}},\"colorscale\":{\"diverging\":[[0,\"#8e0152\"],[0.1,\"#c51b7d\"],[0.2,\"#de77ae\"],[0.3,\"#f1b6da\"],[0.4,\"#fde0ef\"],[0.5,\"#f7f7f7\"],[0.6,\"#e6f5d0\"],[0.7,\"#b8e186\"],[0.8,\"#7fbc41\"],[0.9,\"#4d9221\"],[1,\"#276419\"]],\"sequential\":[[0.0,\"#0d0887\"],[0.1111111111111111,\"#46039f\"],[0.2222222222222222,\"#7201a8\"],[0.3333333333333333,\"#9c179e\"],[0.4444444444444444,\"#bd3786\"],[0.5555555555555556,\"#d8576b\"],[0.6666666666666666,\"#ed7953\"],[0.7777777777777778,\"#fb9f3a\"],[0.8888888888888888,\"#fdca26\"],[1.0,\"#f0f921\"]],\"sequentialminus\":[[0.0,\"#0d0887\"],[0.1111111111111111,\"#46039f\"],[0.2222222222222222,\"#7201a8\"],[0.3333333333333333,\"#9c179e\"],[0.4444444444444444,\"#bd3786\"],[0.5555555555555556,\"#d8576b\"],[0.6666666666666666,\"#ed7953\"],[0.7777777777777778,\"#fb9f3a\"],[0.8888888888888888,\"#fdca26\"],[1.0,\"#f0f921\"]]},\"colorway\":[\"#636efa\",\"#EF553B\",\"#00cc96\",\"#ab63fa\",\"#FFA15A\",\"#19d3f3\",\"#FF6692\",\"#B6E880\",\"#FF97FF\",\"#FECB52\"],\"font\":{\"color\":\"#2a3f5f\"},\"geo\":{\"bgcolor\":\"white\",\"lakecolor\":\"white\",\"landcolor\":\"#E5ECF6\",\"showlakes\":true,\"showland\":true,\"subunitcolor\":\"white\"},\"hoverlabel\":{\"align\":\"left\"},\"hovermode\":\"closest\",\"mapbox\":{\"style\":\"light\"},\"paper_bgcolor\":\"white\",\"plot_bgcolor\":\"#E5ECF6\",\"polar\":{\"angularaxis\":{\"gridcolor\":\"white\",\"linecolor\":\"white\",\"ticks\":\"\"},\"bgcolor\":\"#E5ECF6\",\"radialaxis\":{\"gridcolor\":\"white\",\"linecolor\":\"white\",\"ticks\":\"\"}},\"scene\":{\"xaxis\":{\"backgroundcolor\":\"#E5ECF6\",\"gridcolor\":\"white\",\"gridwidth\":2,\"linecolor\":\"white\",\"showbackground\":true,\"ticks\":\"\",\"zerolinecolor\":\"white\"},\"yaxis\":{\"backgroundcolor\":\"#E5ECF6\",\"gridcolor\":\"white\",\"gridwidth\":2,\"linecolor\":\"white\",\"showbackground\":true,\"ticks\":\"\",\"zerolinecolor\":\"white\"},\"zaxis\":{\"backgroundcolor\":\"#E5ECF6\",\"gridcolor\":\"white\",\"gridwidth\":2,\"linecolor\":\"white\",\"showbackground\":true,\"ticks\":\"\",\"zerolinecolor\":\"white\"}},\"shapedefaults\":{\"line\":{\"color\":\"#2a3f5f\"}},\"ternary\":{\"aaxis\":{\"gridcolor\":\"white\",\"linecolor\":\"white\",\"ticks\":\"\"},\"baxis\":{\"gridcolor\":\"white\",\"linecolor\":\"white\",\"ticks\":\"\"},\"bgcolor\":\"#E5ECF6\",\"caxis\":{\"gridcolor\":\"white\",\"linecolor\":\"white\",\"ticks\":\"\"}},\"title\":{\"x\":0.05},\"xaxis\":{\"automargin\":true,\"gridcolor\":\"white\",\"linecolor\":\"white\",\"ticks\":\"\",\"title\":{\"standoff\":15},\"zerolinecolor\":\"white\",\"zerolinewidth\":2},\"yaxis\":{\"automargin\":true,\"gridcolor\":\"white\",\"linecolor\":\"white\",\"ticks\":\"\",\"title\":{\"standoff\":15},\"zerolinecolor\":\"white\",\"zerolinewidth\":2}}},\"title\":{\"font\":{\"color\":\"#4D5663\"}},\"xaxis\":{\"gridcolor\":\"#E1E5ED\",\"showgrid\":true,\"tickfont\":{\"color\":\"#4D5663\"},\"title\":{\"font\":{\"color\":\"#4D5663\"},\"text\":\"\"},\"zerolinecolor\":\"#E1E5ED\"},\"yaxis\":{\"gridcolor\":\"#E1E5ED\",\"showgrid\":true,\"tickfont\":{\"color\":\"#4D5663\"},\"title\":{\"font\":{\"color\":\"#4D5663\"},\"text\":\"\"},\"zerolinecolor\":\"#E1E5ED\"}},                        {\"showLink\": true, \"linkText\": \"Export to plot.ly\", \"plotlyServerURL\": \"https://plot.ly\", \"responsive\": true}                    ).then(function(){\n",
       "                            \n",
       "var gd = document.getElementById('7099b453-b39e-4f3e-9886-a7c872bc1d77');\n",
       "var x = new MutationObserver(function (mutations, observer) {{\n",
       "        var display = window.getComputedStyle(gd).display;\n",
       "        if (!display || display === 'none') {{\n",
       "            console.log([gd, 'removed!']);\n",
       "            Plotly.purge(gd);\n",
       "            observer.disconnect();\n",
       "        }}\n",
       "}});\n",
       "\n",
       "// Listen for the removal of the full notebook cells\n",
       "var notebookContainer = gd.closest('#notebook-container');\n",
       "if (notebookContainer) {{\n",
       "    x.observe(notebookContainer, {childList: true});\n",
       "}}\n",
       "\n",
       "// Listen for the clearing of the current output cell\n",
       "var outputEl = gd.closest('.output');\n",
       "if (outputEl) {{\n",
       "    x.observe(outputEl, {childList: true});\n",
       "}}\n",
       "\n",
       "                        })                };                });            </script>        </div>"
      ]
     },
     "metadata": {},
     "output_type": "display_data"
    }
   ],
   "source": [
    "df.iplot(kind='box')"
   ]
  },
  {
   "cell_type": "markdown",
   "metadata": {},
   "source": [
    "## 3d Surface"
   ]
  },
  {
   "cell_type": "code",
   "execution_count": 15,
   "metadata": {},
   "outputs": [
    {
     "data": {
      "application/vnd.plotly.v1+json": {
       "config": {
        "linkText": "Export to plot.ly",
        "plotlyServerURL": "https://plot.ly",
        "showLink": true
       },
       "data": [
        {
         "colorscale": [
          [
           0,
           "rgb(165,0,38)"
          ],
          [
           0.1,
           "rgb(215,48,39)"
          ],
          [
           0.2,
           "rgb(244,109,67)"
          ],
          [
           0.3,
           "rgb(253,174,97)"
          ],
          [
           0.4,
           "rgb(254,224,144)"
          ],
          [
           0.5,
           "rgb(255,255,191)"
          ],
          [
           0.6,
           "rgb(224,243,248)"
          ],
          [
           0.7,
           "rgb(171,217,233)"
          ],
          [
           0.8,
           "rgb(116,173,209)"
          ],
          [
           0.9,
           "rgb(69,117,180)"
          ],
          [
           1,
           "rgb(49,54,149)"
          ]
         ],
         "type": "surface",
         "x": [
          0,
          1,
          2,
          3,
          4
         ],
         "y": [
          "x",
          "y",
          "z"
         ],
         "z": [
          [
           1,
           2,
           3,
           4,
           5
          ],
          [
           10,
           20,
           30,
           20,
           10
          ],
          [
           5,
           4,
           3,
           2,
           1
          ]
         ]
        }
       ],
       "layout": {
        "legend": {
         "bgcolor": "#F5F6F9",
         "font": {
          "color": "#4D5663"
         }
        },
        "paper_bgcolor": "#F5F6F9",
        "plot_bgcolor": "#F5F6F9",
        "template": {
         "data": {
          "bar": [
           {
            "error_x": {
             "color": "#2a3f5f"
            },
            "error_y": {
             "color": "#2a3f5f"
            },
            "marker": {
             "line": {
              "color": "#E5ECF6",
              "width": 0.5
             },
             "pattern": {
              "fillmode": "overlay",
              "size": 10,
              "solidity": 0.2
             }
            },
            "type": "bar"
           }
          ],
          "barpolar": [
           {
            "marker": {
             "line": {
              "color": "#E5ECF6",
              "width": 0.5
             },
             "pattern": {
              "fillmode": "overlay",
              "size": 10,
              "solidity": 0.2
             }
            },
            "type": "barpolar"
           }
          ],
          "carpet": [
           {
            "aaxis": {
             "endlinecolor": "#2a3f5f",
             "gridcolor": "white",
             "linecolor": "white",
             "minorgridcolor": "white",
             "startlinecolor": "#2a3f5f"
            },
            "baxis": {
             "endlinecolor": "#2a3f5f",
             "gridcolor": "white",
             "linecolor": "white",
             "minorgridcolor": "white",
             "startlinecolor": "#2a3f5f"
            },
            "type": "carpet"
           }
          ],
          "choropleth": [
           {
            "colorbar": {
             "outlinewidth": 0,
             "ticks": ""
            },
            "type": "choropleth"
           }
          ],
          "contour": [
           {
            "colorbar": {
             "outlinewidth": 0,
             "ticks": ""
            },
            "colorscale": [
             [
              0,
              "#0d0887"
             ],
             [
              0.1111111111111111,
              "#46039f"
             ],
             [
              0.2222222222222222,
              "#7201a8"
             ],
             [
              0.3333333333333333,
              "#9c179e"
             ],
             [
              0.4444444444444444,
              "#bd3786"
             ],
             [
              0.5555555555555556,
              "#d8576b"
             ],
             [
              0.6666666666666666,
              "#ed7953"
             ],
             [
              0.7777777777777778,
              "#fb9f3a"
             ],
             [
              0.8888888888888888,
              "#fdca26"
             ],
             [
              1,
              "#f0f921"
             ]
            ],
            "type": "contour"
           }
          ],
          "contourcarpet": [
           {
            "colorbar": {
             "outlinewidth": 0,
             "ticks": ""
            },
            "type": "contourcarpet"
           }
          ],
          "heatmap": [
           {
            "colorbar": {
             "outlinewidth": 0,
             "ticks": ""
            },
            "colorscale": [
             [
              0,
              "#0d0887"
             ],
             [
              0.1111111111111111,
              "#46039f"
             ],
             [
              0.2222222222222222,
              "#7201a8"
             ],
             [
              0.3333333333333333,
              "#9c179e"
             ],
             [
              0.4444444444444444,
              "#bd3786"
             ],
             [
              0.5555555555555556,
              "#d8576b"
             ],
             [
              0.6666666666666666,
              "#ed7953"
             ],
             [
              0.7777777777777778,
              "#fb9f3a"
             ],
             [
              0.8888888888888888,
              "#fdca26"
             ],
             [
              1,
              "#f0f921"
             ]
            ],
            "type": "heatmap"
           }
          ],
          "heatmapgl": [
           {
            "colorbar": {
             "outlinewidth": 0,
             "ticks": ""
            },
            "colorscale": [
             [
              0,
              "#0d0887"
             ],
             [
              0.1111111111111111,
              "#46039f"
             ],
             [
              0.2222222222222222,
              "#7201a8"
             ],
             [
              0.3333333333333333,
              "#9c179e"
             ],
             [
              0.4444444444444444,
              "#bd3786"
             ],
             [
              0.5555555555555556,
              "#d8576b"
             ],
             [
              0.6666666666666666,
              "#ed7953"
             ],
             [
              0.7777777777777778,
              "#fb9f3a"
             ],
             [
              0.8888888888888888,
              "#fdca26"
             ],
             [
              1,
              "#f0f921"
             ]
            ],
            "type": "heatmapgl"
           }
          ],
          "histogram": [
           {
            "marker": {
             "pattern": {
              "fillmode": "overlay",
              "size": 10,
              "solidity": 0.2
             }
            },
            "type": "histogram"
           }
          ],
          "histogram2d": [
           {
            "colorbar": {
             "outlinewidth": 0,
             "ticks": ""
            },
            "colorscale": [
             [
              0,
              "#0d0887"
             ],
             [
              0.1111111111111111,
              "#46039f"
             ],
             [
              0.2222222222222222,
              "#7201a8"
             ],
             [
              0.3333333333333333,
              "#9c179e"
             ],
             [
              0.4444444444444444,
              "#bd3786"
             ],
             [
              0.5555555555555556,
              "#d8576b"
             ],
             [
              0.6666666666666666,
              "#ed7953"
             ],
             [
              0.7777777777777778,
              "#fb9f3a"
             ],
             [
              0.8888888888888888,
              "#fdca26"
             ],
             [
              1,
              "#f0f921"
             ]
            ],
            "type": "histogram2d"
           }
          ],
          "histogram2dcontour": [
           {
            "colorbar": {
             "outlinewidth": 0,
             "ticks": ""
            },
            "colorscale": [
             [
              0,
              "#0d0887"
             ],
             [
              0.1111111111111111,
              "#46039f"
             ],
             [
              0.2222222222222222,
              "#7201a8"
             ],
             [
              0.3333333333333333,
              "#9c179e"
             ],
             [
              0.4444444444444444,
              "#bd3786"
             ],
             [
              0.5555555555555556,
              "#d8576b"
             ],
             [
              0.6666666666666666,
              "#ed7953"
             ],
             [
              0.7777777777777778,
              "#fb9f3a"
             ],
             [
              0.8888888888888888,
              "#fdca26"
             ],
             [
              1,
              "#f0f921"
             ]
            ],
            "type": "histogram2dcontour"
           }
          ],
          "mesh3d": [
           {
            "colorbar": {
             "outlinewidth": 0,
             "ticks": ""
            },
            "type": "mesh3d"
           }
          ],
          "parcoords": [
           {
            "line": {
             "colorbar": {
              "outlinewidth": 0,
              "ticks": ""
             }
            },
            "type": "parcoords"
           }
          ],
          "pie": [
           {
            "automargin": true,
            "type": "pie"
           }
          ],
          "scatter": [
           {
            "fillpattern": {
             "fillmode": "overlay",
             "size": 10,
             "solidity": 0.2
            },
            "type": "scatter"
           }
          ],
          "scatter3d": [
           {
            "line": {
             "colorbar": {
              "outlinewidth": 0,
              "ticks": ""
             }
            },
            "marker": {
             "colorbar": {
              "outlinewidth": 0,
              "ticks": ""
             }
            },
            "type": "scatter3d"
           }
          ],
          "scattercarpet": [
           {
            "marker": {
             "colorbar": {
              "outlinewidth": 0,
              "ticks": ""
             }
            },
            "type": "scattercarpet"
           }
          ],
          "scattergeo": [
           {
            "marker": {
             "colorbar": {
              "outlinewidth": 0,
              "ticks": ""
             }
            },
            "type": "scattergeo"
           }
          ],
          "scattergl": [
           {
            "marker": {
             "colorbar": {
              "outlinewidth": 0,
              "ticks": ""
             }
            },
            "type": "scattergl"
           }
          ],
          "scattermapbox": [
           {
            "marker": {
             "colorbar": {
              "outlinewidth": 0,
              "ticks": ""
             }
            },
            "type": "scattermapbox"
           }
          ],
          "scatterpolar": [
           {
            "marker": {
             "colorbar": {
              "outlinewidth": 0,
              "ticks": ""
             }
            },
            "type": "scatterpolar"
           }
          ],
          "scatterpolargl": [
           {
            "marker": {
             "colorbar": {
              "outlinewidth": 0,
              "ticks": ""
             }
            },
            "type": "scatterpolargl"
           }
          ],
          "scatterternary": [
           {
            "marker": {
             "colorbar": {
              "outlinewidth": 0,
              "ticks": ""
             }
            },
            "type": "scatterternary"
           }
          ],
          "surface": [
           {
            "colorbar": {
             "outlinewidth": 0,
             "ticks": ""
            },
            "colorscale": [
             [
              0,
              "#0d0887"
             ],
             [
              0.1111111111111111,
              "#46039f"
             ],
             [
              0.2222222222222222,
              "#7201a8"
             ],
             [
              0.3333333333333333,
              "#9c179e"
             ],
             [
              0.4444444444444444,
              "#bd3786"
             ],
             [
              0.5555555555555556,
              "#d8576b"
             ],
             [
              0.6666666666666666,
              "#ed7953"
             ],
             [
              0.7777777777777778,
              "#fb9f3a"
             ],
             [
              0.8888888888888888,
              "#fdca26"
             ],
             [
              1,
              "#f0f921"
             ]
            ],
            "type": "surface"
           }
          ],
          "table": [
           {
            "cells": {
             "fill": {
              "color": "#EBF0F8"
             },
             "line": {
              "color": "white"
             }
            },
            "header": {
             "fill": {
              "color": "#C8D4E3"
             },
             "line": {
              "color": "white"
             }
            },
            "type": "table"
           }
          ]
         },
         "layout": {
          "annotationdefaults": {
           "arrowcolor": "#2a3f5f",
           "arrowhead": 0,
           "arrowwidth": 1
          },
          "autotypenumbers": "strict",
          "coloraxis": {
           "colorbar": {
            "outlinewidth": 0,
            "ticks": ""
           }
          },
          "colorscale": {
           "diverging": [
            [
             0,
             "#8e0152"
            ],
            [
             0.1,
             "#c51b7d"
            ],
            [
             0.2,
             "#de77ae"
            ],
            [
             0.3,
             "#f1b6da"
            ],
            [
             0.4,
             "#fde0ef"
            ],
            [
             0.5,
             "#f7f7f7"
            ],
            [
             0.6,
             "#e6f5d0"
            ],
            [
             0.7,
             "#b8e186"
            ],
            [
             0.8,
             "#7fbc41"
            ],
            [
             0.9,
             "#4d9221"
            ],
            [
             1,
             "#276419"
            ]
           ],
           "sequential": [
            [
             0,
             "#0d0887"
            ],
            [
             0.1111111111111111,
             "#46039f"
            ],
            [
             0.2222222222222222,
             "#7201a8"
            ],
            [
             0.3333333333333333,
             "#9c179e"
            ],
            [
             0.4444444444444444,
             "#bd3786"
            ],
            [
             0.5555555555555556,
             "#d8576b"
            ],
            [
             0.6666666666666666,
             "#ed7953"
            ],
            [
             0.7777777777777778,
             "#fb9f3a"
            ],
            [
             0.8888888888888888,
             "#fdca26"
            ],
            [
             1,
             "#f0f921"
            ]
           ],
           "sequentialminus": [
            [
             0,
             "#0d0887"
            ],
            [
             0.1111111111111111,
             "#46039f"
            ],
            [
             0.2222222222222222,
             "#7201a8"
            ],
            [
             0.3333333333333333,
             "#9c179e"
            ],
            [
             0.4444444444444444,
             "#bd3786"
            ],
            [
             0.5555555555555556,
             "#d8576b"
            ],
            [
             0.6666666666666666,
             "#ed7953"
            ],
            [
             0.7777777777777778,
             "#fb9f3a"
            ],
            [
             0.8888888888888888,
             "#fdca26"
            ],
            [
             1,
             "#f0f921"
            ]
           ]
          },
          "colorway": [
           "#636efa",
           "#EF553B",
           "#00cc96",
           "#ab63fa",
           "#FFA15A",
           "#19d3f3",
           "#FF6692",
           "#B6E880",
           "#FF97FF",
           "#FECB52"
          ],
          "font": {
           "color": "#2a3f5f"
          },
          "geo": {
           "bgcolor": "white",
           "lakecolor": "white",
           "landcolor": "#E5ECF6",
           "showlakes": true,
           "showland": true,
           "subunitcolor": "white"
          },
          "hoverlabel": {
           "align": "left"
          },
          "hovermode": "closest",
          "mapbox": {
           "style": "light"
          },
          "paper_bgcolor": "white",
          "plot_bgcolor": "#E5ECF6",
          "polar": {
           "angularaxis": {
            "gridcolor": "white",
            "linecolor": "white",
            "ticks": ""
           },
           "bgcolor": "#E5ECF6",
           "radialaxis": {
            "gridcolor": "white",
            "linecolor": "white",
            "ticks": ""
           }
          },
          "scene": {
           "xaxis": {
            "backgroundcolor": "#E5ECF6",
            "gridcolor": "white",
            "gridwidth": 2,
            "linecolor": "white",
            "showbackground": true,
            "ticks": "",
            "zerolinecolor": "white"
           },
           "yaxis": {
            "backgroundcolor": "#E5ECF6",
            "gridcolor": "white",
            "gridwidth": 2,
            "linecolor": "white",
            "showbackground": true,
            "ticks": "",
            "zerolinecolor": "white"
           },
           "zaxis": {
            "backgroundcolor": "#E5ECF6",
            "gridcolor": "white",
            "gridwidth": 2,
            "linecolor": "white",
            "showbackground": true,
            "ticks": "",
            "zerolinecolor": "white"
           }
          },
          "shapedefaults": {
           "line": {
            "color": "#2a3f5f"
           }
          },
          "ternary": {
           "aaxis": {
            "gridcolor": "white",
            "linecolor": "white",
            "ticks": ""
           },
           "baxis": {
            "gridcolor": "white",
            "linecolor": "white",
            "ticks": ""
           },
           "bgcolor": "#E5ECF6",
           "caxis": {
            "gridcolor": "white",
            "linecolor": "white",
            "ticks": ""
           }
          },
          "title": {
           "x": 0.05
          },
          "xaxis": {
           "automargin": true,
           "gridcolor": "white",
           "linecolor": "white",
           "ticks": "",
           "title": {
            "standoff": 15
           },
           "zerolinecolor": "white",
           "zerolinewidth": 2
          },
          "yaxis": {
           "automargin": true,
           "gridcolor": "white",
           "linecolor": "white",
           "ticks": "",
           "title": {
            "standoff": 15
           },
           "zerolinecolor": "white",
           "zerolinewidth": 2
          }
         }
        },
        "title": {
         "font": {
          "color": "#4D5663"
         }
        },
        "xaxis": {
         "gridcolor": "#E1E5ED",
         "showgrid": true,
         "tickfont": {
          "color": "#4D5663"
         },
         "title": {
          "font": {
           "color": "#4D5663"
          },
          "text": ""
         },
         "zerolinecolor": "#E1E5ED"
        },
        "yaxis": {
         "gridcolor": "#E1E5ED",
         "showgrid": true,
         "tickfont": {
          "color": "#4D5663"
         },
         "title": {
          "font": {
           "color": "#4D5663"
          },
          "text": ""
         },
         "zerolinecolor": "#E1E5ED"
        }
       }
      },
      "text/html": [
       "<div>                            <div id=\"38469b81-4bd6-47b3-8f57-a6da5e93c24d\" class=\"plotly-graph-div\" style=\"height:525px; width:100%;\"></div>            <script type=\"text/javascript\">                require([\"plotly\"], function(Plotly) {                    window.PLOTLYENV=window.PLOTLYENV || {};\n",
       "                    window.PLOTLYENV.BASE_URL='https://plot.ly';                                    if (document.getElementById(\"38469b81-4bd6-47b3-8f57-a6da5e93c24d\")) {                    Plotly.newPlot(                        \"38469b81-4bd6-47b3-8f57-a6da5e93c24d\",                        [{\"colorscale\":[[0.0,\"rgb(165,0,38)\"],[0.1,\"rgb(215,48,39)\"],[0.2,\"rgb(244,109,67)\"],[0.3,\"rgb(253,174,97)\"],[0.4,\"rgb(254,224,144)\"],[0.5,\"rgb(255,255,191)\"],[0.6,\"rgb(224,243,248)\"],[0.7,\"rgb(171,217,233)\"],[0.8,\"rgb(116,173,209)\"],[0.9,\"rgb(69,117,180)\"],[1.0,\"rgb(49,54,149)\"]],\"x\":[0,1,2,3,4],\"y\":[\"x\",\"y\",\"z\"],\"z\":[[1,2,3,4,5],[10,20,30,20,10],[5,4,3,2,1]],\"type\":\"surface\"}],                        {\"legend\":{\"bgcolor\":\"#F5F6F9\",\"font\":{\"color\":\"#4D5663\"}},\"paper_bgcolor\":\"#F5F6F9\",\"plot_bgcolor\":\"#F5F6F9\",\"template\":{\"data\":{\"barpolar\":[{\"marker\":{\"line\":{\"color\":\"#E5ECF6\",\"width\":0.5},\"pattern\":{\"fillmode\":\"overlay\",\"size\":10,\"solidity\":0.2}},\"type\":\"barpolar\"}],\"bar\":[{\"error_x\":{\"color\":\"#2a3f5f\"},\"error_y\":{\"color\":\"#2a3f5f\"},\"marker\":{\"line\":{\"color\":\"#E5ECF6\",\"width\":0.5},\"pattern\":{\"fillmode\":\"overlay\",\"size\":10,\"solidity\":0.2}},\"type\":\"bar\"}],\"carpet\":[{\"aaxis\":{\"endlinecolor\":\"#2a3f5f\",\"gridcolor\":\"white\",\"linecolor\":\"white\",\"minorgridcolor\":\"white\",\"startlinecolor\":\"#2a3f5f\"},\"baxis\":{\"endlinecolor\":\"#2a3f5f\",\"gridcolor\":\"white\",\"linecolor\":\"white\",\"minorgridcolor\":\"white\",\"startlinecolor\":\"#2a3f5f\"},\"type\":\"carpet\"}],\"choropleth\":[{\"colorbar\":{\"outlinewidth\":0,\"ticks\":\"\"},\"type\":\"choropleth\"}],\"contourcarpet\":[{\"colorbar\":{\"outlinewidth\":0,\"ticks\":\"\"},\"type\":\"contourcarpet\"}],\"contour\":[{\"colorbar\":{\"outlinewidth\":0,\"ticks\":\"\"},\"colorscale\":[[0.0,\"#0d0887\"],[0.1111111111111111,\"#46039f\"],[0.2222222222222222,\"#7201a8\"],[0.3333333333333333,\"#9c179e\"],[0.4444444444444444,\"#bd3786\"],[0.5555555555555556,\"#d8576b\"],[0.6666666666666666,\"#ed7953\"],[0.7777777777777778,\"#fb9f3a\"],[0.8888888888888888,\"#fdca26\"],[1.0,\"#f0f921\"]],\"type\":\"contour\"}],\"heatmapgl\":[{\"colorbar\":{\"outlinewidth\":0,\"ticks\":\"\"},\"colorscale\":[[0.0,\"#0d0887\"],[0.1111111111111111,\"#46039f\"],[0.2222222222222222,\"#7201a8\"],[0.3333333333333333,\"#9c179e\"],[0.4444444444444444,\"#bd3786\"],[0.5555555555555556,\"#d8576b\"],[0.6666666666666666,\"#ed7953\"],[0.7777777777777778,\"#fb9f3a\"],[0.8888888888888888,\"#fdca26\"],[1.0,\"#f0f921\"]],\"type\":\"heatmapgl\"}],\"heatmap\":[{\"colorbar\":{\"outlinewidth\":0,\"ticks\":\"\"},\"colorscale\":[[0.0,\"#0d0887\"],[0.1111111111111111,\"#46039f\"],[0.2222222222222222,\"#7201a8\"],[0.3333333333333333,\"#9c179e\"],[0.4444444444444444,\"#bd3786\"],[0.5555555555555556,\"#d8576b\"],[0.6666666666666666,\"#ed7953\"],[0.7777777777777778,\"#fb9f3a\"],[0.8888888888888888,\"#fdca26\"],[1.0,\"#f0f921\"]],\"type\":\"heatmap\"}],\"histogram2dcontour\":[{\"colorbar\":{\"outlinewidth\":0,\"ticks\":\"\"},\"colorscale\":[[0.0,\"#0d0887\"],[0.1111111111111111,\"#46039f\"],[0.2222222222222222,\"#7201a8\"],[0.3333333333333333,\"#9c179e\"],[0.4444444444444444,\"#bd3786\"],[0.5555555555555556,\"#d8576b\"],[0.6666666666666666,\"#ed7953\"],[0.7777777777777778,\"#fb9f3a\"],[0.8888888888888888,\"#fdca26\"],[1.0,\"#f0f921\"]],\"type\":\"histogram2dcontour\"}],\"histogram2d\":[{\"colorbar\":{\"outlinewidth\":0,\"ticks\":\"\"},\"colorscale\":[[0.0,\"#0d0887\"],[0.1111111111111111,\"#46039f\"],[0.2222222222222222,\"#7201a8\"],[0.3333333333333333,\"#9c179e\"],[0.4444444444444444,\"#bd3786\"],[0.5555555555555556,\"#d8576b\"],[0.6666666666666666,\"#ed7953\"],[0.7777777777777778,\"#fb9f3a\"],[0.8888888888888888,\"#fdca26\"],[1.0,\"#f0f921\"]],\"type\":\"histogram2d\"}],\"histogram\":[{\"marker\":{\"pattern\":{\"fillmode\":\"overlay\",\"size\":10,\"solidity\":0.2}},\"type\":\"histogram\"}],\"mesh3d\":[{\"colorbar\":{\"outlinewidth\":0,\"ticks\":\"\"},\"type\":\"mesh3d\"}],\"parcoords\":[{\"line\":{\"colorbar\":{\"outlinewidth\":0,\"ticks\":\"\"}},\"type\":\"parcoords\"}],\"pie\":[{\"automargin\":true,\"type\":\"pie\"}],\"scatter3d\":[{\"line\":{\"colorbar\":{\"outlinewidth\":0,\"ticks\":\"\"}},\"marker\":{\"colorbar\":{\"outlinewidth\":0,\"ticks\":\"\"}},\"type\":\"scatter3d\"}],\"scattercarpet\":[{\"marker\":{\"colorbar\":{\"outlinewidth\":0,\"ticks\":\"\"}},\"type\":\"scattercarpet\"}],\"scattergeo\":[{\"marker\":{\"colorbar\":{\"outlinewidth\":0,\"ticks\":\"\"}},\"type\":\"scattergeo\"}],\"scattergl\":[{\"marker\":{\"colorbar\":{\"outlinewidth\":0,\"ticks\":\"\"}},\"type\":\"scattergl\"}],\"scattermapbox\":[{\"marker\":{\"colorbar\":{\"outlinewidth\":0,\"ticks\":\"\"}},\"type\":\"scattermapbox\"}],\"scatterpolargl\":[{\"marker\":{\"colorbar\":{\"outlinewidth\":0,\"ticks\":\"\"}},\"type\":\"scatterpolargl\"}],\"scatterpolar\":[{\"marker\":{\"colorbar\":{\"outlinewidth\":0,\"ticks\":\"\"}},\"type\":\"scatterpolar\"}],\"scatter\":[{\"fillpattern\":{\"fillmode\":\"overlay\",\"size\":10,\"solidity\":0.2},\"type\":\"scatter\"}],\"scatterternary\":[{\"marker\":{\"colorbar\":{\"outlinewidth\":0,\"ticks\":\"\"}},\"type\":\"scatterternary\"}],\"surface\":[{\"colorbar\":{\"outlinewidth\":0,\"ticks\":\"\"},\"colorscale\":[[0.0,\"#0d0887\"],[0.1111111111111111,\"#46039f\"],[0.2222222222222222,\"#7201a8\"],[0.3333333333333333,\"#9c179e\"],[0.4444444444444444,\"#bd3786\"],[0.5555555555555556,\"#d8576b\"],[0.6666666666666666,\"#ed7953\"],[0.7777777777777778,\"#fb9f3a\"],[0.8888888888888888,\"#fdca26\"],[1.0,\"#f0f921\"]],\"type\":\"surface\"}],\"table\":[{\"cells\":{\"fill\":{\"color\":\"#EBF0F8\"},\"line\":{\"color\":\"white\"}},\"header\":{\"fill\":{\"color\":\"#C8D4E3\"},\"line\":{\"color\":\"white\"}},\"type\":\"table\"}]},\"layout\":{\"annotationdefaults\":{\"arrowcolor\":\"#2a3f5f\",\"arrowhead\":0,\"arrowwidth\":1},\"autotypenumbers\":\"strict\",\"coloraxis\":{\"colorbar\":{\"outlinewidth\":0,\"ticks\":\"\"}},\"colorscale\":{\"diverging\":[[0,\"#8e0152\"],[0.1,\"#c51b7d\"],[0.2,\"#de77ae\"],[0.3,\"#f1b6da\"],[0.4,\"#fde0ef\"],[0.5,\"#f7f7f7\"],[0.6,\"#e6f5d0\"],[0.7,\"#b8e186\"],[0.8,\"#7fbc41\"],[0.9,\"#4d9221\"],[1,\"#276419\"]],\"sequential\":[[0.0,\"#0d0887\"],[0.1111111111111111,\"#46039f\"],[0.2222222222222222,\"#7201a8\"],[0.3333333333333333,\"#9c179e\"],[0.4444444444444444,\"#bd3786\"],[0.5555555555555556,\"#d8576b\"],[0.6666666666666666,\"#ed7953\"],[0.7777777777777778,\"#fb9f3a\"],[0.8888888888888888,\"#fdca26\"],[1.0,\"#f0f921\"]],\"sequentialminus\":[[0.0,\"#0d0887\"],[0.1111111111111111,\"#46039f\"],[0.2222222222222222,\"#7201a8\"],[0.3333333333333333,\"#9c179e\"],[0.4444444444444444,\"#bd3786\"],[0.5555555555555556,\"#d8576b\"],[0.6666666666666666,\"#ed7953\"],[0.7777777777777778,\"#fb9f3a\"],[0.8888888888888888,\"#fdca26\"],[1.0,\"#f0f921\"]]},\"colorway\":[\"#636efa\",\"#EF553B\",\"#00cc96\",\"#ab63fa\",\"#FFA15A\",\"#19d3f3\",\"#FF6692\",\"#B6E880\",\"#FF97FF\",\"#FECB52\"],\"font\":{\"color\":\"#2a3f5f\"},\"geo\":{\"bgcolor\":\"white\",\"lakecolor\":\"white\",\"landcolor\":\"#E5ECF6\",\"showlakes\":true,\"showland\":true,\"subunitcolor\":\"white\"},\"hoverlabel\":{\"align\":\"left\"},\"hovermode\":\"closest\",\"mapbox\":{\"style\":\"light\"},\"paper_bgcolor\":\"white\",\"plot_bgcolor\":\"#E5ECF6\",\"polar\":{\"angularaxis\":{\"gridcolor\":\"white\",\"linecolor\":\"white\",\"ticks\":\"\"},\"bgcolor\":\"#E5ECF6\",\"radialaxis\":{\"gridcolor\":\"white\",\"linecolor\":\"white\",\"ticks\":\"\"}},\"scene\":{\"xaxis\":{\"backgroundcolor\":\"#E5ECF6\",\"gridcolor\":\"white\",\"gridwidth\":2,\"linecolor\":\"white\",\"showbackground\":true,\"ticks\":\"\",\"zerolinecolor\":\"white\"},\"yaxis\":{\"backgroundcolor\":\"#E5ECF6\",\"gridcolor\":\"white\",\"gridwidth\":2,\"linecolor\":\"white\",\"showbackground\":true,\"ticks\":\"\",\"zerolinecolor\":\"white\"},\"zaxis\":{\"backgroundcolor\":\"#E5ECF6\",\"gridcolor\":\"white\",\"gridwidth\":2,\"linecolor\":\"white\",\"showbackground\":true,\"ticks\":\"\",\"zerolinecolor\":\"white\"}},\"shapedefaults\":{\"line\":{\"color\":\"#2a3f5f\"}},\"ternary\":{\"aaxis\":{\"gridcolor\":\"white\",\"linecolor\":\"white\",\"ticks\":\"\"},\"baxis\":{\"gridcolor\":\"white\",\"linecolor\":\"white\",\"ticks\":\"\"},\"bgcolor\":\"#E5ECF6\",\"caxis\":{\"gridcolor\":\"white\",\"linecolor\":\"white\",\"ticks\":\"\"}},\"title\":{\"x\":0.05},\"xaxis\":{\"automargin\":true,\"gridcolor\":\"white\",\"linecolor\":\"white\",\"ticks\":\"\",\"title\":{\"standoff\":15},\"zerolinecolor\":\"white\",\"zerolinewidth\":2},\"yaxis\":{\"automargin\":true,\"gridcolor\":\"white\",\"linecolor\":\"white\",\"ticks\":\"\",\"title\":{\"standoff\":15},\"zerolinecolor\":\"white\",\"zerolinewidth\":2}}},\"title\":{\"font\":{\"color\":\"#4D5663\"}},\"xaxis\":{\"gridcolor\":\"#E1E5ED\",\"showgrid\":true,\"tickfont\":{\"color\":\"#4D5663\"},\"title\":{\"font\":{\"color\":\"#4D5663\"},\"text\":\"\"},\"zerolinecolor\":\"#E1E5ED\"},\"yaxis\":{\"gridcolor\":\"#E1E5ED\",\"showgrid\":true,\"tickfont\":{\"color\":\"#4D5663\"},\"title\":{\"font\":{\"color\":\"#4D5663\"},\"text\":\"\"},\"zerolinecolor\":\"#E1E5ED\"}},                        {\"showLink\": true, \"linkText\": \"Export to plot.ly\", \"plotlyServerURL\": \"https://plot.ly\", \"responsive\": true}                    ).then(function(){\n",
       "                            \n",
       "var gd = document.getElementById('38469b81-4bd6-47b3-8f57-a6da5e93c24d');\n",
       "var x = new MutationObserver(function (mutations, observer) {{\n",
       "        var display = window.getComputedStyle(gd).display;\n",
       "        if (!display || display === 'none') {{\n",
       "            console.log([gd, 'removed!']);\n",
       "            Plotly.purge(gd);\n",
       "            observer.disconnect();\n",
       "        }}\n",
       "}});\n",
       "\n",
       "// Listen for the removal of the full notebook cells\n",
       "var notebookContainer = gd.closest('#notebook-container');\n",
       "if (notebookContainer) {{\n",
       "    x.observe(notebookContainer, {childList: true});\n",
       "}}\n",
       "\n",
       "// Listen for the clearing of the current output cell\n",
       "var outputEl = gd.closest('.output');\n",
       "if (outputEl) {{\n",
       "    x.observe(outputEl, {childList: true});\n",
       "}}\n",
       "\n",
       "                        })                };                });            </script>        </div>"
      ]
     },
     "metadata": {},
     "output_type": "display_data"
    }
   ],
   "source": [
    "df3 = pd.DataFrame({'x':[1,2,3,4,5],'y':[10,20,30,20,10],'z':[5,4,3,2,1]})\n",
    "df3.iplot(kind='surface',colorscale='rdylbu')"
   ]
  },
  {
   "cell_type": "markdown",
   "metadata": {},
   "source": [
    "## Spread"
   ]
  },
  {
   "cell_type": "code",
   "execution_count": 16,
   "metadata": {},
   "outputs": [
    {
     "name": "stderr",
     "output_type": "stream",
     "text": [
      "C:\\Users\\PS4Z\\anaconda3\\lib\\site-packages\\cufflinks\\plotlytools.py:849: FutureWarning:\n",
      "\n",
      "The pandas.np module is deprecated and will be removed from pandas in a future version. Import numpy directly instead.\n",
      "\n",
      "C:\\Users\\PS4Z\\anaconda3\\lib\\site-packages\\cufflinks\\plotlytools.py:850: FutureWarning:\n",
      "\n",
      "The pandas.np module is deprecated and will be removed from pandas in a future version. Import numpy directly instead.\n",
      "\n"
     ]
    },
    {
     "data": {
      "application/vnd.plotly.v1+json": {
       "config": {
        "linkText": "Export to plot.ly",
        "plotlyServerURL": "https://plot.ly",
        "showLink": true
       },
       "data": [
        {
         "line": {
          "color": "rgba(255, 153, 51, 1.0)",
          "dash": "solid",
          "shape": "linear",
          "width": 1.3
         },
         "mode": "lines",
         "name": "A",
         "text": "",
         "type": "scatter",
         "x": [
          0,
          1,
          2,
          3,
          4,
          5,
          6,
          7,
          8,
          9,
          10,
          11,
          12,
          13,
          14,
          15,
          16,
          17,
          18,
          19,
          20,
          21,
          22,
          23,
          24,
          25,
          26,
          27,
          28,
          29,
          30,
          31,
          32,
          33,
          34,
          35,
          36,
          37,
          38,
          39,
          40,
          41,
          42,
          43,
          44,
          45,
          46,
          47,
          48,
          49,
          50,
          51,
          52,
          53,
          54,
          55,
          56,
          57,
          58,
          59,
          60,
          61,
          62,
          63,
          64,
          65,
          66,
          67,
          68,
          69,
          70,
          71,
          72,
          73,
          74,
          75,
          76,
          77,
          78,
          79,
          80,
          81,
          82,
          83,
          84,
          85,
          86,
          87,
          88,
          89,
          90,
          91,
          92,
          93,
          94,
          95,
          96,
          97,
          98,
          99
         ],
         "y": [
          -1.5744069188809882,
          0.2919965937061701,
          -0.20987911018127825,
          1.4072243870576893,
          0.5984723796355707,
          -0.2744220558333609,
          0.017729177103530606,
          -1.4785228691304597,
          0.45485788895139434,
          0.7817522785186537,
          0.6158030135086989,
          0.20802408355881027,
          -0.9111899216311535,
          -0.5382498735341864,
          2.2762676193980482,
          -1.3159624487677273,
          -0.06275163823087321,
          -0.4815939833334281,
          0.24651562164010077,
          0.5128628101495492,
          -0.2088905846667024,
          -0.37961744382809437,
          -1.3750740367784493,
          -0.1440449218155529,
          -0.6913576335249373,
          -0.8765044012890313,
          1.5299431347988888,
          0.3492702609917798,
          0.8632771989810265,
          0.2599651123227867,
          -0.7226945310100287,
          -0.5214214959940227,
          -0.6701981378685836,
          -1.6376029981808569,
          -1.1005326319176798,
          -2.0990592385751654,
          0.9648940123270464,
          -0.7199413985460938,
          0.09503131401757643,
          -0.5629431738077807,
          1.0803145448231073,
          0.8972983341827394,
          1.8248328731964814,
          -1.0171487169752407,
          -0.10207657386959489,
          -0.9962484521182952,
          -0.2958514481504522,
          -0.8607863376679893,
          0.2860450974872978,
          -0.9935693485120408,
          -0.39627560768952946,
          0.8951387380632714,
          -1.5007119405734002,
          0.07588767461740342,
          -0.22972784324619358,
          1.1166806807792315,
          -0.6412361428214182,
          1.4433582217204095,
          0.8313925941737207,
          -1.2607458874475315,
          -0.5179577520575765,
          0.2942700620890089,
          1.4727361516699482,
          0.17341433018348343,
          -1.0770753575548573,
          0.10533370002320529,
          0.0793294308116233,
          -1.2209897048108995,
          -0.8474131221067496,
          0.4140503688588217,
          1.7235576738547156,
          0.2866510056446499,
          -1.3814385683659007,
          -0.43750975085760285,
          0.18836090635740865,
          0.665859181474303,
          -0.9483973704483861,
          -0.8046482102273977,
          1.0051984408320216,
          -0.6749142511199132,
          -1.9239795201339824,
          -1.1442081980896393,
          0.48266997736509804,
          0.0975543014512976,
          -0.1984691597006762,
          -0.03426534605026892,
          -0.297829988581982,
          -0.908952261148527,
          -0.640552122171676,
          2.36128954662639,
          -1.0401492611610879,
          -0.666139394408712,
          -1.4197630539022021,
          -0.22321839664823442,
          -0.6253401945309588,
          0.4621300236937175,
          0.4284540858073102,
          -1.411894453558689,
          -0.5203770031024622,
          -0.3419949085418646
         ]
        },
        {
         "line": {
          "color": "rgba(55, 128, 191, 1.0)",
          "dash": "solid",
          "shape": "linear",
          "width": 1.3
         },
         "mode": "lines",
         "name": "B",
         "text": "",
         "type": "scatter",
         "x": [
          0,
          1,
          2,
          3,
          4,
          5,
          6,
          7,
          8,
          9,
          10,
          11,
          12,
          13,
          14,
          15,
          16,
          17,
          18,
          19,
          20,
          21,
          22,
          23,
          24,
          25,
          26,
          27,
          28,
          29,
          30,
          31,
          32,
          33,
          34,
          35,
          36,
          37,
          38,
          39,
          40,
          41,
          42,
          43,
          44,
          45,
          46,
          47,
          48,
          49,
          50,
          51,
          52,
          53,
          54,
          55,
          56,
          57,
          58,
          59,
          60,
          61,
          62,
          63,
          64,
          65,
          66,
          67,
          68,
          69,
          70,
          71,
          72,
          73,
          74,
          75,
          76,
          77,
          78,
          79,
          80,
          81,
          82,
          83,
          84,
          85,
          86,
          87,
          88,
          89,
          90,
          91,
          92,
          93,
          94,
          95,
          96,
          97,
          98,
          99
         ],
         "y": [
          -0.16301927573326747,
          -0.48711484848482545,
          -2.151495874975196,
          -0.654841755684685,
          0.6295959841572122,
          -0.8622360025956758,
          -0.7769629600854723,
          1.141384587800869,
          2.3864706479233844,
          0.9299078566189861,
          0.4555732303265823,
          0.32647238553721564,
          -0.6803360397686434,
          -0.8102760959813967,
          1.4848181818102724,
          0.5291945647751306,
          1.4353440017023873,
          -0.5026056619198886,
          -0.5800213198181711,
          -0.09606149483386926,
          -0.5768704701146251,
          -0.9372294832680503,
          -0.08510356635600864,
          0.37212959201504026,
          -1.362462924687948,
          0.8806989154386949,
          -0.8358694207263032,
          -0.28953059607877285,
          -0.5011078163710999,
          -0.43790828913824986,
          -0.6514598584332857,
          0.6002289489726451,
          0.22186817296233421,
          0.27994648352865514,
          -0.9689803349519742,
          1.1825509508611973,
          0.04780373093205452,
          -2.716968073246881,
          0.6349138266490004,
          0.41478390998119186,
          0.8246493600925106,
          0.4930703351281199,
          0.6487322832414203,
          -0.08336067163389263,
          -1.3049247995275077,
          1.0619952081092054,
          -0.7227073628981311,
          0.5809890622275982,
          1.2272849369420071,
          -1.510539737682553,
          -0.7456146006935016,
          -1.2750149926211962,
          0.20466552604659938,
          0.48741572091628266,
          1.0797839304892964,
          0.2896592763134485,
          -0.6204080623813175,
          0.9488442025282456,
          -0.8011395533914448,
          1.1723009064207326,
          0.6054895171876152,
          0.04816408029720471,
          -0.13535894381818353,
          -0.8965841075311023,
          -1.954615214342892,
          -0.15472804753915848,
          -0.9524201139436,
          -1.5291955641115345,
          1.037853825639349,
          0.1875096616869887,
          -0.5588917015575369,
          0.8044315841413262,
          -0.47554678747052664,
          -0.6213643969232366,
          -0.8184197648045224,
          -0.11121577771197998,
          0.4824724082217693,
          -2.032159511239236,
          0.6878192901007198,
          -0.8075923737337249,
          1.0440508302797218,
          0.1303876927045207,
          -1.980567271026737,
          0.7269021112597615,
          -0.9504440925098565,
          -0.7352991807724102,
          -0.22826571887397049,
          0.4175573994031141,
          0.6884329397963111,
          0.5481622573258714,
          0.6080475289579149,
          1.7843699428922326,
          1.0645184313051146,
          -1.2657980679905936,
          1.2728775711928362,
          -0.6676306193331588,
          -0.9306861770987371,
          1.6149963278104023,
          -1.2152379938641267,
          -0.9470164897283213
         ]
        },
        {
         "connectgaps": false,
         "fill": "tozeroy",
         "line": {
          "color": "green",
          "dash": "solid",
          "shape": "linear",
          "width": 0.5
         },
         "mode": "lines",
         "name": "Spread",
         "showlegend": false,
         "type": "scatter",
         "x": [
          0,
          1,
          2,
          3,
          4,
          5,
          6,
          7,
          8,
          9,
          10,
          11,
          12,
          13,
          14,
          15,
          16,
          17,
          18,
          19,
          20,
          21,
          22,
          23,
          24,
          25,
          26,
          27,
          28,
          29,
          30,
          31,
          32,
          33,
          34,
          35,
          36,
          37,
          38,
          39,
          40,
          41,
          42,
          43,
          44,
          45,
          46,
          47,
          48,
          49,
          50,
          51,
          52,
          53,
          54,
          55,
          56,
          57,
          58,
          59,
          60,
          61,
          62,
          63,
          64,
          65,
          66,
          67,
          68,
          69,
          70,
          71,
          72,
          73,
          74,
          75,
          76,
          77,
          78,
          79,
          80,
          81,
          82,
          83,
          84,
          85,
          86,
          87,
          88,
          89,
          90,
          91,
          92,
          93,
          94,
          95,
          96,
          97,
          98,
          99
         ],
         "xaxis": "x2",
         "y": [
          "",
          0.7791114421909955,
          1.9416167647939178,
          2.062066142742374,
          "",
          0.5878139467623149,
          0.7946921371890029,
          "",
          "",
          "",
          0.16022978318211661,
          "",
          "",
          0.2720262224472103,
          0.7914494375877759,
          "",
          "",
          0.021011678586460525,
          0.8265369414582718,
          0.6089243049834184,
          0.3679798854479227,
          0.557612039439956,
          "",
          "",
          0.6711052911630108,
          "",
          2.365812555525192,
          0.6388008570705527,
          1.3643850153521264,
          0.6978734014610366,
          "",
          "",
          "",
          "",
          "",
          "",
          0.9170902813949919,
          1.9970266747007872,
          "",
          "",
          0.25566518473059674,
          0.40422799905461954,
          1.1761005899550612,
          "",
          1.202848225657913,
          "",
          0.42685591474767887,
          "",
          "",
          0.5169703891705121,
          0.34933899300397214,
          2.1701537306844676,
          "",
          "",
          "",
          0.8270214044657831,
          "",
          0.49451401919216387,
          1.6325321475651655,
          "",
          "",
          0.2461059817918042,
          1.6080950954881317,
          1.0699984377145857,
          0.8775398567880348,
          0.2600617475623638,
          1.0317495447552234,
          0.30820585930063493,
          "",
          0.22654070717183297,
          2.2824493754122526,
          "",
          "",
          0.1838546460656338,
          1.006780671161931,
          0.777074959186283,
          "",
          1.2275113010118381,
          0.31737915073130174,
          0.13267812261381173,
          "",
          "",
          2.463237248391835,
          "",
          0.7519749328091803,
          0.7010338347221413,
          "",
          "",
          "",
          1.8131272893005188,
          "",
          "",
          "",
          1.0425796713423592,
          "",
          1.1297606430268763,
          1.3591402629060474,
          "",
          0.6948609907616645,
          0.6050215811864568
         ],
         "yaxis": "y2"
        },
        {
         "connectgaps": false,
         "fill": "tozeroy",
         "line": {
          "color": "red",
          "dash": "solid",
          "shape": "linear",
          "width": 0.5
         },
         "mode": "lines",
         "name": "Spread",
         "showlegend": false,
         "type": "scatter",
         "x": [
          0,
          1,
          2,
          3,
          4,
          5,
          6,
          7,
          8,
          9,
          10,
          11,
          12,
          13,
          14,
          15,
          16,
          17,
          18,
          19,
          20,
          21,
          22,
          23,
          24,
          25,
          26,
          27,
          28,
          29,
          30,
          31,
          32,
          33,
          34,
          35,
          36,
          37,
          38,
          39,
          40,
          41,
          42,
          43,
          44,
          45,
          46,
          47,
          48,
          49,
          50,
          51,
          52,
          53,
          54,
          55,
          56,
          57,
          58,
          59,
          60,
          61,
          62,
          63,
          64,
          65,
          66,
          67,
          68,
          69,
          70,
          71,
          72,
          73,
          74,
          75,
          76,
          77,
          78,
          79,
          80,
          81,
          82,
          83,
          84,
          85,
          86,
          87,
          88,
          89,
          90,
          91,
          92,
          93,
          94,
          95,
          96,
          97,
          98,
          99
         ],
         "xaxis": "x2",
         "y": [
          -1.4113876431477208,
          "",
          "",
          "",
          -0.031123604521641535,
          "",
          "",
          -2.6199074569313288,
          -1.93161275897199,
          -0.14815557810033242,
          "",
          -0.11844830197840536,
          -0.2308538818625101,
          "",
          "",
          -1.8451570135428579,
          -1.4980956399332606,
          "",
          "",
          "",
          "",
          "",
          -1.2899704704224406,
          -0.5161745138305931,
          "",
          -1.7572033167277263,
          "",
          "",
          "",
          "",
          -0.07123467257674299,
          -1.1216504449666678,
          -0.8920663108309178,
          -1.917549481709512,
          -0.13155229696570558,
          -3.2816101894363627,
          "",
          "",
          -0.539882512631424,
          -0.9777270837889726,
          "",
          "",
          "",
          -0.9337880453413481,
          "",
          -2.0582436602275007,
          "",
          -1.4417753998955876,
          -0.9412398394547093,
          "",
          "",
          "",
          -1.7053774666199994,
          -0.41152804629887924,
          -1.30951177373549,
          "",
          -0.02082808044010065,
          "",
          "",
          -2.433046793868264,
          -1.1234472692451918,
          "",
          "",
          "",
          "",
          "",
          "",
          "",
          -1.8852669477460986,
          "",
          "",
          -0.5177805784966762,
          -0.9058917808953741,
          "",
          "",
          "",
          -1.4308697786701554,
          "",
          "",
          "",
          -2.968030350413704,
          -1.27459589079416,
          "",
          -0.6293478098084638,
          "",
          "",
          -0.06956426970801152,
          -1.326509660551641,
          -1.328985061967987,
          "",
          -1.6481967901190027,
          -2.450509337300945,
          -2.4842814852073167,
          "",
          -1.8982177657237949,
          "",
          "",
          -3.026890781369091,
          "",
          ""
         ],
         "yaxis": "y2"
        }
       ],
       "layout": {
        "hovermode": "x",
        "legend": {
         "bgcolor": "#F5F6F9",
         "font": {
          "color": "#4D5663"
         }
        },
        "paper_bgcolor": "#F5F6F9",
        "plot_bgcolor": "#F5F6F9",
        "template": {
         "data": {
          "bar": [
           {
            "error_x": {
             "color": "#2a3f5f"
            },
            "error_y": {
             "color": "#2a3f5f"
            },
            "marker": {
             "line": {
              "color": "#E5ECF6",
              "width": 0.5
             },
             "pattern": {
              "fillmode": "overlay",
              "size": 10,
              "solidity": 0.2
             }
            },
            "type": "bar"
           }
          ],
          "barpolar": [
           {
            "marker": {
             "line": {
              "color": "#E5ECF6",
              "width": 0.5
             },
             "pattern": {
              "fillmode": "overlay",
              "size": 10,
              "solidity": 0.2
             }
            },
            "type": "barpolar"
           }
          ],
          "carpet": [
           {
            "aaxis": {
             "endlinecolor": "#2a3f5f",
             "gridcolor": "white",
             "linecolor": "white",
             "minorgridcolor": "white",
             "startlinecolor": "#2a3f5f"
            },
            "baxis": {
             "endlinecolor": "#2a3f5f",
             "gridcolor": "white",
             "linecolor": "white",
             "minorgridcolor": "white",
             "startlinecolor": "#2a3f5f"
            },
            "type": "carpet"
           }
          ],
          "choropleth": [
           {
            "colorbar": {
             "outlinewidth": 0,
             "ticks": ""
            },
            "type": "choropleth"
           }
          ],
          "contour": [
           {
            "colorbar": {
             "outlinewidth": 0,
             "ticks": ""
            },
            "colorscale": [
             [
              0,
              "#0d0887"
             ],
             [
              0.1111111111111111,
              "#46039f"
             ],
             [
              0.2222222222222222,
              "#7201a8"
             ],
             [
              0.3333333333333333,
              "#9c179e"
             ],
             [
              0.4444444444444444,
              "#bd3786"
             ],
             [
              0.5555555555555556,
              "#d8576b"
             ],
             [
              0.6666666666666666,
              "#ed7953"
             ],
             [
              0.7777777777777778,
              "#fb9f3a"
             ],
             [
              0.8888888888888888,
              "#fdca26"
             ],
             [
              1,
              "#f0f921"
             ]
            ],
            "type": "contour"
           }
          ],
          "contourcarpet": [
           {
            "colorbar": {
             "outlinewidth": 0,
             "ticks": ""
            },
            "type": "contourcarpet"
           }
          ],
          "heatmap": [
           {
            "colorbar": {
             "outlinewidth": 0,
             "ticks": ""
            },
            "colorscale": [
             [
              0,
              "#0d0887"
             ],
             [
              0.1111111111111111,
              "#46039f"
             ],
             [
              0.2222222222222222,
              "#7201a8"
             ],
             [
              0.3333333333333333,
              "#9c179e"
             ],
             [
              0.4444444444444444,
              "#bd3786"
             ],
             [
              0.5555555555555556,
              "#d8576b"
             ],
             [
              0.6666666666666666,
              "#ed7953"
             ],
             [
              0.7777777777777778,
              "#fb9f3a"
             ],
             [
              0.8888888888888888,
              "#fdca26"
             ],
             [
              1,
              "#f0f921"
             ]
            ],
            "type": "heatmap"
           }
          ],
          "heatmapgl": [
           {
            "colorbar": {
             "outlinewidth": 0,
             "ticks": ""
            },
            "colorscale": [
             [
              0,
              "#0d0887"
             ],
             [
              0.1111111111111111,
              "#46039f"
             ],
             [
              0.2222222222222222,
              "#7201a8"
             ],
             [
              0.3333333333333333,
              "#9c179e"
             ],
             [
              0.4444444444444444,
              "#bd3786"
             ],
             [
              0.5555555555555556,
              "#d8576b"
             ],
             [
              0.6666666666666666,
              "#ed7953"
             ],
             [
              0.7777777777777778,
              "#fb9f3a"
             ],
             [
              0.8888888888888888,
              "#fdca26"
             ],
             [
              1,
              "#f0f921"
             ]
            ],
            "type": "heatmapgl"
           }
          ],
          "histogram": [
           {
            "marker": {
             "pattern": {
              "fillmode": "overlay",
              "size": 10,
              "solidity": 0.2
             }
            },
            "type": "histogram"
           }
          ],
          "histogram2d": [
           {
            "colorbar": {
             "outlinewidth": 0,
             "ticks": ""
            },
            "colorscale": [
             [
              0,
              "#0d0887"
             ],
             [
              0.1111111111111111,
              "#46039f"
             ],
             [
              0.2222222222222222,
              "#7201a8"
             ],
             [
              0.3333333333333333,
              "#9c179e"
             ],
             [
              0.4444444444444444,
              "#bd3786"
             ],
             [
              0.5555555555555556,
              "#d8576b"
             ],
             [
              0.6666666666666666,
              "#ed7953"
             ],
             [
              0.7777777777777778,
              "#fb9f3a"
             ],
             [
              0.8888888888888888,
              "#fdca26"
             ],
             [
              1,
              "#f0f921"
             ]
            ],
            "type": "histogram2d"
           }
          ],
          "histogram2dcontour": [
           {
            "colorbar": {
             "outlinewidth": 0,
             "ticks": ""
            },
            "colorscale": [
             [
              0,
              "#0d0887"
             ],
             [
              0.1111111111111111,
              "#46039f"
             ],
             [
              0.2222222222222222,
              "#7201a8"
             ],
             [
              0.3333333333333333,
              "#9c179e"
             ],
             [
              0.4444444444444444,
              "#bd3786"
             ],
             [
              0.5555555555555556,
              "#d8576b"
             ],
             [
              0.6666666666666666,
              "#ed7953"
             ],
             [
              0.7777777777777778,
              "#fb9f3a"
             ],
             [
              0.8888888888888888,
              "#fdca26"
             ],
             [
              1,
              "#f0f921"
             ]
            ],
            "type": "histogram2dcontour"
           }
          ],
          "mesh3d": [
           {
            "colorbar": {
             "outlinewidth": 0,
             "ticks": ""
            },
            "type": "mesh3d"
           }
          ],
          "parcoords": [
           {
            "line": {
             "colorbar": {
              "outlinewidth": 0,
              "ticks": ""
             }
            },
            "type": "parcoords"
           }
          ],
          "pie": [
           {
            "automargin": true,
            "type": "pie"
           }
          ],
          "scatter": [
           {
            "fillpattern": {
             "fillmode": "overlay",
             "size": 10,
             "solidity": 0.2
            },
            "type": "scatter"
           }
          ],
          "scatter3d": [
           {
            "line": {
             "colorbar": {
              "outlinewidth": 0,
              "ticks": ""
             }
            },
            "marker": {
             "colorbar": {
              "outlinewidth": 0,
              "ticks": ""
             }
            },
            "type": "scatter3d"
           }
          ],
          "scattercarpet": [
           {
            "marker": {
             "colorbar": {
              "outlinewidth": 0,
              "ticks": ""
             }
            },
            "type": "scattercarpet"
           }
          ],
          "scattergeo": [
           {
            "marker": {
             "colorbar": {
              "outlinewidth": 0,
              "ticks": ""
             }
            },
            "type": "scattergeo"
           }
          ],
          "scattergl": [
           {
            "marker": {
             "colorbar": {
              "outlinewidth": 0,
              "ticks": ""
             }
            },
            "type": "scattergl"
           }
          ],
          "scattermapbox": [
           {
            "marker": {
             "colorbar": {
              "outlinewidth": 0,
              "ticks": ""
             }
            },
            "type": "scattermapbox"
           }
          ],
          "scatterpolar": [
           {
            "marker": {
             "colorbar": {
              "outlinewidth": 0,
              "ticks": ""
             }
            },
            "type": "scatterpolar"
           }
          ],
          "scatterpolargl": [
           {
            "marker": {
             "colorbar": {
              "outlinewidth": 0,
              "ticks": ""
             }
            },
            "type": "scatterpolargl"
           }
          ],
          "scatterternary": [
           {
            "marker": {
             "colorbar": {
              "outlinewidth": 0,
              "ticks": ""
             }
            },
            "type": "scatterternary"
           }
          ],
          "surface": [
           {
            "colorbar": {
             "outlinewidth": 0,
             "ticks": ""
            },
            "colorscale": [
             [
              0,
              "#0d0887"
             ],
             [
              0.1111111111111111,
              "#46039f"
             ],
             [
              0.2222222222222222,
              "#7201a8"
             ],
             [
              0.3333333333333333,
              "#9c179e"
             ],
             [
              0.4444444444444444,
              "#bd3786"
             ],
             [
              0.5555555555555556,
              "#d8576b"
             ],
             [
              0.6666666666666666,
              "#ed7953"
             ],
             [
              0.7777777777777778,
              "#fb9f3a"
             ],
             [
              0.8888888888888888,
              "#fdca26"
             ],
             [
              1,
              "#f0f921"
             ]
            ],
            "type": "surface"
           }
          ],
          "table": [
           {
            "cells": {
             "fill": {
              "color": "#EBF0F8"
             },
             "line": {
              "color": "white"
             }
            },
            "header": {
             "fill": {
              "color": "#C8D4E3"
             },
             "line": {
              "color": "white"
             }
            },
            "type": "table"
           }
          ]
         },
         "layout": {
          "annotationdefaults": {
           "arrowcolor": "#2a3f5f",
           "arrowhead": 0,
           "arrowwidth": 1
          },
          "autotypenumbers": "strict",
          "coloraxis": {
           "colorbar": {
            "outlinewidth": 0,
            "ticks": ""
           }
          },
          "colorscale": {
           "diverging": [
            [
             0,
             "#8e0152"
            ],
            [
             0.1,
             "#c51b7d"
            ],
            [
             0.2,
             "#de77ae"
            ],
            [
             0.3,
             "#f1b6da"
            ],
            [
             0.4,
             "#fde0ef"
            ],
            [
             0.5,
             "#f7f7f7"
            ],
            [
             0.6,
             "#e6f5d0"
            ],
            [
             0.7,
             "#b8e186"
            ],
            [
             0.8,
             "#7fbc41"
            ],
            [
             0.9,
             "#4d9221"
            ],
            [
             1,
             "#276419"
            ]
           ],
           "sequential": [
            [
             0,
             "#0d0887"
            ],
            [
             0.1111111111111111,
             "#46039f"
            ],
            [
             0.2222222222222222,
             "#7201a8"
            ],
            [
             0.3333333333333333,
             "#9c179e"
            ],
            [
             0.4444444444444444,
             "#bd3786"
            ],
            [
             0.5555555555555556,
             "#d8576b"
            ],
            [
             0.6666666666666666,
             "#ed7953"
            ],
            [
             0.7777777777777778,
             "#fb9f3a"
            ],
            [
             0.8888888888888888,
             "#fdca26"
            ],
            [
             1,
             "#f0f921"
            ]
           ],
           "sequentialminus": [
            [
             0,
             "#0d0887"
            ],
            [
             0.1111111111111111,
             "#46039f"
            ],
            [
             0.2222222222222222,
             "#7201a8"
            ],
            [
             0.3333333333333333,
             "#9c179e"
            ],
            [
             0.4444444444444444,
             "#bd3786"
            ],
            [
             0.5555555555555556,
             "#d8576b"
            ],
            [
             0.6666666666666666,
             "#ed7953"
            ],
            [
             0.7777777777777778,
             "#fb9f3a"
            ],
            [
             0.8888888888888888,
             "#fdca26"
            ],
            [
             1,
             "#f0f921"
            ]
           ]
          },
          "colorway": [
           "#636efa",
           "#EF553B",
           "#00cc96",
           "#ab63fa",
           "#FFA15A",
           "#19d3f3",
           "#FF6692",
           "#B6E880",
           "#FF97FF",
           "#FECB52"
          ],
          "font": {
           "color": "#2a3f5f"
          },
          "geo": {
           "bgcolor": "white",
           "lakecolor": "white",
           "landcolor": "#E5ECF6",
           "showlakes": true,
           "showland": true,
           "subunitcolor": "white"
          },
          "hoverlabel": {
           "align": "left"
          },
          "hovermode": "closest",
          "mapbox": {
           "style": "light"
          },
          "paper_bgcolor": "white",
          "plot_bgcolor": "#E5ECF6",
          "polar": {
           "angularaxis": {
            "gridcolor": "white",
            "linecolor": "white",
            "ticks": ""
           },
           "bgcolor": "#E5ECF6",
           "radialaxis": {
            "gridcolor": "white",
            "linecolor": "white",
            "ticks": ""
           }
          },
          "scene": {
           "xaxis": {
            "backgroundcolor": "#E5ECF6",
            "gridcolor": "white",
            "gridwidth": 2,
            "linecolor": "white",
            "showbackground": true,
            "ticks": "",
            "zerolinecolor": "white"
           },
           "yaxis": {
            "backgroundcolor": "#E5ECF6",
            "gridcolor": "white",
            "gridwidth": 2,
            "linecolor": "white",
            "showbackground": true,
            "ticks": "",
            "zerolinecolor": "white"
           },
           "zaxis": {
            "backgroundcolor": "#E5ECF6",
            "gridcolor": "white",
            "gridwidth": 2,
            "linecolor": "white",
            "showbackground": true,
            "ticks": "",
            "zerolinecolor": "white"
           }
          },
          "shapedefaults": {
           "line": {
            "color": "#2a3f5f"
           }
          },
          "ternary": {
           "aaxis": {
            "gridcolor": "white",
            "linecolor": "white",
            "ticks": ""
           },
           "baxis": {
            "gridcolor": "white",
            "linecolor": "white",
            "ticks": ""
           },
           "bgcolor": "#E5ECF6",
           "caxis": {
            "gridcolor": "white",
            "linecolor": "white",
            "ticks": ""
           }
          },
          "title": {
           "x": 0.05
          },
          "xaxis": {
           "automargin": true,
           "gridcolor": "white",
           "linecolor": "white",
           "ticks": "",
           "title": {
            "standoff": 15
           },
           "zerolinecolor": "white",
           "zerolinewidth": 2
          },
          "yaxis": {
           "automargin": true,
           "gridcolor": "white",
           "linecolor": "white",
           "ticks": "",
           "title": {
            "standoff": 15
           },
           "zerolinecolor": "white",
           "zerolinewidth": 2
          }
         }
        },
        "title": {
         "font": {
          "color": "#4D5663"
         }
        },
        "xaxis": {
         "gridcolor": "#E1E5ED",
         "showgrid": true,
         "tickfont": {
          "color": "#4D5663"
         },
         "title": {
          "font": {
           "color": "#4D5663"
          },
          "text": ""
         },
         "zerolinecolor": "#E1E5ED"
        },
        "xaxis2": {
         "anchor": "y2",
         "gridcolor": "#E1E5ED",
         "showgrid": true,
         "showticklabels": false,
         "tickfont": {
          "color": "#4D5663"
         },
         "title": {
          "font": {
           "color": "#4D5663"
          },
          "text": ""
         },
         "zerolinecolor": "#E1E5ED"
        },
        "yaxis": {
         "domain": [
          0.3,
          1
         ],
         "gridcolor": "#E1E5ED",
         "showgrid": true,
         "tickfont": {
          "color": "#4D5663"
         },
         "title": {
          "font": {
           "color": "#4D5663"
          },
          "text": ""
         },
         "zerolinecolor": "#E1E5ED"
        },
        "yaxis2": {
         "domain": [
          0,
          0.25
         ],
         "gridcolor": "#E1E5ED",
         "showgrid": true,
         "tickfont": {
          "color": "#4D5663"
         },
         "title": {
          "font": {
           "color": "#4D5663"
          },
          "text": "Spread"
         },
         "zerolinecolor": "#E1E5ED"
        }
       }
      },
      "text/html": [
       "<div>                            <div id=\"a519611d-6f99-4f85-bc10-145410585f55\" class=\"plotly-graph-div\" style=\"height:525px; width:100%;\"></div>            <script type=\"text/javascript\">                require([\"plotly\"], function(Plotly) {                    window.PLOTLYENV=window.PLOTLYENV || {};\n",
       "                    window.PLOTLYENV.BASE_URL='https://plot.ly';                                    if (document.getElementById(\"a519611d-6f99-4f85-bc10-145410585f55\")) {                    Plotly.newPlot(                        \"a519611d-6f99-4f85-bc10-145410585f55\",                        [{\"line\":{\"color\":\"rgba(255, 153, 51, 1.0)\",\"dash\":\"solid\",\"shape\":\"linear\",\"width\":1.3},\"mode\":\"lines\",\"name\":\"A\",\"text\":\"\",\"x\":[0,1,2,3,4,5,6,7,8,9,10,11,12,13,14,15,16,17,18,19,20,21,22,23,24,25,26,27,28,29,30,31,32,33,34,35,36,37,38,39,40,41,42,43,44,45,46,47,48,49,50,51,52,53,54,55,56,57,58,59,60,61,62,63,64,65,66,67,68,69,70,71,72,73,74,75,76,77,78,79,80,81,82,83,84,85,86,87,88,89,90,91,92,93,94,95,96,97,98,99],\"y\":[-1.5744069188809882,0.2919965937061701,-0.20987911018127825,1.4072243870576893,0.5984723796355707,-0.2744220558333609,0.017729177103530606,-1.4785228691304597,0.45485788895139434,0.7817522785186537,0.6158030135086989,0.20802408355881027,-0.9111899216311535,-0.5382498735341864,2.2762676193980482,-1.3159624487677273,-0.06275163823087321,-0.4815939833334281,0.24651562164010077,0.5128628101495492,-0.2088905846667024,-0.37961744382809437,-1.3750740367784493,-0.1440449218155529,-0.6913576335249373,-0.8765044012890313,1.5299431347988888,0.3492702609917798,0.8632771989810265,0.2599651123227867,-0.7226945310100287,-0.5214214959940227,-0.6701981378685836,-1.6376029981808569,-1.1005326319176798,-2.0990592385751654,0.9648940123270464,-0.7199413985460938,0.09503131401757643,-0.5629431738077807,1.0803145448231073,0.8972983341827394,1.8248328731964814,-1.0171487169752407,-0.10207657386959489,-0.9962484521182952,-0.2958514481504522,-0.8607863376679893,0.2860450974872978,-0.9935693485120408,-0.39627560768952946,0.8951387380632714,-1.5007119405734002,0.07588767461740342,-0.22972784324619358,1.1166806807792315,-0.6412361428214182,1.4433582217204095,0.8313925941737207,-1.2607458874475315,-0.5179577520575765,0.2942700620890089,1.4727361516699482,0.17341433018348343,-1.0770753575548573,0.10533370002320529,0.0793294308116233,-1.2209897048108995,-0.8474131221067496,0.4140503688588217,1.7235576738547156,0.2866510056446499,-1.3814385683659007,-0.43750975085760285,0.18836090635740865,0.665859181474303,-0.9483973704483861,-0.8046482102273977,1.0051984408320216,-0.6749142511199132,-1.9239795201339824,-1.1442081980896393,0.48266997736509804,0.0975543014512976,-0.1984691597006762,-0.03426534605026892,-0.297829988581982,-0.908952261148527,-0.640552122171676,2.36128954662639,-1.0401492611610879,-0.666139394408712,-1.4197630539022021,-0.22321839664823442,-0.6253401945309588,0.4621300236937175,0.4284540858073102,-1.411894453558689,-0.5203770031024622,-0.3419949085418646],\"type\":\"scatter\"},{\"line\":{\"color\":\"rgba(55, 128, 191, 1.0)\",\"dash\":\"solid\",\"shape\":\"linear\",\"width\":1.3},\"mode\":\"lines\",\"name\":\"B\",\"text\":\"\",\"x\":[0,1,2,3,4,5,6,7,8,9,10,11,12,13,14,15,16,17,18,19,20,21,22,23,24,25,26,27,28,29,30,31,32,33,34,35,36,37,38,39,40,41,42,43,44,45,46,47,48,49,50,51,52,53,54,55,56,57,58,59,60,61,62,63,64,65,66,67,68,69,70,71,72,73,74,75,76,77,78,79,80,81,82,83,84,85,86,87,88,89,90,91,92,93,94,95,96,97,98,99],\"y\":[-0.16301927573326747,-0.48711484848482545,-2.151495874975196,-0.654841755684685,0.6295959841572122,-0.8622360025956758,-0.7769629600854723,1.141384587800869,2.3864706479233844,0.9299078566189861,0.4555732303265823,0.32647238553721564,-0.6803360397686434,-0.8102760959813967,1.4848181818102724,0.5291945647751306,1.4353440017023873,-0.5026056619198886,-0.5800213198181711,-0.09606149483386926,-0.5768704701146251,-0.9372294832680503,-0.08510356635600864,0.37212959201504026,-1.362462924687948,0.8806989154386949,-0.8358694207263032,-0.28953059607877285,-0.5011078163710999,-0.43790828913824986,-0.6514598584332857,0.6002289489726451,0.22186817296233421,0.27994648352865514,-0.9689803349519742,1.1825509508611973,0.04780373093205452,-2.716968073246881,0.6349138266490004,0.41478390998119186,0.8246493600925106,0.4930703351281199,0.6487322832414203,-0.08336067163389263,-1.3049247995275077,1.0619952081092054,-0.7227073628981311,0.5809890622275982,1.2272849369420071,-1.510539737682553,-0.7456146006935016,-1.2750149926211962,0.20466552604659938,0.48741572091628266,1.0797839304892964,0.2896592763134485,-0.6204080623813175,0.9488442025282456,-0.8011395533914448,1.1723009064207326,0.6054895171876152,0.04816408029720471,-0.13535894381818353,-0.8965841075311023,-1.954615214342892,-0.15472804753915848,-0.9524201139436,-1.5291955641115345,1.037853825639349,0.1875096616869887,-0.5588917015575369,0.8044315841413262,-0.47554678747052664,-0.6213643969232366,-0.8184197648045224,-0.11121577771197998,0.4824724082217693,-2.032159511239236,0.6878192901007198,-0.8075923737337249,1.0440508302797218,0.1303876927045207,-1.980567271026737,0.7269021112597615,-0.9504440925098565,-0.7352991807724102,-0.22826571887397049,0.4175573994031141,0.6884329397963111,0.5481622573258714,0.6080475289579149,1.7843699428922326,1.0645184313051146,-1.2657980679905936,1.2728775711928362,-0.6676306193331588,-0.9306861770987371,1.6149963278104023,-1.2152379938641267,-0.9470164897283213],\"type\":\"scatter\"},{\"connectgaps\":false,\"fill\":\"tozeroy\",\"line\":{\"color\":\"green\",\"dash\":\"solid\",\"shape\":\"linear\",\"width\":0.5},\"mode\":\"lines\",\"name\":\"Spread\",\"showlegend\":false,\"x\":[0,1,2,3,4,5,6,7,8,9,10,11,12,13,14,15,16,17,18,19,20,21,22,23,24,25,26,27,28,29,30,31,32,33,34,35,36,37,38,39,40,41,42,43,44,45,46,47,48,49,50,51,52,53,54,55,56,57,58,59,60,61,62,63,64,65,66,67,68,69,70,71,72,73,74,75,76,77,78,79,80,81,82,83,84,85,86,87,88,89,90,91,92,93,94,95,96,97,98,99],\"xaxis\":\"x2\",\"y\":[\"\",0.7791114421909955,1.9416167647939178,2.062066142742374,\"\",0.5878139467623149,0.7946921371890029,\"\",\"\",\"\",0.16022978318211661,\"\",\"\",0.2720262224472103,0.7914494375877759,\"\",\"\",0.021011678586460525,0.8265369414582718,0.6089243049834184,0.3679798854479227,0.557612039439956,\"\",\"\",0.6711052911630108,\"\",2.365812555525192,0.6388008570705527,1.3643850153521264,0.6978734014610366,\"\",\"\",\"\",\"\",\"\",\"\",0.9170902813949919,1.9970266747007872,\"\",\"\",0.25566518473059674,0.40422799905461954,1.1761005899550612,\"\",1.202848225657913,\"\",0.42685591474767887,\"\",\"\",0.5169703891705121,0.34933899300397214,2.1701537306844676,\"\",\"\",\"\",0.8270214044657831,\"\",0.49451401919216387,1.6325321475651655,\"\",\"\",0.2461059817918042,1.6080950954881317,1.0699984377145857,0.8775398567880348,0.2600617475623638,1.0317495447552234,0.30820585930063493,\"\",0.22654070717183297,2.2824493754122526,\"\",\"\",0.1838546460656338,1.006780671161931,0.777074959186283,\"\",1.2275113010118381,0.31737915073130174,0.13267812261381173,\"\",\"\",2.463237248391835,\"\",0.7519749328091803,0.7010338347221413,\"\",\"\",\"\",1.8131272893005188,\"\",\"\",\"\",1.0425796713423592,\"\",1.1297606430268763,1.3591402629060474,\"\",0.6948609907616645,0.6050215811864568],\"yaxis\":\"y2\",\"type\":\"scatter\"},{\"connectgaps\":false,\"fill\":\"tozeroy\",\"line\":{\"color\":\"red\",\"dash\":\"solid\",\"shape\":\"linear\",\"width\":0.5},\"mode\":\"lines\",\"name\":\"Spread\",\"showlegend\":false,\"x\":[0,1,2,3,4,5,6,7,8,9,10,11,12,13,14,15,16,17,18,19,20,21,22,23,24,25,26,27,28,29,30,31,32,33,34,35,36,37,38,39,40,41,42,43,44,45,46,47,48,49,50,51,52,53,54,55,56,57,58,59,60,61,62,63,64,65,66,67,68,69,70,71,72,73,74,75,76,77,78,79,80,81,82,83,84,85,86,87,88,89,90,91,92,93,94,95,96,97,98,99],\"xaxis\":\"x2\",\"y\":[-1.4113876431477208,\"\",\"\",\"\",-0.031123604521641535,\"\",\"\",-2.6199074569313288,-1.93161275897199,-0.14815557810033242,\"\",-0.11844830197840536,-0.2308538818625101,\"\",\"\",-1.8451570135428579,-1.4980956399332606,\"\",\"\",\"\",\"\",\"\",-1.2899704704224406,-0.5161745138305931,\"\",-1.7572033167277263,\"\",\"\",\"\",\"\",-0.07123467257674299,-1.1216504449666678,-0.8920663108309178,-1.917549481709512,-0.13155229696570558,-3.2816101894363627,\"\",\"\",-0.539882512631424,-0.9777270837889726,\"\",\"\",\"\",-0.9337880453413481,\"\",-2.0582436602275007,\"\",-1.4417753998955876,-0.9412398394547093,\"\",\"\",\"\",-1.7053774666199994,-0.41152804629887924,-1.30951177373549,\"\",-0.02082808044010065,\"\",\"\",-2.433046793868264,-1.1234472692451918,\"\",\"\",\"\",\"\",\"\",\"\",\"\",-1.8852669477460986,\"\",\"\",-0.5177805784966762,-0.9058917808953741,\"\",\"\",\"\",-1.4308697786701554,\"\",\"\",\"\",-2.968030350413704,-1.27459589079416,\"\",-0.6293478098084638,\"\",\"\",-0.06956426970801152,-1.326509660551641,-1.328985061967987,\"\",-1.6481967901190027,-2.450509337300945,-2.4842814852073167,\"\",-1.8982177657237949,\"\",\"\",-3.026890781369091,\"\",\"\"],\"yaxis\":\"y2\",\"type\":\"scatter\"}],                        {\"hovermode\":\"x\",\"legend\":{\"bgcolor\":\"#F5F6F9\",\"font\":{\"color\":\"#4D5663\"}},\"paper_bgcolor\":\"#F5F6F9\",\"plot_bgcolor\":\"#F5F6F9\",\"template\":{\"data\":{\"barpolar\":[{\"marker\":{\"line\":{\"color\":\"#E5ECF6\",\"width\":0.5},\"pattern\":{\"fillmode\":\"overlay\",\"size\":10,\"solidity\":0.2}},\"type\":\"barpolar\"}],\"bar\":[{\"error_x\":{\"color\":\"#2a3f5f\"},\"error_y\":{\"color\":\"#2a3f5f\"},\"marker\":{\"line\":{\"color\":\"#E5ECF6\",\"width\":0.5},\"pattern\":{\"fillmode\":\"overlay\",\"size\":10,\"solidity\":0.2}},\"type\":\"bar\"}],\"carpet\":[{\"aaxis\":{\"endlinecolor\":\"#2a3f5f\",\"gridcolor\":\"white\",\"linecolor\":\"white\",\"minorgridcolor\":\"white\",\"startlinecolor\":\"#2a3f5f\"},\"baxis\":{\"endlinecolor\":\"#2a3f5f\",\"gridcolor\":\"white\",\"linecolor\":\"white\",\"minorgridcolor\":\"white\",\"startlinecolor\":\"#2a3f5f\"},\"type\":\"carpet\"}],\"choropleth\":[{\"colorbar\":{\"outlinewidth\":0,\"ticks\":\"\"},\"type\":\"choropleth\"}],\"contourcarpet\":[{\"colorbar\":{\"outlinewidth\":0,\"ticks\":\"\"},\"type\":\"contourcarpet\"}],\"contour\":[{\"colorbar\":{\"outlinewidth\":0,\"ticks\":\"\"},\"colorscale\":[[0.0,\"#0d0887\"],[0.1111111111111111,\"#46039f\"],[0.2222222222222222,\"#7201a8\"],[0.3333333333333333,\"#9c179e\"],[0.4444444444444444,\"#bd3786\"],[0.5555555555555556,\"#d8576b\"],[0.6666666666666666,\"#ed7953\"],[0.7777777777777778,\"#fb9f3a\"],[0.8888888888888888,\"#fdca26\"],[1.0,\"#f0f921\"]],\"type\":\"contour\"}],\"heatmapgl\":[{\"colorbar\":{\"outlinewidth\":0,\"ticks\":\"\"},\"colorscale\":[[0.0,\"#0d0887\"],[0.1111111111111111,\"#46039f\"],[0.2222222222222222,\"#7201a8\"],[0.3333333333333333,\"#9c179e\"],[0.4444444444444444,\"#bd3786\"],[0.5555555555555556,\"#d8576b\"],[0.6666666666666666,\"#ed7953\"],[0.7777777777777778,\"#fb9f3a\"],[0.8888888888888888,\"#fdca26\"],[1.0,\"#f0f921\"]],\"type\":\"heatmapgl\"}],\"heatmap\":[{\"colorbar\":{\"outlinewidth\":0,\"ticks\":\"\"},\"colorscale\":[[0.0,\"#0d0887\"],[0.1111111111111111,\"#46039f\"],[0.2222222222222222,\"#7201a8\"],[0.3333333333333333,\"#9c179e\"],[0.4444444444444444,\"#bd3786\"],[0.5555555555555556,\"#d8576b\"],[0.6666666666666666,\"#ed7953\"],[0.7777777777777778,\"#fb9f3a\"],[0.8888888888888888,\"#fdca26\"],[1.0,\"#f0f921\"]],\"type\":\"heatmap\"}],\"histogram2dcontour\":[{\"colorbar\":{\"outlinewidth\":0,\"ticks\":\"\"},\"colorscale\":[[0.0,\"#0d0887\"],[0.1111111111111111,\"#46039f\"],[0.2222222222222222,\"#7201a8\"],[0.3333333333333333,\"#9c179e\"],[0.4444444444444444,\"#bd3786\"],[0.5555555555555556,\"#d8576b\"],[0.6666666666666666,\"#ed7953\"],[0.7777777777777778,\"#fb9f3a\"],[0.8888888888888888,\"#fdca26\"],[1.0,\"#f0f921\"]],\"type\":\"histogram2dcontour\"}],\"histogram2d\":[{\"colorbar\":{\"outlinewidth\":0,\"ticks\":\"\"},\"colorscale\":[[0.0,\"#0d0887\"],[0.1111111111111111,\"#46039f\"],[0.2222222222222222,\"#7201a8\"],[0.3333333333333333,\"#9c179e\"],[0.4444444444444444,\"#bd3786\"],[0.5555555555555556,\"#d8576b\"],[0.6666666666666666,\"#ed7953\"],[0.7777777777777778,\"#fb9f3a\"],[0.8888888888888888,\"#fdca26\"],[1.0,\"#f0f921\"]],\"type\":\"histogram2d\"}],\"histogram\":[{\"marker\":{\"pattern\":{\"fillmode\":\"overlay\",\"size\":10,\"solidity\":0.2}},\"type\":\"histogram\"}],\"mesh3d\":[{\"colorbar\":{\"outlinewidth\":0,\"ticks\":\"\"},\"type\":\"mesh3d\"}],\"parcoords\":[{\"line\":{\"colorbar\":{\"outlinewidth\":0,\"ticks\":\"\"}},\"type\":\"parcoords\"}],\"pie\":[{\"automargin\":true,\"type\":\"pie\"}],\"scatter3d\":[{\"line\":{\"colorbar\":{\"outlinewidth\":0,\"ticks\":\"\"}},\"marker\":{\"colorbar\":{\"outlinewidth\":0,\"ticks\":\"\"}},\"type\":\"scatter3d\"}],\"scattercarpet\":[{\"marker\":{\"colorbar\":{\"outlinewidth\":0,\"ticks\":\"\"}},\"type\":\"scattercarpet\"}],\"scattergeo\":[{\"marker\":{\"colorbar\":{\"outlinewidth\":0,\"ticks\":\"\"}},\"type\":\"scattergeo\"}],\"scattergl\":[{\"marker\":{\"colorbar\":{\"outlinewidth\":0,\"ticks\":\"\"}},\"type\":\"scattergl\"}],\"scattermapbox\":[{\"marker\":{\"colorbar\":{\"outlinewidth\":0,\"ticks\":\"\"}},\"type\":\"scattermapbox\"}],\"scatterpolargl\":[{\"marker\":{\"colorbar\":{\"outlinewidth\":0,\"ticks\":\"\"}},\"type\":\"scatterpolargl\"}],\"scatterpolar\":[{\"marker\":{\"colorbar\":{\"outlinewidth\":0,\"ticks\":\"\"}},\"type\":\"scatterpolar\"}],\"scatter\":[{\"fillpattern\":{\"fillmode\":\"overlay\",\"size\":10,\"solidity\":0.2},\"type\":\"scatter\"}],\"scatterternary\":[{\"marker\":{\"colorbar\":{\"outlinewidth\":0,\"ticks\":\"\"}},\"type\":\"scatterternary\"}],\"surface\":[{\"colorbar\":{\"outlinewidth\":0,\"ticks\":\"\"},\"colorscale\":[[0.0,\"#0d0887\"],[0.1111111111111111,\"#46039f\"],[0.2222222222222222,\"#7201a8\"],[0.3333333333333333,\"#9c179e\"],[0.4444444444444444,\"#bd3786\"],[0.5555555555555556,\"#d8576b\"],[0.6666666666666666,\"#ed7953\"],[0.7777777777777778,\"#fb9f3a\"],[0.8888888888888888,\"#fdca26\"],[1.0,\"#f0f921\"]],\"type\":\"surface\"}],\"table\":[{\"cells\":{\"fill\":{\"color\":\"#EBF0F8\"},\"line\":{\"color\":\"white\"}},\"header\":{\"fill\":{\"color\":\"#C8D4E3\"},\"line\":{\"color\":\"white\"}},\"type\":\"table\"}]},\"layout\":{\"annotationdefaults\":{\"arrowcolor\":\"#2a3f5f\",\"arrowhead\":0,\"arrowwidth\":1},\"autotypenumbers\":\"strict\",\"coloraxis\":{\"colorbar\":{\"outlinewidth\":0,\"ticks\":\"\"}},\"colorscale\":{\"diverging\":[[0,\"#8e0152\"],[0.1,\"#c51b7d\"],[0.2,\"#de77ae\"],[0.3,\"#f1b6da\"],[0.4,\"#fde0ef\"],[0.5,\"#f7f7f7\"],[0.6,\"#e6f5d0\"],[0.7,\"#b8e186\"],[0.8,\"#7fbc41\"],[0.9,\"#4d9221\"],[1,\"#276419\"]],\"sequential\":[[0.0,\"#0d0887\"],[0.1111111111111111,\"#46039f\"],[0.2222222222222222,\"#7201a8\"],[0.3333333333333333,\"#9c179e\"],[0.4444444444444444,\"#bd3786\"],[0.5555555555555556,\"#d8576b\"],[0.6666666666666666,\"#ed7953\"],[0.7777777777777778,\"#fb9f3a\"],[0.8888888888888888,\"#fdca26\"],[1.0,\"#f0f921\"]],\"sequentialminus\":[[0.0,\"#0d0887\"],[0.1111111111111111,\"#46039f\"],[0.2222222222222222,\"#7201a8\"],[0.3333333333333333,\"#9c179e\"],[0.4444444444444444,\"#bd3786\"],[0.5555555555555556,\"#d8576b\"],[0.6666666666666666,\"#ed7953\"],[0.7777777777777778,\"#fb9f3a\"],[0.8888888888888888,\"#fdca26\"],[1.0,\"#f0f921\"]]},\"colorway\":[\"#636efa\",\"#EF553B\",\"#00cc96\",\"#ab63fa\",\"#FFA15A\",\"#19d3f3\",\"#FF6692\",\"#B6E880\",\"#FF97FF\",\"#FECB52\"],\"font\":{\"color\":\"#2a3f5f\"},\"geo\":{\"bgcolor\":\"white\",\"lakecolor\":\"white\",\"landcolor\":\"#E5ECF6\",\"showlakes\":true,\"showland\":true,\"subunitcolor\":\"white\"},\"hoverlabel\":{\"align\":\"left\"},\"hovermode\":\"closest\",\"mapbox\":{\"style\":\"light\"},\"paper_bgcolor\":\"white\",\"plot_bgcolor\":\"#E5ECF6\",\"polar\":{\"angularaxis\":{\"gridcolor\":\"white\",\"linecolor\":\"white\",\"ticks\":\"\"},\"bgcolor\":\"#E5ECF6\",\"radialaxis\":{\"gridcolor\":\"white\",\"linecolor\":\"white\",\"ticks\":\"\"}},\"scene\":{\"xaxis\":{\"backgroundcolor\":\"#E5ECF6\",\"gridcolor\":\"white\",\"gridwidth\":2,\"linecolor\":\"white\",\"showbackground\":true,\"ticks\":\"\",\"zerolinecolor\":\"white\"},\"yaxis\":{\"backgroundcolor\":\"#E5ECF6\",\"gridcolor\":\"white\",\"gridwidth\":2,\"linecolor\":\"white\",\"showbackground\":true,\"ticks\":\"\",\"zerolinecolor\":\"white\"},\"zaxis\":{\"backgroundcolor\":\"#E5ECF6\",\"gridcolor\":\"white\",\"gridwidth\":2,\"linecolor\":\"white\",\"showbackground\":true,\"ticks\":\"\",\"zerolinecolor\":\"white\"}},\"shapedefaults\":{\"line\":{\"color\":\"#2a3f5f\"}},\"ternary\":{\"aaxis\":{\"gridcolor\":\"white\",\"linecolor\":\"white\",\"ticks\":\"\"},\"baxis\":{\"gridcolor\":\"white\",\"linecolor\":\"white\",\"ticks\":\"\"},\"bgcolor\":\"#E5ECF6\",\"caxis\":{\"gridcolor\":\"white\",\"linecolor\":\"white\",\"ticks\":\"\"}},\"title\":{\"x\":0.05},\"xaxis\":{\"automargin\":true,\"gridcolor\":\"white\",\"linecolor\":\"white\",\"ticks\":\"\",\"title\":{\"standoff\":15},\"zerolinecolor\":\"white\",\"zerolinewidth\":2},\"yaxis\":{\"automargin\":true,\"gridcolor\":\"white\",\"linecolor\":\"white\",\"ticks\":\"\",\"title\":{\"standoff\":15},\"zerolinecolor\":\"white\",\"zerolinewidth\":2}}},\"title\":{\"font\":{\"color\":\"#4D5663\"}},\"xaxis\":{\"gridcolor\":\"#E1E5ED\",\"showgrid\":true,\"tickfont\":{\"color\":\"#4D5663\"},\"title\":{\"font\":{\"color\":\"#4D5663\"},\"text\":\"\"},\"zerolinecolor\":\"#E1E5ED\"},\"yaxis\":{\"domain\":[0.3,1],\"gridcolor\":\"#E1E5ED\",\"showgrid\":true,\"tickfont\":{\"color\":\"#4D5663\"},\"title\":{\"font\":{\"color\":\"#4D5663\"},\"text\":\"\"},\"zerolinecolor\":\"#E1E5ED\"},\"yaxis2\":{\"domain\":[0,0.25],\"gridcolor\":\"#E1E5ED\",\"showgrid\":true,\"tickfont\":{\"color\":\"#4D5663\"},\"title\":{\"font\":{\"color\":\"#4D5663\"},\"text\":\"Spread\"},\"zerolinecolor\":\"#E1E5ED\"},\"xaxis2\":{\"anchor\":\"y2\",\"gridcolor\":\"#E1E5ED\",\"showgrid\":true,\"showticklabels\":false,\"tickfont\":{\"color\":\"#4D5663\"},\"title\":{\"font\":{\"color\":\"#4D5663\"},\"text\":\"\"},\"zerolinecolor\":\"#E1E5ED\"}},                        {\"showLink\": true, \"linkText\": \"Export to plot.ly\", \"plotlyServerURL\": \"https://plot.ly\", \"responsive\": true}                    ).then(function(){\n",
       "                            \n",
       "var gd = document.getElementById('a519611d-6f99-4f85-bc10-145410585f55');\n",
       "var x = new MutationObserver(function (mutations, observer) {{\n",
       "        var display = window.getComputedStyle(gd).display;\n",
       "        if (!display || display === 'none') {{\n",
       "            console.log([gd, 'removed!']);\n",
       "            Plotly.purge(gd);\n",
       "            observer.disconnect();\n",
       "        }}\n",
       "}});\n",
       "\n",
       "// Listen for the removal of the full notebook cells\n",
       "var notebookContainer = gd.closest('#notebook-container');\n",
       "if (notebookContainer) {{\n",
       "    x.observe(notebookContainer, {childList: true});\n",
       "}}\n",
       "\n",
       "// Listen for the clearing of the current output cell\n",
       "var outputEl = gd.closest('.output');\n",
       "if (outputEl) {{\n",
       "    x.observe(outputEl, {childList: true});\n",
       "}}\n",
       "\n",
       "                        })                };                });            </script>        </div>"
      ]
     },
     "metadata": {},
     "output_type": "display_data"
    }
   ],
   "source": [
    "df[['A','B']].iplot(kind='spread')"
   ]
  },
  {
   "cell_type": "markdown",
   "metadata": {},
   "source": [
    "## histogram"
   ]
  },
  {
   "cell_type": "code",
   "execution_count": 17,
   "metadata": {},
   "outputs": [
    {
     "data": {
      "application/vnd.plotly.v1+json": {
       "config": {
        "linkText": "Export to plot.ly",
        "plotlyServerURL": "https://plot.ly",
        "showLink": true
       },
       "data": [
        {
         "histfunc": "count",
         "histnorm": "",
         "marker": {
          "color": "rgba(255, 153, 51, 1.0)",
          "line": {
           "color": "#4D5663",
           "width": 1.3
          }
         },
         "name": "A",
         "nbinsx": 25,
         "opacity": 0.8,
         "orientation": "v",
         "type": "histogram",
         "x": [
          -1.5744069188809882,
          0.2919965937061701,
          -0.20987911018127825,
          1.4072243870576893,
          0.5984723796355707,
          -0.2744220558333609,
          0.017729177103530606,
          -1.4785228691304597,
          0.45485788895139434,
          0.7817522785186537,
          0.6158030135086989,
          0.20802408355881027,
          -0.9111899216311535,
          -0.5382498735341864,
          2.2762676193980482,
          -1.3159624487677273,
          -0.06275163823087321,
          -0.4815939833334281,
          0.24651562164010077,
          0.5128628101495492,
          -0.2088905846667024,
          -0.37961744382809437,
          -1.3750740367784493,
          -0.1440449218155529,
          -0.6913576335249373,
          -0.8765044012890313,
          1.5299431347988888,
          0.3492702609917798,
          0.8632771989810265,
          0.2599651123227867,
          -0.7226945310100287,
          -0.5214214959940227,
          -0.6701981378685836,
          -1.6376029981808569,
          -1.1005326319176798,
          -2.0990592385751654,
          0.9648940123270464,
          -0.7199413985460938,
          0.09503131401757643,
          -0.5629431738077807,
          1.0803145448231073,
          0.8972983341827394,
          1.8248328731964814,
          -1.0171487169752407,
          -0.10207657386959489,
          -0.9962484521182952,
          -0.2958514481504522,
          -0.8607863376679893,
          0.2860450974872978,
          -0.9935693485120408,
          -0.39627560768952946,
          0.8951387380632714,
          -1.5007119405734002,
          0.07588767461740342,
          -0.22972784324619358,
          1.1166806807792315,
          -0.6412361428214182,
          1.4433582217204095,
          0.8313925941737207,
          -1.2607458874475315,
          -0.5179577520575765,
          0.2942700620890089,
          1.4727361516699482,
          0.17341433018348343,
          -1.0770753575548573,
          0.10533370002320529,
          0.0793294308116233,
          -1.2209897048108995,
          -0.8474131221067496,
          0.4140503688588217,
          1.7235576738547156,
          0.2866510056446499,
          -1.3814385683659007,
          -0.43750975085760285,
          0.18836090635740865,
          0.665859181474303,
          -0.9483973704483861,
          -0.8046482102273977,
          1.0051984408320216,
          -0.6749142511199132,
          -1.9239795201339824,
          -1.1442081980896393,
          0.48266997736509804,
          0.0975543014512976,
          -0.1984691597006762,
          -0.03426534605026892,
          -0.297829988581982,
          -0.908952261148527,
          -0.640552122171676,
          2.36128954662639,
          -1.0401492611610879,
          -0.666139394408712,
          -1.4197630539022021,
          -0.22321839664823442,
          -0.6253401945309588,
          0.4621300236937175,
          0.4284540858073102,
          -1.411894453558689,
          -0.5203770031024622,
          -0.3419949085418646
         ]
        }
       ],
       "layout": {
        "barmode": "overlay",
        "legend": {
         "bgcolor": "#F5F6F9",
         "font": {
          "color": "#4D5663"
         }
        },
        "paper_bgcolor": "#F5F6F9",
        "plot_bgcolor": "#F5F6F9",
        "template": {
         "data": {
          "bar": [
           {
            "error_x": {
             "color": "#2a3f5f"
            },
            "error_y": {
             "color": "#2a3f5f"
            },
            "marker": {
             "line": {
              "color": "#E5ECF6",
              "width": 0.5
             },
             "pattern": {
              "fillmode": "overlay",
              "size": 10,
              "solidity": 0.2
             }
            },
            "type": "bar"
           }
          ],
          "barpolar": [
           {
            "marker": {
             "line": {
              "color": "#E5ECF6",
              "width": 0.5
             },
             "pattern": {
              "fillmode": "overlay",
              "size": 10,
              "solidity": 0.2
             }
            },
            "type": "barpolar"
           }
          ],
          "carpet": [
           {
            "aaxis": {
             "endlinecolor": "#2a3f5f",
             "gridcolor": "white",
             "linecolor": "white",
             "minorgridcolor": "white",
             "startlinecolor": "#2a3f5f"
            },
            "baxis": {
             "endlinecolor": "#2a3f5f",
             "gridcolor": "white",
             "linecolor": "white",
             "minorgridcolor": "white",
             "startlinecolor": "#2a3f5f"
            },
            "type": "carpet"
           }
          ],
          "choropleth": [
           {
            "colorbar": {
             "outlinewidth": 0,
             "ticks": ""
            },
            "type": "choropleth"
           }
          ],
          "contour": [
           {
            "colorbar": {
             "outlinewidth": 0,
             "ticks": ""
            },
            "colorscale": [
             [
              0,
              "#0d0887"
             ],
             [
              0.1111111111111111,
              "#46039f"
             ],
             [
              0.2222222222222222,
              "#7201a8"
             ],
             [
              0.3333333333333333,
              "#9c179e"
             ],
             [
              0.4444444444444444,
              "#bd3786"
             ],
             [
              0.5555555555555556,
              "#d8576b"
             ],
             [
              0.6666666666666666,
              "#ed7953"
             ],
             [
              0.7777777777777778,
              "#fb9f3a"
             ],
             [
              0.8888888888888888,
              "#fdca26"
             ],
             [
              1,
              "#f0f921"
             ]
            ],
            "type": "contour"
           }
          ],
          "contourcarpet": [
           {
            "colorbar": {
             "outlinewidth": 0,
             "ticks": ""
            },
            "type": "contourcarpet"
           }
          ],
          "heatmap": [
           {
            "colorbar": {
             "outlinewidth": 0,
             "ticks": ""
            },
            "colorscale": [
             [
              0,
              "#0d0887"
             ],
             [
              0.1111111111111111,
              "#46039f"
             ],
             [
              0.2222222222222222,
              "#7201a8"
             ],
             [
              0.3333333333333333,
              "#9c179e"
             ],
             [
              0.4444444444444444,
              "#bd3786"
             ],
             [
              0.5555555555555556,
              "#d8576b"
             ],
             [
              0.6666666666666666,
              "#ed7953"
             ],
             [
              0.7777777777777778,
              "#fb9f3a"
             ],
             [
              0.8888888888888888,
              "#fdca26"
             ],
             [
              1,
              "#f0f921"
             ]
            ],
            "type": "heatmap"
           }
          ],
          "heatmapgl": [
           {
            "colorbar": {
             "outlinewidth": 0,
             "ticks": ""
            },
            "colorscale": [
             [
              0,
              "#0d0887"
             ],
             [
              0.1111111111111111,
              "#46039f"
             ],
             [
              0.2222222222222222,
              "#7201a8"
             ],
             [
              0.3333333333333333,
              "#9c179e"
             ],
             [
              0.4444444444444444,
              "#bd3786"
             ],
             [
              0.5555555555555556,
              "#d8576b"
             ],
             [
              0.6666666666666666,
              "#ed7953"
             ],
             [
              0.7777777777777778,
              "#fb9f3a"
             ],
             [
              0.8888888888888888,
              "#fdca26"
             ],
             [
              1,
              "#f0f921"
             ]
            ],
            "type": "heatmapgl"
           }
          ],
          "histogram": [
           {
            "marker": {
             "pattern": {
              "fillmode": "overlay",
              "size": 10,
              "solidity": 0.2
             }
            },
            "type": "histogram"
           }
          ],
          "histogram2d": [
           {
            "colorbar": {
             "outlinewidth": 0,
             "ticks": ""
            },
            "colorscale": [
             [
              0,
              "#0d0887"
             ],
             [
              0.1111111111111111,
              "#46039f"
             ],
             [
              0.2222222222222222,
              "#7201a8"
             ],
             [
              0.3333333333333333,
              "#9c179e"
             ],
             [
              0.4444444444444444,
              "#bd3786"
             ],
             [
              0.5555555555555556,
              "#d8576b"
             ],
             [
              0.6666666666666666,
              "#ed7953"
             ],
             [
              0.7777777777777778,
              "#fb9f3a"
             ],
             [
              0.8888888888888888,
              "#fdca26"
             ],
             [
              1,
              "#f0f921"
             ]
            ],
            "type": "histogram2d"
           }
          ],
          "histogram2dcontour": [
           {
            "colorbar": {
             "outlinewidth": 0,
             "ticks": ""
            },
            "colorscale": [
             [
              0,
              "#0d0887"
             ],
             [
              0.1111111111111111,
              "#46039f"
             ],
             [
              0.2222222222222222,
              "#7201a8"
             ],
             [
              0.3333333333333333,
              "#9c179e"
             ],
             [
              0.4444444444444444,
              "#bd3786"
             ],
             [
              0.5555555555555556,
              "#d8576b"
             ],
             [
              0.6666666666666666,
              "#ed7953"
             ],
             [
              0.7777777777777778,
              "#fb9f3a"
             ],
             [
              0.8888888888888888,
              "#fdca26"
             ],
             [
              1,
              "#f0f921"
             ]
            ],
            "type": "histogram2dcontour"
           }
          ],
          "mesh3d": [
           {
            "colorbar": {
             "outlinewidth": 0,
             "ticks": ""
            },
            "type": "mesh3d"
           }
          ],
          "parcoords": [
           {
            "line": {
             "colorbar": {
              "outlinewidth": 0,
              "ticks": ""
             }
            },
            "type": "parcoords"
           }
          ],
          "pie": [
           {
            "automargin": true,
            "type": "pie"
           }
          ],
          "scatter": [
           {
            "fillpattern": {
             "fillmode": "overlay",
             "size": 10,
             "solidity": 0.2
            },
            "type": "scatter"
           }
          ],
          "scatter3d": [
           {
            "line": {
             "colorbar": {
              "outlinewidth": 0,
              "ticks": ""
             }
            },
            "marker": {
             "colorbar": {
              "outlinewidth": 0,
              "ticks": ""
             }
            },
            "type": "scatter3d"
           }
          ],
          "scattercarpet": [
           {
            "marker": {
             "colorbar": {
              "outlinewidth": 0,
              "ticks": ""
             }
            },
            "type": "scattercarpet"
           }
          ],
          "scattergeo": [
           {
            "marker": {
             "colorbar": {
              "outlinewidth": 0,
              "ticks": ""
             }
            },
            "type": "scattergeo"
           }
          ],
          "scattergl": [
           {
            "marker": {
             "colorbar": {
              "outlinewidth": 0,
              "ticks": ""
             }
            },
            "type": "scattergl"
           }
          ],
          "scattermapbox": [
           {
            "marker": {
             "colorbar": {
              "outlinewidth": 0,
              "ticks": ""
             }
            },
            "type": "scattermapbox"
           }
          ],
          "scatterpolar": [
           {
            "marker": {
             "colorbar": {
              "outlinewidth": 0,
              "ticks": ""
             }
            },
            "type": "scatterpolar"
           }
          ],
          "scatterpolargl": [
           {
            "marker": {
             "colorbar": {
              "outlinewidth": 0,
              "ticks": ""
             }
            },
            "type": "scatterpolargl"
           }
          ],
          "scatterternary": [
           {
            "marker": {
             "colorbar": {
              "outlinewidth": 0,
              "ticks": ""
             }
            },
            "type": "scatterternary"
           }
          ],
          "surface": [
           {
            "colorbar": {
             "outlinewidth": 0,
             "ticks": ""
            },
            "colorscale": [
             [
              0,
              "#0d0887"
             ],
             [
              0.1111111111111111,
              "#46039f"
             ],
             [
              0.2222222222222222,
              "#7201a8"
             ],
             [
              0.3333333333333333,
              "#9c179e"
             ],
             [
              0.4444444444444444,
              "#bd3786"
             ],
             [
              0.5555555555555556,
              "#d8576b"
             ],
             [
              0.6666666666666666,
              "#ed7953"
             ],
             [
              0.7777777777777778,
              "#fb9f3a"
             ],
             [
              0.8888888888888888,
              "#fdca26"
             ],
             [
              1,
              "#f0f921"
             ]
            ],
            "type": "surface"
           }
          ],
          "table": [
           {
            "cells": {
             "fill": {
              "color": "#EBF0F8"
             },
             "line": {
              "color": "white"
             }
            },
            "header": {
             "fill": {
              "color": "#C8D4E3"
             },
             "line": {
              "color": "white"
             }
            },
            "type": "table"
           }
          ]
         },
         "layout": {
          "annotationdefaults": {
           "arrowcolor": "#2a3f5f",
           "arrowhead": 0,
           "arrowwidth": 1
          },
          "autotypenumbers": "strict",
          "coloraxis": {
           "colorbar": {
            "outlinewidth": 0,
            "ticks": ""
           }
          },
          "colorscale": {
           "diverging": [
            [
             0,
             "#8e0152"
            ],
            [
             0.1,
             "#c51b7d"
            ],
            [
             0.2,
             "#de77ae"
            ],
            [
             0.3,
             "#f1b6da"
            ],
            [
             0.4,
             "#fde0ef"
            ],
            [
             0.5,
             "#f7f7f7"
            ],
            [
             0.6,
             "#e6f5d0"
            ],
            [
             0.7,
             "#b8e186"
            ],
            [
             0.8,
             "#7fbc41"
            ],
            [
             0.9,
             "#4d9221"
            ],
            [
             1,
             "#276419"
            ]
           ],
           "sequential": [
            [
             0,
             "#0d0887"
            ],
            [
             0.1111111111111111,
             "#46039f"
            ],
            [
             0.2222222222222222,
             "#7201a8"
            ],
            [
             0.3333333333333333,
             "#9c179e"
            ],
            [
             0.4444444444444444,
             "#bd3786"
            ],
            [
             0.5555555555555556,
             "#d8576b"
            ],
            [
             0.6666666666666666,
             "#ed7953"
            ],
            [
             0.7777777777777778,
             "#fb9f3a"
            ],
            [
             0.8888888888888888,
             "#fdca26"
            ],
            [
             1,
             "#f0f921"
            ]
           ],
           "sequentialminus": [
            [
             0,
             "#0d0887"
            ],
            [
             0.1111111111111111,
             "#46039f"
            ],
            [
             0.2222222222222222,
             "#7201a8"
            ],
            [
             0.3333333333333333,
             "#9c179e"
            ],
            [
             0.4444444444444444,
             "#bd3786"
            ],
            [
             0.5555555555555556,
             "#d8576b"
            ],
            [
             0.6666666666666666,
             "#ed7953"
            ],
            [
             0.7777777777777778,
             "#fb9f3a"
            ],
            [
             0.8888888888888888,
             "#fdca26"
            ],
            [
             1,
             "#f0f921"
            ]
           ]
          },
          "colorway": [
           "#636efa",
           "#EF553B",
           "#00cc96",
           "#ab63fa",
           "#FFA15A",
           "#19d3f3",
           "#FF6692",
           "#B6E880",
           "#FF97FF",
           "#FECB52"
          ],
          "font": {
           "color": "#2a3f5f"
          },
          "geo": {
           "bgcolor": "white",
           "lakecolor": "white",
           "landcolor": "#E5ECF6",
           "showlakes": true,
           "showland": true,
           "subunitcolor": "white"
          },
          "hoverlabel": {
           "align": "left"
          },
          "hovermode": "closest",
          "mapbox": {
           "style": "light"
          },
          "paper_bgcolor": "white",
          "plot_bgcolor": "#E5ECF6",
          "polar": {
           "angularaxis": {
            "gridcolor": "white",
            "linecolor": "white",
            "ticks": ""
           },
           "bgcolor": "#E5ECF6",
           "radialaxis": {
            "gridcolor": "white",
            "linecolor": "white",
            "ticks": ""
           }
          },
          "scene": {
           "xaxis": {
            "backgroundcolor": "#E5ECF6",
            "gridcolor": "white",
            "gridwidth": 2,
            "linecolor": "white",
            "showbackground": true,
            "ticks": "",
            "zerolinecolor": "white"
           },
           "yaxis": {
            "backgroundcolor": "#E5ECF6",
            "gridcolor": "white",
            "gridwidth": 2,
            "linecolor": "white",
            "showbackground": true,
            "ticks": "",
            "zerolinecolor": "white"
           },
           "zaxis": {
            "backgroundcolor": "#E5ECF6",
            "gridcolor": "white",
            "gridwidth": 2,
            "linecolor": "white",
            "showbackground": true,
            "ticks": "",
            "zerolinecolor": "white"
           }
          },
          "shapedefaults": {
           "line": {
            "color": "#2a3f5f"
           }
          },
          "ternary": {
           "aaxis": {
            "gridcolor": "white",
            "linecolor": "white",
            "ticks": ""
           },
           "baxis": {
            "gridcolor": "white",
            "linecolor": "white",
            "ticks": ""
           },
           "bgcolor": "#E5ECF6",
           "caxis": {
            "gridcolor": "white",
            "linecolor": "white",
            "ticks": ""
           }
          },
          "title": {
           "x": 0.05
          },
          "xaxis": {
           "automargin": true,
           "gridcolor": "white",
           "linecolor": "white",
           "ticks": "",
           "title": {
            "standoff": 15
           },
           "zerolinecolor": "white",
           "zerolinewidth": 2
          },
          "yaxis": {
           "automargin": true,
           "gridcolor": "white",
           "linecolor": "white",
           "ticks": "",
           "title": {
            "standoff": 15
           },
           "zerolinecolor": "white",
           "zerolinewidth": 2
          }
         }
        },
        "title": {
         "font": {
          "color": "#4D5663"
         }
        },
        "xaxis": {
         "gridcolor": "#E1E5ED",
         "showgrid": true,
         "tickfont": {
          "color": "#4D5663"
         },
         "title": {
          "font": {
           "color": "#4D5663"
          },
          "text": ""
         },
         "zerolinecolor": "#E1E5ED"
        },
        "yaxis": {
         "gridcolor": "#E1E5ED",
         "showgrid": true,
         "tickfont": {
          "color": "#4D5663"
         },
         "title": {
          "font": {
           "color": "#4D5663"
          },
          "text": ""
         },
         "zerolinecolor": "#E1E5ED"
        }
       }
      },
      "text/html": [
       "<div>                            <div id=\"357f6fe3-cdba-4dc6-965f-fdaedf6f247f\" class=\"plotly-graph-div\" style=\"height:525px; width:100%;\"></div>            <script type=\"text/javascript\">                require([\"plotly\"], function(Plotly) {                    window.PLOTLYENV=window.PLOTLYENV || {};\n",
       "                    window.PLOTLYENV.BASE_URL='https://plot.ly';                                    if (document.getElementById(\"357f6fe3-cdba-4dc6-965f-fdaedf6f247f\")) {                    Plotly.newPlot(                        \"357f6fe3-cdba-4dc6-965f-fdaedf6f247f\",                        [{\"histfunc\":\"count\",\"histnorm\":\"\",\"marker\":{\"color\":\"rgba(255, 153, 51, 1.0)\",\"line\":{\"color\":\"#4D5663\",\"width\":1.3}},\"name\":\"A\",\"nbinsx\":25,\"opacity\":0.8,\"orientation\":\"v\",\"x\":[-1.5744069188809882,0.2919965937061701,-0.20987911018127825,1.4072243870576893,0.5984723796355707,-0.2744220558333609,0.017729177103530606,-1.4785228691304597,0.45485788895139434,0.7817522785186537,0.6158030135086989,0.20802408355881027,-0.9111899216311535,-0.5382498735341864,2.2762676193980482,-1.3159624487677273,-0.06275163823087321,-0.4815939833334281,0.24651562164010077,0.5128628101495492,-0.2088905846667024,-0.37961744382809437,-1.3750740367784493,-0.1440449218155529,-0.6913576335249373,-0.8765044012890313,1.5299431347988888,0.3492702609917798,0.8632771989810265,0.2599651123227867,-0.7226945310100287,-0.5214214959940227,-0.6701981378685836,-1.6376029981808569,-1.1005326319176798,-2.0990592385751654,0.9648940123270464,-0.7199413985460938,0.09503131401757643,-0.5629431738077807,1.0803145448231073,0.8972983341827394,1.8248328731964814,-1.0171487169752407,-0.10207657386959489,-0.9962484521182952,-0.2958514481504522,-0.8607863376679893,0.2860450974872978,-0.9935693485120408,-0.39627560768952946,0.8951387380632714,-1.5007119405734002,0.07588767461740342,-0.22972784324619358,1.1166806807792315,-0.6412361428214182,1.4433582217204095,0.8313925941737207,-1.2607458874475315,-0.5179577520575765,0.2942700620890089,1.4727361516699482,0.17341433018348343,-1.0770753575548573,0.10533370002320529,0.0793294308116233,-1.2209897048108995,-0.8474131221067496,0.4140503688588217,1.7235576738547156,0.2866510056446499,-1.3814385683659007,-0.43750975085760285,0.18836090635740865,0.665859181474303,-0.9483973704483861,-0.8046482102273977,1.0051984408320216,-0.6749142511199132,-1.9239795201339824,-1.1442081980896393,0.48266997736509804,0.0975543014512976,-0.1984691597006762,-0.03426534605026892,-0.297829988581982,-0.908952261148527,-0.640552122171676,2.36128954662639,-1.0401492611610879,-0.666139394408712,-1.4197630539022021,-0.22321839664823442,-0.6253401945309588,0.4621300236937175,0.4284540858073102,-1.411894453558689,-0.5203770031024622,-0.3419949085418646],\"type\":\"histogram\"}],                        {\"barmode\":\"overlay\",\"legend\":{\"bgcolor\":\"#F5F6F9\",\"font\":{\"color\":\"#4D5663\"}},\"paper_bgcolor\":\"#F5F6F9\",\"plot_bgcolor\":\"#F5F6F9\",\"template\":{\"data\":{\"barpolar\":[{\"marker\":{\"line\":{\"color\":\"#E5ECF6\",\"width\":0.5},\"pattern\":{\"fillmode\":\"overlay\",\"size\":10,\"solidity\":0.2}},\"type\":\"barpolar\"}],\"bar\":[{\"error_x\":{\"color\":\"#2a3f5f\"},\"error_y\":{\"color\":\"#2a3f5f\"},\"marker\":{\"line\":{\"color\":\"#E5ECF6\",\"width\":0.5},\"pattern\":{\"fillmode\":\"overlay\",\"size\":10,\"solidity\":0.2}},\"type\":\"bar\"}],\"carpet\":[{\"aaxis\":{\"endlinecolor\":\"#2a3f5f\",\"gridcolor\":\"white\",\"linecolor\":\"white\",\"minorgridcolor\":\"white\",\"startlinecolor\":\"#2a3f5f\"},\"baxis\":{\"endlinecolor\":\"#2a3f5f\",\"gridcolor\":\"white\",\"linecolor\":\"white\",\"minorgridcolor\":\"white\",\"startlinecolor\":\"#2a3f5f\"},\"type\":\"carpet\"}],\"choropleth\":[{\"colorbar\":{\"outlinewidth\":0,\"ticks\":\"\"},\"type\":\"choropleth\"}],\"contourcarpet\":[{\"colorbar\":{\"outlinewidth\":0,\"ticks\":\"\"},\"type\":\"contourcarpet\"}],\"contour\":[{\"colorbar\":{\"outlinewidth\":0,\"ticks\":\"\"},\"colorscale\":[[0.0,\"#0d0887\"],[0.1111111111111111,\"#46039f\"],[0.2222222222222222,\"#7201a8\"],[0.3333333333333333,\"#9c179e\"],[0.4444444444444444,\"#bd3786\"],[0.5555555555555556,\"#d8576b\"],[0.6666666666666666,\"#ed7953\"],[0.7777777777777778,\"#fb9f3a\"],[0.8888888888888888,\"#fdca26\"],[1.0,\"#f0f921\"]],\"type\":\"contour\"}],\"heatmapgl\":[{\"colorbar\":{\"outlinewidth\":0,\"ticks\":\"\"},\"colorscale\":[[0.0,\"#0d0887\"],[0.1111111111111111,\"#46039f\"],[0.2222222222222222,\"#7201a8\"],[0.3333333333333333,\"#9c179e\"],[0.4444444444444444,\"#bd3786\"],[0.5555555555555556,\"#d8576b\"],[0.6666666666666666,\"#ed7953\"],[0.7777777777777778,\"#fb9f3a\"],[0.8888888888888888,\"#fdca26\"],[1.0,\"#f0f921\"]],\"type\":\"heatmapgl\"}],\"heatmap\":[{\"colorbar\":{\"outlinewidth\":0,\"ticks\":\"\"},\"colorscale\":[[0.0,\"#0d0887\"],[0.1111111111111111,\"#46039f\"],[0.2222222222222222,\"#7201a8\"],[0.3333333333333333,\"#9c179e\"],[0.4444444444444444,\"#bd3786\"],[0.5555555555555556,\"#d8576b\"],[0.6666666666666666,\"#ed7953\"],[0.7777777777777778,\"#fb9f3a\"],[0.8888888888888888,\"#fdca26\"],[1.0,\"#f0f921\"]],\"type\":\"heatmap\"}],\"histogram2dcontour\":[{\"colorbar\":{\"outlinewidth\":0,\"ticks\":\"\"},\"colorscale\":[[0.0,\"#0d0887\"],[0.1111111111111111,\"#46039f\"],[0.2222222222222222,\"#7201a8\"],[0.3333333333333333,\"#9c179e\"],[0.4444444444444444,\"#bd3786\"],[0.5555555555555556,\"#d8576b\"],[0.6666666666666666,\"#ed7953\"],[0.7777777777777778,\"#fb9f3a\"],[0.8888888888888888,\"#fdca26\"],[1.0,\"#f0f921\"]],\"type\":\"histogram2dcontour\"}],\"histogram2d\":[{\"colorbar\":{\"outlinewidth\":0,\"ticks\":\"\"},\"colorscale\":[[0.0,\"#0d0887\"],[0.1111111111111111,\"#46039f\"],[0.2222222222222222,\"#7201a8\"],[0.3333333333333333,\"#9c179e\"],[0.4444444444444444,\"#bd3786\"],[0.5555555555555556,\"#d8576b\"],[0.6666666666666666,\"#ed7953\"],[0.7777777777777778,\"#fb9f3a\"],[0.8888888888888888,\"#fdca26\"],[1.0,\"#f0f921\"]],\"type\":\"histogram2d\"}],\"histogram\":[{\"marker\":{\"pattern\":{\"fillmode\":\"overlay\",\"size\":10,\"solidity\":0.2}},\"type\":\"histogram\"}],\"mesh3d\":[{\"colorbar\":{\"outlinewidth\":0,\"ticks\":\"\"},\"type\":\"mesh3d\"}],\"parcoords\":[{\"line\":{\"colorbar\":{\"outlinewidth\":0,\"ticks\":\"\"}},\"type\":\"parcoords\"}],\"pie\":[{\"automargin\":true,\"type\":\"pie\"}],\"scatter3d\":[{\"line\":{\"colorbar\":{\"outlinewidth\":0,\"ticks\":\"\"}},\"marker\":{\"colorbar\":{\"outlinewidth\":0,\"ticks\":\"\"}},\"type\":\"scatter3d\"}],\"scattercarpet\":[{\"marker\":{\"colorbar\":{\"outlinewidth\":0,\"ticks\":\"\"}},\"type\":\"scattercarpet\"}],\"scattergeo\":[{\"marker\":{\"colorbar\":{\"outlinewidth\":0,\"ticks\":\"\"}},\"type\":\"scattergeo\"}],\"scattergl\":[{\"marker\":{\"colorbar\":{\"outlinewidth\":0,\"ticks\":\"\"}},\"type\":\"scattergl\"}],\"scattermapbox\":[{\"marker\":{\"colorbar\":{\"outlinewidth\":0,\"ticks\":\"\"}},\"type\":\"scattermapbox\"}],\"scatterpolargl\":[{\"marker\":{\"colorbar\":{\"outlinewidth\":0,\"ticks\":\"\"}},\"type\":\"scatterpolargl\"}],\"scatterpolar\":[{\"marker\":{\"colorbar\":{\"outlinewidth\":0,\"ticks\":\"\"}},\"type\":\"scatterpolar\"}],\"scatter\":[{\"fillpattern\":{\"fillmode\":\"overlay\",\"size\":10,\"solidity\":0.2},\"type\":\"scatter\"}],\"scatterternary\":[{\"marker\":{\"colorbar\":{\"outlinewidth\":0,\"ticks\":\"\"}},\"type\":\"scatterternary\"}],\"surface\":[{\"colorbar\":{\"outlinewidth\":0,\"ticks\":\"\"},\"colorscale\":[[0.0,\"#0d0887\"],[0.1111111111111111,\"#46039f\"],[0.2222222222222222,\"#7201a8\"],[0.3333333333333333,\"#9c179e\"],[0.4444444444444444,\"#bd3786\"],[0.5555555555555556,\"#d8576b\"],[0.6666666666666666,\"#ed7953\"],[0.7777777777777778,\"#fb9f3a\"],[0.8888888888888888,\"#fdca26\"],[1.0,\"#f0f921\"]],\"type\":\"surface\"}],\"table\":[{\"cells\":{\"fill\":{\"color\":\"#EBF0F8\"},\"line\":{\"color\":\"white\"}},\"header\":{\"fill\":{\"color\":\"#C8D4E3\"},\"line\":{\"color\":\"white\"}},\"type\":\"table\"}]},\"layout\":{\"annotationdefaults\":{\"arrowcolor\":\"#2a3f5f\",\"arrowhead\":0,\"arrowwidth\":1},\"autotypenumbers\":\"strict\",\"coloraxis\":{\"colorbar\":{\"outlinewidth\":0,\"ticks\":\"\"}},\"colorscale\":{\"diverging\":[[0,\"#8e0152\"],[0.1,\"#c51b7d\"],[0.2,\"#de77ae\"],[0.3,\"#f1b6da\"],[0.4,\"#fde0ef\"],[0.5,\"#f7f7f7\"],[0.6,\"#e6f5d0\"],[0.7,\"#b8e186\"],[0.8,\"#7fbc41\"],[0.9,\"#4d9221\"],[1,\"#276419\"]],\"sequential\":[[0.0,\"#0d0887\"],[0.1111111111111111,\"#46039f\"],[0.2222222222222222,\"#7201a8\"],[0.3333333333333333,\"#9c179e\"],[0.4444444444444444,\"#bd3786\"],[0.5555555555555556,\"#d8576b\"],[0.6666666666666666,\"#ed7953\"],[0.7777777777777778,\"#fb9f3a\"],[0.8888888888888888,\"#fdca26\"],[1.0,\"#f0f921\"]],\"sequentialminus\":[[0.0,\"#0d0887\"],[0.1111111111111111,\"#46039f\"],[0.2222222222222222,\"#7201a8\"],[0.3333333333333333,\"#9c179e\"],[0.4444444444444444,\"#bd3786\"],[0.5555555555555556,\"#d8576b\"],[0.6666666666666666,\"#ed7953\"],[0.7777777777777778,\"#fb9f3a\"],[0.8888888888888888,\"#fdca26\"],[1.0,\"#f0f921\"]]},\"colorway\":[\"#636efa\",\"#EF553B\",\"#00cc96\",\"#ab63fa\",\"#FFA15A\",\"#19d3f3\",\"#FF6692\",\"#B6E880\",\"#FF97FF\",\"#FECB52\"],\"font\":{\"color\":\"#2a3f5f\"},\"geo\":{\"bgcolor\":\"white\",\"lakecolor\":\"white\",\"landcolor\":\"#E5ECF6\",\"showlakes\":true,\"showland\":true,\"subunitcolor\":\"white\"},\"hoverlabel\":{\"align\":\"left\"},\"hovermode\":\"closest\",\"mapbox\":{\"style\":\"light\"},\"paper_bgcolor\":\"white\",\"plot_bgcolor\":\"#E5ECF6\",\"polar\":{\"angularaxis\":{\"gridcolor\":\"white\",\"linecolor\":\"white\",\"ticks\":\"\"},\"bgcolor\":\"#E5ECF6\",\"radialaxis\":{\"gridcolor\":\"white\",\"linecolor\":\"white\",\"ticks\":\"\"}},\"scene\":{\"xaxis\":{\"backgroundcolor\":\"#E5ECF6\",\"gridcolor\":\"white\",\"gridwidth\":2,\"linecolor\":\"white\",\"showbackground\":true,\"ticks\":\"\",\"zerolinecolor\":\"white\"},\"yaxis\":{\"backgroundcolor\":\"#E5ECF6\",\"gridcolor\":\"white\",\"gridwidth\":2,\"linecolor\":\"white\",\"showbackground\":true,\"ticks\":\"\",\"zerolinecolor\":\"white\"},\"zaxis\":{\"backgroundcolor\":\"#E5ECF6\",\"gridcolor\":\"white\",\"gridwidth\":2,\"linecolor\":\"white\",\"showbackground\":true,\"ticks\":\"\",\"zerolinecolor\":\"white\"}},\"shapedefaults\":{\"line\":{\"color\":\"#2a3f5f\"}},\"ternary\":{\"aaxis\":{\"gridcolor\":\"white\",\"linecolor\":\"white\",\"ticks\":\"\"},\"baxis\":{\"gridcolor\":\"white\",\"linecolor\":\"white\",\"ticks\":\"\"},\"bgcolor\":\"#E5ECF6\",\"caxis\":{\"gridcolor\":\"white\",\"linecolor\":\"white\",\"ticks\":\"\"}},\"title\":{\"x\":0.05},\"xaxis\":{\"automargin\":true,\"gridcolor\":\"white\",\"linecolor\":\"white\",\"ticks\":\"\",\"title\":{\"standoff\":15},\"zerolinecolor\":\"white\",\"zerolinewidth\":2},\"yaxis\":{\"automargin\":true,\"gridcolor\":\"white\",\"linecolor\":\"white\",\"ticks\":\"\",\"title\":{\"standoff\":15},\"zerolinecolor\":\"white\",\"zerolinewidth\":2}}},\"title\":{\"font\":{\"color\":\"#4D5663\"}},\"xaxis\":{\"gridcolor\":\"#E1E5ED\",\"showgrid\":true,\"tickfont\":{\"color\":\"#4D5663\"},\"title\":{\"font\":{\"color\":\"#4D5663\"},\"text\":\"\"},\"zerolinecolor\":\"#E1E5ED\"},\"yaxis\":{\"gridcolor\":\"#E1E5ED\",\"showgrid\":true,\"tickfont\":{\"color\":\"#4D5663\"},\"title\":{\"font\":{\"color\":\"#4D5663\"},\"text\":\"\"},\"zerolinecolor\":\"#E1E5ED\"}},                        {\"showLink\": true, \"linkText\": \"Export to plot.ly\", \"plotlyServerURL\": \"https://plot.ly\", \"responsive\": true}                    ).then(function(){\n",
       "                            \n",
       "var gd = document.getElementById('357f6fe3-cdba-4dc6-965f-fdaedf6f247f');\n",
       "var x = new MutationObserver(function (mutations, observer) {{\n",
       "        var display = window.getComputedStyle(gd).display;\n",
       "        if (!display || display === 'none') {{\n",
       "            console.log([gd, 'removed!']);\n",
       "            Plotly.purge(gd);\n",
       "            observer.disconnect();\n",
       "        }}\n",
       "}});\n",
       "\n",
       "// Listen for the removal of the full notebook cells\n",
       "var notebookContainer = gd.closest('#notebook-container');\n",
       "if (notebookContainer) {{\n",
       "    x.observe(notebookContainer, {childList: true});\n",
       "}}\n",
       "\n",
       "// Listen for the clearing of the current output cell\n",
       "var outputEl = gd.closest('.output');\n",
       "if (outputEl) {{\n",
       "    x.observe(outputEl, {childList: true});\n",
       "}}\n",
       "\n",
       "                        })                };                });            </script>        </div>"
      ]
     },
     "metadata": {},
     "output_type": "display_data"
    }
   ],
   "source": [
    "df['A'].iplot(kind='hist',bins=25)"
   ]
  },
  {
   "cell_type": "code",
   "execution_count": 18,
   "metadata": {},
   "outputs": [
    {
     "data": {
      "application/vnd.plotly.v1+json": {
       "config": {
        "linkText": "Export to plot.ly",
        "plotlyServerURL": "https://plot.ly",
        "showLink": true
       },
       "data": [
        {
         "marker": {
          "color": [
           "rgb(255, 153, 51)",
           "rgb(55, 128, 191)",
           "rgb(50, 171, 96)",
           "rgb(128, 0, 128)",
           "rgb(219, 64, 82)",
           "rgb(0, 128, 128)",
           "rgb(255, 255, 51)",
           "rgb(128, 128, 0)",
           "rgb(251, 128, 114)",
           "rgb(128, 177, 211)"
          ],
          "line": {
           "width": 1.3
          },
          "size": [
           89,
           12,
           73,
           56,
           70,
           69,
           56,
           57,
           45,
           71,
           65,
           64,
           78,
           71,
           83,
           61,
           79,
           50,
           65,
           24,
           63,
           34,
           46,
           48,
           66,
           81,
           44,
           69,
           88,
           79,
           55,
           67,
           93,
           68,
           58,
           57,
           93,
           39,
           69,
           70,
           60,
           65,
           52,
           68,
           64,
           75,
           66,
           76,
           65,
           54,
           51,
           69,
           70,
           34,
           38,
           107,
           69,
           49,
           58,
           62,
           61,
           90,
           50,
           51,
           59,
           54,
           55,
           71,
           84,
           87,
           73,
           51,
           74,
           46,
           58,
           57,
           64,
           60,
           36,
           53,
           41,
           45,
           62,
           33,
           82,
           110,
           68,
           61,
           112,
           63,
           38,
           53,
           88,
           87,
           67,
           56,
           68,
           44,
           40,
           59
          ],
          "symbol": "circle"
         },
         "mode": "markers",
         "text": "",
         "type": "scatter",
         "x": [
          -1.5744069188809882,
          0.2919965937061701,
          -0.20987911018127825,
          1.4072243870576893,
          0.5984723796355707,
          -0.2744220558333609,
          0.017729177103530606,
          -1.4785228691304597,
          0.45485788895139434,
          0.7817522785186537,
          0.6158030135086989,
          0.20802408355881027,
          -0.9111899216311535,
          -0.5382498735341864,
          2.2762676193980482,
          -1.3159624487677273,
          -0.06275163823087321,
          -0.4815939833334281,
          0.24651562164010077,
          0.5128628101495492,
          -0.2088905846667024,
          -0.37961744382809437,
          -1.3750740367784493,
          -0.1440449218155529,
          -0.6913576335249373,
          -0.8765044012890313,
          1.5299431347988888,
          0.3492702609917798,
          0.8632771989810265,
          0.2599651123227867,
          -0.7226945310100287,
          -0.5214214959940227,
          -0.6701981378685836,
          -1.6376029981808569,
          -1.1005326319176798,
          -2.0990592385751654,
          0.9648940123270464,
          -0.7199413985460938,
          0.09503131401757643,
          -0.5629431738077807,
          1.0803145448231073,
          0.8972983341827394,
          1.8248328731964814,
          -1.0171487169752407,
          -0.10207657386959489,
          -0.9962484521182952,
          -0.2958514481504522,
          -0.8607863376679893,
          0.2860450974872978,
          -0.9935693485120408,
          -0.39627560768952946,
          0.8951387380632714,
          -1.5007119405734002,
          0.07588767461740342,
          -0.22972784324619358,
          1.1166806807792315,
          -0.6412361428214182,
          1.4433582217204095,
          0.8313925941737207,
          -1.2607458874475315,
          -0.5179577520575765,
          0.2942700620890089,
          1.4727361516699482,
          0.17341433018348343,
          -1.0770753575548573,
          0.10533370002320529,
          0.0793294308116233,
          -1.2209897048108995,
          -0.8474131221067496,
          0.4140503688588217,
          1.7235576738547156,
          0.2866510056446499,
          -1.3814385683659007,
          -0.43750975085760285,
          0.18836090635740865,
          0.665859181474303,
          -0.9483973704483861,
          -0.8046482102273977,
          1.0051984408320216,
          -0.6749142511199132,
          -1.9239795201339824,
          -1.1442081980896393,
          0.48266997736509804,
          0.0975543014512976,
          -0.1984691597006762,
          -0.03426534605026892,
          -0.297829988581982,
          -0.908952261148527,
          -0.640552122171676,
          2.36128954662639,
          -1.0401492611610879,
          -0.666139394408712,
          -1.4197630539022021,
          -0.22321839664823442,
          -0.6253401945309588,
          0.4621300236937175,
          0.4284540858073102,
          -1.411894453558689,
          -0.5203770031024622,
          -0.3419949085418646
         ],
         "y": [
          -0.16301927573326747,
          -0.48711484848482545,
          -2.151495874975196,
          -0.654841755684685,
          0.6295959841572122,
          -0.8622360025956758,
          -0.7769629600854723,
          1.141384587800869,
          2.3864706479233844,
          0.9299078566189861,
          0.4555732303265823,
          0.32647238553721564,
          -0.6803360397686434,
          -0.8102760959813967,
          1.4848181818102724,
          0.5291945647751306,
          1.4353440017023873,
          -0.5026056619198886,
          -0.5800213198181711,
          -0.09606149483386926,
          -0.5768704701146251,
          -0.9372294832680503,
          -0.08510356635600864,
          0.37212959201504026,
          -1.362462924687948,
          0.8806989154386949,
          -0.8358694207263032,
          -0.28953059607877285,
          -0.5011078163710999,
          -0.43790828913824986,
          -0.6514598584332857,
          0.6002289489726451,
          0.22186817296233421,
          0.27994648352865514,
          -0.9689803349519742,
          1.1825509508611973,
          0.04780373093205452,
          -2.716968073246881,
          0.6349138266490004,
          0.41478390998119186,
          0.8246493600925106,
          0.4930703351281199,
          0.6487322832414203,
          -0.08336067163389263,
          -1.3049247995275077,
          1.0619952081092054,
          -0.7227073628981311,
          0.5809890622275982,
          1.2272849369420071,
          -1.510539737682553,
          -0.7456146006935016,
          -1.2750149926211962,
          0.20466552604659938,
          0.48741572091628266,
          1.0797839304892964,
          0.2896592763134485,
          -0.6204080623813175,
          0.9488442025282456,
          -0.8011395533914448,
          1.1723009064207326,
          0.6054895171876152,
          0.04816408029720471,
          -0.13535894381818353,
          -0.8965841075311023,
          -1.954615214342892,
          -0.15472804753915848,
          -0.9524201139436,
          -1.5291955641115345,
          1.037853825639349,
          0.1875096616869887,
          -0.5588917015575369,
          0.8044315841413262,
          -0.47554678747052664,
          -0.6213643969232366,
          -0.8184197648045224,
          -0.11121577771197998,
          0.4824724082217693,
          -2.032159511239236,
          0.6878192901007198,
          -0.8075923737337249,
          1.0440508302797218,
          0.1303876927045207,
          -1.980567271026737,
          0.7269021112597615,
          -0.9504440925098565,
          -0.7352991807724102,
          -0.22826571887397049,
          0.4175573994031141,
          0.6884329397963111,
          0.5481622573258714,
          0.6080475289579149,
          1.7843699428922326,
          1.0645184313051146,
          -1.2657980679905936,
          1.2728775711928362,
          -0.6676306193331588,
          -0.9306861770987371,
          1.6149963278104023,
          -1.2152379938641267,
          -0.9470164897283213
         ]
        }
       ],
       "layout": {
        "legend": {
         "bgcolor": "#F5F6F9",
         "font": {
          "color": "#4D5663"
         }
        },
        "paper_bgcolor": "#F5F6F9",
        "plot_bgcolor": "#F5F6F9",
        "template": {
         "data": {
          "bar": [
           {
            "error_x": {
             "color": "#2a3f5f"
            },
            "error_y": {
             "color": "#2a3f5f"
            },
            "marker": {
             "line": {
              "color": "#E5ECF6",
              "width": 0.5
             },
             "pattern": {
              "fillmode": "overlay",
              "size": 10,
              "solidity": 0.2
             }
            },
            "type": "bar"
           }
          ],
          "barpolar": [
           {
            "marker": {
             "line": {
              "color": "#E5ECF6",
              "width": 0.5
             },
             "pattern": {
              "fillmode": "overlay",
              "size": 10,
              "solidity": 0.2
             }
            },
            "type": "barpolar"
           }
          ],
          "carpet": [
           {
            "aaxis": {
             "endlinecolor": "#2a3f5f",
             "gridcolor": "white",
             "linecolor": "white",
             "minorgridcolor": "white",
             "startlinecolor": "#2a3f5f"
            },
            "baxis": {
             "endlinecolor": "#2a3f5f",
             "gridcolor": "white",
             "linecolor": "white",
             "minorgridcolor": "white",
             "startlinecolor": "#2a3f5f"
            },
            "type": "carpet"
           }
          ],
          "choropleth": [
           {
            "colorbar": {
             "outlinewidth": 0,
             "ticks": ""
            },
            "type": "choropleth"
           }
          ],
          "contour": [
           {
            "colorbar": {
             "outlinewidth": 0,
             "ticks": ""
            },
            "colorscale": [
             [
              0,
              "#0d0887"
             ],
             [
              0.1111111111111111,
              "#46039f"
             ],
             [
              0.2222222222222222,
              "#7201a8"
             ],
             [
              0.3333333333333333,
              "#9c179e"
             ],
             [
              0.4444444444444444,
              "#bd3786"
             ],
             [
              0.5555555555555556,
              "#d8576b"
             ],
             [
              0.6666666666666666,
              "#ed7953"
             ],
             [
              0.7777777777777778,
              "#fb9f3a"
             ],
             [
              0.8888888888888888,
              "#fdca26"
             ],
             [
              1,
              "#f0f921"
             ]
            ],
            "type": "contour"
           }
          ],
          "contourcarpet": [
           {
            "colorbar": {
             "outlinewidth": 0,
             "ticks": ""
            },
            "type": "contourcarpet"
           }
          ],
          "heatmap": [
           {
            "colorbar": {
             "outlinewidth": 0,
             "ticks": ""
            },
            "colorscale": [
             [
              0,
              "#0d0887"
             ],
             [
              0.1111111111111111,
              "#46039f"
             ],
             [
              0.2222222222222222,
              "#7201a8"
             ],
             [
              0.3333333333333333,
              "#9c179e"
             ],
             [
              0.4444444444444444,
              "#bd3786"
             ],
             [
              0.5555555555555556,
              "#d8576b"
             ],
             [
              0.6666666666666666,
              "#ed7953"
             ],
             [
              0.7777777777777778,
              "#fb9f3a"
             ],
             [
              0.8888888888888888,
              "#fdca26"
             ],
             [
              1,
              "#f0f921"
             ]
            ],
            "type": "heatmap"
           }
          ],
          "heatmapgl": [
           {
            "colorbar": {
             "outlinewidth": 0,
             "ticks": ""
            },
            "colorscale": [
             [
              0,
              "#0d0887"
             ],
             [
              0.1111111111111111,
              "#46039f"
             ],
             [
              0.2222222222222222,
              "#7201a8"
             ],
             [
              0.3333333333333333,
              "#9c179e"
             ],
             [
              0.4444444444444444,
              "#bd3786"
             ],
             [
              0.5555555555555556,
              "#d8576b"
             ],
             [
              0.6666666666666666,
              "#ed7953"
             ],
             [
              0.7777777777777778,
              "#fb9f3a"
             ],
             [
              0.8888888888888888,
              "#fdca26"
             ],
             [
              1,
              "#f0f921"
             ]
            ],
            "type": "heatmapgl"
           }
          ],
          "histogram": [
           {
            "marker": {
             "pattern": {
              "fillmode": "overlay",
              "size": 10,
              "solidity": 0.2
             }
            },
            "type": "histogram"
           }
          ],
          "histogram2d": [
           {
            "colorbar": {
             "outlinewidth": 0,
             "ticks": ""
            },
            "colorscale": [
             [
              0,
              "#0d0887"
             ],
             [
              0.1111111111111111,
              "#46039f"
             ],
             [
              0.2222222222222222,
              "#7201a8"
             ],
             [
              0.3333333333333333,
              "#9c179e"
             ],
             [
              0.4444444444444444,
              "#bd3786"
             ],
             [
              0.5555555555555556,
              "#d8576b"
             ],
             [
              0.6666666666666666,
              "#ed7953"
             ],
             [
              0.7777777777777778,
              "#fb9f3a"
             ],
             [
              0.8888888888888888,
              "#fdca26"
             ],
             [
              1,
              "#f0f921"
             ]
            ],
            "type": "histogram2d"
           }
          ],
          "histogram2dcontour": [
           {
            "colorbar": {
             "outlinewidth": 0,
             "ticks": ""
            },
            "colorscale": [
             [
              0,
              "#0d0887"
             ],
             [
              0.1111111111111111,
              "#46039f"
             ],
             [
              0.2222222222222222,
              "#7201a8"
             ],
             [
              0.3333333333333333,
              "#9c179e"
             ],
             [
              0.4444444444444444,
              "#bd3786"
             ],
             [
              0.5555555555555556,
              "#d8576b"
             ],
             [
              0.6666666666666666,
              "#ed7953"
             ],
             [
              0.7777777777777778,
              "#fb9f3a"
             ],
             [
              0.8888888888888888,
              "#fdca26"
             ],
             [
              1,
              "#f0f921"
             ]
            ],
            "type": "histogram2dcontour"
           }
          ],
          "mesh3d": [
           {
            "colorbar": {
             "outlinewidth": 0,
             "ticks": ""
            },
            "type": "mesh3d"
           }
          ],
          "parcoords": [
           {
            "line": {
             "colorbar": {
              "outlinewidth": 0,
              "ticks": ""
             }
            },
            "type": "parcoords"
           }
          ],
          "pie": [
           {
            "automargin": true,
            "type": "pie"
           }
          ],
          "scatter": [
           {
            "fillpattern": {
             "fillmode": "overlay",
             "size": 10,
             "solidity": 0.2
            },
            "type": "scatter"
           }
          ],
          "scatter3d": [
           {
            "line": {
             "colorbar": {
              "outlinewidth": 0,
              "ticks": ""
             }
            },
            "marker": {
             "colorbar": {
              "outlinewidth": 0,
              "ticks": ""
             }
            },
            "type": "scatter3d"
           }
          ],
          "scattercarpet": [
           {
            "marker": {
             "colorbar": {
              "outlinewidth": 0,
              "ticks": ""
             }
            },
            "type": "scattercarpet"
           }
          ],
          "scattergeo": [
           {
            "marker": {
             "colorbar": {
              "outlinewidth": 0,
              "ticks": ""
             }
            },
            "type": "scattergeo"
           }
          ],
          "scattergl": [
           {
            "marker": {
             "colorbar": {
              "outlinewidth": 0,
              "ticks": ""
             }
            },
            "type": "scattergl"
           }
          ],
          "scattermapbox": [
           {
            "marker": {
             "colorbar": {
              "outlinewidth": 0,
              "ticks": ""
             }
            },
            "type": "scattermapbox"
           }
          ],
          "scatterpolar": [
           {
            "marker": {
             "colorbar": {
              "outlinewidth": 0,
              "ticks": ""
             }
            },
            "type": "scatterpolar"
           }
          ],
          "scatterpolargl": [
           {
            "marker": {
             "colorbar": {
              "outlinewidth": 0,
              "ticks": ""
             }
            },
            "type": "scatterpolargl"
           }
          ],
          "scatterternary": [
           {
            "marker": {
             "colorbar": {
              "outlinewidth": 0,
              "ticks": ""
             }
            },
            "type": "scatterternary"
           }
          ],
          "surface": [
           {
            "colorbar": {
             "outlinewidth": 0,
             "ticks": ""
            },
            "colorscale": [
             [
              0,
              "#0d0887"
             ],
             [
              0.1111111111111111,
              "#46039f"
             ],
             [
              0.2222222222222222,
              "#7201a8"
             ],
             [
              0.3333333333333333,
              "#9c179e"
             ],
             [
              0.4444444444444444,
              "#bd3786"
             ],
             [
              0.5555555555555556,
              "#d8576b"
             ],
             [
              0.6666666666666666,
              "#ed7953"
             ],
             [
              0.7777777777777778,
              "#fb9f3a"
             ],
             [
              0.8888888888888888,
              "#fdca26"
             ],
             [
              1,
              "#f0f921"
             ]
            ],
            "type": "surface"
           }
          ],
          "table": [
           {
            "cells": {
             "fill": {
              "color": "#EBF0F8"
             },
             "line": {
              "color": "white"
             }
            },
            "header": {
             "fill": {
              "color": "#C8D4E3"
             },
             "line": {
              "color": "white"
             }
            },
            "type": "table"
           }
          ]
         },
         "layout": {
          "annotationdefaults": {
           "arrowcolor": "#2a3f5f",
           "arrowhead": 0,
           "arrowwidth": 1
          },
          "autotypenumbers": "strict",
          "coloraxis": {
           "colorbar": {
            "outlinewidth": 0,
            "ticks": ""
           }
          },
          "colorscale": {
           "diverging": [
            [
             0,
             "#8e0152"
            ],
            [
             0.1,
             "#c51b7d"
            ],
            [
             0.2,
             "#de77ae"
            ],
            [
             0.3,
             "#f1b6da"
            ],
            [
             0.4,
             "#fde0ef"
            ],
            [
             0.5,
             "#f7f7f7"
            ],
            [
             0.6,
             "#e6f5d0"
            ],
            [
             0.7,
             "#b8e186"
            ],
            [
             0.8,
             "#7fbc41"
            ],
            [
             0.9,
             "#4d9221"
            ],
            [
             1,
             "#276419"
            ]
           ],
           "sequential": [
            [
             0,
             "#0d0887"
            ],
            [
             0.1111111111111111,
             "#46039f"
            ],
            [
             0.2222222222222222,
             "#7201a8"
            ],
            [
             0.3333333333333333,
             "#9c179e"
            ],
            [
             0.4444444444444444,
             "#bd3786"
            ],
            [
             0.5555555555555556,
             "#d8576b"
            ],
            [
             0.6666666666666666,
             "#ed7953"
            ],
            [
             0.7777777777777778,
             "#fb9f3a"
            ],
            [
             0.8888888888888888,
             "#fdca26"
            ],
            [
             1,
             "#f0f921"
            ]
           ],
           "sequentialminus": [
            [
             0,
             "#0d0887"
            ],
            [
             0.1111111111111111,
             "#46039f"
            ],
            [
             0.2222222222222222,
             "#7201a8"
            ],
            [
             0.3333333333333333,
             "#9c179e"
            ],
            [
             0.4444444444444444,
             "#bd3786"
            ],
            [
             0.5555555555555556,
             "#d8576b"
            ],
            [
             0.6666666666666666,
             "#ed7953"
            ],
            [
             0.7777777777777778,
             "#fb9f3a"
            ],
            [
             0.8888888888888888,
             "#fdca26"
            ],
            [
             1,
             "#f0f921"
            ]
           ]
          },
          "colorway": [
           "#636efa",
           "#EF553B",
           "#00cc96",
           "#ab63fa",
           "#FFA15A",
           "#19d3f3",
           "#FF6692",
           "#B6E880",
           "#FF97FF",
           "#FECB52"
          ],
          "font": {
           "color": "#2a3f5f"
          },
          "geo": {
           "bgcolor": "white",
           "lakecolor": "white",
           "landcolor": "#E5ECF6",
           "showlakes": true,
           "showland": true,
           "subunitcolor": "white"
          },
          "hoverlabel": {
           "align": "left"
          },
          "hovermode": "closest",
          "mapbox": {
           "style": "light"
          },
          "paper_bgcolor": "white",
          "plot_bgcolor": "#E5ECF6",
          "polar": {
           "angularaxis": {
            "gridcolor": "white",
            "linecolor": "white",
            "ticks": ""
           },
           "bgcolor": "#E5ECF6",
           "radialaxis": {
            "gridcolor": "white",
            "linecolor": "white",
            "ticks": ""
           }
          },
          "scene": {
           "xaxis": {
            "backgroundcolor": "#E5ECF6",
            "gridcolor": "white",
            "gridwidth": 2,
            "linecolor": "white",
            "showbackground": true,
            "ticks": "",
            "zerolinecolor": "white"
           },
           "yaxis": {
            "backgroundcolor": "#E5ECF6",
            "gridcolor": "white",
            "gridwidth": 2,
            "linecolor": "white",
            "showbackground": true,
            "ticks": "",
            "zerolinecolor": "white"
           },
           "zaxis": {
            "backgroundcolor": "#E5ECF6",
            "gridcolor": "white",
            "gridwidth": 2,
            "linecolor": "white",
            "showbackground": true,
            "ticks": "",
            "zerolinecolor": "white"
           }
          },
          "shapedefaults": {
           "line": {
            "color": "#2a3f5f"
           }
          },
          "ternary": {
           "aaxis": {
            "gridcolor": "white",
            "linecolor": "white",
            "ticks": ""
           },
           "baxis": {
            "gridcolor": "white",
            "linecolor": "white",
            "ticks": ""
           },
           "bgcolor": "#E5ECF6",
           "caxis": {
            "gridcolor": "white",
            "linecolor": "white",
            "ticks": ""
           }
          },
          "title": {
           "x": 0.05
          },
          "xaxis": {
           "automargin": true,
           "gridcolor": "white",
           "linecolor": "white",
           "ticks": "",
           "title": {
            "standoff": 15
           },
           "zerolinecolor": "white",
           "zerolinewidth": 2
          },
          "yaxis": {
           "automargin": true,
           "gridcolor": "white",
           "linecolor": "white",
           "ticks": "",
           "title": {
            "standoff": 15
           },
           "zerolinecolor": "white",
           "zerolinewidth": 2
          }
         }
        },
        "title": {
         "font": {
          "color": "#4D5663"
         }
        },
        "xaxis": {
         "gridcolor": "#E1E5ED",
         "showgrid": true,
         "tickfont": {
          "color": "#4D5663"
         },
         "title": {
          "font": {
           "color": "#4D5663"
          },
          "text": ""
         },
         "zerolinecolor": "#E1E5ED"
        },
        "yaxis": {
         "gridcolor": "#E1E5ED",
         "showgrid": true,
         "tickfont": {
          "color": "#4D5663"
         },
         "title": {
          "font": {
           "color": "#4D5663"
          },
          "text": ""
         },
         "zerolinecolor": "#E1E5ED"
        }
       }
      },
      "text/html": [
       "<div>                            <div id=\"c10d951e-ca5b-4d9f-a5e9-12a97a04d0c1\" class=\"plotly-graph-div\" style=\"height:525px; width:100%;\"></div>            <script type=\"text/javascript\">                require([\"plotly\"], function(Plotly) {                    window.PLOTLYENV=window.PLOTLYENV || {};\n",
       "                    window.PLOTLYENV.BASE_URL='https://plot.ly';                                    if (document.getElementById(\"c10d951e-ca5b-4d9f-a5e9-12a97a04d0c1\")) {                    Plotly.newPlot(                        \"c10d951e-ca5b-4d9f-a5e9-12a97a04d0c1\",                        [{\"marker\":{\"color\":[\"rgb(255, 153, 51)\",\"rgb(55, 128, 191)\",\"rgb(50, 171, 96)\",\"rgb(128, 0, 128)\",\"rgb(219, 64, 82)\",\"rgb(0, 128, 128)\",\"rgb(255, 255, 51)\",\"rgb(128, 128, 0)\",\"rgb(251, 128, 114)\",\"rgb(128, 177, 211)\"],\"line\":{\"width\":1.3},\"size\":[89,12,73,56,70,69,56,57,45,71,65,64,78,71,83,61,79,50,65,24,63,34,46,48,66,81,44,69,88,79,55,67,93,68,58,57,93,39,69,70,60,65,52,68,64,75,66,76,65,54,51,69,70,34,38,107,69,49,58,62,61,90,50,51,59,54,55,71,84,87,73,51,74,46,58,57,64,60,36,53,41,45,62,33,82,110,68,61,112,63,38,53,88,87,67,56,68,44,40,59],\"symbol\":\"circle\"},\"mode\":\"markers\",\"text\":\"\",\"x\":[-1.5744069188809882,0.2919965937061701,-0.20987911018127825,1.4072243870576893,0.5984723796355707,-0.2744220558333609,0.017729177103530606,-1.4785228691304597,0.45485788895139434,0.7817522785186537,0.6158030135086989,0.20802408355881027,-0.9111899216311535,-0.5382498735341864,2.2762676193980482,-1.3159624487677273,-0.06275163823087321,-0.4815939833334281,0.24651562164010077,0.5128628101495492,-0.2088905846667024,-0.37961744382809437,-1.3750740367784493,-0.1440449218155529,-0.6913576335249373,-0.8765044012890313,1.5299431347988888,0.3492702609917798,0.8632771989810265,0.2599651123227867,-0.7226945310100287,-0.5214214959940227,-0.6701981378685836,-1.6376029981808569,-1.1005326319176798,-2.0990592385751654,0.9648940123270464,-0.7199413985460938,0.09503131401757643,-0.5629431738077807,1.0803145448231073,0.8972983341827394,1.8248328731964814,-1.0171487169752407,-0.10207657386959489,-0.9962484521182952,-0.2958514481504522,-0.8607863376679893,0.2860450974872978,-0.9935693485120408,-0.39627560768952946,0.8951387380632714,-1.5007119405734002,0.07588767461740342,-0.22972784324619358,1.1166806807792315,-0.6412361428214182,1.4433582217204095,0.8313925941737207,-1.2607458874475315,-0.5179577520575765,0.2942700620890089,1.4727361516699482,0.17341433018348343,-1.0770753575548573,0.10533370002320529,0.0793294308116233,-1.2209897048108995,-0.8474131221067496,0.4140503688588217,1.7235576738547156,0.2866510056446499,-1.3814385683659007,-0.43750975085760285,0.18836090635740865,0.665859181474303,-0.9483973704483861,-0.8046482102273977,1.0051984408320216,-0.6749142511199132,-1.9239795201339824,-1.1442081980896393,0.48266997736509804,0.0975543014512976,-0.1984691597006762,-0.03426534605026892,-0.297829988581982,-0.908952261148527,-0.640552122171676,2.36128954662639,-1.0401492611610879,-0.666139394408712,-1.4197630539022021,-0.22321839664823442,-0.6253401945309588,0.4621300236937175,0.4284540858073102,-1.411894453558689,-0.5203770031024622,-0.3419949085418646],\"y\":[-0.16301927573326747,-0.48711484848482545,-2.151495874975196,-0.654841755684685,0.6295959841572122,-0.8622360025956758,-0.7769629600854723,1.141384587800869,2.3864706479233844,0.9299078566189861,0.4555732303265823,0.32647238553721564,-0.6803360397686434,-0.8102760959813967,1.4848181818102724,0.5291945647751306,1.4353440017023873,-0.5026056619198886,-0.5800213198181711,-0.09606149483386926,-0.5768704701146251,-0.9372294832680503,-0.08510356635600864,0.37212959201504026,-1.362462924687948,0.8806989154386949,-0.8358694207263032,-0.28953059607877285,-0.5011078163710999,-0.43790828913824986,-0.6514598584332857,0.6002289489726451,0.22186817296233421,0.27994648352865514,-0.9689803349519742,1.1825509508611973,0.04780373093205452,-2.716968073246881,0.6349138266490004,0.41478390998119186,0.8246493600925106,0.4930703351281199,0.6487322832414203,-0.08336067163389263,-1.3049247995275077,1.0619952081092054,-0.7227073628981311,0.5809890622275982,1.2272849369420071,-1.510539737682553,-0.7456146006935016,-1.2750149926211962,0.20466552604659938,0.48741572091628266,1.0797839304892964,0.2896592763134485,-0.6204080623813175,0.9488442025282456,-0.8011395533914448,1.1723009064207326,0.6054895171876152,0.04816408029720471,-0.13535894381818353,-0.8965841075311023,-1.954615214342892,-0.15472804753915848,-0.9524201139436,-1.5291955641115345,1.037853825639349,0.1875096616869887,-0.5588917015575369,0.8044315841413262,-0.47554678747052664,-0.6213643969232366,-0.8184197648045224,-0.11121577771197998,0.4824724082217693,-2.032159511239236,0.6878192901007198,-0.8075923737337249,1.0440508302797218,0.1303876927045207,-1.980567271026737,0.7269021112597615,-0.9504440925098565,-0.7352991807724102,-0.22826571887397049,0.4175573994031141,0.6884329397963111,0.5481622573258714,0.6080475289579149,1.7843699428922326,1.0645184313051146,-1.2657980679905936,1.2728775711928362,-0.6676306193331588,-0.9306861770987371,1.6149963278104023,-1.2152379938641267,-0.9470164897283213],\"type\":\"scatter\"}],                        {\"legend\":{\"bgcolor\":\"#F5F6F9\",\"font\":{\"color\":\"#4D5663\"}},\"paper_bgcolor\":\"#F5F6F9\",\"plot_bgcolor\":\"#F5F6F9\",\"template\":{\"data\":{\"barpolar\":[{\"marker\":{\"line\":{\"color\":\"#E5ECF6\",\"width\":0.5},\"pattern\":{\"fillmode\":\"overlay\",\"size\":10,\"solidity\":0.2}},\"type\":\"barpolar\"}],\"bar\":[{\"error_x\":{\"color\":\"#2a3f5f\"},\"error_y\":{\"color\":\"#2a3f5f\"},\"marker\":{\"line\":{\"color\":\"#E5ECF6\",\"width\":0.5},\"pattern\":{\"fillmode\":\"overlay\",\"size\":10,\"solidity\":0.2}},\"type\":\"bar\"}],\"carpet\":[{\"aaxis\":{\"endlinecolor\":\"#2a3f5f\",\"gridcolor\":\"white\",\"linecolor\":\"white\",\"minorgridcolor\":\"white\",\"startlinecolor\":\"#2a3f5f\"},\"baxis\":{\"endlinecolor\":\"#2a3f5f\",\"gridcolor\":\"white\",\"linecolor\":\"white\",\"minorgridcolor\":\"white\",\"startlinecolor\":\"#2a3f5f\"},\"type\":\"carpet\"}],\"choropleth\":[{\"colorbar\":{\"outlinewidth\":0,\"ticks\":\"\"},\"type\":\"choropleth\"}],\"contourcarpet\":[{\"colorbar\":{\"outlinewidth\":0,\"ticks\":\"\"},\"type\":\"contourcarpet\"}],\"contour\":[{\"colorbar\":{\"outlinewidth\":0,\"ticks\":\"\"},\"colorscale\":[[0.0,\"#0d0887\"],[0.1111111111111111,\"#46039f\"],[0.2222222222222222,\"#7201a8\"],[0.3333333333333333,\"#9c179e\"],[0.4444444444444444,\"#bd3786\"],[0.5555555555555556,\"#d8576b\"],[0.6666666666666666,\"#ed7953\"],[0.7777777777777778,\"#fb9f3a\"],[0.8888888888888888,\"#fdca26\"],[1.0,\"#f0f921\"]],\"type\":\"contour\"}],\"heatmapgl\":[{\"colorbar\":{\"outlinewidth\":0,\"ticks\":\"\"},\"colorscale\":[[0.0,\"#0d0887\"],[0.1111111111111111,\"#46039f\"],[0.2222222222222222,\"#7201a8\"],[0.3333333333333333,\"#9c179e\"],[0.4444444444444444,\"#bd3786\"],[0.5555555555555556,\"#d8576b\"],[0.6666666666666666,\"#ed7953\"],[0.7777777777777778,\"#fb9f3a\"],[0.8888888888888888,\"#fdca26\"],[1.0,\"#f0f921\"]],\"type\":\"heatmapgl\"}],\"heatmap\":[{\"colorbar\":{\"outlinewidth\":0,\"ticks\":\"\"},\"colorscale\":[[0.0,\"#0d0887\"],[0.1111111111111111,\"#46039f\"],[0.2222222222222222,\"#7201a8\"],[0.3333333333333333,\"#9c179e\"],[0.4444444444444444,\"#bd3786\"],[0.5555555555555556,\"#d8576b\"],[0.6666666666666666,\"#ed7953\"],[0.7777777777777778,\"#fb9f3a\"],[0.8888888888888888,\"#fdca26\"],[1.0,\"#f0f921\"]],\"type\":\"heatmap\"}],\"histogram2dcontour\":[{\"colorbar\":{\"outlinewidth\":0,\"ticks\":\"\"},\"colorscale\":[[0.0,\"#0d0887\"],[0.1111111111111111,\"#46039f\"],[0.2222222222222222,\"#7201a8\"],[0.3333333333333333,\"#9c179e\"],[0.4444444444444444,\"#bd3786\"],[0.5555555555555556,\"#d8576b\"],[0.6666666666666666,\"#ed7953\"],[0.7777777777777778,\"#fb9f3a\"],[0.8888888888888888,\"#fdca26\"],[1.0,\"#f0f921\"]],\"type\":\"histogram2dcontour\"}],\"histogram2d\":[{\"colorbar\":{\"outlinewidth\":0,\"ticks\":\"\"},\"colorscale\":[[0.0,\"#0d0887\"],[0.1111111111111111,\"#46039f\"],[0.2222222222222222,\"#7201a8\"],[0.3333333333333333,\"#9c179e\"],[0.4444444444444444,\"#bd3786\"],[0.5555555555555556,\"#d8576b\"],[0.6666666666666666,\"#ed7953\"],[0.7777777777777778,\"#fb9f3a\"],[0.8888888888888888,\"#fdca26\"],[1.0,\"#f0f921\"]],\"type\":\"histogram2d\"}],\"histogram\":[{\"marker\":{\"pattern\":{\"fillmode\":\"overlay\",\"size\":10,\"solidity\":0.2}},\"type\":\"histogram\"}],\"mesh3d\":[{\"colorbar\":{\"outlinewidth\":0,\"ticks\":\"\"},\"type\":\"mesh3d\"}],\"parcoords\":[{\"line\":{\"colorbar\":{\"outlinewidth\":0,\"ticks\":\"\"}},\"type\":\"parcoords\"}],\"pie\":[{\"automargin\":true,\"type\":\"pie\"}],\"scatter3d\":[{\"line\":{\"colorbar\":{\"outlinewidth\":0,\"ticks\":\"\"}},\"marker\":{\"colorbar\":{\"outlinewidth\":0,\"ticks\":\"\"}},\"type\":\"scatter3d\"}],\"scattercarpet\":[{\"marker\":{\"colorbar\":{\"outlinewidth\":0,\"ticks\":\"\"}},\"type\":\"scattercarpet\"}],\"scattergeo\":[{\"marker\":{\"colorbar\":{\"outlinewidth\":0,\"ticks\":\"\"}},\"type\":\"scattergeo\"}],\"scattergl\":[{\"marker\":{\"colorbar\":{\"outlinewidth\":0,\"ticks\":\"\"}},\"type\":\"scattergl\"}],\"scattermapbox\":[{\"marker\":{\"colorbar\":{\"outlinewidth\":0,\"ticks\":\"\"}},\"type\":\"scattermapbox\"}],\"scatterpolargl\":[{\"marker\":{\"colorbar\":{\"outlinewidth\":0,\"ticks\":\"\"}},\"type\":\"scatterpolargl\"}],\"scatterpolar\":[{\"marker\":{\"colorbar\":{\"outlinewidth\":0,\"ticks\":\"\"}},\"type\":\"scatterpolar\"}],\"scatter\":[{\"fillpattern\":{\"fillmode\":\"overlay\",\"size\":10,\"solidity\":0.2},\"type\":\"scatter\"}],\"scatterternary\":[{\"marker\":{\"colorbar\":{\"outlinewidth\":0,\"ticks\":\"\"}},\"type\":\"scatterternary\"}],\"surface\":[{\"colorbar\":{\"outlinewidth\":0,\"ticks\":\"\"},\"colorscale\":[[0.0,\"#0d0887\"],[0.1111111111111111,\"#46039f\"],[0.2222222222222222,\"#7201a8\"],[0.3333333333333333,\"#9c179e\"],[0.4444444444444444,\"#bd3786\"],[0.5555555555555556,\"#d8576b\"],[0.6666666666666666,\"#ed7953\"],[0.7777777777777778,\"#fb9f3a\"],[0.8888888888888888,\"#fdca26\"],[1.0,\"#f0f921\"]],\"type\":\"surface\"}],\"table\":[{\"cells\":{\"fill\":{\"color\":\"#EBF0F8\"},\"line\":{\"color\":\"white\"}},\"header\":{\"fill\":{\"color\":\"#C8D4E3\"},\"line\":{\"color\":\"white\"}},\"type\":\"table\"}]},\"layout\":{\"annotationdefaults\":{\"arrowcolor\":\"#2a3f5f\",\"arrowhead\":0,\"arrowwidth\":1},\"autotypenumbers\":\"strict\",\"coloraxis\":{\"colorbar\":{\"outlinewidth\":0,\"ticks\":\"\"}},\"colorscale\":{\"diverging\":[[0,\"#8e0152\"],[0.1,\"#c51b7d\"],[0.2,\"#de77ae\"],[0.3,\"#f1b6da\"],[0.4,\"#fde0ef\"],[0.5,\"#f7f7f7\"],[0.6,\"#e6f5d0\"],[0.7,\"#b8e186\"],[0.8,\"#7fbc41\"],[0.9,\"#4d9221\"],[1,\"#276419\"]],\"sequential\":[[0.0,\"#0d0887\"],[0.1111111111111111,\"#46039f\"],[0.2222222222222222,\"#7201a8\"],[0.3333333333333333,\"#9c179e\"],[0.4444444444444444,\"#bd3786\"],[0.5555555555555556,\"#d8576b\"],[0.6666666666666666,\"#ed7953\"],[0.7777777777777778,\"#fb9f3a\"],[0.8888888888888888,\"#fdca26\"],[1.0,\"#f0f921\"]],\"sequentialminus\":[[0.0,\"#0d0887\"],[0.1111111111111111,\"#46039f\"],[0.2222222222222222,\"#7201a8\"],[0.3333333333333333,\"#9c179e\"],[0.4444444444444444,\"#bd3786\"],[0.5555555555555556,\"#d8576b\"],[0.6666666666666666,\"#ed7953\"],[0.7777777777777778,\"#fb9f3a\"],[0.8888888888888888,\"#fdca26\"],[1.0,\"#f0f921\"]]},\"colorway\":[\"#636efa\",\"#EF553B\",\"#00cc96\",\"#ab63fa\",\"#FFA15A\",\"#19d3f3\",\"#FF6692\",\"#B6E880\",\"#FF97FF\",\"#FECB52\"],\"font\":{\"color\":\"#2a3f5f\"},\"geo\":{\"bgcolor\":\"white\",\"lakecolor\":\"white\",\"landcolor\":\"#E5ECF6\",\"showlakes\":true,\"showland\":true,\"subunitcolor\":\"white\"},\"hoverlabel\":{\"align\":\"left\"},\"hovermode\":\"closest\",\"mapbox\":{\"style\":\"light\"},\"paper_bgcolor\":\"white\",\"plot_bgcolor\":\"#E5ECF6\",\"polar\":{\"angularaxis\":{\"gridcolor\":\"white\",\"linecolor\":\"white\",\"ticks\":\"\"},\"bgcolor\":\"#E5ECF6\",\"radialaxis\":{\"gridcolor\":\"white\",\"linecolor\":\"white\",\"ticks\":\"\"}},\"scene\":{\"xaxis\":{\"backgroundcolor\":\"#E5ECF6\",\"gridcolor\":\"white\",\"gridwidth\":2,\"linecolor\":\"white\",\"showbackground\":true,\"ticks\":\"\",\"zerolinecolor\":\"white\"},\"yaxis\":{\"backgroundcolor\":\"#E5ECF6\",\"gridcolor\":\"white\",\"gridwidth\":2,\"linecolor\":\"white\",\"showbackground\":true,\"ticks\":\"\",\"zerolinecolor\":\"white\"},\"zaxis\":{\"backgroundcolor\":\"#E5ECF6\",\"gridcolor\":\"white\",\"gridwidth\":2,\"linecolor\":\"white\",\"showbackground\":true,\"ticks\":\"\",\"zerolinecolor\":\"white\"}},\"shapedefaults\":{\"line\":{\"color\":\"#2a3f5f\"}},\"ternary\":{\"aaxis\":{\"gridcolor\":\"white\",\"linecolor\":\"white\",\"ticks\":\"\"},\"baxis\":{\"gridcolor\":\"white\",\"linecolor\":\"white\",\"ticks\":\"\"},\"bgcolor\":\"#E5ECF6\",\"caxis\":{\"gridcolor\":\"white\",\"linecolor\":\"white\",\"ticks\":\"\"}},\"title\":{\"x\":0.05},\"xaxis\":{\"automargin\":true,\"gridcolor\":\"white\",\"linecolor\":\"white\",\"ticks\":\"\",\"title\":{\"standoff\":15},\"zerolinecolor\":\"white\",\"zerolinewidth\":2},\"yaxis\":{\"automargin\":true,\"gridcolor\":\"white\",\"linecolor\":\"white\",\"ticks\":\"\",\"title\":{\"standoff\":15},\"zerolinecolor\":\"white\",\"zerolinewidth\":2}}},\"title\":{\"font\":{\"color\":\"#4D5663\"}},\"xaxis\":{\"gridcolor\":\"#E1E5ED\",\"showgrid\":true,\"tickfont\":{\"color\":\"#4D5663\"},\"title\":{\"font\":{\"color\":\"#4D5663\"},\"text\":\"\"},\"zerolinecolor\":\"#E1E5ED\"},\"yaxis\":{\"gridcolor\":\"#E1E5ED\",\"showgrid\":true,\"tickfont\":{\"color\":\"#4D5663\"},\"title\":{\"font\":{\"color\":\"#4D5663\"},\"text\":\"\"},\"zerolinecolor\":\"#E1E5ED\"}},                        {\"showLink\": true, \"linkText\": \"Export to plot.ly\", \"plotlyServerURL\": \"https://plot.ly\", \"responsive\": true}                    ).then(function(){\n",
       "                            \n",
       "var gd = document.getElementById('c10d951e-ca5b-4d9f-a5e9-12a97a04d0c1');\n",
       "var x = new MutationObserver(function (mutations, observer) {{\n",
       "        var display = window.getComputedStyle(gd).display;\n",
       "        if (!display || display === 'none') {{\n",
       "            console.log([gd, 'removed!']);\n",
       "            Plotly.purge(gd);\n",
       "            observer.disconnect();\n",
       "        }}\n",
       "}});\n",
       "\n",
       "// Listen for the removal of the full notebook cells\n",
       "var notebookContainer = gd.closest('#notebook-container');\n",
       "if (notebookContainer) {{\n",
       "    x.observe(notebookContainer, {childList: true});\n",
       "}}\n",
       "\n",
       "// Listen for the clearing of the current output cell\n",
       "var outputEl = gd.closest('.output');\n",
       "if (outputEl) {{\n",
       "    x.observe(outputEl, {childList: true});\n",
       "}}\n",
       "\n",
       "                        })                };                });            </script>        </div>"
      ]
     },
     "metadata": {},
     "output_type": "display_data"
    }
   ],
   "source": [
    "df.iplot(kind='bubble',x='A',y='B',size='C')"
   ]
  },
  {
   "cell_type": "markdown",
   "metadata": {},
   "source": [
    "## scatter_matrix()\n",
    "\n",
    "Similar to sns.pairplot()"
   ]
  },
  {
   "cell_type": "code",
   "execution_count": 19,
   "metadata": {},
   "outputs": [
    {
     "data": {
      "application/vnd.plotly.v1+json": {
       "config": {
        "linkText": "Export to plot.ly",
        "plotlyServerURL": "https://plot.ly",
        "showLink": true
       },
       "data": [
        {
         "histfunc": "count",
         "histnorm": "",
         "marker": {
          "color": "rgba(255, 153, 51, 1.0)",
          "line": {
           "color": "#4D5663",
           "width": 1.3
          }
         },
         "name": "A",
         "nbinsx": 10,
         "opacity": 0.8,
         "orientation": "v",
         "type": "histogram",
         "x": [
          -1.5744069188809882,
          0.2919965937061701,
          -0.20987911018127825,
          1.4072243870576893,
          0.5984723796355707,
          -0.2744220558333609,
          0.017729177103530606,
          -1.4785228691304597,
          0.45485788895139434,
          0.7817522785186537,
          0.6158030135086989,
          0.20802408355881027,
          -0.9111899216311535,
          -0.5382498735341864,
          2.2762676193980482,
          -1.3159624487677273,
          -0.06275163823087321,
          -0.4815939833334281,
          0.24651562164010077,
          0.5128628101495492,
          -0.2088905846667024,
          -0.37961744382809437,
          -1.3750740367784493,
          -0.1440449218155529,
          -0.6913576335249373,
          -0.8765044012890313,
          1.5299431347988888,
          0.3492702609917798,
          0.8632771989810265,
          0.2599651123227867,
          -0.7226945310100287,
          -0.5214214959940227,
          -0.6701981378685836,
          -1.6376029981808569,
          -1.1005326319176798,
          -2.0990592385751654,
          0.9648940123270464,
          -0.7199413985460938,
          0.09503131401757643,
          -0.5629431738077807,
          1.0803145448231073,
          0.8972983341827394,
          1.8248328731964814,
          -1.0171487169752407,
          -0.10207657386959489,
          -0.9962484521182952,
          -0.2958514481504522,
          -0.8607863376679893,
          0.2860450974872978,
          -0.9935693485120408,
          -0.39627560768952946,
          0.8951387380632714,
          -1.5007119405734002,
          0.07588767461740342,
          -0.22972784324619358,
          1.1166806807792315,
          -0.6412361428214182,
          1.4433582217204095,
          0.8313925941737207,
          -1.2607458874475315,
          -0.5179577520575765,
          0.2942700620890089,
          1.4727361516699482,
          0.17341433018348343,
          -1.0770753575548573,
          0.10533370002320529,
          0.0793294308116233,
          -1.2209897048108995,
          -0.8474131221067496,
          0.4140503688588217,
          1.7235576738547156,
          0.2866510056446499,
          -1.3814385683659007,
          -0.43750975085760285,
          0.18836090635740865,
          0.665859181474303,
          -0.9483973704483861,
          -0.8046482102273977,
          1.0051984408320216,
          -0.6749142511199132,
          -1.9239795201339824,
          -1.1442081980896393,
          0.48266997736509804,
          0.0975543014512976,
          -0.1984691597006762,
          -0.03426534605026892,
          -0.297829988581982,
          -0.908952261148527,
          -0.640552122171676,
          2.36128954662639,
          -1.0401492611610879,
          -0.666139394408712,
          -1.4197630539022021,
          -0.22321839664823442,
          -0.6253401945309588,
          0.4621300236937175,
          0.4284540858073102,
          -1.411894453558689,
          -0.5203770031024622,
          -0.3419949085418646
         ],
         "xaxis": "x",
         "yaxis": "y"
        },
        {
         "line": {
          "color": "rgba(128, 128, 128, 1.0)",
          "dash": "solid",
          "shape": "linear",
          "width": 1.3
         },
         "marker": {
          "size": 2,
          "symbol": "circle"
         },
         "mode": "markers",
         "name": "A",
         "text": "",
         "type": "scatter",
         "x": [
          -0.16301927573326747,
          -0.48711484848482545,
          -2.151495874975196,
          -0.654841755684685,
          0.6295959841572122,
          -0.8622360025956758,
          -0.7769629600854723,
          1.141384587800869,
          2.3864706479233844,
          0.9299078566189861,
          0.4555732303265823,
          0.32647238553721564,
          -0.6803360397686434,
          -0.8102760959813967,
          1.4848181818102724,
          0.5291945647751306,
          1.4353440017023873,
          -0.5026056619198886,
          -0.5800213198181711,
          -0.09606149483386926,
          -0.5768704701146251,
          -0.9372294832680503,
          -0.08510356635600864,
          0.37212959201504026,
          -1.362462924687948,
          0.8806989154386949,
          -0.8358694207263032,
          -0.28953059607877285,
          -0.5011078163710999,
          -0.43790828913824986,
          -0.6514598584332857,
          0.6002289489726451,
          0.22186817296233421,
          0.27994648352865514,
          -0.9689803349519742,
          1.1825509508611973,
          0.04780373093205452,
          -2.716968073246881,
          0.6349138266490004,
          0.41478390998119186,
          0.8246493600925106,
          0.4930703351281199,
          0.6487322832414203,
          -0.08336067163389263,
          -1.3049247995275077,
          1.0619952081092054,
          -0.7227073628981311,
          0.5809890622275982,
          1.2272849369420071,
          -1.510539737682553,
          -0.7456146006935016,
          -1.2750149926211962,
          0.20466552604659938,
          0.48741572091628266,
          1.0797839304892964,
          0.2896592763134485,
          -0.6204080623813175,
          0.9488442025282456,
          -0.8011395533914448,
          1.1723009064207326,
          0.6054895171876152,
          0.04816408029720471,
          -0.13535894381818353,
          -0.8965841075311023,
          -1.954615214342892,
          -0.15472804753915848,
          -0.9524201139436,
          -1.5291955641115345,
          1.037853825639349,
          0.1875096616869887,
          -0.5588917015575369,
          0.8044315841413262,
          -0.47554678747052664,
          -0.6213643969232366,
          -0.8184197648045224,
          -0.11121577771197998,
          0.4824724082217693,
          -2.032159511239236,
          0.6878192901007198,
          -0.8075923737337249,
          1.0440508302797218,
          0.1303876927045207,
          -1.980567271026737,
          0.7269021112597615,
          -0.9504440925098565,
          -0.7352991807724102,
          -0.22826571887397049,
          0.4175573994031141,
          0.6884329397963111,
          0.5481622573258714,
          0.6080475289579149,
          1.7843699428922326,
          1.0645184313051146,
          -1.2657980679905936,
          1.2728775711928362,
          -0.6676306193331588,
          -0.9306861770987371,
          1.6149963278104023,
          -1.2152379938641267,
          -0.9470164897283213
         ],
         "xaxis": "x2",
         "y": [
          -1.5744069188809882,
          0.2919965937061701,
          -0.20987911018127825,
          1.4072243870576893,
          0.5984723796355707,
          -0.2744220558333609,
          0.017729177103530606,
          -1.4785228691304597,
          0.45485788895139434,
          0.7817522785186537,
          0.6158030135086989,
          0.20802408355881027,
          -0.9111899216311535,
          -0.5382498735341864,
          2.2762676193980482,
          -1.3159624487677273,
          -0.06275163823087321,
          -0.4815939833334281,
          0.24651562164010077,
          0.5128628101495492,
          -0.2088905846667024,
          -0.37961744382809437,
          -1.3750740367784493,
          -0.1440449218155529,
          -0.6913576335249373,
          -0.8765044012890313,
          1.5299431347988888,
          0.3492702609917798,
          0.8632771989810265,
          0.2599651123227867,
          -0.7226945310100287,
          -0.5214214959940227,
          -0.6701981378685836,
          -1.6376029981808569,
          -1.1005326319176798,
          -2.0990592385751654,
          0.9648940123270464,
          -0.7199413985460938,
          0.09503131401757643,
          -0.5629431738077807,
          1.0803145448231073,
          0.8972983341827394,
          1.8248328731964814,
          -1.0171487169752407,
          -0.10207657386959489,
          -0.9962484521182952,
          -0.2958514481504522,
          -0.8607863376679893,
          0.2860450974872978,
          -0.9935693485120408,
          -0.39627560768952946,
          0.8951387380632714,
          -1.5007119405734002,
          0.07588767461740342,
          -0.22972784324619358,
          1.1166806807792315,
          -0.6412361428214182,
          1.4433582217204095,
          0.8313925941737207,
          -1.2607458874475315,
          -0.5179577520575765,
          0.2942700620890089,
          1.4727361516699482,
          0.17341433018348343,
          -1.0770753575548573,
          0.10533370002320529,
          0.0793294308116233,
          -1.2209897048108995,
          -0.8474131221067496,
          0.4140503688588217,
          1.7235576738547156,
          0.2866510056446499,
          -1.3814385683659007,
          -0.43750975085760285,
          0.18836090635740865,
          0.665859181474303,
          -0.9483973704483861,
          -0.8046482102273977,
          1.0051984408320216,
          -0.6749142511199132,
          -1.9239795201339824,
          -1.1442081980896393,
          0.48266997736509804,
          0.0975543014512976,
          -0.1984691597006762,
          -0.03426534605026892,
          -0.297829988581982,
          -0.908952261148527,
          -0.640552122171676,
          2.36128954662639,
          -1.0401492611610879,
          -0.666139394408712,
          -1.4197630539022021,
          -0.22321839664823442,
          -0.6253401945309588,
          0.4621300236937175,
          0.4284540858073102,
          -1.411894453558689,
          -0.5203770031024622,
          -0.3419949085418646
         ],
         "yaxis": "y2"
        },
        {
         "line": {
          "color": "rgba(128, 128, 128, 1.0)",
          "dash": "solid",
          "shape": "linear",
          "width": 1.3
         },
         "marker": {
          "size": 2,
          "symbol": "circle"
         },
         "mode": "markers",
         "name": "A",
         "text": "",
         "type": "scatter",
         "x": [
          1.3672431823573838,
          -3.1219528916298342,
          0.45664659886304176,
          -0.5756400849623312,
          0.26321086301622215,
          0.20368403916398278,
          -0.5338688747549704,
          -0.46671180155625697,
          -1.2088396445684164,
          0.29701209884441515,
          -0.05975273591374197,
          -0.08357578612941527,
          0.7323963232173264,
          0.30982320403787583,
          1.0189121573601516,
          -0.27744429169188334,
          0.7581448689930282,
          -0.86968309028437,
          -0.009004749293217387,
          -2.407560001627149,
          -0.12923674911093525,
          -1.8144553816112123,
          -1.1058062044135333,
          -0.9974421712966076,
          0.015229785196408977,
          0.8722685262126041,
          -1.2220225498160038,
          0.1993548951630531,
          1.304020957984012,
          0.8051092616191471,
          -0.6153777156233635,
          0.07914329712761964,
          1.5858973639162262,
          0.1303574550605811,
          -0.4274500326254631,
          -0.47367273259103937,
          1.6102229598586186,
          -1.549622233256524,
          0.21952602572435878,
          0.2706451447328084,
          -0.3434956139479138,
          -0.05622980819386601,
          -0.785672874053645,
          0.12189558214337343,
          -0.10726557680804973,
          0.5202707302013411,
          0.032937249257193775,
          0.5847736058133264,
          -0.020196157505648734,
          -0.6959929471544657,
          -0.8454487192961543,
          0.22586008278265896,
          0.26476528256834014,
          -1.8457808002869223,
          -1.5993017556140035,
          2.3908157138700847,
          0.17606542267964284,
          -0.9669494170417328,
          -0.4626543475624007,
          -0.18717695305071694,
          -0.25153927872982507,
          1.4015345879049936,
          -0.8785901734444322,
          -0.821724250777076,
          -0.36723925965907717,
          -0.681513350437804,
          -0.6276390985925588,
          0.32890041723736524,
          1.0904951899261752,
          1.210654241030231,
          0.4228896166290119,
          -0.8681726055082388,
          0.460386151293955,
          -1.1571199502626404,
          -0.41143049432801143,
          -0.5203654273835205,
          -0.11140547686233722,
          -0.30111239018262514,
          -1.6836089418767073,
          -0.7018835879974834,
          -1.4016371462343824,
          -1.198464106013325,
          -0.22338365737031157,
          -1.9045289244951296,
          0.922413835388977,
          2.5831533079837996,
          0.16392777724218283,
          -0.23919034327453656,
          2.6537316019626167,
          -0.12064682438994766,
          -1.6175818360130871,
          -0.7035738672273057,
          1.2977901200905202,
          1.2099729745449455,
          0.07611594090509306,
          -0.56332201438011,
          0.1671144686726566,
          -1.2679573089558116,
          -1.4631730551116238,
          -0.3691341538034559
         ],
         "xaxis": "x3",
         "y": [
          -1.5744069188809882,
          0.2919965937061701,
          -0.20987911018127825,
          1.4072243870576893,
          0.5984723796355707,
          -0.2744220558333609,
          0.017729177103530606,
          -1.4785228691304597,
          0.45485788895139434,
          0.7817522785186537,
          0.6158030135086989,
          0.20802408355881027,
          -0.9111899216311535,
          -0.5382498735341864,
          2.2762676193980482,
          -1.3159624487677273,
          -0.06275163823087321,
          -0.4815939833334281,
          0.24651562164010077,
          0.5128628101495492,
          -0.2088905846667024,
          -0.37961744382809437,
          -1.3750740367784493,
          -0.1440449218155529,
          -0.6913576335249373,
          -0.8765044012890313,
          1.5299431347988888,
          0.3492702609917798,
          0.8632771989810265,
          0.2599651123227867,
          -0.7226945310100287,
          -0.5214214959940227,
          -0.6701981378685836,
          -1.6376029981808569,
          -1.1005326319176798,
          -2.0990592385751654,
          0.9648940123270464,
          -0.7199413985460938,
          0.09503131401757643,
          -0.5629431738077807,
          1.0803145448231073,
          0.8972983341827394,
          1.8248328731964814,
          -1.0171487169752407,
          -0.10207657386959489,
          -0.9962484521182952,
          -0.2958514481504522,
          -0.8607863376679893,
          0.2860450974872978,
          -0.9935693485120408,
          -0.39627560768952946,
          0.8951387380632714,
          -1.5007119405734002,
          0.07588767461740342,
          -0.22972784324619358,
          1.1166806807792315,
          -0.6412361428214182,
          1.4433582217204095,
          0.8313925941737207,
          -1.2607458874475315,
          -0.5179577520575765,
          0.2942700620890089,
          1.4727361516699482,
          0.17341433018348343,
          -1.0770753575548573,
          0.10533370002320529,
          0.0793294308116233,
          -1.2209897048108995,
          -0.8474131221067496,
          0.4140503688588217,
          1.7235576738547156,
          0.2866510056446499,
          -1.3814385683659007,
          -0.43750975085760285,
          0.18836090635740865,
          0.665859181474303,
          -0.9483973704483861,
          -0.8046482102273977,
          1.0051984408320216,
          -0.6749142511199132,
          -1.9239795201339824,
          -1.1442081980896393,
          0.48266997736509804,
          0.0975543014512976,
          -0.1984691597006762,
          -0.03426534605026892,
          -0.297829988581982,
          -0.908952261148527,
          -0.640552122171676,
          2.36128954662639,
          -1.0401492611610879,
          -0.666139394408712,
          -1.4197630539022021,
          -0.22321839664823442,
          -0.6253401945309588,
          0.4621300236937175,
          0.4284540858073102,
          -1.411894453558689,
          -0.5203770031024622,
          -0.3419949085418646
         ],
         "yaxis": "y3"
        },
        {
         "line": {
          "color": "rgba(128, 128, 128, 1.0)",
          "dash": "solid",
          "shape": "linear",
          "width": 1.3
         },
         "marker": {
          "size": 2,
          "symbol": "circle"
         },
         "mode": "markers",
         "name": "A",
         "text": "",
         "type": "scatter",
         "x": [
          0.4474802242592564,
          0.2834063837263141,
          -0.7770490185487827,
          -0.04492980839881632,
          0.27009299960693095,
          0.008903149562862311,
          -0.45717750105423627,
          -0.48932514881148886,
          0.34273376144461437,
          3.359298674005126,
          0.12525255257388343,
          1.0492527634432405,
          0.9767536714034938,
          -1.3965234483793163,
          0.36922158663529275,
          -0.3033619382038873,
          -0.47655211773527106,
          2.1221536872359295,
          -0.02968677212688579,
          0.3053917192209469,
          0.3457286371599666,
          0.6394661871439085,
          -0.5732134800332948,
          -0.7025481174908671,
          0.944131945631374,
          -1.5215016925305056,
          1.0424982635673354,
          0.32282980989502397,
          0.4966648360880945,
          0.5927553751485347,
          0.1813351552883239,
          -1.9342706893633625,
          -0.11305803545009196,
          0.19131406053997785,
          -1.4443689467173215,
          -0.4571057016358224,
          -0.028694104126904582,
          0.3846028448279193,
          0.8712626714186823,
          0.333044013563274,
          2.7399527788519173,
          -0.46429433135988035,
          0.7171306015411412,
          0.8426235128225036,
          1.1218848874580638,
          -0.648317919096552,
          0.07765897327261925,
          -0.31015839239369747,
          0.9165595578034476,
          0.17930582022134683,
          0.34917932729373347,
          0.06691149447692568,
          1.2098580139457729,
          -0.7353834794681324,
          0.6575980669827997,
          0.8972514079789817,
          1.9983423698429235,
          -0.3451083950820109,
          -1.5527107787406171,
          -2.2135600944549703,
          1.0086141184033188,
          -2.075900904803881,
          -0.4915393075552051,
          -1.1580997209625832,
          1.9243321885146973,
          0.21997464598801975,
          0.5426016426740771,
          1.1815619340451056,
          -1.0965126676340762,
          -0.6138866145984655,
          1.7888401389186588,
          0.9929130957912348,
          -1.4109822106421528,
          -0.21785991911797598,
          -1.2452717391309158,
          -0.05910151075239766,
          0.052366378735798844,
          -0.5760428334325783,
          0.5090679208803346,
          1.6900529825852426,
          0.6168962904866758,
          0.5001867013531961,
          -1.0904012912269452,
          0.8394267452655713,
          0.6035190382826191,
          -1.3845892642933673,
          1.6172660479222531,
          1.130759407780482,
          0.9838128421116707,
          -1.2862092960650897,
          0.2623239284610542,
          -0.016782468255838946,
          -0.7146424100039155,
          0.20514193573097697,
          0.6001189095625172,
          -1.158164454539793,
          1.1390141806277636,
          -0.16838268893115318,
          0.10991657897069484,
          0.280505421663259
         ],
         "xaxis": "x4",
         "y": [
          -1.5744069188809882,
          0.2919965937061701,
          -0.20987911018127825,
          1.4072243870576893,
          0.5984723796355707,
          -0.2744220558333609,
          0.017729177103530606,
          -1.4785228691304597,
          0.45485788895139434,
          0.7817522785186537,
          0.6158030135086989,
          0.20802408355881027,
          -0.9111899216311535,
          -0.5382498735341864,
          2.2762676193980482,
          -1.3159624487677273,
          -0.06275163823087321,
          -0.4815939833334281,
          0.24651562164010077,
          0.5128628101495492,
          -0.2088905846667024,
          -0.37961744382809437,
          -1.3750740367784493,
          -0.1440449218155529,
          -0.6913576335249373,
          -0.8765044012890313,
          1.5299431347988888,
          0.3492702609917798,
          0.8632771989810265,
          0.2599651123227867,
          -0.7226945310100287,
          -0.5214214959940227,
          -0.6701981378685836,
          -1.6376029981808569,
          -1.1005326319176798,
          -2.0990592385751654,
          0.9648940123270464,
          -0.7199413985460938,
          0.09503131401757643,
          -0.5629431738077807,
          1.0803145448231073,
          0.8972983341827394,
          1.8248328731964814,
          -1.0171487169752407,
          -0.10207657386959489,
          -0.9962484521182952,
          -0.2958514481504522,
          -0.8607863376679893,
          0.2860450974872978,
          -0.9935693485120408,
          -0.39627560768952946,
          0.8951387380632714,
          -1.5007119405734002,
          0.07588767461740342,
          -0.22972784324619358,
          1.1166806807792315,
          -0.6412361428214182,
          1.4433582217204095,
          0.8313925941737207,
          -1.2607458874475315,
          -0.5179577520575765,
          0.2942700620890089,
          1.4727361516699482,
          0.17341433018348343,
          -1.0770753575548573,
          0.10533370002320529,
          0.0793294308116233,
          -1.2209897048108995,
          -0.8474131221067496,
          0.4140503688588217,
          1.7235576738547156,
          0.2866510056446499,
          -1.3814385683659007,
          -0.43750975085760285,
          0.18836090635740865,
          0.665859181474303,
          -0.9483973704483861,
          -0.8046482102273977,
          1.0051984408320216,
          -0.6749142511199132,
          -1.9239795201339824,
          -1.1442081980896393,
          0.48266997736509804,
          0.0975543014512976,
          -0.1984691597006762,
          -0.03426534605026892,
          -0.297829988581982,
          -0.908952261148527,
          -0.640552122171676,
          2.36128954662639,
          -1.0401492611610879,
          -0.666139394408712,
          -1.4197630539022021,
          -0.22321839664823442,
          -0.6253401945309588,
          0.4621300236937175,
          0.4284540858073102,
          -1.411894453558689,
          -0.5203770031024622,
          -0.3419949085418646
         ],
         "yaxis": "y4"
        },
        {
         "line": {
          "color": "rgba(128, 128, 128, 1.0)",
          "dash": "solid",
          "shape": "linear",
          "width": 1.3
         },
         "marker": {
          "size": 2,
          "symbol": "circle"
         },
         "mode": "markers",
         "name": "B",
         "text": "",
         "type": "scatter",
         "x": [
          -1.5744069188809882,
          0.2919965937061701,
          -0.20987911018127825,
          1.4072243870576893,
          0.5984723796355707,
          -0.2744220558333609,
          0.017729177103530606,
          -1.4785228691304597,
          0.45485788895139434,
          0.7817522785186537,
          0.6158030135086989,
          0.20802408355881027,
          -0.9111899216311535,
          -0.5382498735341864,
          2.2762676193980482,
          -1.3159624487677273,
          -0.06275163823087321,
          -0.4815939833334281,
          0.24651562164010077,
          0.5128628101495492,
          -0.2088905846667024,
          -0.37961744382809437,
          -1.3750740367784493,
          -0.1440449218155529,
          -0.6913576335249373,
          -0.8765044012890313,
          1.5299431347988888,
          0.3492702609917798,
          0.8632771989810265,
          0.2599651123227867,
          -0.7226945310100287,
          -0.5214214959940227,
          -0.6701981378685836,
          -1.6376029981808569,
          -1.1005326319176798,
          -2.0990592385751654,
          0.9648940123270464,
          -0.7199413985460938,
          0.09503131401757643,
          -0.5629431738077807,
          1.0803145448231073,
          0.8972983341827394,
          1.8248328731964814,
          -1.0171487169752407,
          -0.10207657386959489,
          -0.9962484521182952,
          -0.2958514481504522,
          -0.8607863376679893,
          0.2860450974872978,
          -0.9935693485120408,
          -0.39627560768952946,
          0.8951387380632714,
          -1.5007119405734002,
          0.07588767461740342,
          -0.22972784324619358,
          1.1166806807792315,
          -0.6412361428214182,
          1.4433582217204095,
          0.8313925941737207,
          -1.2607458874475315,
          -0.5179577520575765,
          0.2942700620890089,
          1.4727361516699482,
          0.17341433018348343,
          -1.0770753575548573,
          0.10533370002320529,
          0.0793294308116233,
          -1.2209897048108995,
          -0.8474131221067496,
          0.4140503688588217,
          1.7235576738547156,
          0.2866510056446499,
          -1.3814385683659007,
          -0.43750975085760285,
          0.18836090635740865,
          0.665859181474303,
          -0.9483973704483861,
          -0.8046482102273977,
          1.0051984408320216,
          -0.6749142511199132,
          -1.9239795201339824,
          -1.1442081980896393,
          0.48266997736509804,
          0.0975543014512976,
          -0.1984691597006762,
          -0.03426534605026892,
          -0.297829988581982,
          -0.908952261148527,
          -0.640552122171676,
          2.36128954662639,
          -1.0401492611610879,
          -0.666139394408712,
          -1.4197630539022021,
          -0.22321839664823442,
          -0.6253401945309588,
          0.4621300236937175,
          0.4284540858073102,
          -1.411894453558689,
          -0.5203770031024622,
          -0.3419949085418646
         ],
         "xaxis": "x5",
         "y": [
          -0.16301927573326747,
          -0.48711484848482545,
          -2.151495874975196,
          -0.654841755684685,
          0.6295959841572122,
          -0.8622360025956758,
          -0.7769629600854723,
          1.141384587800869,
          2.3864706479233844,
          0.9299078566189861,
          0.4555732303265823,
          0.32647238553721564,
          -0.6803360397686434,
          -0.8102760959813967,
          1.4848181818102724,
          0.5291945647751306,
          1.4353440017023873,
          -0.5026056619198886,
          -0.5800213198181711,
          -0.09606149483386926,
          -0.5768704701146251,
          -0.9372294832680503,
          -0.08510356635600864,
          0.37212959201504026,
          -1.362462924687948,
          0.8806989154386949,
          -0.8358694207263032,
          -0.28953059607877285,
          -0.5011078163710999,
          -0.43790828913824986,
          -0.6514598584332857,
          0.6002289489726451,
          0.22186817296233421,
          0.27994648352865514,
          -0.9689803349519742,
          1.1825509508611973,
          0.04780373093205452,
          -2.716968073246881,
          0.6349138266490004,
          0.41478390998119186,
          0.8246493600925106,
          0.4930703351281199,
          0.6487322832414203,
          -0.08336067163389263,
          -1.3049247995275077,
          1.0619952081092054,
          -0.7227073628981311,
          0.5809890622275982,
          1.2272849369420071,
          -1.510539737682553,
          -0.7456146006935016,
          -1.2750149926211962,
          0.20466552604659938,
          0.48741572091628266,
          1.0797839304892964,
          0.2896592763134485,
          -0.6204080623813175,
          0.9488442025282456,
          -0.8011395533914448,
          1.1723009064207326,
          0.6054895171876152,
          0.04816408029720471,
          -0.13535894381818353,
          -0.8965841075311023,
          -1.954615214342892,
          -0.15472804753915848,
          -0.9524201139436,
          -1.5291955641115345,
          1.037853825639349,
          0.1875096616869887,
          -0.5588917015575369,
          0.8044315841413262,
          -0.47554678747052664,
          -0.6213643969232366,
          -0.8184197648045224,
          -0.11121577771197998,
          0.4824724082217693,
          -2.032159511239236,
          0.6878192901007198,
          -0.8075923737337249,
          1.0440508302797218,
          0.1303876927045207,
          -1.980567271026737,
          0.7269021112597615,
          -0.9504440925098565,
          -0.7352991807724102,
          -0.22826571887397049,
          0.4175573994031141,
          0.6884329397963111,
          0.5481622573258714,
          0.6080475289579149,
          1.7843699428922326,
          1.0645184313051146,
          -1.2657980679905936,
          1.2728775711928362,
          -0.6676306193331588,
          -0.9306861770987371,
          1.6149963278104023,
          -1.2152379938641267,
          -0.9470164897283213
         ],
         "yaxis": "y5"
        },
        {
         "histfunc": "count",
         "histnorm": "",
         "marker": {
          "color": "rgba(55, 128, 191, 1.0)",
          "line": {
           "color": "#4D5663",
           "width": 1.3
          }
         },
         "name": "B",
         "nbinsx": 10,
         "opacity": 0.8,
         "orientation": "v",
         "type": "histogram",
         "x": [
          -0.16301927573326747,
          -0.48711484848482545,
          -2.151495874975196,
          -0.654841755684685,
          0.6295959841572122,
          -0.8622360025956758,
          -0.7769629600854723,
          1.141384587800869,
          2.3864706479233844,
          0.9299078566189861,
          0.4555732303265823,
          0.32647238553721564,
          -0.6803360397686434,
          -0.8102760959813967,
          1.4848181818102724,
          0.5291945647751306,
          1.4353440017023873,
          -0.5026056619198886,
          -0.5800213198181711,
          -0.09606149483386926,
          -0.5768704701146251,
          -0.9372294832680503,
          -0.08510356635600864,
          0.37212959201504026,
          -1.362462924687948,
          0.8806989154386949,
          -0.8358694207263032,
          -0.28953059607877285,
          -0.5011078163710999,
          -0.43790828913824986,
          -0.6514598584332857,
          0.6002289489726451,
          0.22186817296233421,
          0.27994648352865514,
          -0.9689803349519742,
          1.1825509508611973,
          0.04780373093205452,
          -2.716968073246881,
          0.6349138266490004,
          0.41478390998119186,
          0.8246493600925106,
          0.4930703351281199,
          0.6487322832414203,
          -0.08336067163389263,
          -1.3049247995275077,
          1.0619952081092054,
          -0.7227073628981311,
          0.5809890622275982,
          1.2272849369420071,
          -1.510539737682553,
          -0.7456146006935016,
          -1.2750149926211962,
          0.20466552604659938,
          0.48741572091628266,
          1.0797839304892964,
          0.2896592763134485,
          -0.6204080623813175,
          0.9488442025282456,
          -0.8011395533914448,
          1.1723009064207326,
          0.6054895171876152,
          0.04816408029720471,
          -0.13535894381818353,
          -0.8965841075311023,
          -1.954615214342892,
          -0.15472804753915848,
          -0.9524201139436,
          -1.5291955641115345,
          1.037853825639349,
          0.1875096616869887,
          -0.5588917015575369,
          0.8044315841413262,
          -0.47554678747052664,
          -0.6213643969232366,
          -0.8184197648045224,
          -0.11121577771197998,
          0.4824724082217693,
          -2.032159511239236,
          0.6878192901007198,
          -0.8075923737337249,
          1.0440508302797218,
          0.1303876927045207,
          -1.980567271026737,
          0.7269021112597615,
          -0.9504440925098565,
          -0.7352991807724102,
          -0.22826571887397049,
          0.4175573994031141,
          0.6884329397963111,
          0.5481622573258714,
          0.6080475289579149,
          1.7843699428922326,
          1.0645184313051146,
          -1.2657980679905936,
          1.2728775711928362,
          -0.6676306193331588,
          -0.9306861770987371,
          1.6149963278104023,
          -1.2152379938641267,
          -0.9470164897283213
         ],
         "xaxis": "x6",
         "yaxis": "y6"
        },
        {
         "line": {
          "color": "rgba(128, 128, 128, 1.0)",
          "dash": "solid",
          "shape": "linear",
          "width": 1.3
         },
         "marker": {
          "size": 2,
          "symbol": "circle"
         },
         "mode": "markers",
         "name": "B",
         "text": "",
         "type": "scatter",
         "x": [
          1.3672431823573838,
          -3.1219528916298342,
          0.45664659886304176,
          -0.5756400849623312,
          0.26321086301622215,
          0.20368403916398278,
          -0.5338688747549704,
          -0.46671180155625697,
          -1.2088396445684164,
          0.29701209884441515,
          -0.05975273591374197,
          -0.08357578612941527,
          0.7323963232173264,
          0.30982320403787583,
          1.0189121573601516,
          -0.27744429169188334,
          0.7581448689930282,
          -0.86968309028437,
          -0.009004749293217387,
          -2.407560001627149,
          -0.12923674911093525,
          -1.8144553816112123,
          -1.1058062044135333,
          -0.9974421712966076,
          0.015229785196408977,
          0.8722685262126041,
          -1.2220225498160038,
          0.1993548951630531,
          1.304020957984012,
          0.8051092616191471,
          -0.6153777156233635,
          0.07914329712761964,
          1.5858973639162262,
          0.1303574550605811,
          -0.4274500326254631,
          -0.47367273259103937,
          1.6102229598586186,
          -1.549622233256524,
          0.21952602572435878,
          0.2706451447328084,
          -0.3434956139479138,
          -0.05622980819386601,
          -0.785672874053645,
          0.12189558214337343,
          -0.10726557680804973,
          0.5202707302013411,
          0.032937249257193775,
          0.5847736058133264,
          -0.020196157505648734,
          -0.6959929471544657,
          -0.8454487192961543,
          0.22586008278265896,
          0.26476528256834014,
          -1.8457808002869223,
          -1.5993017556140035,
          2.3908157138700847,
          0.17606542267964284,
          -0.9669494170417328,
          -0.4626543475624007,
          -0.18717695305071694,
          -0.25153927872982507,
          1.4015345879049936,
          -0.8785901734444322,
          -0.821724250777076,
          -0.36723925965907717,
          -0.681513350437804,
          -0.6276390985925588,
          0.32890041723736524,
          1.0904951899261752,
          1.210654241030231,
          0.4228896166290119,
          -0.8681726055082388,
          0.460386151293955,
          -1.1571199502626404,
          -0.41143049432801143,
          -0.5203654273835205,
          -0.11140547686233722,
          -0.30111239018262514,
          -1.6836089418767073,
          -0.7018835879974834,
          -1.4016371462343824,
          -1.198464106013325,
          -0.22338365737031157,
          -1.9045289244951296,
          0.922413835388977,
          2.5831533079837996,
          0.16392777724218283,
          -0.23919034327453656,
          2.6537316019626167,
          -0.12064682438994766,
          -1.6175818360130871,
          -0.7035738672273057,
          1.2977901200905202,
          1.2099729745449455,
          0.07611594090509306,
          -0.56332201438011,
          0.1671144686726566,
          -1.2679573089558116,
          -1.4631730551116238,
          -0.3691341538034559
         ],
         "xaxis": "x7",
         "y": [
          -0.16301927573326747,
          -0.48711484848482545,
          -2.151495874975196,
          -0.654841755684685,
          0.6295959841572122,
          -0.8622360025956758,
          -0.7769629600854723,
          1.141384587800869,
          2.3864706479233844,
          0.9299078566189861,
          0.4555732303265823,
          0.32647238553721564,
          -0.6803360397686434,
          -0.8102760959813967,
          1.4848181818102724,
          0.5291945647751306,
          1.4353440017023873,
          -0.5026056619198886,
          -0.5800213198181711,
          -0.09606149483386926,
          -0.5768704701146251,
          -0.9372294832680503,
          -0.08510356635600864,
          0.37212959201504026,
          -1.362462924687948,
          0.8806989154386949,
          -0.8358694207263032,
          -0.28953059607877285,
          -0.5011078163710999,
          -0.43790828913824986,
          -0.6514598584332857,
          0.6002289489726451,
          0.22186817296233421,
          0.27994648352865514,
          -0.9689803349519742,
          1.1825509508611973,
          0.04780373093205452,
          -2.716968073246881,
          0.6349138266490004,
          0.41478390998119186,
          0.8246493600925106,
          0.4930703351281199,
          0.6487322832414203,
          -0.08336067163389263,
          -1.3049247995275077,
          1.0619952081092054,
          -0.7227073628981311,
          0.5809890622275982,
          1.2272849369420071,
          -1.510539737682553,
          -0.7456146006935016,
          -1.2750149926211962,
          0.20466552604659938,
          0.48741572091628266,
          1.0797839304892964,
          0.2896592763134485,
          -0.6204080623813175,
          0.9488442025282456,
          -0.8011395533914448,
          1.1723009064207326,
          0.6054895171876152,
          0.04816408029720471,
          -0.13535894381818353,
          -0.8965841075311023,
          -1.954615214342892,
          -0.15472804753915848,
          -0.9524201139436,
          -1.5291955641115345,
          1.037853825639349,
          0.1875096616869887,
          -0.5588917015575369,
          0.8044315841413262,
          -0.47554678747052664,
          -0.6213643969232366,
          -0.8184197648045224,
          -0.11121577771197998,
          0.4824724082217693,
          -2.032159511239236,
          0.6878192901007198,
          -0.8075923737337249,
          1.0440508302797218,
          0.1303876927045207,
          -1.980567271026737,
          0.7269021112597615,
          -0.9504440925098565,
          -0.7352991807724102,
          -0.22826571887397049,
          0.4175573994031141,
          0.6884329397963111,
          0.5481622573258714,
          0.6080475289579149,
          1.7843699428922326,
          1.0645184313051146,
          -1.2657980679905936,
          1.2728775711928362,
          -0.6676306193331588,
          -0.9306861770987371,
          1.6149963278104023,
          -1.2152379938641267,
          -0.9470164897283213
         ],
         "yaxis": "y7"
        },
        {
         "line": {
          "color": "rgba(128, 128, 128, 1.0)",
          "dash": "solid",
          "shape": "linear",
          "width": 1.3
         },
         "marker": {
          "size": 2,
          "symbol": "circle"
         },
         "mode": "markers",
         "name": "B",
         "text": "",
         "type": "scatter",
         "x": [
          0.4474802242592564,
          0.2834063837263141,
          -0.7770490185487827,
          -0.04492980839881632,
          0.27009299960693095,
          0.008903149562862311,
          -0.45717750105423627,
          -0.48932514881148886,
          0.34273376144461437,
          3.359298674005126,
          0.12525255257388343,
          1.0492527634432405,
          0.9767536714034938,
          -1.3965234483793163,
          0.36922158663529275,
          -0.3033619382038873,
          -0.47655211773527106,
          2.1221536872359295,
          -0.02968677212688579,
          0.3053917192209469,
          0.3457286371599666,
          0.6394661871439085,
          -0.5732134800332948,
          -0.7025481174908671,
          0.944131945631374,
          -1.5215016925305056,
          1.0424982635673354,
          0.32282980989502397,
          0.4966648360880945,
          0.5927553751485347,
          0.1813351552883239,
          -1.9342706893633625,
          -0.11305803545009196,
          0.19131406053997785,
          -1.4443689467173215,
          -0.4571057016358224,
          -0.028694104126904582,
          0.3846028448279193,
          0.8712626714186823,
          0.333044013563274,
          2.7399527788519173,
          -0.46429433135988035,
          0.7171306015411412,
          0.8426235128225036,
          1.1218848874580638,
          -0.648317919096552,
          0.07765897327261925,
          -0.31015839239369747,
          0.9165595578034476,
          0.17930582022134683,
          0.34917932729373347,
          0.06691149447692568,
          1.2098580139457729,
          -0.7353834794681324,
          0.6575980669827997,
          0.8972514079789817,
          1.9983423698429235,
          -0.3451083950820109,
          -1.5527107787406171,
          -2.2135600944549703,
          1.0086141184033188,
          -2.075900904803881,
          -0.4915393075552051,
          -1.1580997209625832,
          1.9243321885146973,
          0.21997464598801975,
          0.5426016426740771,
          1.1815619340451056,
          -1.0965126676340762,
          -0.6138866145984655,
          1.7888401389186588,
          0.9929130957912348,
          -1.4109822106421528,
          -0.21785991911797598,
          -1.2452717391309158,
          -0.05910151075239766,
          0.052366378735798844,
          -0.5760428334325783,
          0.5090679208803346,
          1.6900529825852426,
          0.6168962904866758,
          0.5001867013531961,
          -1.0904012912269452,
          0.8394267452655713,
          0.6035190382826191,
          -1.3845892642933673,
          1.6172660479222531,
          1.130759407780482,
          0.9838128421116707,
          -1.2862092960650897,
          0.2623239284610542,
          -0.016782468255838946,
          -0.7146424100039155,
          0.20514193573097697,
          0.6001189095625172,
          -1.158164454539793,
          1.1390141806277636,
          -0.16838268893115318,
          0.10991657897069484,
          0.280505421663259
         ],
         "xaxis": "x8",
         "y": [
          -0.16301927573326747,
          -0.48711484848482545,
          -2.151495874975196,
          -0.654841755684685,
          0.6295959841572122,
          -0.8622360025956758,
          -0.7769629600854723,
          1.141384587800869,
          2.3864706479233844,
          0.9299078566189861,
          0.4555732303265823,
          0.32647238553721564,
          -0.6803360397686434,
          -0.8102760959813967,
          1.4848181818102724,
          0.5291945647751306,
          1.4353440017023873,
          -0.5026056619198886,
          -0.5800213198181711,
          -0.09606149483386926,
          -0.5768704701146251,
          -0.9372294832680503,
          -0.08510356635600864,
          0.37212959201504026,
          -1.362462924687948,
          0.8806989154386949,
          -0.8358694207263032,
          -0.28953059607877285,
          -0.5011078163710999,
          -0.43790828913824986,
          -0.6514598584332857,
          0.6002289489726451,
          0.22186817296233421,
          0.27994648352865514,
          -0.9689803349519742,
          1.1825509508611973,
          0.04780373093205452,
          -2.716968073246881,
          0.6349138266490004,
          0.41478390998119186,
          0.8246493600925106,
          0.4930703351281199,
          0.6487322832414203,
          -0.08336067163389263,
          -1.3049247995275077,
          1.0619952081092054,
          -0.7227073628981311,
          0.5809890622275982,
          1.2272849369420071,
          -1.510539737682553,
          -0.7456146006935016,
          -1.2750149926211962,
          0.20466552604659938,
          0.48741572091628266,
          1.0797839304892964,
          0.2896592763134485,
          -0.6204080623813175,
          0.9488442025282456,
          -0.8011395533914448,
          1.1723009064207326,
          0.6054895171876152,
          0.04816408029720471,
          -0.13535894381818353,
          -0.8965841075311023,
          -1.954615214342892,
          -0.15472804753915848,
          -0.9524201139436,
          -1.5291955641115345,
          1.037853825639349,
          0.1875096616869887,
          -0.5588917015575369,
          0.8044315841413262,
          -0.47554678747052664,
          -0.6213643969232366,
          -0.8184197648045224,
          -0.11121577771197998,
          0.4824724082217693,
          -2.032159511239236,
          0.6878192901007198,
          -0.8075923737337249,
          1.0440508302797218,
          0.1303876927045207,
          -1.980567271026737,
          0.7269021112597615,
          -0.9504440925098565,
          -0.7352991807724102,
          -0.22826571887397049,
          0.4175573994031141,
          0.6884329397963111,
          0.5481622573258714,
          0.6080475289579149,
          1.7843699428922326,
          1.0645184313051146,
          -1.2657980679905936,
          1.2728775711928362,
          -0.6676306193331588,
          -0.9306861770987371,
          1.6149963278104023,
          -1.2152379938641267,
          -0.9470164897283213
         ],
         "yaxis": "y8"
        },
        {
         "line": {
          "color": "rgba(128, 128, 128, 1.0)",
          "dash": "solid",
          "shape": "linear",
          "width": 1.3
         },
         "marker": {
          "size": 2,
          "symbol": "circle"
         },
         "mode": "markers",
         "name": "C",
         "text": "",
         "type": "scatter",
         "x": [
          -1.5744069188809882,
          0.2919965937061701,
          -0.20987911018127825,
          1.4072243870576893,
          0.5984723796355707,
          -0.2744220558333609,
          0.017729177103530606,
          -1.4785228691304597,
          0.45485788895139434,
          0.7817522785186537,
          0.6158030135086989,
          0.20802408355881027,
          -0.9111899216311535,
          -0.5382498735341864,
          2.2762676193980482,
          -1.3159624487677273,
          -0.06275163823087321,
          -0.4815939833334281,
          0.24651562164010077,
          0.5128628101495492,
          -0.2088905846667024,
          -0.37961744382809437,
          -1.3750740367784493,
          -0.1440449218155529,
          -0.6913576335249373,
          -0.8765044012890313,
          1.5299431347988888,
          0.3492702609917798,
          0.8632771989810265,
          0.2599651123227867,
          -0.7226945310100287,
          -0.5214214959940227,
          -0.6701981378685836,
          -1.6376029981808569,
          -1.1005326319176798,
          -2.0990592385751654,
          0.9648940123270464,
          -0.7199413985460938,
          0.09503131401757643,
          -0.5629431738077807,
          1.0803145448231073,
          0.8972983341827394,
          1.8248328731964814,
          -1.0171487169752407,
          -0.10207657386959489,
          -0.9962484521182952,
          -0.2958514481504522,
          -0.8607863376679893,
          0.2860450974872978,
          -0.9935693485120408,
          -0.39627560768952946,
          0.8951387380632714,
          -1.5007119405734002,
          0.07588767461740342,
          -0.22972784324619358,
          1.1166806807792315,
          -0.6412361428214182,
          1.4433582217204095,
          0.8313925941737207,
          -1.2607458874475315,
          -0.5179577520575765,
          0.2942700620890089,
          1.4727361516699482,
          0.17341433018348343,
          -1.0770753575548573,
          0.10533370002320529,
          0.0793294308116233,
          -1.2209897048108995,
          -0.8474131221067496,
          0.4140503688588217,
          1.7235576738547156,
          0.2866510056446499,
          -1.3814385683659007,
          -0.43750975085760285,
          0.18836090635740865,
          0.665859181474303,
          -0.9483973704483861,
          -0.8046482102273977,
          1.0051984408320216,
          -0.6749142511199132,
          -1.9239795201339824,
          -1.1442081980896393,
          0.48266997736509804,
          0.0975543014512976,
          -0.1984691597006762,
          -0.03426534605026892,
          -0.297829988581982,
          -0.908952261148527,
          -0.640552122171676,
          2.36128954662639,
          -1.0401492611610879,
          -0.666139394408712,
          -1.4197630539022021,
          -0.22321839664823442,
          -0.6253401945309588,
          0.4621300236937175,
          0.4284540858073102,
          -1.411894453558689,
          -0.5203770031024622,
          -0.3419949085418646
         ],
         "xaxis": "x9",
         "y": [
          1.3672431823573838,
          -3.1219528916298342,
          0.45664659886304176,
          -0.5756400849623312,
          0.26321086301622215,
          0.20368403916398278,
          -0.5338688747549704,
          -0.46671180155625697,
          -1.2088396445684164,
          0.29701209884441515,
          -0.05975273591374197,
          -0.08357578612941527,
          0.7323963232173264,
          0.30982320403787583,
          1.0189121573601516,
          -0.27744429169188334,
          0.7581448689930282,
          -0.86968309028437,
          -0.009004749293217387,
          -2.407560001627149,
          -0.12923674911093525,
          -1.8144553816112123,
          -1.1058062044135333,
          -0.9974421712966076,
          0.015229785196408977,
          0.8722685262126041,
          -1.2220225498160038,
          0.1993548951630531,
          1.304020957984012,
          0.8051092616191471,
          -0.6153777156233635,
          0.07914329712761964,
          1.5858973639162262,
          0.1303574550605811,
          -0.4274500326254631,
          -0.47367273259103937,
          1.6102229598586186,
          -1.549622233256524,
          0.21952602572435878,
          0.2706451447328084,
          -0.3434956139479138,
          -0.05622980819386601,
          -0.785672874053645,
          0.12189558214337343,
          -0.10726557680804973,
          0.5202707302013411,
          0.032937249257193775,
          0.5847736058133264,
          -0.020196157505648734,
          -0.6959929471544657,
          -0.8454487192961543,
          0.22586008278265896,
          0.26476528256834014,
          -1.8457808002869223,
          -1.5993017556140035,
          2.3908157138700847,
          0.17606542267964284,
          -0.9669494170417328,
          -0.4626543475624007,
          -0.18717695305071694,
          -0.25153927872982507,
          1.4015345879049936,
          -0.8785901734444322,
          -0.821724250777076,
          -0.36723925965907717,
          -0.681513350437804,
          -0.6276390985925588,
          0.32890041723736524,
          1.0904951899261752,
          1.210654241030231,
          0.4228896166290119,
          -0.8681726055082388,
          0.460386151293955,
          -1.1571199502626404,
          -0.41143049432801143,
          -0.5203654273835205,
          -0.11140547686233722,
          -0.30111239018262514,
          -1.6836089418767073,
          -0.7018835879974834,
          -1.4016371462343824,
          -1.198464106013325,
          -0.22338365737031157,
          -1.9045289244951296,
          0.922413835388977,
          2.5831533079837996,
          0.16392777724218283,
          -0.23919034327453656,
          2.6537316019626167,
          -0.12064682438994766,
          -1.6175818360130871,
          -0.7035738672273057,
          1.2977901200905202,
          1.2099729745449455,
          0.07611594090509306,
          -0.56332201438011,
          0.1671144686726566,
          -1.2679573089558116,
          -1.4631730551116238,
          -0.3691341538034559
         ],
         "yaxis": "y9"
        },
        {
         "line": {
          "color": "rgba(128, 128, 128, 1.0)",
          "dash": "solid",
          "shape": "linear",
          "width": 1.3
         },
         "marker": {
          "size": 2,
          "symbol": "circle"
         },
         "mode": "markers",
         "name": "C",
         "text": "",
         "type": "scatter",
         "x": [
          -0.16301927573326747,
          -0.48711484848482545,
          -2.151495874975196,
          -0.654841755684685,
          0.6295959841572122,
          -0.8622360025956758,
          -0.7769629600854723,
          1.141384587800869,
          2.3864706479233844,
          0.9299078566189861,
          0.4555732303265823,
          0.32647238553721564,
          -0.6803360397686434,
          -0.8102760959813967,
          1.4848181818102724,
          0.5291945647751306,
          1.4353440017023873,
          -0.5026056619198886,
          -0.5800213198181711,
          -0.09606149483386926,
          -0.5768704701146251,
          -0.9372294832680503,
          -0.08510356635600864,
          0.37212959201504026,
          -1.362462924687948,
          0.8806989154386949,
          -0.8358694207263032,
          -0.28953059607877285,
          -0.5011078163710999,
          -0.43790828913824986,
          -0.6514598584332857,
          0.6002289489726451,
          0.22186817296233421,
          0.27994648352865514,
          -0.9689803349519742,
          1.1825509508611973,
          0.04780373093205452,
          -2.716968073246881,
          0.6349138266490004,
          0.41478390998119186,
          0.8246493600925106,
          0.4930703351281199,
          0.6487322832414203,
          -0.08336067163389263,
          -1.3049247995275077,
          1.0619952081092054,
          -0.7227073628981311,
          0.5809890622275982,
          1.2272849369420071,
          -1.510539737682553,
          -0.7456146006935016,
          -1.2750149926211962,
          0.20466552604659938,
          0.48741572091628266,
          1.0797839304892964,
          0.2896592763134485,
          -0.6204080623813175,
          0.9488442025282456,
          -0.8011395533914448,
          1.1723009064207326,
          0.6054895171876152,
          0.04816408029720471,
          -0.13535894381818353,
          -0.8965841075311023,
          -1.954615214342892,
          -0.15472804753915848,
          -0.9524201139436,
          -1.5291955641115345,
          1.037853825639349,
          0.1875096616869887,
          -0.5588917015575369,
          0.8044315841413262,
          -0.47554678747052664,
          -0.6213643969232366,
          -0.8184197648045224,
          -0.11121577771197998,
          0.4824724082217693,
          -2.032159511239236,
          0.6878192901007198,
          -0.8075923737337249,
          1.0440508302797218,
          0.1303876927045207,
          -1.980567271026737,
          0.7269021112597615,
          -0.9504440925098565,
          -0.7352991807724102,
          -0.22826571887397049,
          0.4175573994031141,
          0.6884329397963111,
          0.5481622573258714,
          0.6080475289579149,
          1.7843699428922326,
          1.0645184313051146,
          -1.2657980679905936,
          1.2728775711928362,
          -0.6676306193331588,
          -0.9306861770987371,
          1.6149963278104023,
          -1.2152379938641267,
          -0.9470164897283213
         ],
         "xaxis": "x10",
         "y": [
          1.3672431823573838,
          -3.1219528916298342,
          0.45664659886304176,
          -0.5756400849623312,
          0.26321086301622215,
          0.20368403916398278,
          -0.5338688747549704,
          -0.46671180155625697,
          -1.2088396445684164,
          0.29701209884441515,
          -0.05975273591374197,
          -0.08357578612941527,
          0.7323963232173264,
          0.30982320403787583,
          1.0189121573601516,
          -0.27744429169188334,
          0.7581448689930282,
          -0.86968309028437,
          -0.009004749293217387,
          -2.407560001627149,
          -0.12923674911093525,
          -1.8144553816112123,
          -1.1058062044135333,
          -0.9974421712966076,
          0.015229785196408977,
          0.8722685262126041,
          -1.2220225498160038,
          0.1993548951630531,
          1.304020957984012,
          0.8051092616191471,
          -0.6153777156233635,
          0.07914329712761964,
          1.5858973639162262,
          0.1303574550605811,
          -0.4274500326254631,
          -0.47367273259103937,
          1.6102229598586186,
          -1.549622233256524,
          0.21952602572435878,
          0.2706451447328084,
          -0.3434956139479138,
          -0.05622980819386601,
          -0.785672874053645,
          0.12189558214337343,
          -0.10726557680804973,
          0.5202707302013411,
          0.032937249257193775,
          0.5847736058133264,
          -0.020196157505648734,
          -0.6959929471544657,
          -0.8454487192961543,
          0.22586008278265896,
          0.26476528256834014,
          -1.8457808002869223,
          -1.5993017556140035,
          2.3908157138700847,
          0.17606542267964284,
          -0.9669494170417328,
          -0.4626543475624007,
          -0.18717695305071694,
          -0.25153927872982507,
          1.4015345879049936,
          -0.8785901734444322,
          -0.821724250777076,
          -0.36723925965907717,
          -0.681513350437804,
          -0.6276390985925588,
          0.32890041723736524,
          1.0904951899261752,
          1.210654241030231,
          0.4228896166290119,
          -0.8681726055082388,
          0.460386151293955,
          -1.1571199502626404,
          -0.41143049432801143,
          -0.5203654273835205,
          -0.11140547686233722,
          -0.30111239018262514,
          -1.6836089418767073,
          -0.7018835879974834,
          -1.4016371462343824,
          -1.198464106013325,
          -0.22338365737031157,
          -1.9045289244951296,
          0.922413835388977,
          2.5831533079837996,
          0.16392777724218283,
          -0.23919034327453656,
          2.6537316019626167,
          -0.12064682438994766,
          -1.6175818360130871,
          -0.7035738672273057,
          1.2977901200905202,
          1.2099729745449455,
          0.07611594090509306,
          -0.56332201438011,
          0.1671144686726566,
          -1.2679573089558116,
          -1.4631730551116238,
          -0.3691341538034559
         ],
         "yaxis": "y10"
        },
        {
         "histfunc": "count",
         "histnorm": "",
         "marker": {
          "color": "rgba(50, 171, 96, 1.0)",
          "line": {
           "color": "#4D5663",
           "width": 1.3
          }
         },
         "name": "C",
         "nbinsx": 10,
         "opacity": 0.8,
         "orientation": "v",
         "type": "histogram",
         "x": [
          1.3672431823573838,
          -3.1219528916298342,
          0.45664659886304176,
          -0.5756400849623312,
          0.26321086301622215,
          0.20368403916398278,
          -0.5338688747549704,
          -0.46671180155625697,
          -1.2088396445684164,
          0.29701209884441515,
          -0.05975273591374197,
          -0.08357578612941527,
          0.7323963232173264,
          0.30982320403787583,
          1.0189121573601516,
          -0.27744429169188334,
          0.7581448689930282,
          -0.86968309028437,
          -0.009004749293217387,
          -2.407560001627149,
          -0.12923674911093525,
          -1.8144553816112123,
          -1.1058062044135333,
          -0.9974421712966076,
          0.015229785196408977,
          0.8722685262126041,
          -1.2220225498160038,
          0.1993548951630531,
          1.304020957984012,
          0.8051092616191471,
          -0.6153777156233635,
          0.07914329712761964,
          1.5858973639162262,
          0.1303574550605811,
          -0.4274500326254631,
          -0.47367273259103937,
          1.6102229598586186,
          -1.549622233256524,
          0.21952602572435878,
          0.2706451447328084,
          -0.3434956139479138,
          -0.05622980819386601,
          -0.785672874053645,
          0.12189558214337343,
          -0.10726557680804973,
          0.5202707302013411,
          0.032937249257193775,
          0.5847736058133264,
          -0.020196157505648734,
          -0.6959929471544657,
          -0.8454487192961543,
          0.22586008278265896,
          0.26476528256834014,
          -1.8457808002869223,
          -1.5993017556140035,
          2.3908157138700847,
          0.17606542267964284,
          -0.9669494170417328,
          -0.4626543475624007,
          -0.18717695305071694,
          -0.25153927872982507,
          1.4015345879049936,
          -0.8785901734444322,
          -0.821724250777076,
          -0.36723925965907717,
          -0.681513350437804,
          -0.6276390985925588,
          0.32890041723736524,
          1.0904951899261752,
          1.210654241030231,
          0.4228896166290119,
          -0.8681726055082388,
          0.460386151293955,
          -1.1571199502626404,
          -0.41143049432801143,
          -0.5203654273835205,
          -0.11140547686233722,
          -0.30111239018262514,
          -1.6836089418767073,
          -0.7018835879974834,
          -1.4016371462343824,
          -1.198464106013325,
          -0.22338365737031157,
          -1.9045289244951296,
          0.922413835388977,
          2.5831533079837996,
          0.16392777724218283,
          -0.23919034327453656,
          2.6537316019626167,
          -0.12064682438994766,
          -1.6175818360130871,
          -0.7035738672273057,
          1.2977901200905202,
          1.2099729745449455,
          0.07611594090509306,
          -0.56332201438011,
          0.1671144686726566,
          -1.2679573089558116,
          -1.4631730551116238,
          -0.3691341538034559
         ],
         "xaxis": "x11",
         "yaxis": "y11"
        },
        {
         "line": {
          "color": "rgba(128, 128, 128, 1.0)",
          "dash": "solid",
          "shape": "linear",
          "width": 1.3
         },
         "marker": {
          "size": 2,
          "symbol": "circle"
         },
         "mode": "markers",
         "name": "C",
         "text": "",
         "type": "scatter",
         "x": [
          0.4474802242592564,
          0.2834063837263141,
          -0.7770490185487827,
          -0.04492980839881632,
          0.27009299960693095,
          0.008903149562862311,
          -0.45717750105423627,
          -0.48932514881148886,
          0.34273376144461437,
          3.359298674005126,
          0.12525255257388343,
          1.0492527634432405,
          0.9767536714034938,
          -1.3965234483793163,
          0.36922158663529275,
          -0.3033619382038873,
          -0.47655211773527106,
          2.1221536872359295,
          -0.02968677212688579,
          0.3053917192209469,
          0.3457286371599666,
          0.6394661871439085,
          -0.5732134800332948,
          -0.7025481174908671,
          0.944131945631374,
          -1.5215016925305056,
          1.0424982635673354,
          0.32282980989502397,
          0.4966648360880945,
          0.5927553751485347,
          0.1813351552883239,
          -1.9342706893633625,
          -0.11305803545009196,
          0.19131406053997785,
          -1.4443689467173215,
          -0.4571057016358224,
          -0.028694104126904582,
          0.3846028448279193,
          0.8712626714186823,
          0.333044013563274,
          2.7399527788519173,
          -0.46429433135988035,
          0.7171306015411412,
          0.8426235128225036,
          1.1218848874580638,
          -0.648317919096552,
          0.07765897327261925,
          -0.31015839239369747,
          0.9165595578034476,
          0.17930582022134683,
          0.34917932729373347,
          0.06691149447692568,
          1.2098580139457729,
          -0.7353834794681324,
          0.6575980669827997,
          0.8972514079789817,
          1.9983423698429235,
          -0.3451083950820109,
          -1.5527107787406171,
          -2.2135600944549703,
          1.0086141184033188,
          -2.075900904803881,
          -0.4915393075552051,
          -1.1580997209625832,
          1.9243321885146973,
          0.21997464598801975,
          0.5426016426740771,
          1.1815619340451056,
          -1.0965126676340762,
          -0.6138866145984655,
          1.7888401389186588,
          0.9929130957912348,
          -1.4109822106421528,
          -0.21785991911797598,
          -1.2452717391309158,
          -0.05910151075239766,
          0.052366378735798844,
          -0.5760428334325783,
          0.5090679208803346,
          1.6900529825852426,
          0.6168962904866758,
          0.5001867013531961,
          -1.0904012912269452,
          0.8394267452655713,
          0.6035190382826191,
          -1.3845892642933673,
          1.6172660479222531,
          1.130759407780482,
          0.9838128421116707,
          -1.2862092960650897,
          0.2623239284610542,
          -0.016782468255838946,
          -0.7146424100039155,
          0.20514193573097697,
          0.6001189095625172,
          -1.158164454539793,
          1.1390141806277636,
          -0.16838268893115318,
          0.10991657897069484,
          0.280505421663259
         ],
         "xaxis": "x12",
         "y": [
          1.3672431823573838,
          -3.1219528916298342,
          0.45664659886304176,
          -0.5756400849623312,
          0.26321086301622215,
          0.20368403916398278,
          -0.5338688747549704,
          -0.46671180155625697,
          -1.2088396445684164,
          0.29701209884441515,
          -0.05975273591374197,
          -0.08357578612941527,
          0.7323963232173264,
          0.30982320403787583,
          1.0189121573601516,
          -0.27744429169188334,
          0.7581448689930282,
          -0.86968309028437,
          -0.009004749293217387,
          -2.407560001627149,
          -0.12923674911093525,
          -1.8144553816112123,
          -1.1058062044135333,
          -0.9974421712966076,
          0.015229785196408977,
          0.8722685262126041,
          -1.2220225498160038,
          0.1993548951630531,
          1.304020957984012,
          0.8051092616191471,
          -0.6153777156233635,
          0.07914329712761964,
          1.5858973639162262,
          0.1303574550605811,
          -0.4274500326254631,
          -0.47367273259103937,
          1.6102229598586186,
          -1.549622233256524,
          0.21952602572435878,
          0.2706451447328084,
          -0.3434956139479138,
          -0.05622980819386601,
          -0.785672874053645,
          0.12189558214337343,
          -0.10726557680804973,
          0.5202707302013411,
          0.032937249257193775,
          0.5847736058133264,
          -0.020196157505648734,
          -0.6959929471544657,
          -0.8454487192961543,
          0.22586008278265896,
          0.26476528256834014,
          -1.8457808002869223,
          -1.5993017556140035,
          2.3908157138700847,
          0.17606542267964284,
          -0.9669494170417328,
          -0.4626543475624007,
          -0.18717695305071694,
          -0.25153927872982507,
          1.4015345879049936,
          -0.8785901734444322,
          -0.821724250777076,
          -0.36723925965907717,
          -0.681513350437804,
          -0.6276390985925588,
          0.32890041723736524,
          1.0904951899261752,
          1.210654241030231,
          0.4228896166290119,
          -0.8681726055082388,
          0.460386151293955,
          -1.1571199502626404,
          -0.41143049432801143,
          -0.5203654273835205,
          -0.11140547686233722,
          -0.30111239018262514,
          -1.6836089418767073,
          -0.7018835879974834,
          -1.4016371462343824,
          -1.198464106013325,
          -0.22338365737031157,
          -1.9045289244951296,
          0.922413835388977,
          2.5831533079837996,
          0.16392777724218283,
          -0.23919034327453656,
          2.6537316019626167,
          -0.12064682438994766,
          -1.6175818360130871,
          -0.7035738672273057,
          1.2977901200905202,
          1.2099729745449455,
          0.07611594090509306,
          -0.56332201438011,
          0.1671144686726566,
          -1.2679573089558116,
          -1.4631730551116238,
          -0.3691341538034559
         ],
         "yaxis": "y12"
        },
        {
         "line": {
          "color": "rgba(128, 128, 128, 1.0)",
          "dash": "solid",
          "shape": "linear",
          "width": 1.3
         },
         "marker": {
          "size": 2,
          "symbol": "circle"
         },
         "mode": "markers",
         "name": "D",
         "text": "",
         "type": "scatter",
         "x": [
          -1.5744069188809882,
          0.2919965937061701,
          -0.20987911018127825,
          1.4072243870576893,
          0.5984723796355707,
          -0.2744220558333609,
          0.017729177103530606,
          -1.4785228691304597,
          0.45485788895139434,
          0.7817522785186537,
          0.6158030135086989,
          0.20802408355881027,
          -0.9111899216311535,
          -0.5382498735341864,
          2.2762676193980482,
          -1.3159624487677273,
          -0.06275163823087321,
          -0.4815939833334281,
          0.24651562164010077,
          0.5128628101495492,
          -0.2088905846667024,
          -0.37961744382809437,
          -1.3750740367784493,
          -0.1440449218155529,
          -0.6913576335249373,
          -0.8765044012890313,
          1.5299431347988888,
          0.3492702609917798,
          0.8632771989810265,
          0.2599651123227867,
          -0.7226945310100287,
          -0.5214214959940227,
          -0.6701981378685836,
          -1.6376029981808569,
          -1.1005326319176798,
          -2.0990592385751654,
          0.9648940123270464,
          -0.7199413985460938,
          0.09503131401757643,
          -0.5629431738077807,
          1.0803145448231073,
          0.8972983341827394,
          1.8248328731964814,
          -1.0171487169752407,
          -0.10207657386959489,
          -0.9962484521182952,
          -0.2958514481504522,
          -0.8607863376679893,
          0.2860450974872978,
          -0.9935693485120408,
          -0.39627560768952946,
          0.8951387380632714,
          -1.5007119405734002,
          0.07588767461740342,
          -0.22972784324619358,
          1.1166806807792315,
          -0.6412361428214182,
          1.4433582217204095,
          0.8313925941737207,
          -1.2607458874475315,
          -0.5179577520575765,
          0.2942700620890089,
          1.4727361516699482,
          0.17341433018348343,
          -1.0770753575548573,
          0.10533370002320529,
          0.0793294308116233,
          -1.2209897048108995,
          -0.8474131221067496,
          0.4140503688588217,
          1.7235576738547156,
          0.2866510056446499,
          -1.3814385683659007,
          -0.43750975085760285,
          0.18836090635740865,
          0.665859181474303,
          -0.9483973704483861,
          -0.8046482102273977,
          1.0051984408320216,
          -0.6749142511199132,
          -1.9239795201339824,
          -1.1442081980896393,
          0.48266997736509804,
          0.0975543014512976,
          -0.1984691597006762,
          -0.03426534605026892,
          -0.297829988581982,
          -0.908952261148527,
          -0.640552122171676,
          2.36128954662639,
          -1.0401492611610879,
          -0.666139394408712,
          -1.4197630539022021,
          -0.22321839664823442,
          -0.6253401945309588,
          0.4621300236937175,
          0.4284540858073102,
          -1.411894453558689,
          -0.5203770031024622,
          -0.3419949085418646
         ],
         "xaxis": "x13",
         "y": [
          0.4474802242592564,
          0.2834063837263141,
          -0.7770490185487827,
          -0.04492980839881632,
          0.27009299960693095,
          0.008903149562862311,
          -0.45717750105423627,
          -0.48932514881148886,
          0.34273376144461437,
          3.359298674005126,
          0.12525255257388343,
          1.0492527634432405,
          0.9767536714034938,
          -1.3965234483793163,
          0.36922158663529275,
          -0.3033619382038873,
          -0.47655211773527106,
          2.1221536872359295,
          -0.02968677212688579,
          0.3053917192209469,
          0.3457286371599666,
          0.6394661871439085,
          -0.5732134800332948,
          -0.7025481174908671,
          0.944131945631374,
          -1.5215016925305056,
          1.0424982635673354,
          0.32282980989502397,
          0.4966648360880945,
          0.5927553751485347,
          0.1813351552883239,
          -1.9342706893633625,
          -0.11305803545009196,
          0.19131406053997785,
          -1.4443689467173215,
          -0.4571057016358224,
          -0.028694104126904582,
          0.3846028448279193,
          0.8712626714186823,
          0.333044013563274,
          2.7399527788519173,
          -0.46429433135988035,
          0.7171306015411412,
          0.8426235128225036,
          1.1218848874580638,
          -0.648317919096552,
          0.07765897327261925,
          -0.31015839239369747,
          0.9165595578034476,
          0.17930582022134683,
          0.34917932729373347,
          0.06691149447692568,
          1.2098580139457729,
          -0.7353834794681324,
          0.6575980669827997,
          0.8972514079789817,
          1.9983423698429235,
          -0.3451083950820109,
          -1.5527107787406171,
          -2.2135600944549703,
          1.0086141184033188,
          -2.075900904803881,
          -0.4915393075552051,
          -1.1580997209625832,
          1.9243321885146973,
          0.21997464598801975,
          0.5426016426740771,
          1.1815619340451056,
          -1.0965126676340762,
          -0.6138866145984655,
          1.7888401389186588,
          0.9929130957912348,
          -1.4109822106421528,
          -0.21785991911797598,
          -1.2452717391309158,
          -0.05910151075239766,
          0.052366378735798844,
          -0.5760428334325783,
          0.5090679208803346,
          1.6900529825852426,
          0.6168962904866758,
          0.5001867013531961,
          -1.0904012912269452,
          0.8394267452655713,
          0.6035190382826191,
          -1.3845892642933673,
          1.6172660479222531,
          1.130759407780482,
          0.9838128421116707,
          -1.2862092960650897,
          0.2623239284610542,
          -0.016782468255838946,
          -0.7146424100039155,
          0.20514193573097697,
          0.6001189095625172,
          -1.158164454539793,
          1.1390141806277636,
          -0.16838268893115318,
          0.10991657897069484,
          0.280505421663259
         ],
         "yaxis": "y13"
        },
        {
         "line": {
          "color": "rgba(128, 128, 128, 1.0)",
          "dash": "solid",
          "shape": "linear",
          "width": 1.3
         },
         "marker": {
          "size": 2,
          "symbol": "circle"
         },
         "mode": "markers",
         "name": "D",
         "text": "",
         "type": "scatter",
         "x": [
          -0.16301927573326747,
          -0.48711484848482545,
          -2.151495874975196,
          -0.654841755684685,
          0.6295959841572122,
          -0.8622360025956758,
          -0.7769629600854723,
          1.141384587800869,
          2.3864706479233844,
          0.9299078566189861,
          0.4555732303265823,
          0.32647238553721564,
          -0.6803360397686434,
          -0.8102760959813967,
          1.4848181818102724,
          0.5291945647751306,
          1.4353440017023873,
          -0.5026056619198886,
          -0.5800213198181711,
          -0.09606149483386926,
          -0.5768704701146251,
          -0.9372294832680503,
          -0.08510356635600864,
          0.37212959201504026,
          -1.362462924687948,
          0.8806989154386949,
          -0.8358694207263032,
          -0.28953059607877285,
          -0.5011078163710999,
          -0.43790828913824986,
          -0.6514598584332857,
          0.6002289489726451,
          0.22186817296233421,
          0.27994648352865514,
          -0.9689803349519742,
          1.1825509508611973,
          0.04780373093205452,
          -2.716968073246881,
          0.6349138266490004,
          0.41478390998119186,
          0.8246493600925106,
          0.4930703351281199,
          0.6487322832414203,
          -0.08336067163389263,
          -1.3049247995275077,
          1.0619952081092054,
          -0.7227073628981311,
          0.5809890622275982,
          1.2272849369420071,
          -1.510539737682553,
          -0.7456146006935016,
          -1.2750149926211962,
          0.20466552604659938,
          0.48741572091628266,
          1.0797839304892964,
          0.2896592763134485,
          -0.6204080623813175,
          0.9488442025282456,
          -0.8011395533914448,
          1.1723009064207326,
          0.6054895171876152,
          0.04816408029720471,
          -0.13535894381818353,
          -0.8965841075311023,
          -1.954615214342892,
          -0.15472804753915848,
          -0.9524201139436,
          -1.5291955641115345,
          1.037853825639349,
          0.1875096616869887,
          -0.5588917015575369,
          0.8044315841413262,
          -0.47554678747052664,
          -0.6213643969232366,
          -0.8184197648045224,
          -0.11121577771197998,
          0.4824724082217693,
          -2.032159511239236,
          0.6878192901007198,
          -0.8075923737337249,
          1.0440508302797218,
          0.1303876927045207,
          -1.980567271026737,
          0.7269021112597615,
          -0.9504440925098565,
          -0.7352991807724102,
          -0.22826571887397049,
          0.4175573994031141,
          0.6884329397963111,
          0.5481622573258714,
          0.6080475289579149,
          1.7843699428922326,
          1.0645184313051146,
          -1.2657980679905936,
          1.2728775711928362,
          -0.6676306193331588,
          -0.9306861770987371,
          1.6149963278104023,
          -1.2152379938641267,
          -0.9470164897283213
         ],
         "xaxis": "x14",
         "y": [
          0.4474802242592564,
          0.2834063837263141,
          -0.7770490185487827,
          -0.04492980839881632,
          0.27009299960693095,
          0.008903149562862311,
          -0.45717750105423627,
          -0.48932514881148886,
          0.34273376144461437,
          3.359298674005126,
          0.12525255257388343,
          1.0492527634432405,
          0.9767536714034938,
          -1.3965234483793163,
          0.36922158663529275,
          -0.3033619382038873,
          -0.47655211773527106,
          2.1221536872359295,
          -0.02968677212688579,
          0.3053917192209469,
          0.3457286371599666,
          0.6394661871439085,
          -0.5732134800332948,
          -0.7025481174908671,
          0.944131945631374,
          -1.5215016925305056,
          1.0424982635673354,
          0.32282980989502397,
          0.4966648360880945,
          0.5927553751485347,
          0.1813351552883239,
          -1.9342706893633625,
          -0.11305803545009196,
          0.19131406053997785,
          -1.4443689467173215,
          -0.4571057016358224,
          -0.028694104126904582,
          0.3846028448279193,
          0.8712626714186823,
          0.333044013563274,
          2.7399527788519173,
          -0.46429433135988035,
          0.7171306015411412,
          0.8426235128225036,
          1.1218848874580638,
          -0.648317919096552,
          0.07765897327261925,
          -0.31015839239369747,
          0.9165595578034476,
          0.17930582022134683,
          0.34917932729373347,
          0.06691149447692568,
          1.2098580139457729,
          -0.7353834794681324,
          0.6575980669827997,
          0.8972514079789817,
          1.9983423698429235,
          -0.3451083950820109,
          -1.5527107787406171,
          -2.2135600944549703,
          1.0086141184033188,
          -2.075900904803881,
          -0.4915393075552051,
          -1.1580997209625832,
          1.9243321885146973,
          0.21997464598801975,
          0.5426016426740771,
          1.1815619340451056,
          -1.0965126676340762,
          -0.6138866145984655,
          1.7888401389186588,
          0.9929130957912348,
          -1.4109822106421528,
          -0.21785991911797598,
          -1.2452717391309158,
          -0.05910151075239766,
          0.052366378735798844,
          -0.5760428334325783,
          0.5090679208803346,
          1.6900529825852426,
          0.6168962904866758,
          0.5001867013531961,
          -1.0904012912269452,
          0.8394267452655713,
          0.6035190382826191,
          -1.3845892642933673,
          1.6172660479222531,
          1.130759407780482,
          0.9838128421116707,
          -1.2862092960650897,
          0.2623239284610542,
          -0.016782468255838946,
          -0.7146424100039155,
          0.20514193573097697,
          0.6001189095625172,
          -1.158164454539793,
          1.1390141806277636,
          -0.16838268893115318,
          0.10991657897069484,
          0.280505421663259
         ],
         "yaxis": "y14"
        },
        {
         "line": {
          "color": "rgba(128, 128, 128, 1.0)",
          "dash": "solid",
          "shape": "linear",
          "width": 1.3
         },
         "marker": {
          "size": 2,
          "symbol": "circle"
         },
         "mode": "markers",
         "name": "D",
         "text": "",
         "type": "scatter",
         "x": [
          1.3672431823573838,
          -3.1219528916298342,
          0.45664659886304176,
          -0.5756400849623312,
          0.26321086301622215,
          0.20368403916398278,
          -0.5338688747549704,
          -0.46671180155625697,
          -1.2088396445684164,
          0.29701209884441515,
          -0.05975273591374197,
          -0.08357578612941527,
          0.7323963232173264,
          0.30982320403787583,
          1.0189121573601516,
          -0.27744429169188334,
          0.7581448689930282,
          -0.86968309028437,
          -0.009004749293217387,
          -2.407560001627149,
          -0.12923674911093525,
          -1.8144553816112123,
          -1.1058062044135333,
          -0.9974421712966076,
          0.015229785196408977,
          0.8722685262126041,
          -1.2220225498160038,
          0.1993548951630531,
          1.304020957984012,
          0.8051092616191471,
          -0.6153777156233635,
          0.07914329712761964,
          1.5858973639162262,
          0.1303574550605811,
          -0.4274500326254631,
          -0.47367273259103937,
          1.6102229598586186,
          -1.549622233256524,
          0.21952602572435878,
          0.2706451447328084,
          -0.3434956139479138,
          -0.05622980819386601,
          -0.785672874053645,
          0.12189558214337343,
          -0.10726557680804973,
          0.5202707302013411,
          0.032937249257193775,
          0.5847736058133264,
          -0.020196157505648734,
          -0.6959929471544657,
          -0.8454487192961543,
          0.22586008278265896,
          0.26476528256834014,
          -1.8457808002869223,
          -1.5993017556140035,
          2.3908157138700847,
          0.17606542267964284,
          -0.9669494170417328,
          -0.4626543475624007,
          -0.18717695305071694,
          -0.25153927872982507,
          1.4015345879049936,
          -0.8785901734444322,
          -0.821724250777076,
          -0.36723925965907717,
          -0.681513350437804,
          -0.6276390985925588,
          0.32890041723736524,
          1.0904951899261752,
          1.210654241030231,
          0.4228896166290119,
          -0.8681726055082388,
          0.460386151293955,
          -1.1571199502626404,
          -0.41143049432801143,
          -0.5203654273835205,
          -0.11140547686233722,
          -0.30111239018262514,
          -1.6836089418767073,
          -0.7018835879974834,
          -1.4016371462343824,
          -1.198464106013325,
          -0.22338365737031157,
          -1.9045289244951296,
          0.922413835388977,
          2.5831533079837996,
          0.16392777724218283,
          -0.23919034327453656,
          2.6537316019626167,
          -0.12064682438994766,
          -1.6175818360130871,
          -0.7035738672273057,
          1.2977901200905202,
          1.2099729745449455,
          0.07611594090509306,
          -0.56332201438011,
          0.1671144686726566,
          -1.2679573089558116,
          -1.4631730551116238,
          -0.3691341538034559
         ],
         "xaxis": "x15",
         "y": [
          0.4474802242592564,
          0.2834063837263141,
          -0.7770490185487827,
          -0.04492980839881632,
          0.27009299960693095,
          0.008903149562862311,
          -0.45717750105423627,
          -0.48932514881148886,
          0.34273376144461437,
          3.359298674005126,
          0.12525255257388343,
          1.0492527634432405,
          0.9767536714034938,
          -1.3965234483793163,
          0.36922158663529275,
          -0.3033619382038873,
          -0.47655211773527106,
          2.1221536872359295,
          -0.02968677212688579,
          0.3053917192209469,
          0.3457286371599666,
          0.6394661871439085,
          -0.5732134800332948,
          -0.7025481174908671,
          0.944131945631374,
          -1.5215016925305056,
          1.0424982635673354,
          0.32282980989502397,
          0.4966648360880945,
          0.5927553751485347,
          0.1813351552883239,
          -1.9342706893633625,
          -0.11305803545009196,
          0.19131406053997785,
          -1.4443689467173215,
          -0.4571057016358224,
          -0.028694104126904582,
          0.3846028448279193,
          0.8712626714186823,
          0.333044013563274,
          2.7399527788519173,
          -0.46429433135988035,
          0.7171306015411412,
          0.8426235128225036,
          1.1218848874580638,
          -0.648317919096552,
          0.07765897327261925,
          -0.31015839239369747,
          0.9165595578034476,
          0.17930582022134683,
          0.34917932729373347,
          0.06691149447692568,
          1.2098580139457729,
          -0.7353834794681324,
          0.6575980669827997,
          0.8972514079789817,
          1.9983423698429235,
          -0.3451083950820109,
          -1.5527107787406171,
          -2.2135600944549703,
          1.0086141184033188,
          -2.075900904803881,
          -0.4915393075552051,
          -1.1580997209625832,
          1.9243321885146973,
          0.21997464598801975,
          0.5426016426740771,
          1.1815619340451056,
          -1.0965126676340762,
          -0.6138866145984655,
          1.7888401389186588,
          0.9929130957912348,
          -1.4109822106421528,
          -0.21785991911797598,
          -1.2452717391309158,
          -0.05910151075239766,
          0.052366378735798844,
          -0.5760428334325783,
          0.5090679208803346,
          1.6900529825852426,
          0.6168962904866758,
          0.5001867013531961,
          -1.0904012912269452,
          0.8394267452655713,
          0.6035190382826191,
          -1.3845892642933673,
          1.6172660479222531,
          1.130759407780482,
          0.9838128421116707,
          -1.2862092960650897,
          0.2623239284610542,
          -0.016782468255838946,
          -0.7146424100039155,
          0.20514193573097697,
          0.6001189095625172,
          -1.158164454539793,
          1.1390141806277636,
          -0.16838268893115318,
          0.10991657897069484,
          0.280505421663259
         ],
         "yaxis": "y15"
        },
        {
         "histfunc": "count",
         "histnorm": "",
         "marker": {
          "color": "rgba(128, 0, 128, 1.0)",
          "line": {
           "color": "#4D5663",
           "width": 1.3
          }
         },
         "name": "D",
         "nbinsx": 10,
         "opacity": 0.8,
         "orientation": "v",
         "type": "histogram",
         "x": [
          0.4474802242592564,
          0.2834063837263141,
          -0.7770490185487827,
          -0.04492980839881632,
          0.27009299960693095,
          0.008903149562862311,
          -0.45717750105423627,
          -0.48932514881148886,
          0.34273376144461437,
          3.359298674005126,
          0.12525255257388343,
          1.0492527634432405,
          0.9767536714034938,
          -1.3965234483793163,
          0.36922158663529275,
          -0.3033619382038873,
          -0.47655211773527106,
          2.1221536872359295,
          -0.02968677212688579,
          0.3053917192209469,
          0.3457286371599666,
          0.6394661871439085,
          -0.5732134800332948,
          -0.7025481174908671,
          0.944131945631374,
          -1.5215016925305056,
          1.0424982635673354,
          0.32282980989502397,
          0.4966648360880945,
          0.5927553751485347,
          0.1813351552883239,
          -1.9342706893633625,
          -0.11305803545009196,
          0.19131406053997785,
          -1.4443689467173215,
          -0.4571057016358224,
          -0.028694104126904582,
          0.3846028448279193,
          0.8712626714186823,
          0.333044013563274,
          2.7399527788519173,
          -0.46429433135988035,
          0.7171306015411412,
          0.8426235128225036,
          1.1218848874580638,
          -0.648317919096552,
          0.07765897327261925,
          -0.31015839239369747,
          0.9165595578034476,
          0.17930582022134683,
          0.34917932729373347,
          0.06691149447692568,
          1.2098580139457729,
          -0.7353834794681324,
          0.6575980669827997,
          0.8972514079789817,
          1.9983423698429235,
          -0.3451083950820109,
          -1.5527107787406171,
          -2.2135600944549703,
          1.0086141184033188,
          -2.075900904803881,
          -0.4915393075552051,
          -1.1580997209625832,
          1.9243321885146973,
          0.21997464598801975,
          0.5426016426740771,
          1.1815619340451056,
          -1.0965126676340762,
          -0.6138866145984655,
          1.7888401389186588,
          0.9929130957912348,
          -1.4109822106421528,
          -0.21785991911797598,
          -1.2452717391309158,
          -0.05910151075239766,
          0.052366378735798844,
          -0.5760428334325783,
          0.5090679208803346,
          1.6900529825852426,
          0.6168962904866758,
          0.5001867013531961,
          -1.0904012912269452,
          0.8394267452655713,
          0.6035190382826191,
          -1.3845892642933673,
          1.6172660479222531,
          1.130759407780482,
          0.9838128421116707,
          -1.2862092960650897,
          0.2623239284610542,
          -0.016782468255838946,
          -0.7146424100039155,
          0.20514193573097697,
          0.6001189095625172,
          -1.158164454539793,
          1.1390141806277636,
          -0.16838268893115318,
          0.10991657897069484,
          0.280505421663259
         ],
         "xaxis": "x16",
         "yaxis": "y16"
        }
       ],
       "layout": {
        "bargap": 0.02,
        "legend": {
         "bgcolor": "#F5F6F9",
         "font": {
          "color": "#4D5663"
         }
        },
        "paper_bgcolor": "#F5F6F9",
        "plot_bgcolor": "#F5F6F9",
        "showlegend": false,
        "template": {
         "data": {
          "bar": [
           {
            "error_x": {
             "color": "#2a3f5f"
            },
            "error_y": {
             "color": "#2a3f5f"
            },
            "marker": {
             "line": {
              "color": "#E5ECF6",
              "width": 0.5
             },
             "pattern": {
              "fillmode": "overlay",
              "size": 10,
              "solidity": 0.2
             }
            },
            "type": "bar"
           }
          ],
          "barpolar": [
           {
            "marker": {
             "line": {
              "color": "#E5ECF6",
              "width": 0.5
             },
             "pattern": {
              "fillmode": "overlay",
              "size": 10,
              "solidity": 0.2
             }
            },
            "type": "barpolar"
           }
          ],
          "carpet": [
           {
            "aaxis": {
             "endlinecolor": "#2a3f5f",
             "gridcolor": "white",
             "linecolor": "white",
             "minorgridcolor": "white",
             "startlinecolor": "#2a3f5f"
            },
            "baxis": {
             "endlinecolor": "#2a3f5f",
             "gridcolor": "white",
             "linecolor": "white",
             "minorgridcolor": "white",
             "startlinecolor": "#2a3f5f"
            },
            "type": "carpet"
           }
          ],
          "choropleth": [
           {
            "colorbar": {
             "outlinewidth": 0,
             "ticks": ""
            },
            "type": "choropleth"
           }
          ],
          "contour": [
           {
            "colorbar": {
             "outlinewidth": 0,
             "ticks": ""
            },
            "colorscale": [
             [
              0,
              "#0d0887"
             ],
             [
              0.1111111111111111,
              "#46039f"
             ],
             [
              0.2222222222222222,
              "#7201a8"
             ],
             [
              0.3333333333333333,
              "#9c179e"
             ],
             [
              0.4444444444444444,
              "#bd3786"
             ],
             [
              0.5555555555555556,
              "#d8576b"
             ],
             [
              0.6666666666666666,
              "#ed7953"
             ],
             [
              0.7777777777777778,
              "#fb9f3a"
             ],
             [
              0.8888888888888888,
              "#fdca26"
             ],
             [
              1,
              "#f0f921"
             ]
            ],
            "type": "contour"
           }
          ],
          "contourcarpet": [
           {
            "colorbar": {
             "outlinewidth": 0,
             "ticks": ""
            },
            "type": "contourcarpet"
           }
          ],
          "heatmap": [
           {
            "colorbar": {
             "outlinewidth": 0,
             "ticks": ""
            },
            "colorscale": [
             [
              0,
              "#0d0887"
             ],
             [
              0.1111111111111111,
              "#46039f"
             ],
             [
              0.2222222222222222,
              "#7201a8"
             ],
             [
              0.3333333333333333,
              "#9c179e"
             ],
             [
              0.4444444444444444,
              "#bd3786"
             ],
             [
              0.5555555555555556,
              "#d8576b"
             ],
             [
              0.6666666666666666,
              "#ed7953"
             ],
             [
              0.7777777777777778,
              "#fb9f3a"
             ],
             [
              0.8888888888888888,
              "#fdca26"
             ],
             [
              1,
              "#f0f921"
             ]
            ],
            "type": "heatmap"
           }
          ],
          "heatmapgl": [
           {
            "colorbar": {
             "outlinewidth": 0,
             "ticks": ""
            },
            "colorscale": [
             [
              0,
              "#0d0887"
             ],
             [
              0.1111111111111111,
              "#46039f"
             ],
             [
              0.2222222222222222,
              "#7201a8"
             ],
             [
              0.3333333333333333,
              "#9c179e"
             ],
             [
              0.4444444444444444,
              "#bd3786"
             ],
             [
              0.5555555555555556,
              "#d8576b"
             ],
             [
              0.6666666666666666,
              "#ed7953"
             ],
             [
              0.7777777777777778,
              "#fb9f3a"
             ],
             [
              0.8888888888888888,
              "#fdca26"
             ],
             [
              1,
              "#f0f921"
             ]
            ],
            "type": "heatmapgl"
           }
          ],
          "histogram": [
           {
            "marker": {
             "pattern": {
              "fillmode": "overlay",
              "size": 10,
              "solidity": 0.2
             }
            },
            "type": "histogram"
           }
          ],
          "histogram2d": [
           {
            "colorbar": {
             "outlinewidth": 0,
             "ticks": ""
            },
            "colorscale": [
             [
              0,
              "#0d0887"
             ],
             [
              0.1111111111111111,
              "#46039f"
             ],
             [
              0.2222222222222222,
              "#7201a8"
             ],
             [
              0.3333333333333333,
              "#9c179e"
             ],
             [
              0.4444444444444444,
              "#bd3786"
             ],
             [
              0.5555555555555556,
              "#d8576b"
             ],
             [
              0.6666666666666666,
              "#ed7953"
             ],
             [
              0.7777777777777778,
              "#fb9f3a"
             ],
             [
              0.8888888888888888,
              "#fdca26"
             ],
             [
              1,
              "#f0f921"
             ]
            ],
            "type": "histogram2d"
           }
          ],
          "histogram2dcontour": [
           {
            "colorbar": {
             "outlinewidth": 0,
             "ticks": ""
            },
            "colorscale": [
             [
              0,
              "#0d0887"
             ],
             [
              0.1111111111111111,
              "#46039f"
             ],
             [
              0.2222222222222222,
              "#7201a8"
             ],
             [
              0.3333333333333333,
              "#9c179e"
             ],
             [
              0.4444444444444444,
              "#bd3786"
             ],
             [
              0.5555555555555556,
              "#d8576b"
             ],
             [
              0.6666666666666666,
              "#ed7953"
             ],
             [
              0.7777777777777778,
              "#fb9f3a"
             ],
             [
              0.8888888888888888,
              "#fdca26"
             ],
             [
              1,
              "#f0f921"
             ]
            ],
            "type": "histogram2dcontour"
           }
          ],
          "mesh3d": [
           {
            "colorbar": {
             "outlinewidth": 0,
             "ticks": ""
            },
            "type": "mesh3d"
           }
          ],
          "parcoords": [
           {
            "line": {
             "colorbar": {
              "outlinewidth": 0,
              "ticks": ""
             }
            },
            "type": "parcoords"
           }
          ],
          "pie": [
           {
            "automargin": true,
            "type": "pie"
           }
          ],
          "scatter": [
           {
            "fillpattern": {
             "fillmode": "overlay",
             "size": 10,
             "solidity": 0.2
            },
            "type": "scatter"
           }
          ],
          "scatter3d": [
           {
            "line": {
             "colorbar": {
              "outlinewidth": 0,
              "ticks": ""
             }
            },
            "marker": {
             "colorbar": {
              "outlinewidth": 0,
              "ticks": ""
             }
            },
            "type": "scatter3d"
           }
          ],
          "scattercarpet": [
           {
            "marker": {
             "colorbar": {
              "outlinewidth": 0,
              "ticks": ""
             }
            },
            "type": "scattercarpet"
           }
          ],
          "scattergeo": [
           {
            "marker": {
             "colorbar": {
              "outlinewidth": 0,
              "ticks": ""
             }
            },
            "type": "scattergeo"
           }
          ],
          "scattergl": [
           {
            "marker": {
             "colorbar": {
              "outlinewidth": 0,
              "ticks": ""
             }
            },
            "type": "scattergl"
           }
          ],
          "scattermapbox": [
           {
            "marker": {
             "colorbar": {
              "outlinewidth": 0,
              "ticks": ""
             }
            },
            "type": "scattermapbox"
           }
          ],
          "scatterpolar": [
           {
            "marker": {
             "colorbar": {
              "outlinewidth": 0,
              "ticks": ""
             }
            },
            "type": "scatterpolar"
           }
          ],
          "scatterpolargl": [
           {
            "marker": {
             "colorbar": {
              "outlinewidth": 0,
              "ticks": ""
             }
            },
            "type": "scatterpolargl"
           }
          ],
          "scatterternary": [
           {
            "marker": {
             "colorbar": {
              "outlinewidth": 0,
              "ticks": ""
             }
            },
            "type": "scatterternary"
           }
          ],
          "surface": [
           {
            "colorbar": {
             "outlinewidth": 0,
             "ticks": ""
            },
            "colorscale": [
             [
              0,
              "#0d0887"
             ],
             [
              0.1111111111111111,
              "#46039f"
             ],
             [
              0.2222222222222222,
              "#7201a8"
             ],
             [
              0.3333333333333333,
              "#9c179e"
             ],
             [
              0.4444444444444444,
              "#bd3786"
             ],
             [
              0.5555555555555556,
              "#d8576b"
             ],
             [
              0.6666666666666666,
              "#ed7953"
             ],
             [
              0.7777777777777778,
              "#fb9f3a"
             ],
             [
              0.8888888888888888,
              "#fdca26"
             ],
             [
              1,
              "#f0f921"
             ]
            ],
            "type": "surface"
           }
          ],
          "table": [
           {
            "cells": {
             "fill": {
              "color": "#EBF0F8"
             },
             "line": {
              "color": "white"
             }
            },
            "header": {
             "fill": {
              "color": "#C8D4E3"
             },
             "line": {
              "color": "white"
             }
            },
            "type": "table"
           }
          ]
         },
         "layout": {
          "annotationdefaults": {
           "arrowcolor": "#2a3f5f",
           "arrowhead": 0,
           "arrowwidth": 1
          },
          "autotypenumbers": "strict",
          "coloraxis": {
           "colorbar": {
            "outlinewidth": 0,
            "ticks": ""
           }
          },
          "colorscale": {
           "diverging": [
            [
             0,
             "#8e0152"
            ],
            [
             0.1,
             "#c51b7d"
            ],
            [
             0.2,
             "#de77ae"
            ],
            [
             0.3,
             "#f1b6da"
            ],
            [
             0.4,
             "#fde0ef"
            ],
            [
             0.5,
             "#f7f7f7"
            ],
            [
             0.6,
             "#e6f5d0"
            ],
            [
             0.7,
             "#b8e186"
            ],
            [
             0.8,
             "#7fbc41"
            ],
            [
             0.9,
             "#4d9221"
            ],
            [
             1,
             "#276419"
            ]
           ],
           "sequential": [
            [
             0,
             "#0d0887"
            ],
            [
             0.1111111111111111,
             "#46039f"
            ],
            [
             0.2222222222222222,
             "#7201a8"
            ],
            [
             0.3333333333333333,
             "#9c179e"
            ],
            [
             0.4444444444444444,
             "#bd3786"
            ],
            [
             0.5555555555555556,
             "#d8576b"
            ],
            [
             0.6666666666666666,
             "#ed7953"
            ],
            [
             0.7777777777777778,
             "#fb9f3a"
            ],
            [
             0.8888888888888888,
             "#fdca26"
            ],
            [
             1,
             "#f0f921"
            ]
           ],
           "sequentialminus": [
            [
             0,
             "#0d0887"
            ],
            [
             0.1111111111111111,
             "#46039f"
            ],
            [
             0.2222222222222222,
             "#7201a8"
            ],
            [
             0.3333333333333333,
             "#9c179e"
            ],
            [
             0.4444444444444444,
             "#bd3786"
            ],
            [
             0.5555555555555556,
             "#d8576b"
            ],
            [
             0.6666666666666666,
             "#ed7953"
            ],
            [
             0.7777777777777778,
             "#fb9f3a"
            ],
            [
             0.8888888888888888,
             "#fdca26"
            ],
            [
             1,
             "#f0f921"
            ]
           ]
          },
          "colorway": [
           "#636efa",
           "#EF553B",
           "#00cc96",
           "#ab63fa",
           "#FFA15A",
           "#19d3f3",
           "#FF6692",
           "#B6E880",
           "#FF97FF",
           "#FECB52"
          ],
          "font": {
           "color": "#2a3f5f"
          },
          "geo": {
           "bgcolor": "white",
           "lakecolor": "white",
           "landcolor": "#E5ECF6",
           "showlakes": true,
           "showland": true,
           "subunitcolor": "white"
          },
          "hoverlabel": {
           "align": "left"
          },
          "hovermode": "closest",
          "mapbox": {
           "style": "light"
          },
          "paper_bgcolor": "white",
          "plot_bgcolor": "#E5ECF6",
          "polar": {
           "angularaxis": {
            "gridcolor": "white",
            "linecolor": "white",
            "ticks": ""
           },
           "bgcolor": "#E5ECF6",
           "radialaxis": {
            "gridcolor": "white",
            "linecolor": "white",
            "ticks": ""
           }
          },
          "scene": {
           "xaxis": {
            "backgroundcolor": "#E5ECF6",
            "gridcolor": "white",
            "gridwidth": 2,
            "linecolor": "white",
            "showbackground": true,
            "ticks": "",
            "zerolinecolor": "white"
           },
           "yaxis": {
            "backgroundcolor": "#E5ECF6",
            "gridcolor": "white",
            "gridwidth": 2,
            "linecolor": "white",
            "showbackground": true,
            "ticks": "",
            "zerolinecolor": "white"
           },
           "zaxis": {
            "backgroundcolor": "#E5ECF6",
            "gridcolor": "white",
            "gridwidth": 2,
            "linecolor": "white",
            "showbackground": true,
            "ticks": "",
            "zerolinecolor": "white"
           }
          },
          "shapedefaults": {
           "line": {
            "color": "#2a3f5f"
           }
          },
          "ternary": {
           "aaxis": {
            "gridcolor": "white",
            "linecolor": "white",
            "ticks": ""
           },
           "baxis": {
            "gridcolor": "white",
            "linecolor": "white",
            "ticks": ""
           },
           "bgcolor": "#E5ECF6",
           "caxis": {
            "gridcolor": "white",
            "linecolor": "white",
            "ticks": ""
           }
          },
          "title": {
           "x": 0.05
          },
          "xaxis": {
           "automargin": true,
           "gridcolor": "white",
           "linecolor": "white",
           "ticks": "",
           "title": {
            "standoff": 15
           },
           "zerolinecolor": "white",
           "zerolinewidth": 2
          },
          "yaxis": {
           "automargin": true,
           "gridcolor": "white",
           "linecolor": "white",
           "ticks": "",
           "title": {
            "standoff": 15
           },
           "zerolinecolor": "white",
           "zerolinewidth": 2
          }
         }
        },
        "title": {
         "font": {
          "color": "#4D5663"
         }
        },
        "xaxis": {
         "anchor": "y",
         "domain": [
          0,
          0.2125
         ],
         "gridcolor": "#E1E5ED",
         "showgrid": false,
         "tickfont": {
          "color": "#4D5663"
         },
         "title": {
          "font": {
           "color": "#4D5663"
          },
          "text": ""
         },
         "zerolinecolor": "#E1E5ED"
        },
        "xaxis10": {
         "anchor": "y10",
         "domain": [
          0.2625,
          0.475
         ],
         "gridcolor": "#E1E5ED",
         "showgrid": false,
         "tickfont": {
          "color": "#4D5663"
         },
         "title": {
          "font": {
           "color": "#4D5663"
          },
          "text": ""
         },
         "zerolinecolor": "#E1E5ED"
        },
        "xaxis11": {
         "anchor": "y11",
         "domain": [
          0.525,
          0.7375
         ],
         "gridcolor": "#E1E5ED",
         "showgrid": false,
         "tickfont": {
          "color": "#4D5663"
         },
         "title": {
          "font": {
           "color": "#4D5663"
          },
          "text": ""
         },
         "zerolinecolor": "#E1E5ED"
        },
        "xaxis12": {
         "anchor": "y12",
         "domain": [
          0.7875,
          1
         ],
         "gridcolor": "#E1E5ED",
         "showgrid": false,
         "tickfont": {
          "color": "#4D5663"
         },
         "title": {
          "font": {
           "color": "#4D5663"
          },
          "text": ""
         },
         "zerolinecolor": "#E1E5ED"
        },
        "xaxis13": {
         "anchor": "y13",
         "domain": [
          0,
          0.2125
         ],
         "gridcolor": "#E1E5ED",
         "showgrid": false,
         "tickfont": {
          "color": "#4D5663"
         },
         "title": {
          "font": {
           "color": "#4D5663"
          },
          "text": ""
         },
         "zerolinecolor": "#E1E5ED"
        },
        "xaxis14": {
         "anchor": "y14",
         "domain": [
          0.2625,
          0.475
         ],
         "gridcolor": "#E1E5ED",
         "showgrid": false,
         "tickfont": {
          "color": "#4D5663"
         },
         "title": {
          "font": {
           "color": "#4D5663"
          },
          "text": ""
         },
         "zerolinecolor": "#E1E5ED"
        },
        "xaxis15": {
         "anchor": "y15",
         "domain": [
          0.525,
          0.7375
         ],
         "gridcolor": "#E1E5ED",
         "showgrid": false,
         "tickfont": {
          "color": "#4D5663"
         },
         "title": {
          "font": {
           "color": "#4D5663"
          },
          "text": ""
         },
         "zerolinecolor": "#E1E5ED"
        },
        "xaxis16": {
         "anchor": "y16",
         "domain": [
          0.7875,
          1
         ],
         "gridcolor": "#E1E5ED",
         "showgrid": false,
         "tickfont": {
          "color": "#4D5663"
         },
         "title": {
          "font": {
           "color": "#4D5663"
          },
          "text": ""
         },
         "zerolinecolor": "#E1E5ED"
        },
        "xaxis2": {
         "anchor": "y2",
         "domain": [
          0.2625,
          0.475
         ],
         "gridcolor": "#E1E5ED",
         "showgrid": false,
         "tickfont": {
          "color": "#4D5663"
         },
         "title": {
          "font": {
           "color": "#4D5663"
          },
          "text": ""
         },
         "zerolinecolor": "#E1E5ED"
        },
        "xaxis3": {
         "anchor": "y3",
         "domain": [
          0.525,
          0.7375
         ],
         "gridcolor": "#E1E5ED",
         "showgrid": false,
         "tickfont": {
          "color": "#4D5663"
         },
         "title": {
          "font": {
           "color": "#4D5663"
          },
          "text": ""
         },
         "zerolinecolor": "#E1E5ED"
        },
        "xaxis4": {
         "anchor": "y4",
         "domain": [
          0.7875,
          1
         ],
         "gridcolor": "#E1E5ED",
         "showgrid": false,
         "tickfont": {
          "color": "#4D5663"
         },
         "title": {
          "font": {
           "color": "#4D5663"
          },
          "text": ""
         },
         "zerolinecolor": "#E1E5ED"
        },
        "xaxis5": {
         "anchor": "y5",
         "domain": [
          0,
          0.2125
         ],
         "gridcolor": "#E1E5ED",
         "showgrid": false,
         "tickfont": {
          "color": "#4D5663"
         },
         "title": {
          "font": {
           "color": "#4D5663"
          },
          "text": ""
         },
         "zerolinecolor": "#E1E5ED"
        },
        "xaxis6": {
         "anchor": "y6",
         "domain": [
          0.2625,
          0.475
         ],
         "gridcolor": "#E1E5ED",
         "showgrid": false,
         "tickfont": {
          "color": "#4D5663"
         },
         "title": {
          "font": {
           "color": "#4D5663"
          },
          "text": ""
         },
         "zerolinecolor": "#E1E5ED"
        },
        "xaxis7": {
         "anchor": "y7",
         "domain": [
          0.525,
          0.7375
         ],
         "gridcolor": "#E1E5ED",
         "showgrid": false,
         "tickfont": {
          "color": "#4D5663"
         },
         "title": {
          "font": {
           "color": "#4D5663"
          },
          "text": ""
         },
         "zerolinecolor": "#E1E5ED"
        },
        "xaxis8": {
         "anchor": "y8",
         "domain": [
          0.7875,
          1
         ],
         "gridcolor": "#E1E5ED",
         "showgrid": false,
         "tickfont": {
          "color": "#4D5663"
         },
         "title": {
          "font": {
           "color": "#4D5663"
          },
          "text": ""
         },
         "zerolinecolor": "#E1E5ED"
        },
        "xaxis9": {
         "anchor": "y9",
         "domain": [
          0,
          0.2125
         ],
         "gridcolor": "#E1E5ED",
         "showgrid": false,
         "tickfont": {
          "color": "#4D5663"
         },
         "title": {
          "font": {
           "color": "#4D5663"
          },
          "text": ""
         },
         "zerolinecolor": "#E1E5ED"
        },
        "yaxis": {
         "anchor": "x",
         "domain": [
          0.8025,
          1
         ],
         "gridcolor": "#E1E5ED",
         "showgrid": false,
         "tickfont": {
          "color": "#4D5663"
         },
         "title": {
          "font": {
           "color": "#4D5663"
          },
          "text": ""
         },
         "zerolinecolor": "#E1E5ED"
        },
        "yaxis10": {
         "anchor": "x10",
         "domain": [
          0.2675,
          0.465
         ],
         "gridcolor": "#E1E5ED",
         "showgrid": false,
         "tickfont": {
          "color": "#4D5663"
         },
         "title": {
          "font": {
           "color": "#4D5663"
          },
          "text": ""
         },
         "zerolinecolor": "#E1E5ED"
        },
        "yaxis11": {
         "anchor": "x11",
         "domain": [
          0.2675,
          0.465
         ],
         "gridcolor": "#E1E5ED",
         "showgrid": false,
         "tickfont": {
          "color": "#4D5663"
         },
         "title": {
          "font": {
           "color": "#4D5663"
          },
          "text": ""
         },
         "zerolinecolor": "#E1E5ED"
        },
        "yaxis12": {
         "anchor": "x12",
         "domain": [
          0.2675,
          0.465
         ],
         "gridcolor": "#E1E5ED",
         "showgrid": false,
         "tickfont": {
          "color": "#4D5663"
         },
         "title": {
          "font": {
           "color": "#4D5663"
          },
          "text": ""
         },
         "zerolinecolor": "#E1E5ED"
        },
        "yaxis13": {
         "anchor": "x13",
         "domain": [
          0,
          0.1975
         ],
         "gridcolor": "#E1E5ED",
         "showgrid": false,
         "tickfont": {
          "color": "#4D5663"
         },
         "title": {
          "font": {
           "color": "#4D5663"
          },
          "text": ""
         },
         "zerolinecolor": "#E1E5ED"
        },
        "yaxis14": {
         "anchor": "x14",
         "domain": [
          0,
          0.1975
         ],
         "gridcolor": "#E1E5ED",
         "showgrid": false,
         "tickfont": {
          "color": "#4D5663"
         },
         "title": {
          "font": {
           "color": "#4D5663"
          },
          "text": ""
         },
         "zerolinecolor": "#E1E5ED"
        },
        "yaxis15": {
         "anchor": "x15",
         "domain": [
          0,
          0.1975
         ],
         "gridcolor": "#E1E5ED",
         "showgrid": false,
         "tickfont": {
          "color": "#4D5663"
         },
         "title": {
          "font": {
           "color": "#4D5663"
          },
          "text": ""
         },
         "zerolinecolor": "#E1E5ED"
        },
        "yaxis16": {
         "anchor": "x16",
         "domain": [
          0,
          0.1975
         ],
         "gridcolor": "#E1E5ED",
         "showgrid": false,
         "tickfont": {
          "color": "#4D5663"
         },
         "title": {
          "font": {
           "color": "#4D5663"
          },
          "text": ""
         },
         "zerolinecolor": "#E1E5ED"
        },
        "yaxis2": {
         "anchor": "x2",
         "domain": [
          0.8025,
          1
         ],
         "gridcolor": "#E1E5ED",
         "showgrid": false,
         "tickfont": {
          "color": "#4D5663"
         },
         "title": {
          "font": {
           "color": "#4D5663"
          },
          "text": ""
         },
         "zerolinecolor": "#E1E5ED"
        },
        "yaxis3": {
         "anchor": "x3",
         "domain": [
          0.8025,
          1
         ],
         "gridcolor": "#E1E5ED",
         "showgrid": false,
         "tickfont": {
          "color": "#4D5663"
         },
         "title": {
          "font": {
           "color": "#4D5663"
          },
          "text": ""
         },
         "zerolinecolor": "#E1E5ED"
        },
        "yaxis4": {
         "anchor": "x4",
         "domain": [
          0.8025,
          1
         ],
         "gridcolor": "#E1E5ED",
         "showgrid": false,
         "tickfont": {
          "color": "#4D5663"
         },
         "title": {
          "font": {
           "color": "#4D5663"
          },
          "text": ""
         },
         "zerolinecolor": "#E1E5ED"
        },
        "yaxis5": {
         "anchor": "x5",
         "domain": [
          0.535,
          0.7325
         ],
         "gridcolor": "#E1E5ED",
         "showgrid": false,
         "tickfont": {
          "color": "#4D5663"
         },
         "title": {
          "font": {
           "color": "#4D5663"
          },
          "text": ""
         },
         "zerolinecolor": "#E1E5ED"
        },
        "yaxis6": {
         "anchor": "x6",
         "domain": [
          0.535,
          0.7325
         ],
         "gridcolor": "#E1E5ED",
         "showgrid": false,
         "tickfont": {
          "color": "#4D5663"
         },
         "title": {
          "font": {
           "color": "#4D5663"
          },
          "text": ""
         },
         "zerolinecolor": "#E1E5ED"
        },
        "yaxis7": {
         "anchor": "x7",
         "domain": [
          0.535,
          0.7325
         ],
         "gridcolor": "#E1E5ED",
         "showgrid": false,
         "tickfont": {
          "color": "#4D5663"
         },
         "title": {
          "font": {
           "color": "#4D5663"
          },
          "text": ""
         },
         "zerolinecolor": "#E1E5ED"
        },
        "yaxis8": {
         "anchor": "x8",
         "domain": [
          0.535,
          0.7325
         ],
         "gridcolor": "#E1E5ED",
         "showgrid": false,
         "tickfont": {
          "color": "#4D5663"
         },
         "title": {
          "font": {
           "color": "#4D5663"
          },
          "text": ""
         },
         "zerolinecolor": "#E1E5ED"
        },
        "yaxis9": {
         "anchor": "x9",
         "domain": [
          0.2675,
          0.465
         ],
         "gridcolor": "#E1E5ED",
         "showgrid": false,
         "tickfont": {
          "color": "#4D5663"
         },
         "title": {
          "font": {
           "color": "#4D5663"
          },
          "text": ""
         },
         "zerolinecolor": "#E1E5ED"
        }
       }
      },
      "text/html": [
       "<div>                            <div id=\"8a8dd420-2d4d-4d02-843b-bdf87216ebf8\" class=\"plotly-graph-div\" style=\"height:525px; width:100%;\"></div>            <script type=\"text/javascript\">                require([\"plotly\"], function(Plotly) {                    window.PLOTLYENV=window.PLOTLYENV || {};\n",
       "                    window.PLOTLYENV.BASE_URL='https://plot.ly';                                    if (document.getElementById(\"8a8dd420-2d4d-4d02-843b-bdf87216ebf8\")) {                    Plotly.newPlot(                        \"8a8dd420-2d4d-4d02-843b-bdf87216ebf8\",                        [{\"histfunc\":\"count\",\"histnorm\":\"\",\"marker\":{\"color\":\"rgba(255, 153, 51, 1.0)\",\"line\":{\"color\":\"#4D5663\",\"width\":1.3}},\"name\":\"A\",\"nbinsx\":10,\"opacity\":0.8,\"orientation\":\"v\",\"x\":[-1.5744069188809882,0.2919965937061701,-0.20987911018127825,1.4072243870576893,0.5984723796355707,-0.2744220558333609,0.017729177103530606,-1.4785228691304597,0.45485788895139434,0.7817522785186537,0.6158030135086989,0.20802408355881027,-0.9111899216311535,-0.5382498735341864,2.2762676193980482,-1.3159624487677273,-0.06275163823087321,-0.4815939833334281,0.24651562164010077,0.5128628101495492,-0.2088905846667024,-0.37961744382809437,-1.3750740367784493,-0.1440449218155529,-0.6913576335249373,-0.8765044012890313,1.5299431347988888,0.3492702609917798,0.8632771989810265,0.2599651123227867,-0.7226945310100287,-0.5214214959940227,-0.6701981378685836,-1.6376029981808569,-1.1005326319176798,-2.0990592385751654,0.9648940123270464,-0.7199413985460938,0.09503131401757643,-0.5629431738077807,1.0803145448231073,0.8972983341827394,1.8248328731964814,-1.0171487169752407,-0.10207657386959489,-0.9962484521182952,-0.2958514481504522,-0.8607863376679893,0.2860450974872978,-0.9935693485120408,-0.39627560768952946,0.8951387380632714,-1.5007119405734002,0.07588767461740342,-0.22972784324619358,1.1166806807792315,-0.6412361428214182,1.4433582217204095,0.8313925941737207,-1.2607458874475315,-0.5179577520575765,0.2942700620890089,1.4727361516699482,0.17341433018348343,-1.0770753575548573,0.10533370002320529,0.0793294308116233,-1.2209897048108995,-0.8474131221067496,0.4140503688588217,1.7235576738547156,0.2866510056446499,-1.3814385683659007,-0.43750975085760285,0.18836090635740865,0.665859181474303,-0.9483973704483861,-0.8046482102273977,1.0051984408320216,-0.6749142511199132,-1.9239795201339824,-1.1442081980896393,0.48266997736509804,0.0975543014512976,-0.1984691597006762,-0.03426534605026892,-0.297829988581982,-0.908952261148527,-0.640552122171676,2.36128954662639,-1.0401492611610879,-0.666139394408712,-1.4197630539022021,-0.22321839664823442,-0.6253401945309588,0.4621300236937175,0.4284540858073102,-1.411894453558689,-0.5203770031024622,-0.3419949085418646],\"xaxis\":\"x\",\"yaxis\":\"y\",\"type\":\"histogram\"},{\"line\":{\"color\":\"rgba(128, 128, 128, 1.0)\",\"dash\":\"solid\",\"shape\":\"linear\",\"width\":1.3},\"marker\":{\"size\":2,\"symbol\":\"circle\"},\"mode\":\"markers\",\"name\":\"A\",\"text\":\"\",\"x\":[-0.16301927573326747,-0.48711484848482545,-2.151495874975196,-0.654841755684685,0.6295959841572122,-0.8622360025956758,-0.7769629600854723,1.141384587800869,2.3864706479233844,0.9299078566189861,0.4555732303265823,0.32647238553721564,-0.6803360397686434,-0.8102760959813967,1.4848181818102724,0.5291945647751306,1.4353440017023873,-0.5026056619198886,-0.5800213198181711,-0.09606149483386926,-0.5768704701146251,-0.9372294832680503,-0.08510356635600864,0.37212959201504026,-1.362462924687948,0.8806989154386949,-0.8358694207263032,-0.28953059607877285,-0.5011078163710999,-0.43790828913824986,-0.6514598584332857,0.6002289489726451,0.22186817296233421,0.27994648352865514,-0.9689803349519742,1.1825509508611973,0.04780373093205452,-2.716968073246881,0.6349138266490004,0.41478390998119186,0.8246493600925106,0.4930703351281199,0.6487322832414203,-0.08336067163389263,-1.3049247995275077,1.0619952081092054,-0.7227073628981311,0.5809890622275982,1.2272849369420071,-1.510539737682553,-0.7456146006935016,-1.2750149926211962,0.20466552604659938,0.48741572091628266,1.0797839304892964,0.2896592763134485,-0.6204080623813175,0.9488442025282456,-0.8011395533914448,1.1723009064207326,0.6054895171876152,0.04816408029720471,-0.13535894381818353,-0.8965841075311023,-1.954615214342892,-0.15472804753915848,-0.9524201139436,-1.5291955641115345,1.037853825639349,0.1875096616869887,-0.5588917015575369,0.8044315841413262,-0.47554678747052664,-0.6213643969232366,-0.8184197648045224,-0.11121577771197998,0.4824724082217693,-2.032159511239236,0.6878192901007198,-0.8075923737337249,1.0440508302797218,0.1303876927045207,-1.980567271026737,0.7269021112597615,-0.9504440925098565,-0.7352991807724102,-0.22826571887397049,0.4175573994031141,0.6884329397963111,0.5481622573258714,0.6080475289579149,1.7843699428922326,1.0645184313051146,-1.2657980679905936,1.2728775711928362,-0.6676306193331588,-0.9306861770987371,1.6149963278104023,-1.2152379938641267,-0.9470164897283213],\"xaxis\":\"x2\",\"y\":[-1.5744069188809882,0.2919965937061701,-0.20987911018127825,1.4072243870576893,0.5984723796355707,-0.2744220558333609,0.017729177103530606,-1.4785228691304597,0.45485788895139434,0.7817522785186537,0.6158030135086989,0.20802408355881027,-0.9111899216311535,-0.5382498735341864,2.2762676193980482,-1.3159624487677273,-0.06275163823087321,-0.4815939833334281,0.24651562164010077,0.5128628101495492,-0.2088905846667024,-0.37961744382809437,-1.3750740367784493,-0.1440449218155529,-0.6913576335249373,-0.8765044012890313,1.5299431347988888,0.3492702609917798,0.8632771989810265,0.2599651123227867,-0.7226945310100287,-0.5214214959940227,-0.6701981378685836,-1.6376029981808569,-1.1005326319176798,-2.0990592385751654,0.9648940123270464,-0.7199413985460938,0.09503131401757643,-0.5629431738077807,1.0803145448231073,0.8972983341827394,1.8248328731964814,-1.0171487169752407,-0.10207657386959489,-0.9962484521182952,-0.2958514481504522,-0.8607863376679893,0.2860450974872978,-0.9935693485120408,-0.39627560768952946,0.8951387380632714,-1.5007119405734002,0.07588767461740342,-0.22972784324619358,1.1166806807792315,-0.6412361428214182,1.4433582217204095,0.8313925941737207,-1.2607458874475315,-0.5179577520575765,0.2942700620890089,1.4727361516699482,0.17341433018348343,-1.0770753575548573,0.10533370002320529,0.0793294308116233,-1.2209897048108995,-0.8474131221067496,0.4140503688588217,1.7235576738547156,0.2866510056446499,-1.3814385683659007,-0.43750975085760285,0.18836090635740865,0.665859181474303,-0.9483973704483861,-0.8046482102273977,1.0051984408320216,-0.6749142511199132,-1.9239795201339824,-1.1442081980896393,0.48266997736509804,0.0975543014512976,-0.1984691597006762,-0.03426534605026892,-0.297829988581982,-0.908952261148527,-0.640552122171676,2.36128954662639,-1.0401492611610879,-0.666139394408712,-1.4197630539022021,-0.22321839664823442,-0.6253401945309588,0.4621300236937175,0.4284540858073102,-1.411894453558689,-0.5203770031024622,-0.3419949085418646],\"yaxis\":\"y2\",\"type\":\"scatter\"},{\"line\":{\"color\":\"rgba(128, 128, 128, 1.0)\",\"dash\":\"solid\",\"shape\":\"linear\",\"width\":1.3},\"marker\":{\"size\":2,\"symbol\":\"circle\"},\"mode\":\"markers\",\"name\":\"A\",\"text\":\"\",\"x\":[1.3672431823573838,-3.1219528916298342,0.45664659886304176,-0.5756400849623312,0.26321086301622215,0.20368403916398278,-0.5338688747549704,-0.46671180155625697,-1.2088396445684164,0.29701209884441515,-0.05975273591374197,-0.08357578612941527,0.7323963232173264,0.30982320403787583,1.0189121573601516,-0.27744429169188334,0.7581448689930282,-0.86968309028437,-0.009004749293217387,-2.407560001627149,-0.12923674911093525,-1.8144553816112123,-1.1058062044135333,-0.9974421712966076,0.015229785196408977,0.8722685262126041,-1.2220225498160038,0.1993548951630531,1.304020957984012,0.8051092616191471,-0.6153777156233635,0.07914329712761964,1.5858973639162262,0.1303574550605811,-0.4274500326254631,-0.47367273259103937,1.6102229598586186,-1.549622233256524,0.21952602572435878,0.2706451447328084,-0.3434956139479138,-0.05622980819386601,-0.785672874053645,0.12189558214337343,-0.10726557680804973,0.5202707302013411,0.032937249257193775,0.5847736058133264,-0.020196157505648734,-0.6959929471544657,-0.8454487192961543,0.22586008278265896,0.26476528256834014,-1.8457808002869223,-1.5993017556140035,2.3908157138700847,0.17606542267964284,-0.9669494170417328,-0.4626543475624007,-0.18717695305071694,-0.25153927872982507,1.4015345879049936,-0.8785901734444322,-0.821724250777076,-0.36723925965907717,-0.681513350437804,-0.6276390985925588,0.32890041723736524,1.0904951899261752,1.210654241030231,0.4228896166290119,-0.8681726055082388,0.460386151293955,-1.1571199502626404,-0.41143049432801143,-0.5203654273835205,-0.11140547686233722,-0.30111239018262514,-1.6836089418767073,-0.7018835879974834,-1.4016371462343824,-1.198464106013325,-0.22338365737031157,-1.9045289244951296,0.922413835388977,2.5831533079837996,0.16392777724218283,-0.23919034327453656,2.6537316019626167,-0.12064682438994766,-1.6175818360130871,-0.7035738672273057,1.2977901200905202,1.2099729745449455,0.07611594090509306,-0.56332201438011,0.1671144686726566,-1.2679573089558116,-1.4631730551116238,-0.3691341538034559],\"xaxis\":\"x3\",\"y\":[-1.5744069188809882,0.2919965937061701,-0.20987911018127825,1.4072243870576893,0.5984723796355707,-0.2744220558333609,0.017729177103530606,-1.4785228691304597,0.45485788895139434,0.7817522785186537,0.6158030135086989,0.20802408355881027,-0.9111899216311535,-0.5382498735341864,2.2762676193980482,-1.3159624487677273,-0.06275163823087321,-0.4815939833334281,0.24651562164010077,0.5128628101495492,-0.2088905846667024,-0.37961744382809437,-1.3750740367784493,-0.1440449218155529,-0.6913576335249373,-0.8765044012890313,1.5299431347988888,0.3492702609917798,0.8632771989810265,0.2599651123227867,-0.7226945310100287,-0.5214214959940227,-0.6701981378685836,-1.6376029981808569,-1.1005326319176798,-2.0990592385751654,0.9648940123270464,-0.7199413985460938,0.09503131401757643,-0.5629431738077807,1.0803145448231073,0.8972983341827394,1.8248328731964814,-1.0171487169752407,-0.10207657386959489,-0.9962484521182952,-0.2958514481504522,-0.8607863376679893,0.2860450974872978,-0.9935693485120408,-0.39627560768952946,0.8951387380632714,-1.5007119405734002,0.07588767461740342,-0.22972784324619358,1.1166806807792315,-0.6412361428214182,1.4433582217204095,0.8313925941737207,-1.2607458874475315,-0.5179577520575765,0.2942700620890089,1.4727361516699482,0.17341433018348343,-1.0770753575548573,0.10533370002320529,0.0793294308116233,-1.2209897048108995,-0.8474131221067496,0.4140503688588217,1.7235576738547156,0.2866510056446499,-1.3814385683659007,-0.43750975085760285,0.18836090635740865,0.665859181474303,-0.9483973704483861,-0.8046482102273977,1.0051984408320216,-0.6749142511199132,-1.9239795201339824,-1.1442081980896393,0.48266997736509804,0.0975543014512976,-0.1984691597006762,-0.03426534605026892,-0.297829988581982,-0.908952261148527,-0.640552122171676,2.36128954662639,-1.0401492611610879,-0.666139394408712,-1.4197630539022021,-0.22321839664823442,-0.6253401945309588,0.4621300236937175,0.4284540858073102,-1.411894453558689,-0.5203770031024622,-0.3419949085418646],\"yaxis\":\"y3\",\"type\":\"scatter\"},{\"line\":{\"color\":\"rgba(128, 128, 128, 1.0)\",\"dash\":\"solid\",\"shape\":\"linear\",\"width\":1.3},\"marker\":{\"size\":2,\"symbol\":\"circle\"},\"mode\":\"markers\",\"name\":\"A\",\"text\":\"\",\"x\":[0.4474802242592564,0.2834063837263141,-0.7770490185487827,-0.04492980839881632,0.27009299960693095,0.008903149562862311,-0.45717750105423627,-0.48932514881148886,0.34273376144461437,3.359298674005126,0.12525255257388343,1.0492527634432405,0.9767536714034938,-1.3965234483793163,0.36922158663529275,-0.3033619382038873,-0.47655211773527106,2.1221536872359295,-0.02968677212688579,0.3053917192209469,0.3457286371599666,0.6394661871439085,-0.5732134800332948,-0.7025481174908671,0.944131945631374,-1.5215016925305056,1.0424982635673354,0.32282980989502397,0.4966648360880945,0.5927553751485347,0.1813351552883239,-1.9342706893633625,-0.11305803545009196,0.19131406053997785,-1.4443689467173215,-0.4571057016358224,-0.028694104126904582,0.3846028448279193,0.8712626714186823,0.333044013563274,2.7399527788519173,-0.46429433135988035,0.7171306015411412,0.8426235128225036,1.1218848874580638,-0.648317919096552,0.07765897327261925,-0.31015839239369747,0.9165595578034476,0.17930582022134683,0.34917932729373347,0.06691149447692568,1.2098580139457729,-0.7353834794681324,0.6575980669827997,0.8972514079789817,1.9983423698429235,-0.3451083950820109,-1.5527107787406171,-2.2135600944549703,1.0086141184033188,-2.075900904803881,-0.4915393075552051,-1.1580997209625832,1.9243321885146973,0.21997464598801975,0.5426016426740771,1.1815619340451056,-1.0965126676340762,-0.6138866145984655,1.7888401389186588,0.9929130957912348,-1.4109822106421528,-0.21785991911797598,-1.2452717391309158,-0.05910151075239766,0.052366378735798844,-0.5760428334325783,0.5090679208803346,1.6900529825852426,0.6168962904866758,0.5001867013531961,-1.0904012912269452,0.8394267452655713,0.6035190382826191,-1.3845892642933673,1.6172660479222531,1.130759407780482,0.9838128421116707,-1.2862092960650897,0.2623239284610542,-0.016782468255838946,-0.7146424100039155,0.20514193573097697,0.6001189095625172,-1.158164454539793,1.1390141806277636,-0.16838268893115318,0.10991657897069484,0.280505421663259],\"xaxis\":\"x4\",\"y\":[-1.5744069188809882,0.2919965937061701,-0.20987911018127825,1.4072243870576893,0.5984723796355707,-0.2744220558333609,0.017729177103530606,-1.4785228691304597,0.45485788895139434,0.7817522785186537,0.6158030135086989,0.20802408355881027,-0.9111899216311535,-0.5382498735341864,2.2762676193980482,-1.3159624487677273,-0.06275163823087321,-0.4815939833334281,0.24651562164010077,0.5128628101495492,-0.2088905846667024,-0.37961744382809437,-1.3750740367784493,-0.1440449218155529,-0.6913576335249373,-0.8765044012890313,1.5299431347988888,0.3492702609917798,0.8632771989810265,0.2599651123227867,-0.7226945310100287,-0.5214214959940227,-0.6701981378685836,-1.6376029981808569,-1.1005326319176798,-2.0990592385751654,0.9648940123270464,-0.7199413985460938,0.09503131401757643,-0.5629431738077807,1.0803145448231073,0.8972983341827394,1.8248328731964814,-1.0171487169752407,-0.10207657386959489,-0.9962484521182952,-0.2958514481504522,-0.8607863376679893,0.2860450974872978,-0.9935693485120408,-0.39627560768952946,0.8951387380632714,-1.5007119405734002,0.07588767461740342,-0.22972784324619358,1.1166806807792315,-0.6412361428214182,1.4433582217204095,0.8313925941737207,-1.2607458874475315,-0.5179577520575765,0.2942700620890089,1.4727361516699482,0.17341433018348343,-1.0770753575548573,0.10533370002320529,0.0793294308116233,-1.2209897048108995,-0.8474131221067496,0.4140503688588217,1.7235576738547156,0.2866510056446499,-1.3814385683659007,-0.43750975085760285,0.18836090635740865,0.665859181474303,-0.9483973704483861,-0.8046482102273977,1.0051984408320216,-0.6749142511199132,-1.9239795201339824,-1.1442081980896393,0.48266997736509804,0.0975543014512976,-0.1984691597006762,-0.03426534605026892,-0.297829988581982,-0.908952261148527,-0.640552122171676,2.36128954662639,-1.0401492611610879,-0.666139394408712,-1.4197630539022021,-0.22321839664823442,-0.6253401945309588,0.4621300236937175,0.4284540858073102,-1.411894453558689,-0.5203770031024622,-0.3419949085418646],\"yaxis\":\"y4\",\"type\":\"scatter\"},{\"line\":{\"color\":\"rgba(128, 128, 128, 1.0)\",\"dash\":\"solid\",\"shape\":\"linear\",\"width\":1.3},\"marker\":{\"size\":2,\"symbol\":\"circle\"},\"mode\":\"markers\",\"name\":\"B\",\"text\":\"\",\"x\":[-1.5744069188809882,0.2919965937061701,-0.20987911018127825,1.4072243870576893,0.5984723796355707,-0.2744220558333609,0.017729177103530606,-1.4785228691304597,0.45485788895139434,0.7817522785186537,0.6158030135086989,0.20802408355881027,-0.9111899216311535,-0.5382498735341864,2.2762676193980482,-1.3159624487677273,-0.06275163823087321,-0.4815939833334281,0.24651562164010077,0.5128628101495492,-0.2088905846667024,-0.37961744382809437,-1.3750740367784493,-0.1440449218155529,-0.6913576335249373,-0.8765044012890313,1.5299431347988888,0.3492702609917798,0.8632771989810265,0.2599651123227867,-0.7226945310100287,-0.5214214959940227,-0.6701981378685836,-1.6376029981808569,-1.1005326319176798,-2.0990592385751654,0.9648940123270464,-0.7199413985460938,0.09503131401757643,-0.5629431738077807,1.0803145448231073,0.8972983341827394,1.8248328731964814,-1.0171487169752407,-0.10207657386959489,-0.9962484521182952,-0.2958514481504522,-0.8607863376679893,0.2860450974872978,-0.9935693485120408,-0.39627560768952946,0.8951387380632714,-1.5007119405734002,0.07588767461740342,-0.22972784324619358,1.1166806807792315,-0.6412361428214182,1.4433582217204095,0.8313925941737207,-1.2607458874475315,-0.5179577520575765,0.2942700620890089,1.4727361516699482,0.17341433018348343,-1.0770753575548573,0.10533370002320529,0.0793294308116233,-1.2209897048108995,-0.8474131221067496,0.4140503688588217,1.7235576738547156,0.2866510056446499,-1.3814385683659007,-0.43750975085760285,0.18836090635740865,0.665859181474303,-0.9483973704483861,-0.8046482102273977,1.0051984408320216,-0.6749142511199132,-1.9239795201339824,-1.1442081980896393,0.48266997736509804,0.0975543014512976,-0.1984691597006762,-0.03426534605026892,-0.297829988581982,-0.908952261148527,-0.640552122171676,2.36128954662639,-1.0401492611610879,-0.666139394408712,-1.4197630539022021,-0.22321839664823442,-0.6253401945309588,0.4621300236937175,0.4284540858073102,-1.411894453558689,-0.5203770031024622,-0.3419949085418646],\"xaxis\":\"x5\",\"y\":[-0.16301927573326747,-0.48711484848482545,-2.151495874975196,-0.654841755684685,0.6295959841572122,-0.8622360025956758,-0.7769629600854723,1.141384587800869,2.3864706479233844,0.9299078566189861,0.4555732303265823,0.32647238553721564,-0.6803360397686434,-0.8102760959813967,1.4848181818102724,0.5291945647751306,1.4353440017023873,-0.5026056619198886,-0.5800213198181711,-0.09606149483386926,-0.5768704701146251,-0.9372294832680503,-0.08510356635600864,0.37212959201504026,-1.362462924687948,0.8806989154386949,-0.8358694207263032,-0.28953059607877285,-0.5011078163710999,-0.43790828913824986,-0.6514598584332857,0.6002289489726451,0.22186817296233421,0.27994648352865514,-0.9689803349519742,1.1825509508611973,0.04780373093205452,-2.716968073246881,0.6349138266490004,0.41478390998119186,0.8246493600925106,0.4930703351281199,0.6487322832414203,-0.08336067163389263,-1.3049247995275077,1.0619952081092054,-0.7227073628981311,0.5809890622275982,1.2272849369420071,-1.510539737682553,-0.7456146006935016,-1.2750149926211962,0.20466552604659938,0.48741572091628266,1.0797839304892964,0.2896592763134485,-0.6204080623813175,0.9488442025282456,-0.8011395533914448,1.1723009064207326,0.6054895171876152,0.04816408029720471,-0.13535894381818353,-0.8965841075311023,-1.954615214342892,-0.15472804753915848,-0.9524201139436,-1.5291955641115345,1.037853825639349,0.1875096616869887,-0.5588917015575369,0.8044315841413262,-0.47554678747052664,-0.6213643969232366,-0.8184197648045224,-0.11121577771197998,0.4824724082217693,-2.032159511239236,0.6878192901007198,-0.8075923737337249,1.0440508302797218,0.1303876927045207,-1.980567271026737,0.7269021112597615,-0.9504440925098565,-0.7352991807724102,-0.22826571887397049,0.4175573994031141,0.6884329397963111,0.5481622573258714,0.6080475289579149,1.7843699428922326,1.0645184313051146,-1.2657980679905936,1.2728775711928362,-0.6676306193331588,-0.9306861770987371,1.6149963278104023,-1.2152379938641267,-0.9470164897283213],\"yaxis\":\"y5\",\"type\":\"scatter\"},{\"histfunc\":\"count\",\"histnorm\":\"\",\"marker\":{\"color\":\"rgba(55, 128, 191, 1.0)\",\"line\":{\"color\":\"#4D5663\",\"width\":1.3}},\"name\":\"B\",\"nbinsx\":10,\"opacity\":0.8,\"orientation\":\"v\",\"x\":[-0.16301927573326747,-0.48711484848482545,-2.151495874975196,-0.654841755684685,0.6295959841572122,-0.8622360025956758,-0.7769629600854723,1.141384587800869,2.3864706479233844,0.9299078566189861,0.4555732303265823,0.32647238553721564,-0.6803360397686434,-0.8102760959813967,1.4848181818102724,0.5291945647751306,1.4353440017023873,-0.5026056619198886,-0.5800213198181711,-0.09606149483386926,-0.5768704701146251,-0.9372294832680503,-0.08510356635600864,0.37212959201504026,-1.362462924687948,0.8806989154386949,-0.8358694207263032,-0.28953059607877285,-0.5011078163710999,-0.43790828913824986,-0.6514598584332857,0.6002289489726451,0.22186817296233421,0.27994648352865514,-0.9689803349519742,1.1825509508611973,0.04780373093205452,-2.716968073246881,0.6349138266490004,0.41478390998119186,0.8246493600925106,0.4930703351281199,0.6487322832414203,-0.08336067163389263,-1.3049247995275077,1.0619952081092054,-0.7227073628981311,0.5809890622275982,1.2272849369420071,-1.510539737682553,-0.7456146006935016,-1.2750149926211962,0.20466552604659938,0.48741572091628266,1.0797839304892964,0.2896592763134485,-0.6204080623813175,0.9488442025282456,-0.8011395533914448,1.1723009064207326,0.6054895171876152,0.04816408029720471,-0.13535894381818353,-0.8965841075311023,-1.954615214342892,-0.15472804753915848,-0.9524201139436,-1.5291955641115345,1.037853825639349,0.1875096616869887,-0.5588917015575369,0.8044315841413262,-0.47554678747052664,-0.6213643969232366,-0.8184197648045224,-0.11121577771197998,0.4824724082217693,-2.032159511239236,0.6878192901007198,-0.8075923737337249,1.0440508302797218,0.1303876927045207,-1.980567271026737,0.7269021112597615,-0.9504440925098565,-0.7352991807724102,-0.22826571887397049,0.4175573994031141,0.6884329397963111,0.5481622573258714,0.6080475289579149,1.7843699428922326,1.0645184313051146,-1.2657980679905936,1.2728775711928362,-0.6676306193331588,-0.9306861770987371,1.6149963278104023,-1.2152379938641267,-0.9470164897283213],\"xaxis\":\"x6\",\"yaxis\":\"y6\",\"type\":\"histogram\"},{\"line\":{\"color\":\"rgba(128, 128, 128, 1.0)\",\"dash\":\"solid\",\"shape\":\"linear\",\"width\":1.3},\"marker\":{\"size\":2,\"symbol\":\"circle\"},\"mode\":\"markers\",\"name\":\"B\",\"text\":\"\",\"x\":[1.3672431823573838,-3.1219528916298342,0.45664659886304176,-0.5756400849623312,0.26321086301622215,0.20368403916398278,-0.5338688747549704,-0.46671180155625697,-1.2088396445684164,0.29701209884441515,-0.05975273591374197,-0.08357578612941527,0.7323963232173264,0.30982320403787583,1.0189121573601516,-0.27744429169188334,0.7581448689930282,-0.86968309028437,-0.009004749293217387,-2.407560001627149,-0.12923674911093525,-1.8144553816112123,-1.1058062044135333,-0.9974421712966076,0.015229785196408977,0.8722685262126041,-1.2220225498160038,0.1993548951630531,1.304020957984012,0.8051092616191471,-0.6153777156233635,0.07914329712761964,1.5858973639162262,0.1303574550605811,-0.4274500326254631,-0.47367273259103937,1.6102229598586186,-1.549622233256524,0.21952602572435878,0.2706451447328084,-0.3434956139479138,-0.05622980819386601,-0.785672874053645,0.12189558214337343,-0.10726557680804973,0.5202707302013411,0.032937249257193775,0.5847736058133264,-0.020196157505648734,-0.6959929471544657,-0.8454487192961543,0.22586008278265896,0.26476528256834014,-1.8457808002869223,-1.5993017556140035,2.3908157138700847,0.17606542267964284,-0.9669494170417328,-0.4626543475624007,-0.18717695305071694,-0.25153927872982507,1.4015345879049936,-0.8785901734444322,-0.821724250777076,-0.36723925965907717,-0.681513350437804,-0.6276390985925588,0.32890041723736524,1.0904951899261752,1.210654241030231,0.4228896166290119,-0.8681726055082388,0.460386151293955,-1.1571199502626404,-0.41143049432801143,-0.5203654273835205,-0.11140547686233722,-0.30111239018262514,-1.6836089418767073,-0.7018835879974834,-1.4016371462343824,-1.198464106013325,-0.22338365737031157,-1.9045289244951296,0.922413835388977,2.5831533079837996,0.16392777724218283,-0.23919034327453656,2.6537316019626167,-0.12064682438994766,-1.6175818360130871,-0.7035738672273057,1.2977901200905202,1.2099729745449455,0.07611594090509306,-0.56332201438011,0.1671144686726566,-1.2679573089558116,-1.4631730551116238,-0.3691341538034559],\"xaxis\":\"x7\",\"y\":[-0.16301927573326747,-0.48711484848482545,-2.151495874975196,-0.654841755684685,0.6295959841572122,-0.8622360025956758,-0.7769629600854723,1.141384587800869,2.3864706479233844,0.9299078566189861,0.4555732303265823,0.32647238553721564,-0.6803360397686434,-0.8102760959813967,1.4848181818102724,0.5291945647751306,1.4353440017023873,-0.5026056619198886,-0.5800213198181711,-0.09606149483386926,-0.5768704701146251,-0.9372294832680503,-0.08510356635600864,0.37212959201504026,-1.362462924687948,0.8806989154386949,-0.8358694207263032,-0.28953059607877285,-0.5011078163710999,-0.43790828913824986,-0.6514598584332857,0.6002289489726451,0.22186817296233421,0.27994648352865514,-0.9689803349519742,1.1825509508611973,0.04780373093205452,-2.716968073246881,0.6349138266490004,0.41478390998119186,0.8246493600925106,0.4930703351281199,0.6487322832414203,-0.08336067163389263,-1.3049247995275077,1.0619952081092054,-0.7227073628981311,0.5809890622275982,1.2272849369420071,-1.510539737682553,-0.7456146006935016,-1.2750149926211962,0.20466552604659938,0.48741572091628266,1.0797839304892964,0.2896592763134485,-0.6204080623813175,0.9488442025282456,-0.8011395533914448,1.1723009064207326,0.6054895171876152,0.04816408029720471,-0.13535894381818353,-0.8965841075311023,-1.954615214342892,-0.15472804753915848,-0.9524201139436,-1.5291955641115345,1.037853825639349,0.1875096616869887,-0.5588917015575369,0.8044315841413262,-0.47554678747052664,-0.6213643969232366,-0.8184197648045224,-0.11121577771197998,0.4824724082217693,-2.032159511239236,0.6878192901007198,-0.8075923737337249,1.0440508302797218,0.1303876927045207,-1.980567271026737,0.7269021112597615,-0.9504440925098565,-0.7352991807724102,-0.22826571887397049,0.4175573994031141,0.6884329397963111,0.5481622573258714,0.6080475289579149,1.7843699428922326,1.0645184313051146,-1.2657980679905936,1.2728775711928362,-0.6676306193331588,-0.9306861770987371,1.6149963278104023,-1.2152379938641267,-0.9470164897283213],\"yaxis\":\"y7\",\"type\":\"scatter\"},{\"line\":{\"color\":\"rgba(128, 128, 128, 1.0)\",\"dash\":\"solid\",\"shape\":\"linear\",\"width\":1.3},\"marker\":{\"size\":2,\"symbol\":\"circle\"},\"mode\":\"markers\",\"name\":\"B\",\"text\":\"\",\"x\":[0.4474802242592564,0.2834063837263141,-0.7770490185487827,-0.04492980839881632,0.27009299960693095,0.008903149562862311,-0.45717750105423627,-0.48932514881148886,0.34273376144461437,3.359298674005126,0.12525255257388343,1.0492527634432405,0.9767536714034938,-1.3965234483793163,0.36922158663529275,-0.3033619382038873,-0.47655211773527106,2.1221536872359295,-0.02968677212688579,0.3053917192209469,0.3457286371599666,0.6394661871439085,-0.5732134800332948,-0.7025481174908671,0.944131945631374,-1.5215016925305056,1.0424982635673354,0.32282980989502397,0.4966648360880945,0.5927553751485347,0.1813351552883239,-1.9342706893633625,-0.11305803545009196,0.19131406053997785,-1.4443689467173215,-0.4571057016358224,-0.028694104126904582,0.3846028448279193,0.8712626714186823,0.333044013563274,2.7399527788519173,-0.46429433135988035,0.7171306015411412,0.8426235128225036,1.1218848874580638,-0.648317919096552,0.07765897327261925,-0.31015839239369747,0.9165595578034476,0.17930582022134683,0.34917932729373347,0.06691149447692568,1.2098580139457729,-0.7353834794681324,0.6575980669827997,0.8972514079789817,1.9983423698429235,-0.3451083950820109,-1.5527107787406171,-2.2135600944549703,1.0086141184033188,-2.075900904803881,-0.4915393075552051,-1.1580997209625832,1.9243321885146973,0.21997464598801975,0.5426016426740771,1.1815619340451056,-1.0965126676340762,-0.6138866145984655,1.7888401389186588,0.9929130957912348,-1.4109822106421528,-0.21785991911797598,-1.2452717391309158,-0.05910151075239766,0.052366378735798844,-0.5760428334325783,0.5090679208803346,1.6900529825852426,0.6168962904866758,0.5001867013531961,-1.0904012912269452,0.8394267452655713,0.6035190382826191,-1.3845892642933673,1.6172660479222531,1.130759407780482,0.9838128421116707,-1.2862092960650897,0.2623239284610542,-0.016782468255838946,-0.7146424100039155,0.20514193573097697,0.6001189095625172,-1.158164454539793,1.1390141806277636,-0.16838268893115318,0.10991657897069484,0.280505421663259],\"xaxis\":\"x8\",\"y\":[-0.16301927573326747,-0.48711484848482545,-2.151495874975196,-0.654841755684685,0.6295959841572122,-0.8622360025956758,-0.7769629600854723,1.141384587800869,2.3864706479233844,0.9299078566189861,0.4555732303265823,0.32647238553721564,-0.6803360397686434,-0.8102760959813967,1.4848181818102724,0.5291945647751306,1.4353440017023873,-0.5026056619198886,-0.5800213198181711,-0.09606149483386926,-0.5768704701146251,-0.9372294832680503,-0.08510356635600864,0.37212959201504026,-1.362462924687948,0.8806989154386949,-0.8358694207263032,-0.28953059607877285,-0.5011078163710999,-0.43790828913824986,-0.6514598584332857,0.6002289489726451,0.22186817296233421,0.27994648352865514,-0.9689803349519742,1.1825509508611973,0.04780373093205452,-2.716968073246881,0.6349138266490004,0.41478390998119186,0.8246493600925106,0.4930703351281199,0.6487322832414203,-0.08336067163389263,-1.3049247995275077,1.0619952081092054,-0.7227073628981311,0.5809890622275982,1.2272849369420071,-1.510539737682553,-0.7456146006935016,-1.2750149926211962,0.20466552604659938,0.48741572091628266,1.0797839304892964,0.2896592763134485,-0.6204080623813175,0.9488442025282456,-0.8011395533914448,1.1723009064207326,0.6054895171876152,0.04816408029720471,-0.13535894381818353,-0.8965841075311023,-1.954615214342892,-0.15472804753915848,-0.9524201139436,-1.5291955641115345,1.037853825639349,0.1875096616869887,-0.5588917015575369,0.8044315841413262,-0.47554678747052664,-0.6213643969232366,-0.8184197648045224,-0.11121577771197998,0.4824724082217693,-2.032159511239236,0.6878192901007198,-0.8075923737337249,1.0440508302797218,0.1303876927045207,-1.980567271026737,0.7269021112597615,-0.9504440925098565,-0.7352991807724102,-0.22826571887397049,0.4175573994031141,0.6884329397963111,0.5481622573258714,0.6080475289579149,1.7843699428922326,1.0645184313051146,-1.2657980679905936,1.2728775711928362,-0.6676306193331588,-0.9306861770987371,1.6149963278104023,-1.2152379938641267,-0.9470164897283213],\"yaxis\":\"y8\",\"type\":\"scatter\"},{\"line\":{\"color\":\"rgba(128, 128, 128, 1.0)\",\"dash\":\"solid\",\"shape\":\"linear\",\"width\":1.3},\"marker\":{\"size\":2,\"symbol\":\"circle\"},\"mode\":\"markers\",\"name\":\"C\",\"text\":\"\",\"x\":[-1.5744069188809882,0.2919965937061701,-0.20987911018127825,1.4072243870576893,0.5984723796355707,-0.2744220558333609,0.017729177103530606,-1.4785228691304597,0.45485788895139434,0.7817522785186537,0.6158030135086989,0.20802408355881027,-0.9111899216311535,-0.5382498735341864,2.2762676193980482,-1.3159624487677273,-0.06275163823087321,-0.4815939833334281,0.24651562164010077,0.5128628101495492,-0.2088905846667024,-0.37961744382809437,-1.3750740367784493,-0.1440449218155529,-0.6913576335249373,-0.8765044012890313,1.5299431347988888,0.3492702609917798,0.8632771989810265,0.2599651123227867,-0.7226945310100287,-0.5214214959940227,-0.6701981378685836,-1.6376029981808569,-1.1005326319176798,-2.0990592385751654,0.9648940123270464,-0.7199413985460938,0.09503131401757643,-0.5629431738077807,1.0803145448231073,0.8972983341827394,1.8248328731964814,-1.0171487169752407,-0.10207657386959489,-0.9962484521182952,-0.2958514481504522,-0.8607863376679893,0.2860450974872978,-0.9935693485120408,-0.39627560768952946,0.8951387380632714,-1.5007119405734002,0.07588767461740342,-0.22972784324619358,1.1166806807792315,-0.6412361428214182,1.4433582217204095,0.8313925941737207,-1.2607458874475315,-0.5179577520575765,0.2942700620890089,1.4727361516699482,0.17341433018348343,-1.0770753575548573,0.10533370002320529,0.0793294308116233,-1.2209897048108995,-0.8474131221067496,0.4140503688588217,1.7235576738547156,0.2866510056446499,-1.3814385683659007,-0.43750975085760285,0.18836090635740865,0.665859181474303,-0.9483973704483861,-0.8046482102273977,1.0051984408320216,-0.6749142511199132,-1.9239795201339824,-1.1442081980896393,0.48266997736509804,0.0975543014512976,-0.1984691597006762,-0.03426534605026892,-0.297829988581982,-0.908952261148527,-0.640552122171676,2.36128954662639,-1.0401492611610879,-0.666139394408712,-1.4197630539022021,-0.22321839664823442,-0.6253401945309588,0.4621300236937175,0.4284540858073102,-1.411894453558689,-0.5203770031024622,-0.3419949085418646],\"xaxis\":\"x9\",\"y\":[1.3672431823573838,-3.1219528916298342,0.45664659886304176,-0.5756400849623312,0.26321086301622215,0.20368403916398278,-0.5338688747549704,-0.46671180155625697,-1.2088396445684164,0.29701209884441515,-0.05975273591374197,-0.08357578612941527,0.7323963232173264,0.30982320403787583,1.0189121573601516,-0.27744429169188334,0.7581448689930282,-0.86968309028437,-0.009004749293217387,-2.407560001627149,-0.12923674911093525,-1.8144553816112123,-1.1058062044135333,-0.9974421712966076,0.015229785196408977,0.8722685262126041,-1.2220225498160038,0.1993548951630531,1.304020957984012,0.8051092616191471,-0.6153777156233635,0.07914329712761964,1.5858973639162262,0.1303574550605811,-0.4274500326254631,-0.47367273259103937,1.6102229598586186,-1.549622233256524,0.21952602572435878,0.2706451447328084,-0.3434956139479138,-0.05622980819386601,-0.785672874053645,0.12189558214337343,-0.10726557680804973,0.5202707302013411,0.032937249257193775,0.5847736058133264,-0.020196157505648734,-0.6959929471544657,-0.8454487192961543,0.22586008278265896,0.26476528256834014,-1.8457808002869223,-1.5993017556140035,2.3908157138700847,0.17606542267964284,-0.9669494170417328,-0.4626543475624007,-0.18717695305071694,-0.25153927872982507,1.4015345879049936,-0.8785901734444322,-0.821724250777076,-0.36723925965907717,-0.681513350437804,-0.6276390985925588,0.32890041723736524,1.0904951899261752,1.210654241030231,0.4228896166290119,-0.8681726055082388,0.460386151293955,-1.1571199502626404,-0.41143049432801143,-0.5203654273835205,-0.11140547686233722,-0.30111239018262514,-1.6836089418767073,-0.7018835879974834,-1.4016371462343824,-1.198464106013325,-0.22338365737031157,-1.9045289244951296,0.922413835388977,2.5831533079837996,0.16392777724218283,-0.23919034327453656,2.6537316019626167,-0.12064682438994766,-1.6175818360130871,-0.7035738672273057,1.2977901200905202,1.2099729745449455,0.07611594090509306,-0.56332201438011,0.1671144686726566,-1.2679573089558116,-1.4631730551116238,-0.3691341538034559],\"yaxis\":\"y9\",\"type\":\"scatter\"},{\"line\":{\"color\":\"rgba(128, 128, 128, 1.0)\",\"dash\":\"solid\",\"shape\":\"linear\",\"width\":1.3},\"marker\":{\"size\":2,\"symbol\":\"circle\"},\"mode\":\"markers\",\"name\":\"C\",\"text\":\"\",\"x\":[-0.16301927573326747,-0.48711484848482545,-2.151495874975196,-0.654841755684685,0.6295959841572122,-0.8622360025956758,-0.7769629600854723,1.141384587800869,2.3864706479233844,0.9299078566189861,0.4555732303265823,0.32647238553721564,-0.6803360397686434,-0.8102760959813967,1.4848181818102724,0.5291945647751306,1.4353440017023873,-0.5026056619198886,-0.5800213198181711,-0.09606149483386926,-0.5768704701146251,-0.9372294832680503,-0.08510356635600864,0.37212959201504026,-1.362462924687948,0.8806989154386949,-0.8358694207263032,-0.28953059607877285,-0.5011078163710999,-0.43790828913824986,-0.6514598584332857,0.6002289489726451,0.22186817296233421,0.27994648352865514,-0.9689803349519742,1.1825509508611973,0.04780373093205452,-2.716968073246881,0.6349138266490004,0.41478390998119186,0.8246493600925106,0.4930703351281199,0.6487322832414203,-0.08336067163389263,-1.3049247995275077,1.0619952081092054,-0.7227073628981311,0.5809890622275982,1.2272849369420071,-1.510539737682553,-0.7456146006935016,-1.2750149926211962,0.20466552604659938,0.48741572091628266,1.0797839304892964,0.2896592763134485,-0.6204080623813175,0.9488442025282456,-0.8011395533914448,1.1723009064207326,0.6054895171876152,0.04816408029720471,-0.13535894381818353,-0.8965841075311023,-1.954615214342892,-0.15472804753915848,-0.9524201139436,-1.5291955641115345,1.037853825639349,0.1875096616869887,-0.5588917015575369,0.8044315841413262,-0.47554678747052664,-0.6213643969232366,-0.8184197648045224,-0.11121577771197998,0.4824724082217693,-2.032159511239236,0.6878192901007198,-0.8075923737337249,1.0440508302797218,0.1303876927045207,-1.980567271026737,0.7269021112597615,-0.9504440925098565,-0.7352991807724102,-0.22826571887397049,0.4175573994031141,0.6884329397963111,0.5481622573258714,0.6080475289579149,1.7843699428922326,1.0645184313051146,-1.2657980679905936,1.2728775711928362,-0.6676306193331588,-0.9306861770987371,1.6149963278104023,-1.2152379938641267,-0.9470164897283213],\"xaxis\":\"x10\",\"y\":[1.3672431823573838,-3.1219528916298342,0.45664659886304176,-0.5756400849623312,0.26321086301622215,0.20368403916398278,-0.5338688747549704,-0.46671180155625697,-1.2088396445684164,0.29701209884441515,-0.05975273591374197,-0.08357578612941527,0.7323963232173264,0.30982320403787583,1.0189121573601516,-0.27744429169188334,0.7581448689930282,-0.86968309028437,-0.009004749293217387,-2.407560001627149,-0.12923674911093525,-1.8144553816112123,-1.1058062044135333,-0.9974421712966076,0.015229785196408977,0.8722685262126041,-1.2220225498160038,0.1993548951630531,1.304020957984012,0.8051092616191471,-0.6153777156233635,0.07914329712761964,1.5858973639162262,0.1303574550605811,-0.4274500326254631,-0.47367273259103937,1.6102229598586186,-1.549622233256524,0.21952602572435878,0.2706451447328084,-0.3434956139479138,-0.05622980819386601,-0.785672874053645,0.12189558214337343,-0.10726557680804973,0.5202707302013411,0.032937249257193775,0.5847736058133264,-0.020196157505648734,-0.6959929471544657,-0.8454487192961543,0.22586008278265896,0.26476528256834014,-1.8457808002869223,-1.5993017556140035,2.3908157138700847,0.17606542267964284,-0.9669494170417328,-0.4626543475624007,-0.18717695305071694,-0.25153927872982507,1.4015345879049936,-0.8785901734444322,-0.821724250777076,-0.36723925965907717,-0.681513350437804,-0.6276390985925588,0.32890041723736524,1.0904951899261752,1.210654241030231,0.4228896166290119,-0.8681726055082388,0.460386151293955,-1.1571199502626404,-0.41143049432801143,-0.5203654273835205,-0.11140547686233722,-0.30111239018262514,-1.6836089418767073,-0.7018835879974834,-1.4016371462343824,-1.198464106013325,-0.22338365737031157,-1.9045289244951296,0.922413835388977,2.5831533079837996,0.16392777724218283,-0.23919034327453656,2.6537316019626167,-0.12064682438994766,-1.6175818360130871,-0.7035738672273057,1.2977901200905202,1.2099729745449455,0.07611594090509306,-0.56332201438011,0.1671144686726566,-1.2679573089558116,-1.4631730551116238,-0.3691341538034559],\"yaxis\":\"y10\",\"type\":\"scatter\"},{\"histfunc\":\"count\",\"histnorm\":\"\",\"marker\":{\"color\":\"rgba(50, 171, 96, 1.0)\",\"line\":{\"color\":\"#4D5663\",\"width\":1.3}},\"name\":\"C\",\"nbinsx\":10,\"opacity\":0.8,\"orientation\":\"v\",\"x\":[1.3672431823573838,-3.1219528916298342,0.45664659886304176,-0.5756400849623312,0.26321086301622215,0.20368403916398278,-0.5338688747549704,-0.46671180155625697,-1.2088396445684164,0.29701209884441515,-0.05975273591374197,-0.08357578612941527,0.7323963232173264,0.30982320403787583,1.0189121573601516,-0.27744429169188334,0.7581448689930282,-0.86968309028437,-0.009004749293217387,-2.407560001627149,-0.12923674911093525,-1.8144553816112123,-1.1058062044135333,-0.9974421712966076,0.015229785196408977,0.8722685262126041,-1.2220225498160038,0.1993548951630531,1.304020957984012,0.8051092616191471,-0.6153777156233635,0.07914329712761964,1.5858973639162262,0.1303574550605811,-0.4274500326254631,-0.47367273259103937,1.6102229598586186,-1.549622233256524,0.21952602572435878,0.2706451447328084,-0.3434956139479138,-0.05622980819386601,-0.785672874053645,0.12189558214337343,-0.10726557680804973,0.5202707302013411,0.032937249257193775,0.5847736058133264,-0.020196157505648734,-0.6959929471544657,-0.8454487192961543,0.22586008278265896,0.26476528256834014,-1.8457808002869223,-1.5993017556140035,2.3908157138700847,0.17606542267964284,-0.9669494170417328,-0.4626543475624007,-0.18717695305071694,-0.25153927872982507,1.4015345879049936,-0.8785901734444322,-0.821724250777076,-0.36723925965907717,-0.681513350437804,-0.6276390985925588,0.32890041723736524,1.0904951899261752,1.210654241030231,0.4228896166290119,-0.8681726055082388,0.460386151293955,-1.1571199502626404,-0.41143049432801143,-0.5203654273835205,-0.11140547686233722,-0.30111239018262514,-1.6836089418767073,-0.7018835879974834,-1.4016371462343824,-1.198464106013325,-0.22338365737031157,-1.9045289244951296,0.922413835388977,2.5831533079837996,0.16392777724218283,-0.23919034327453656,2.6537316019626167,-0.12064682438994766,-1.6175818360130871,-0.7035738672273057,1.2977901200905202,1.2099729745449455,0.07611594090509306,-0.56332201438011,0.1671144686726566,-1.2679573089558116,-1.4631730551116238,-0.3691341538034559],\"xaxis\":\"x11\",\"yaxis\":\"y11\",\"type\":\"histogram\"},{\"line\":{\"color\":\"rgba(128, 128, 128, 1.0)\",\"dash\":\"solid\",\"shape\":\"linear\",\"width\":1.3},\"marker\":{\"size\":2,\"symbol\":\"circle\"},\"mode\":\"markers\",\"name\":\"C\",\"text\":\"\",\"x\":[0.4474802242592564,0.2834063837263141,-0.7770490185487827,-0.04492980839881632,0.27009299960693095,0.008903149562862311,-0.45717750105423627,-0.48932514881148886,0.34273376144461437,3.359298674005126,0.12525255257388343,1.0492527634432405,0.9767536714034938,-1.3965234483793163,0.36922158663529275,-0.3033619382038873,-0.47655211773527106,2.1221536872359295,-0.02968677212688579,0.3053917192209469,0.3457286371599666,0.6394661871439085,-0.5732134800332948,-0.7025481174908671,0.944131945631374,-1.5215016925305056,1.0424982635673354,0.32282980989502397,0.4966648360880945,0.5927553751485347,0.1813351552883239,-1.9342706893633625,-0.11305803545009196,0.19131406053997785,-1.4443689467173215,-0.4571057016358224,-0.028694104126904582,0.3846028448279193,0.8712626714186823,0.333044013563274,2.7399527788519173,-0.46429433135988035,0.7171306015411412,0.8426235128225036,1.1218848874580638,-0.648317919096552,0.07765897327261925,-0.31015839239369747,0.9165595578034476,0.17930582022134683,0.34917932729373347,0.06691149447692568,1.2098580139457729,-0.7353834794681324,0.6575980669827997,0.8972514079789817,1.9983423698429235,-0.3451083950820109,-1.5527107787406171,-2.2135600944549703,1.0086141184033188,-2.075900904803881,-0.4915393075552051,-1.1580997209625832,1.9243321885146973,0.21997464598801975,0.5426016426740771,1.1815619340451056,-1.0965126676340762,-0.6138866145984655,1.7888401389186588,0.9929130957912348,-1.4109822106421528,-0.21785991911797598,-1.2452717391309158,-0.05910151075239766,0.052366378735798844,-0.5760428334325783,0.5090679208803346,1.6900529825852426,0.6168962904866758,0.5001867013531961,-1.0904012912269452,0.8394267452655713,0.6035190382826191,-1.3845892642933673,1.6172660479222531,1.130759407780482,0.9838128421116707,-1.2862092960650897,0.2623239284610542,-0.016782468255838946,-0.7146424100039155,0.20514193573097697,0.6001189095625172,-1.158164454539793,1.1390141806277636,-0.16838268893115318,0.10991657897069484,0.280505421663259],\"xaxis\":\"x12\",\"y\":[1.3672431823573838,-3.1219528916298342,0.45664659886304176,-0.5756400849623312,0.26321086301622215,0.20368403916398278,-0.5338688747549704,-0.46671180155625697,-1.2088396445684164,0.29701209884441515,-0.05975273591374197,-0.08357578612941527,0.7323963232173264,0.30982320403787583,1.0189121573601516,-0.27744429169188334,0.7581448689930282,-0.86968309028437,-0.009004749293217387,-2.407560001627149,-0.12923674911093525,-1.8144553816112123,-1.1058062044135333,-0.9974421712966076,0.015229785196408977,0.8722685262126041,-1.2220225498160038,0.1993548951630531,1.304020957984012,0.8051092616191471,-0.6153777156233635,0.07914329712761964,1.5858973639162262,0.1303574550605811,-0.4274500326254631,-0.47367273259103937,1.6102229598586186,-1.549622233256524,0.21952602572435878,0.2706451447328084,-0.3434956139479138,-0.05622980819386601,-0.785672874053645,0.12189558214337343,-0.10726557680804973,0.5202707302013411,0.032937249257193775,0.5847736058133264,-0.020196157505648734,-0.6959929471544657,-0.8454487192961543,0.22586008278265896,0.26476528256834014,-1.8457808002869223,-1.5993017556140035,2.3908157138700847,0.17606542267964284,-0.9669494170417328,-0.4626543475624007,-0.18717695305071694,-0.25153927872982507,1.4015345879049936,-0.8785901734444322,-0.821724250777076,-0.36723925965907717,-0.681513350437804,-0.6276390985925588,0.32890041723736524,1.0904951899261752,1.210654241030231,0.4228896166290119,-0.8681726055082388,0.460386151293955,-1.1571199502626404,-0.41143049432801143,-0.5203654273835205,-0.11140547686233722,-0.30111239018262514,-1.6836089418767073,-0.7018835879974834,-1.4016371462343824,-1.198464106013325,-0.22338365737031157,-1.9045289244951296,0.922413835388977,2.5831533079837996,0.16392777724218283,-0.23919034327453656,2.6537316019626167,-0.12064682438994766,-1.6175818360130871,-0.7035738672273057,1.2977901200905202,1.2099729745449455,0.07611594090509306,-0.56332201438011,0.1671144686726566,-1.2679573089558116,-1.4631730551116238,-0.3691341538034559],\"yaxis\":\"y12\",\"type\":\"scatter\"},{\"line\":{\"color\":\"rgba(128, 128, 128, 1.0)\",\"dash\":\"solid\",\"shape\":\"linear\",\"width\":1.3},\"marker\":{\"size\":2,\"symbol\":\"circle\"},\"mode\":\"markers\",\"name\":\"D\",\"text\":\"\",\"x\":[-1.5744069188809882,0.2919965937061701,-0.20987911018127825,1.4072243870576893,0.5984723796355707,-0.2744220558333609,0.017729177103530606,-1.4785228691304597,0.45485788895139434,0.7817522785186537,0.6158030135086989,0.20802408355881027,-0.9111899216311535,-0.5382498735341864,2.2762676193980482,-1.3159624487677273,-0.06275163823087321,-0.4815939833334281,0.24651562164010077,0.5128628101495492,-0.2088905846667024,-0.37961744382809437,-1.3750740367784493,-0.1440449218155529,-0.6913576335249373,-0.8765044012890313,1.5299431347988888,0.3492702609917798,0.8632771989810265,0.2599651123227867,-0.7226945310100287,-0.5214214959940227,-0.6701981378685836,-1.6376029981808569,-1.1005326319176798,-2.0990592385751654,0.9648940123270464,-0.7199413985460938,0.09503131401757643,-0.5629431738077807,1.0803145448231073,0.8972983341827394,1.8248328731964814,-1.0171487169752407,-0.10207657386959489,-0.9962484521182952,-0.2958514481504522,-0.8607863376679893,0.2860450974872978,-0.9935693485120408,-0.39627560768952946,0.8951387380632714,-1.5007119405734002,0.07588767461740342,-0.22972784324619358,1.1166806807792315,-0.6412361428214182,1.4433582217204095,0.8313925941737207,-1.2607458874475315,-0.5179577520575765,0.2942700620890089,1.4727361516699482,0.17341433018348343,-1.0770753575548573,0.10533370002320529,0.0793294308116233,-1.2209897048108995,-0.8474131221067496,0.4140503688588217,1.7235576738547156,0.2866510056446499,-1.3814385683659007,-0.43750975085760285,0.18836090635740865,0.665859181474303,-0.9483973704483861,-0.8046482102273977,1.0051984408320216,-0.6749142511199132,-1.9239795201339824,-1.1442081980896393,0.48266997736509804,0.0975543014512976,-0.1984691597006762,-0.03426534605026892,-0.297829988581982,-0.908952261148527,-0.640552122171676,2.36128954662639,-1.0401492611610879,-0.666139394408712,-1.4197630539022021,-0.22321839664823442,-0.6253401945309588,0.4621300236937175,0.4284540858073102,-1.411894453558689,-0.5203770031024622,-0.3419949085418646],\"xaxis\":\"x13\",\"y\":[0.4474802242592564,0.2834063837263141,-0.7770490185487827,-0.04492980839881632,0.27009299960693095,0.008903149562862311,-0.45717750105423627,-0.48932514881148886,0.34273376144461437,3.359298674005126,0.12525255257388343,1.0492527634432405,0.9767536714034938,-1.3965234483793163,0.36922158663529275,-0.3033619382038873,-0.47655211773527106,2.1221536872359295,-0.02968677212688579,0.3053917192209469,0.3457286371599666,0.6394661871439085,-0.5732134800332948,-0.7025481174908671,0.944131945631374,-1.5215016925305056,1.0424982635673354,0.32282980989502397,0.4966648360880945,0.5927553751485347,0.1813351552883239,-1.9342706893633625,-0.11305803545009196,0.19131406053997785,-1.4443689467173215,-0.4571057016358224,-0.028694104126904582,0.3846028448279193,0.8712626714186823,0.333044013563274,2.7399527788519173,-0.46429433135988035,0.7171306015411412,0.8426235128225036,1.1218848874580638,-0.648317919096552,0.07765897327261925,-0.31015839239369747,0.9165595578034476,0.17930582022134683,0.34917932729373347,0.06691149447692568,1.2098580139457729,-0.7353834794681324,0.6575980669827997,0.8972514079789817,1.9983423698429235,-0.3451083950820109,-1.5527107787406171,-2.2135600944549703,1.0086141184033188,-2.075900904803881,-0.4915393075552051,-1.1580997209625832,1.9243321885146973,0.21997464598801975,0.5426016426740771,1.1815619340451056,-1.0965126676340762,-0.6138866145984655,1.7888401389186588,0.9929130957912348,-1.4109822106421528,-0.21785991911797598,-1.2452717391309158,-0.05910151075239766,0.052366378735798844,-0.5760428334325783,0.5090679208803346,1.6900529825852426,0.6168962904866758,0.5001867013531961,-1.0904012912269452,0.8394267452655713,0.6035190382826191,-1.3845892642933673,1.6172660479222531,1.130759407780482,0.9838128421116707,-1.2862092960650897,0.2623239284610542,-0.016782468255838946,-0.7146424100039155,0.20514193573097697,0.6001189095625172,-1.158164454539793,1.1390141806277636,-0.16838268893115318,0.10991657897069484,0.280505421663259],\"yaxis\":\"y13\",\"type\":\"scatter\"},{\"line\":{\"color\":\"rgba(128, 128, 128, 1.0)\",\"dash\":\"solid\",\"shape\":\"linear\",\"width\":1.3},\"marker\":{\"size\":2,\"symbol\":\"circle\"},\"mode\":\"markers\",\"name\":\"D\",\"text\":\"\",\"x\":[-0.16301927573326747,-0.48711484848482545,-2.151495874975196,-0.654841755684685,0.6295959841572122,-0.8622360025956758,-0.7769629600854723,1.141384587800869,2.3864706479233844,0.9299078566189861,0.4555732303265823,0.32647238553721564,-0.6803360397686434,-0.8102760959813967,1.4848181818102724,0.5291945647751306,1.4353440017023873,-0.5026056619198886,-0.5800213198181711,-0.09606149483386926,-0.5768704701146251,-0.9372294832680503,-0.08510356635600864,0.37212959201504026,-1.362462924687948,0.8806989154386949,-0.8358694207263032,-0.28953059607877285,-0.5011078163710999,-0.43790828913824986,-0.6514598584332857,0.6002289489726451,0.22186817296233421,0.27994648352865514,-0.9689803349519742,1.1825509508611973,0.04780373093205452,-2.716968073246881,0.6349138266490004,0.41478390998119186,0.8246493600925106,0.4930703351281199,0.6487322832414203,-0.08336067163389263,-1.3049247995275077,1.0619952081092054,-0.7227073628981311,0.5809890622275982,1.2272849369420071,-1.510539737682553,-0.7456146006935016,-1.2750149926211962,0.20466552604659938,0.48741572091628266,1.0797839304892964,0.2896592763134485,-0.6204080623813175,0.9488442025282456,-0.8011395533914448,1.1723009064207326,0.6054895171876152,0.04816408029720471,-0.13535894381818353,-0.8965841075311023,-1.954615214342892,-0.15472804753915848,-0.9524201139436,-1.5291955641115345,1.037853825639349,0.1875096616869887,-0.5588917015575369,0.8044315841413262,-0.47554678747052664,-0.6213643969232366,-0.8184197648045224,-0.11121577771197998,0.4824724082217693,-2.032159511239236,0.6878192901007198,-0.8075923737337249,1.0440508302797218,0.1303876927045207,-1.980567271026737,0.7269021112597615,-0.9504440925098565,-0.7352991807724102,-0.22826571887397049,0.4175573994031141,0.6884329397963111,0.5481622573258714,0.6080475289579149,1.7843699428922326,1.0645184313051146,-1.2657980679905936,1.2728775711928362,-0.6676306193331588,-0.9306861770987371,1.6149963278104023,-1.2152379938641267,-0.9470164897283213],\"xaxis\":\"x14\",\"y\":[0.4474802242592564,0.2834063837263141,-0.7770490185487827,-0.04492980839881632,0.27009299960693095,0.008903149562862311,-0.45717750105423627,-0.48932514881148886,0.34273376144461437,3.359298674005126,0.12525255257388343,1.0492527634432405,0.9767536714034938,-1.3965234483793163,0.36922158663529275,-0.3033619382038873,-0.47655211773527106,2.1221536872359295,-0.02968677212688579,0.3053917192209469,0.3457286371599666,0.6394661871439085,-0.5732134800332948,-0.7025481174908671,0.944131945631374,-1.5215016925305056,1.0424982635673354,0.32282980989502397,0.4966648360880945,0.5927553751485347,0.1813351552883239,-1.9342706893633625,-0.11305803545009196,0.19131406053997785,-1.4443689467173215,-0.4571057016358224,-0.028694104126904582,0.3846028448279193,0.8712626714186823,0.333044013563274,2.7399527788519173,-0.46429433135988035,0.7171306015411412,0.8426235128225036,1.1218848874580638,-0.648317919096552,0.07765897327261925,-0.31015839239369747,0.9165595578034476,0.17930582022134683,0.34917932729373347,0.06691149447692568,1.2098580139457729,-0.7353834794681324,0.6575980669827997,0.8972514079789817,1.9983423698429235,-0.3451083950820109,-1.5527107787406171,-2.2135600944549703,1.0086141184033188,-2.075900904803881,-0.4915393075552051,-1.1580997209625832,1.9243321885146973,0.21997464598801975,0.5426016426740771,1.1815619340451056,-1.0965126676340762,-0.6138866145984655,1.7888401389186588,0.9929130957912348,-1.4109822106421528,-0.21785991911797598,-1.2452717391309158,-0.05910151075239766,0.052366378735798844,-0.5760428334325783,0.5090679208803346,1.6900529825852426,0.6168962904866758,0.5001867013531961,-1.0904012912269452,0.8394267452655713,0.6035190382826191,-1.3845892642933673,1.6172660479222531,1.130759407780482,0.9838128421116707,-1.2862092960650897,0.2623239284610542,-0.016782468255838946,-0.7146424100039155,0.20514193573097697,0.6001189095625172,-1.158164454539793,1.1390141806277636,-0.16838268893115318,0.10991657897069484,0.280505421663259],\"yaxis\":\"y14\",\"type\":\"scatter\"},{\"line\":{\"color\":\"rgba(128, 128, 128, 1.0)\",\"dash\":\"solid\",\"shape\":\"linear\",\"width\":1.3},\"marker\":{\"size\":2,\"symbol\":\"circle\"},\"mode\":\"markers\",\"name\":\"D\",\"text\":\"\",\"x\":[1.3672431823573838,-3.1219528916298342,0.45664659886304176,-0.5756400849623312,0.26321086301622215,0.20368403916398278,-0.5338688747549704,-0.46671180155625697,-1.2088396445684164,0.29701209884441515,-0.05975273591374197,-0.08357578612941527,0.7323963232173264,0.30982320403787583,1.0189121573601516,-0.27744429169188334,0.7581448689930282,-0.86968309028437,-0.009004749293217387,-2.407560001627149,-0.12923674911093525,-1.8144553816112123,-1.1058062044135333,-0.9974421712966076,0.015229785196408977,0.8722685262126041,-1.2220225498160038,0.1993548951630531,1.304020957984012,0.8051092616191471,-0.6153777156233635,0.07914329712761964,1.5858973639162262,0.1303574550605811,-0.4274500326254631,-0.47367273259103937,1.6102229598586186,-1.549622233256524,0.21952602572435878,0.2706451447328084,-0.3434956139479138,-0.05622980819386601,-0.785672874053645,0.12189558214337343,-0.10726557680804973,0.5202707302013411,0.032937249257193775,0.5847736058133264,-0.020196157505648734,-0.6959929471544657,-0.8454487192961543,0.22586008278265896,0.26476528256834014,-1.8457808002869223,-1.5993017556140035,2.3908157138700847,0.17606542267964284,-0.9669494170417328,-0.4626543475624007,-0.18717695305071694,-0.25153927872982507,1.4015345879049936,-0.8785901734444322,-0.821724250777076,-0.36723925965907717,-0.681513350437804,-0.6276390985925588,0.32890041723736524,1.0904951899261752,1.210654241030231,0.4228896166290119,-0.8681726055082388,0.460386151293955,-1.1571199502626404,-0.41143049432801143,-0.5203654273835205,-0.11140547686233722,-0.30111239018262514,-1.6836089418767073,-0.7018835879974834,-1.4016371462343824,-1.198464106013325,-0.22338365737031157,-1.9045289244951296,0.922413835388977,2.5831533079837996,0.16392777724218283,-0.23919034327453656,2.6537316019626167,-0.12064682438994766,-1.6175818360130871,-0.7035738672273057,1.2977901200905202,1.2099729745449455,0.07611594090509306,-0.56332201438011,0.1671144686726566,-1.2679573089558116,-1.4631730551116238,-0.3691341538034559],\"xaxis\":\"x15\",\"y\":[0.4474802242592564,0.2834063837263141,-0.7770490185487827,-0.04492980839881632,0.27009299960693095,0.008903149562862311,-0.45717750105423627,-0.48932514881148886,0.34273376144461437,3.359298674005126,0.12525255257388343,1.0492527634432405,0.9767536714034938,-1.3965234483793163,0.36922158663529275,-0.3033619382038873,-0.47655211773527106,2.1221536872359295,-0.02968677212688579,0.3053917192209469,0.3457286371599666,0.6394661871439085,-0.5732134800332948,-0.7025481174908671,0.944131945631374,-1.5215016925305056,1.0424982635673354,0.32282980989502397,0.4966648360880945,0.5927553751485347,0.1813351552883239,-1.9342706893633625,-0.11305803545009196,0.19131406053997785,-1.4443689467173215,-0.4571057016358224,-0.028694104126904582,0.3846028448279193,0.8712626714186823,0.333044013563274,2.7399527788519173,-0.46429433135988035,0.7171306015411412,0.8426235128225036,1.1218848874580638,-0.648317919096552,0.07765897327261925,-0.31015839239369747,0.9165595578034476,0.17930582022134683,0.34917932729373347,0.06691149447692568,1.2098580139457729,-0.7353834794681324,0.6575980669827997,0.8972514079789817,1.9983423698429235,-0.3451083950820109,-1.5527107787406171,-2.2135600944549703,1.0086141184033188,-2.075900904803881,-0.4915393075552051,-1.1580997209625832,1.9243321885146973,0.21997464598801975,0.5426016426740771,1.1815619340451056,-1.0965126676340762,-0.6138866145984655,1.7888401389186588,0.9929130957912348,-1.4109822106421528,-0.21785991911797598,-1.2452717391309158,-0.05910151075239766,0.052366378735798844,-0.5760428334325783,0.5090679208803346,1.6900529825852426,0.6168962904866758,0.5001867013531961,-1.0904012912269452,0.8394267452655713,0.6035190382826191,-1.3845892642933673,1.6172660479222531,1.130759407780482,0.9838128421116707,-1.2862092960650897,0.2623239284610542,-0.016782468255838946,-0.7146424100039155,0.20514193573097697,0.6001189095625172,-1.158164454539793,1.1390141806277636,-0.16838268893115318,0.10991657897069484,0.280505421663259],\"yaxis\":\"y15\",\"type\":\"scatter\"},{\"histfunc\":\"count\",\"histnorm\":\"\",\"marker\":{\"color\":\"rgba(128, 0, 128, 1.0)\",\"line\":{\"color\":\"#4D5663\",\"width\":1.3}},\"name\":\"D\",\"nbinsx\":10,\"opacity\":0.8,\"orientation\":\"v\",\"x\":[0.4474802242592564,0.2834063837263141,-0.7770490185487827,-0.04492980839881632,0.27009299960693095,0.008903149562862311,-0.45717750105423627,-0.48932514881148886,0.34273376144461437,3.359298674005126,0.12525255257388343,1.0492527634432405,0.9767536714034938,-1.3965234483793163,0.36922158663529275,-0.3033619382038873,-0.47655211773527106,2.1221536872359295,-0.02968677212688579,0.3053917192209469,0.3457286371599666,0.6394661871439085,-0.5732134800332948,-0.7025481174908671,0.944131945631374,-1.5215016925305056,1.0424982635673354,0.32282980989502397,0.4966648360880945,0.5927553751485347,0.1813351552883239,-1.9342706893633625,-0.11305803545009196,0.19131406053997785,-1.4443689467173215,-0.4571057016358224,-0.028694104126904582,0.3846028448279193,0.8712626714186823,0.333044013563274,2.7399527788519173,-0.46429433135988035,0.7171306015411412,0.8426235128225036,1.1218848874580638,-0.648317919096552,0.07765897327261925,-0.31015839239369747,0.9165595578034476,0.17930582022134683,0.34917932729373347,0.06691149447692568,1.2098580139457729,-0.7353834794681324,0.6575980669827997,0.8972514079789817,1.9983423698429235,-0.3451083950820109,-1.5527107787406171,-2.2135600944549703,1.0086141184033188,-2.075900904803881,-0.4915393075552051,-1.1580997209625832,1.9243321885146973,0.21997464598801975,0.5426016426740771,1.1815619340451056,-1.0965126676340762,-0.6138866145984655,1.7888401389186588,0.9929130957912348,-1.4109822106421528,-0.21785991911797598,-1.2452717391309158,-0.05910151075239766,0.052366378735798844,-0.5760428334325783,0.5090679208803346,1.6900529825852426,0.6168962904866758,0.5001867013531961,-1.0904012912269452,0.8394267452655713,0.6035190382826191,-1.3845892642933673,1.6172660479222531,1.130759407780482,0.9838128421116707,-1.2862092960650897,0.2623239284610542,-0.016782468255838946,-0.7146424100039155,0.20514193573097697,0.6001189095625172,-1.158164454539793,1.1390141806277636,-0.16838268893115318,0.10991657897069484,0.280505421663259],\"xaxis\":\"x16\",\"yaxis\":\"y16\",\"type\":\"histogram\"}],                        {\"bargap\":0.02,\"legend\":{\"bgcolor\":\"#F5F6F9\",\"font\":{\"color\":\"#4D5663\"}},\"paper_bgcolor\":\"#F5F6F9\",\"plot_bgcolor\":\"#F5F6F9\",\"showlegend\":false,\"template\":{\"data\":{\"barpolar\":[{\"marker\":{\"line\":{\"color\":\"#E5ECF6\",\"width\":0.5},\"pattern\":{\"fillmode\":\"overlay\",\"size\":10,\"solidity\":0.2}},\"type\":\"barpolar\"}],\"bar\":[{\"error_x\":{\"color\":\"#2a3f5f\"},\"error_y\":{\"color\":\"#2a3f5f\"},\"marker\":{\"line\":{\"color\":\"#E5ECF6\",\"width\":0.5},\"pattern\":{\"fillmode\":\"overlay\",\"size\":10,\"solidity\":0.2}},\"type\":\"bar\"}],\"carpet\":[{\"aaxis\":{\"endlinecolor\":\"#2a3f5f\",\"gridcolor\":\"white\",\"linecolor\":\"white\",\"minorgridcolor\":\"white\",\"startlinecolor\":\"#2a3f5f\"},\"baxis\":{\"endlinecolor\":\"#2a3f5f\",\"gridcolor\":\"white\",\"linecolor\":\"white\",\"minorgridcolor\":\"white\",\"startlinecolor\":\"#2a3f5f\"},\"type\":\"carpet\"}],\"choropleth\":[{\"colorbar\":{\"outlinewidth\":0,\"ticks\":\"\"},\"type\":\"choropleth\"}],\"contourcarpet\":[{\"colorbar\":{\"outlinewidth\":0,\"ticks\":\"\"},\"type\":\"contourcarpet\"}],\"contour\":[{\"colorbar\":{\"outlinewidth\":0,\"ticks\":\"\"},\"colorscale\":[[0.0,\"#0d0887\"],[0.1111111111111111,\"#46039f\"],[0.2222222222222222,\"#7201a8\"],[0.3333333333333333,\"#9c179e\"],[0.4444444444444444,\"#bd3786\"],[0.5555555555555556,\"#d8576b\"],[0.6666666666666666,\"#ed7953\"],[0.7777777777777778,\"#fb9f3a\"],[0.8888888888888888,\"#fdca26\"],[1.0,\"#f0f921\"]],\"type\":\"contour\"}],\"heatmapgl\":[{\"colorbar\":{\"outlinewidth\":0,\"ticks\":\"\"},\"colorscale\":[[0.0,\"#0d0887\"],[0.1111111111111111,\"#46039f\"],[0.2222222222222222,\"#7201a8\"],[0.3333333333333333,\"#9c179e\"],[0.4444444444444444,\"#bd3786\"],[0.5555555555555556,\"#d8576b\"],[0.6666666666666666,\"#ed7953\"],[0.7777777777777778,\"#fb9f3a\"],[0.8888888888888888,\"#fdca26\"],[1.0,\"#f0f921\"]],\"type\":\"heatmapgl\"}],\"heatmap\":[{\"colorbar\":{\"outlinewidth\":0,\"ticks\":\"\"},\"colorscale\":[[0.0,\"#0d0887\"],[0.1111111111111111,\"#46039f\"],[0.2222222222222222,\"#7201a8\"],[0.3333333333333333,\"#9c179e\"],[0.4444444444444444,\"#bd3786\"],[0.5555555555555556,\"#d8576b\"],[0.6666666666666666,\"#ed7953\"],[0.7777777777777778,\"#fb9f3a\"],[0.8888888888888888,\"#fdca26\"],[1.0,\"#f0f921\"]],\"type\":\"heatmap\"}],\"histogram2dcontour\":[{\"colorbar\":{\"outlinewidth\":0,\"ticks\":\"\"},\"colorscale\":[[0.0,\"#0d0887\"],[0.1111111111111111,\"#46039f\"],[0.2222222222222222,\"#7201a8\"],[0.3333333333333333,\"#9c179e\"],[0.4444444444444444,\"#bd3786\"],[0.5555555555555556,\"#d8576b\"],[0.6666666666666666,\"#ed7953\"],[0.7777777777777778,\"#fb9f3a\"],[0.8888888888888888,\"#fdca26\"],[1.0,\"#f0f921\"]],\"type\":\"histogram2dcontour\"}],\"histogram2d\":[{\"colorbar\":{\"outlinewidth\":0,\"ticks\":\"\"},\"colorscale\":[[0.0,\"#0d0887\"],[0.1111111111111111,\"#46039f\"],[0.2222222222222222,\"#7201a8\"],[0.3333333333333333,\"#9c179e\"],[0.4444444444444444,\"#bd3786\"],[0.5555555555555556,\"#d8576b\"],[0.6666666666666666,\"#ed7953\"],[0.7777777777777778,\"#fb9f3a\"],[0.8888888888888888,\"#fdca26\"],[1.0,\"#f0f921\"]],\"type\":\"histogram2d\"}],\"histogram\":[{\"marker\":{\"pattern\":{\"fillmode\":\"overlay\",\"size\":10,\"solidity\":0.2}},\"type\":\"histogram\"}],\"mesh3d\":[{\"colorbar\":{\"outlinewidth\":0,\"ticks\":\"\"},\"type\":\"mesh3d\"}],\"parcoords\":[{\"line\":{\"colorbar\":{\"outlinewidth\":0,\"ticks\":\"\"}},\"type\":\"parcoords\"}],\"pie\":[{\"automargin\":true,\"type\":\"pie\"}],\"scatter3d\":[{\"line\":{\"colorbar\":{\"outlinewidth\":0,\"ticks\":\"\"}},\"marker\":{\"colorbar\":{\"outlinewidth\":0,\"ticks\":\"\"}},\"type\":\"scatter3d\"}],\"scattercarpet\":[{\"marker\":{\"colorbar\":{\"outlinewidth\":0,\"ticks\":\"\"}},\"type\":\"scattercarpet\"}],\"scattergeo\":[{\"marker\":{\"colorbar\":{\"outlinewidth\":0,\"ticks\":\"\"}},\"type\":\"scattergeo\"}],\"scattergl\":[{\"marker\":{\"colorbar\":{\"outlinewidth\":0,\"ticks\":\"\"}},\"type\":\"scattergl\"}],\"scattermapbox\":[{\"marker\":{\"colorbar\":{\"outlinewidth\":0,\"ticks\":\"\"}},\"type\":\"scattermapbox\"}],\"scatterpolargl\":[{\"marker\":{\"colorbar\":{\"outlinewidth\":0,\"ticks\":\"\"}},\"type\":\"scatterpolargl\"}],\"scatterpolar\":[{\"marker\":{\"colorbar\":{\"outlinewidth\":0,\"ticks\":\"\"}},\"type\":\"scatterpolar\"}],\"scatter\":[{\"fillpattern\":{\"fillmode\":\"overlay\",\"size\":10,\"solidity\":0.2},\"type\":\"scatter\"}],\"scatterternary\":[{\"marker\":{\"colorbar\":{\"outlinewidth\":0,\"ticks\":\"\"}},\"type\":\"scatterternary\"}],\"surface\":[{\"colorbar\":{\"outlinewidth\":0,\"ticks\":\"\"},\"colorscale\":[[0.0,\"#0d0887\"],[0.1111111111111111,\"#46039f\"],[0.2222222222222222,\"#7201a8\"],[0.3333333333333333,\"#9c179e\"],[0.4444444444444444,\"#bd3786\"],[0.5555555555555556,\"#d8576b\"],[0.6666666666666666,\"#ed7953\"],[0.7777777777777778,\"#fb9f3a\"],[0.8888888888888888,\"#fdca26\"],[1.0,\"#f0f921\"]],\"type\":\"surface\"}],\"table\":[{\"cells\":{\"fill\":{\"color\":\"#EBF0F8\"},\"line\":{\"color\":\"white\"}},\"header\":{\"fill\":{\"color\":\"#C8D4E3\"},\"line\":{\"color\":\"white\"}},\"type\":\"table\"}]},\"layout\":{\"annotationdefaults\":{\"arrowcolor\":\"#2a3f5f\",\"arrowhead\":0,\"arrowwidth\":1},\"autotypenumbers\":\"strict\",\"coloraxis\":{\"colorbar\":{\"outlinewidth\":0,\"ticks\":\"\"}},\"colorscale\":{\"diverging\":[[0,\"#8e0152\"],[0.1,\"#c51b7d\"],[0.2,\"#de77ae\"],[0.3,\"#f1b6da\"],[0.4,\"#fde0ef\"],[0.5,\"#f7f7f7\"],[0.6,\"#e6f5d0\"],[0.7,\"#b8e186\"],[0.8,\"#7fbc41\"],[0.9,\"#4d9221\"],[1,\"#276419\"]],\"sequential\":[[0.0,\"#0d0887\"],[0.1111111111111111,\"#46039f\"],[0.2222222222222222,\"#7201a8\"],[0.3333333333333333,\"#9c179e\"],[0.4444444444444444,\"#bd3786\"],[0.5555555555555556,\"#d8576b\"],[0.6666666666666666,\"#ed7953\"],[0.7777777777777778,\"#fb9f3a\"],[0.8888888888888888,\"#fdca26\"],[1.0,\"#f0f921\"]],\"sequentialminus\":[[0.0,\"#0d0887\"],[0.1111111111111111,\"#46039f\"],[0.2222222222222222,\"#7201a8\"],[0.3333333333333333,\"#9c179e\"],[0.4444444444444444,\"#bd3786\"],[0.5555555555555556,\"#d8576b\"],[0.6666666666666666,\"#ed7953\"],[0.7777777777777778,\"#fb9f3a\"],[0.8888888888888888,\"#fdca26\"],[1.0,\"#f0f921\"]]},\"colorway\":[\"#636efa\",\"#EF553B\",\"#00cc96\",\"#ab63fa\",\"#FFA15A\",\"#19d3f3\",\"#FF6692\",\"#B6E880\",\"#FF97FF\",\"#FECB52\"],\"font\":{\"color\":\"#2a3f5f\"},\"geo\":{\"bgcolor\":\"white\",\"lakecolor\":\"white\",\"landcolor\":\"#E5ECF6\",\"showlakes\":true,\"showland\":true,\"subunitcolor\":\"white\"},\"hoverlabel\":{\"align\":\"left\"},\"hovermode\":\"closest\",\"mapbox\":{\"style\":\"light\"},\"paper_bgcolor\":\"white\",\"plot_bgcolor\":\"#E5ECF6\",\"polar\":{\"angularaxis\":{\"gridcolor\":\"white\",\"linecolor\":\"white\",\"ticks\":\"\"},\"bgcolor\":\"#E5ECF6\",\"radialaxis\":{\"gridcolor\":\"white\",\"linecolor\":\"white\",\"ticks\":\"\"}},\"scene\":{\"xaxis\":{\"backgroundcolor\":\"#E5ECF6\",\"gridcolor\":\"white\",\"gridwidth\":2,\"linecolor\":\"white\",\"showbackground\":true,\"ticks\":\"\",\"zerolinecolor\":\"white\"},\"yaxis\":{\"backgroundcolor\":\"#E5ECF6\",\"gridcolor\":\"white\",\"gridwidth\":2,\"linecolor\":\"white\",\"showbackground\":true,\"ticks\":\"\",\"zerolinecolor\":\"white\"},\"zaxis\":{\"backgroundcolor\":\"#E5ECF6\",\"gridcolor\":\"white\",\"gridwidth\":2,\"linecolor\":\"white\",\"showbackground\":true,\"ticks\":\"\",\"zerolinecolor\":\"white\"}},\"shapedefaults\":{\"line\":{\"color\":\"#2a3f5f\"}},\"ternary\":{\"aaxis\":{\"gridcolor\":\"white\",\"linecolor\":\"white\",\"ticks\":\"\"},\"baxis\":{\"gridcolor\":\"white\",\"linecolor\":\"white\",\"ticks\":\"\"},\"bgcolor\":\"#E5ECF6\",\"caxis\":{\"gridcolor\":\"white\",\"linecolor\":\"white\",\"ticks\":\"\"}},\"title\":{\"x\":0.05},\"xaxis\":{\"automargin\":true,\"gridcolor\":\"white\",\"linecolor\":\"white\",\"ticks\":\"\",\"title\":{\"standoff\":15},\"zerolinecolor\":\"white\",\"zerolinewidth\":2},\"yaxis\":{\"automargin\":true,\"gridcolor\":\"white\",\"linecolor\":\"white\",\"ticks\":\"\",\"title\":{\"standoff\":15},\"zerolinecolor\":\"white\",\"zerolinewidth\":2}}},\"title\":{\"font\":{\"color\":\"#4D5663\"}},\"xaxis\":{\"anchor\":\"y\",\"domain\":[0.0,0.2125],\"gridcolor\":\"#E1E5ED\",\"showgrid\":false,\"tickfont\":{\"color\":\"#4D5663\"},\"title\":{\"font\":{\"color\":\"#4D5663\"},\"text\":\"\"},\"zerolinecolor\":\"#E1E5ED\"},\"yaxis\":{\"anchor\":\"x\",\"domain\":[0.8025,1.0],\"gridcolor\":\"#E1E5ED\",\"showgrid\":false,\"tickfont\":{\"color\":\"#4D5663\"},\"title\":{\"font\":{\"color\":\"#4D5663\"},\"text\":\"\"},\"zerolinecolor\":\"#E1E5ED\"},\"xaxis2\":{\"anchor\":\"y2\",\"domain\":[0.2625,0.475],\"gridcolor\":\"#E1E5ED\",\"showgrid\":false,\"tickfont\":{\"color\":\"#4D5663\"},\"title\":{\"font\":{\"color\":\"#4D5663\"},\"text\":\"\"},\"zerolinecolor\":\"#E1E5ED\"},\"yaxis2\":{\"anchor\":\"x2\",\"domain\":[0.8025,1.0],\"gridcolor\":\"#E1E5ED\",\"showgrid\":false,\"tickfont\":{\"color\":\"#4D5663\"},\"title\":{\"font\":{\"color\":\"#4D5663\"},\"text\":\"\"},\"zerolinecolor\":\"#E1E5ED\"},\"xaxis3\":{\"anchor\":\"y3\",\"domain\":[0.525,0.7375],\"gridcolor\":\"#E1E5ED\",\"showgrid\":false,\"tickfont\":{\"color\":\"#4D5663\"},\"title\":{\"font\":{\"color\":\"#4D5663\"},\"text\":\"\"},\"zerolinecolor\":\"#E1E5ED\"},\"yaxis3\":{\"anchor\":\"x3\",\"domain\":[0.8025,1.0],\"gridcolor\":\"#E1E5ED\",\"showgrid\":false,\"tickfont\":{\"color\":\"#4D5663\"},\"title\":{\"font\":{\"color\":\"#4D5663\"},\"text\":\"\"},\"zerolinecolor\":\"#E1E5ED\"},\"xaxis4\":{\"anchor\":\"y4\",\"domain\":[0.7875,1.0],\"gridcolor\":\"#E1E5ED\",\"showgrid\":false,\"tickfont\":{\"color\":\"#4D5663\"},\"title\":{\"font\":{\"color\":\"#4D5663\"},\"text\":\"\"},\"zerolinecolor\":\"#E1E5ED\"},\"yaxis4\":{\"anchor\":\"x4\",\"domain\":[0.8025,1.0],\"gridcolor\":\"#E1E5ED\",\"showgrid\":false,\"tickfont\":{\"color\":\"#4D5663\"},\"title\":{\"font\":{\"color\":\"#4D5663\"},\"text\":\"\"},\"zerolinecolor\":\"#E1E5ED\"},\"xaxis5\":{\"anchor\":\"y5\",\"domain\":[0.0,0.2125],\"gridcolor\":\"#E1E5ED\",\"showgrid\":false,\"tickfont\":{\"color\":\"#4D5663\"},\"title\":{\"font\":{\"color\":\"#4D5663\"},\"text\":\"\"},\"zerolinecolor\":\"#E1E5ED\"},\"yaxis5\":{\"anchor\":\"x5\",\"domain\":[0.535,0.7325],\"gridcolor\":\"#E1E5ED\",\"showgrid\":false,\"tickfont\":{\"color\":\"#4D5663\"},\"title\":{\"font\":{\"color\":\"#4D5663\"},\"text\":\"\"},\"zerolinecolor\":\"#E1E5ED\"},\"xaxis6\":{\"anchor\":\"y6\",\"domain\":[0.2625,0.475],\"gridcolor\":\"#E1E5ED\",\"showgrid\":false,\"tickfont\":{\"color\":\"#4D5663\"},\"title\":{\"font\":{\"color\":\"#4D5663\"},\"text\":\"\"},\"zerolinecolor\":\"#E1E5ED\"},\"yaxis6\":{\"anchor\":\"x6\",\"domain\":[0.535,0.7325],\"gridcolor\":\"#E1E5ED\",\"showgrid\":false,\"tickfont\":{\"color\":\"#4D5663\"},\"title\":{\"font\":{\"color\":\"#4D5663\"},\"text\":\"\"},\"zerolinecolor\":\"#E1E5ED\"},\"xaxis7\":{\"anchor\":\"y7\",\"domain\":[0.525,0.7375],\"gridcolor\":\"#E1E5ED\",\"showgrid\":false,\"tickfont\":{\"color\":\"#4D5663\"},\"title\":{\"font\":{\"color\":\"#4D5663\"},\"text\":\"\"},\"zerolinecolor\":\"#E1E5ED\"},\"yaxis7\":{\"anchor\":\"x7\",\"domain\":[0.535,0.7325],\"gridcolor\":\"#E1E5ED\",\"showgrid\":false,\"tickfont\":{\"color\":\"#4D5663\"},\"title\":{\"font\":{\"color\":\"#4D5663\"},\"text\":\"\"},\"zerolinecolor\":\"#E1E5ED\"},\"xaxis8\":{\"anchor\":\"y8\",\"domain\":[0.7875,1.0],\"gridcolor\":\"#E1E5ED\",\"showgrid\":false,\"tickfont\":{\"color\":\"#4D5663\"},\"title\":{\"font\":{\"color\":\"#4D5663\"},\"text\":\"\"},\"zerolinecolor\":\"#E1E5ED\"},\"yaxis8\":{\"anchor\":\"x8\",\"domain\":[0.535,0.7325],\"gridcolor\":\"#E1E5ED\",\"showgrid\":false,\"tickfont\":{\"color\":\"#4D5663\"},\"title\":{\"font\":{\"color\":\"#4D5663\"},\"text\":\"\"},\"zerolinecolor\":\"#E1E5ED\"},\"xaxis9\":{\"anchor\":\"y9\",\"domain\":[0.0,0.2125],\"gridcolor\":\"#E1E5ED\",\"showgrid\":false,\"tickfont\":{\"color\":\"#4D5663\"},\"title\":{\"font\":{\"color\":\"#4D5663\"},\"text\":\"\"},\"zerolinecolor\":\"#E1E5ED\"},\"yaxis9\":{\"anchor\":\"x9\",\"domain\":[0.2675,0.465],\"gridcolor\":\"#E1E5ED\",\"showgrid\":false,\"tickfont\":{\"color\":\"#4D5663\"},\"title\":{\"font\":{\"color\":\"#4D5663\"},\"text\":\"\"},\"zerolinecolor\":\"#E1E5ED\"},\"xaxis10\":{\"anchor\":\"y10\",\"domain\":[0.2625,0.475],\"gridcolor\":\"#E1E5ED\",\"showgrid\":false,\"tickfont\":{\"color\":\"#4D5663\"},\"title\":{\"font\":{\"color\":\"#4D5663\"},\"text\":\"\"},\"zerolinecolor\":\"#E1E5ED\"},\"yaxis10\":{\"anchor\":\"x10\",\"domain\":[0.2675,0.465],\"gridcolor\":\"#E1E5ED\",\"showgrid\":false,\"tickfont\":{\"color\":\"#4D5663\"},\"title\":{\"font\":{\"color\":\"#4D5663\"},\"text\":\"\"},\"zerolinecolor\":\"#E1E5ED\"},\"xaxis11\":{\"anchor\":\"y11\",\"domain\":[0.525,0.7375],\"gridcolor\":\"#E1E5ED\",\"showgrid\":false,\"tickfont\":{\"color\":\"#4D5663\"},\"title\":{\"font\":{\"color\":\"#4D5663\"},\"text\":\"\"},\"zerolinecolor\":\"#E1E5ED\"},\"yaxis11\":{\"anchor\":\"x11\",\"domain\":[0.2675,0.465],\"gridcolor\":\"#E1E5ED\",\"showgrid\":false,\"tickfont\":{\"color\":\"#4D5663\"},\"title\":{\"font\":{\"color\":\"#4D5663\"},\"text\":\"\"},\"zerolinecolor\":\"#E1E5ED\"},\"xaxis12\":{\"anchor\":\"y12\",\"domain\":[0.7875,1.0],\"gridcolor\":\"#E1E5ED\",\"showgrid\":false,\"tickfont\":{\"color\":\"#4D5663\"},\"title\":{\"font\":{\"color\":\"#4D5663\"},\"text\":\"\"},\"zerolinecolor\":\"#E1E5ED\"},\"yaxis12\":{\"anchor\":\"x12\",\"domain\":[0.2675,0.465],\"gridcolor\":\"#E1E5ED\",\"showgrid\":false,\"tickfont\":{\"color\":\"#4D5663\"},\"title\":{\"font\":{\"color\":\"#4D5663\"},\"text\":\"\"},\"zerolinecolor\":\"#E1E5ED\"},\"xaxis13\":{\"anchor\":\"y13\",\"domain\":[0.0,0.2125],\"gridcolor\":\"#E1E5ED\",\"showgrid\":false,\"tickfont\":{\"color\":\"#4D5663\"},\"title\":{\"font\":{\"color\":\"#4D5663\"},\"text\":\"\"},\"zerolinecolor\":\"#E1E5ED\"},\"yaxis13\":{\"anchor\":\"x13\",\"domain\":[0.0,0.1975],\"gridcolor\":\"#E1E5ED\",\"showgrid\":false,\"tickfont\":{\"color\":\"#4D5663\"},\"title\":{\"font\":{\"color\":\"#4D5663\"},\"text\":\"\"},\"zerolinecolor\":\"#E1E5ED\"},\"xaxis14\":{\"anchor\":\"y14\",\"domain\":[0.2625,0.475],\"gridcolor\":\"#E1E5ED\",\"showgrid\":false,\"tickfont\":{\"color\":\"#4D5663\"},\"title\":{\"font\":{\"color\":\"#4D5663\"},\"text\":\"\"},\"zerolinecolor\":\"#E1E5ED\"},\"yaxis14\":{\"anchor\":\"x14\",\"domain\":[0.0,0.1975],\"gridcolor\":\"#E1E5ED\",\"showgrid\":false,\"tickfont\":{\"color\":\"#4D5663\"},\"title\":{\"font\":{\"color\":\"#4D5663\"},\"text\":\"\"},\"zerolinecolor\":\"#E1E5ED\"},\"xaxis15\":{\"anchor\":\"y15\",\"domain\":[0.525,0.7375],\"gridcolor\":\"#E1E5ED\",\"showgrid\":false,\"tickfont\":{\"color\":\"#4D5663\"},\"title\":{\"font\":{\"color\":\"#4D5663\"},\"text\":\"\"},\"zerolinecolor\":\"#E1E5ED\"},\"yaxis15\":{\"anchor\":\"x15\",\"domain\":[0.0,0.1975],\"gridcolor\":\"#E1E5ED\",\"showgrid\":false,\"tickfont\":{\"color\":\"#4D5663\"},\"title\":{\"font\":{\"color\":\"#4D5663\"},\"text\":\"\"},\"zerolinecolor\":\"#E1E5ED\"},\"xaxis16\":{\"anchor\":\"y16\",\"domain\":[0.7875,1.0],\"gridcolor\":\"#E1E5ED\",\"showgrid\":false,\"tickfont\":{\"color\":\"#4D5663\"},\"title\":{\"font\":{\"color\":\"#4D5663\"},\"text\":\"\"},\"zerolinecolor\":\"#E1E5ED\"},\"yaxis16\":{\"anchor\":\"x16\",\"domain\":[0.0,0.1975],\"gridcolor\":\"#E1E5ED\",\"showgrid\":false,\"tickfont\":{\"color\":\"#4D5663\"},\"title\":{\"font\":{\"color\":\"#4D5663\"},\"text\":\"\"},\"zerolinecolor\":\"#E1E5ED\"}},                        {\"showLink\": true, \"linkText\": \"Export to plot.ly\", \"plotlyServerURL\": \"https://plot.ly\", \"responsive\": true}                    ).then(function(){\n",
       "                            \n",
       "var gd = document.getElementById('8a8dd420-2d4d-4d02-843b-bdf87216ebf8');\n",
       "var x = new MutationObserver(function (mutations, observer) {{\n",
       "        var display = window.getComputedStyle(gd).display;\n",
       "        if (!display || display === 'none') {{\n",
       "            console.log([gd, 'removed!']);\n",
       "            Plotly.purge(gd);\n",
       "            observer.disconnect();\n",
       "        }}\n",
       "}});\n",
       "\n",
       "// Listen for the removal of the full notebook cells\n",
       "var notebookContainer = gd.closest('#notebook-container');\n",
       "if (notebookContainer) {{\n",
       "    x.observe(notebookContainer, {childList: true});\n",
       "}}\n",
       "\n",
       "// Listen for the clearing of the current output cell\n",
       "var outputEl = gd.closest('.output');\n",
       "if (outputEl) {{\n",
       "    x.observe(outputEl, {childList: true});\n",
       "}}\n",
       "\n",
       "                        })                };                });            </script>        </div>"
      ]
     },
     "metadata": {},
     "output_type": "display_data"
    }
   ],
   "source": [
    "df.scatter_matrix()"
   ]
  },
  {
   "cell_type": "markdown",
   "metadata": {
    "collapsed": true
   },
   "source": [
    "# Great Job!"
   ]
  }
 ],
 "metadata": {
  "kernelspec": {
   "display_name": "Python 3 (ipykernel)",
   "language": "python",
   "name": "python3"
  },
  "language_info": {
   "codemirror_mode": {
    "name": "ipython",
    "version": 3
   },
   "file_extension": ".py",
   "mimetype": "text/x-python",
   "name": "python",
   "nbconvert_exporter": "python",
   "pygments_lexer": "ipython3",
   "version": "3.9.13"
  }
 },
 "nbformat": 4,
 "nbformat_minor": 1
}
